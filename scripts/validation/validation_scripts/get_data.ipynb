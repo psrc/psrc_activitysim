{
 "cells": [
  {
   "cell_type": "code",
   "execution_count": 1,
   "metadata": {
    "ExecuteTime": {
     "end_time": "2024-10-14T22:28:31.377548Z",
     "start_time": "2024-10-14T22:26:33.246343Z"
    },
    "execution": {
     "iopub.execute_input": "2024-11-18T23:59:22.722812Z",
     "iopub.status.busy": "2024-11-18T23:59:22.720818Z",
     "iopub.status.idle": "2024-11-19T00:00:53.825534Z",
     "shell.execute_reply": "2024-11-19T00:00:53.822542Z"
    }
   },
   "outputs": [
    {
     "name": "stdout",
     "output_type": "stream",
     "text": [
      "Stored 'validation_data' (ValidationData)\n"
     ]
    }
   ],
   "source": [
    "from validation_scripts import util\n",
    "# import util\n",
    "import toml\n",
    "import os \n",
    "config = toml.load(os.path.join(os.getcwd(), 'validation_configuration.toml'))\n",
    "\n",
    "validation_data = util.ValidationData(config)\n",
    "\n",
    "%store validation_data\n",
    "del validation_data # This will DELETE the data from the memory of the first no\n",
    "\n",
    "\n"
   ]
  },
  {
   "cell_type": "code",
   "execution_count": null,
   "metadata": {},
   "outputs": [],
   "source": []
  }
 ],
 "metadata": {
  "kernelspec": {
   "display_name": "build_notebook",
   "language": "python",
   "name": "python3"
  },
  "language_info": {
   "codemirror_mode": {
    "name": "ipython",
    "version": 3
   },
   "file_extension": ".py",
   "mimetype": "text/x-python",
   "name": "python",
   "nbconvert_exporter": "python",
   "pygments_lexer": "ipython3",
   "version": "3.10.15"
  }
 },
 "nbformat": 4,
 "nbformat_minor": 2
}

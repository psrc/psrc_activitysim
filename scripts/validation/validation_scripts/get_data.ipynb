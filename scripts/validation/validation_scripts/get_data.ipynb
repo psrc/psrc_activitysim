{
 "cells": [
  {
   "cell_type": "code",
   "execution_count": 1,
   "metadata": {
    "execution": {
     "iopub.execute_input": "2024-06-27T19:13:23.765970Z",
     "iopub.status.busy": "2024-06-27T19:13:23.765970Z",
     "iopub.status.idle": "2024-06-27T19:13:51.583330Z",
     "shell.execute_reply": "2024-06-27T19:13:51.582331Z"
    }
   },
   "outputs": [
    {
     "name": "stdout",
     "output_type": "stream",
     "text": [
      "Stored 'validation_data' (ValidationData)\n"
     ]
    }
   ],
   "source": [
    "from validation_scripts import util\n",
    "#import util\n",
    "import toml\n",
    "import os \n",
    "config = toml.load(os.path.join(os.getcwd(), 'validation_configuration.toml'))\n",
    "\n",
    "validation_data = util.ValidationData(config)\n",
    "\n",
    "%store validation_data\n",
    "del validation_data # This will DELETE the data from the memory of the first no\n",
    "\n",
    "\n"
   ]
  }
 ],
 "metadata": {
  "kernelspec": {
   "display_name": "geopandas",
   "language": "python",
   "name": "python3"
  },
  "language_info": {
   "codemirror_mode": {
    "name": "ipython",
    "version": 3
   },
   "file_extension": ".py",
   "mimetype": "text/x-python",
   "name": "python",
   "nbconvert_exporter": "python",
   "pygments_lexer": "ipython3",
   "version": "3.9.13"
  }
 },
 "nbformat": 4,
 "nbformat_minor": 2
}

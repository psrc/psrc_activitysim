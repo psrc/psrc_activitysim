{
 "cells": [
  {
   "cell_type": "raw",
   "metadata": {
    "collapsed": false
   },
   "source": [
    "---\n",
    "title: Tour Mode Choice\n",
    "date: today\n",
    "---"
   ]
  },
  {
   "cell_type": "markdown",
   "metadata": {
    "collapsed": false
   },
   "source": [
    "The primary variables are in-vehicle time, other travel times, cost (the influence of which is derived from the automobile in-vehicle time coefficient and the persons’ modeled value of time), characteristics of the destination zone, demographics, and the household’s level of auto ownership."
   ]
  },
  {
   "cell_type": "code",
   "execution_count": 1,
   "metadata": {
    "collapsed": false,
    "execution": {
     "iopub.execute_input": "2024-02-09T22:43:46.311595Z",
     "iopub.status.busy": "2024-02-09T22:43:46.310599Z",
     "iopub.status.idle": "2024-02-09T22:43:48.324420Z",
     "shell.execute_reply": "2024-02-09T22:43:48.324420Z"
    }
   },
   "outputs": [],
   "source": [
    "import os\n",
    "import toml\n",
    "import pandas as pd\n",
    "import numpy as np\n",
    "import plotly.express as px\n",
    "import validation_data_input\n",
    "import psrc_theme\n",
    "\n",
    "\n",
    "import plotly.io as pio\n",
    "pio.renderers.default = \"plotly_mimetype+notebook_connected\" # to show plotly figures in quarto HTML file\n",
    "pio.templates.default = \"simple_white+psrc_color\" # set plotly template\n",
    "\n",
    "config = toml.load(os.path.join(os.getcwd(), 'validation_configuration.toml'))"
   ]
  },
  {
   "cell_type": "code",
   "execution_count": 2,
   "metadata": {
    "collapsed": false,
    "execution": {
     "iopub.execute_input": "2024-02-09T22:43:48.340037Z",
     "iopub.status.busy": "2024-02-09T22:43:48.324420Z",
     "iopub.status.idle": "2024-02-09T22:44:07.474151Z",
     "shell.execute_reply": "2024-02-09T22:44:07.474151Z"
    }
   },
   "outputs": [],
   "source": [
    "# read data\n",
    "land_use = pd.read_csv(config['p_survey_landuse'])\n",
    "\n",
    "per_data = validation_data_input.get_persons_data(['ptype'])\n",
    "hh_data = validation_data_input.get_households_data(['auto_ownership','home_zone_id'])\n",
    "tour_data = validation_data_input.get_tours_data(col_list=['tour_mode', 'tour_type'])\n",
    "\n",
    "# add auto_ownership with 4+\n",
    "hh_data['auto_ownership_simple'] = hh_data['auto_ownership'].apply(lambda x: \"4+\" if x>=4.0 else str(x))\n",
    "# household density groups\n",
    "var_group = land_use['log_hh_1'].quantile([.00, .125, .25, .50, .75,1.00])\n",
    "land_use['household_density_bin'] = pd.cut(land_use['log_hh_1'], bins=var_group.tolist(),\n",
    "                                           labels=['very low', 'low', 'medium', 'medium-high', 'high'])\n",
    "\n",
    "# add person type labels\n",
    "ptype_cat = {1: \"1: Full-Time Worker\",\n",
    "             2: \"2: Part-Time Worker\",\n",
    "             3: \"3: University Student\",\n",
    "             4: \"4: Non-Working Adult Age <65\",\n",
    "             5: \"5: Non-Working Adult Age 65+\",\n",
    "             6: \"6: High School Student Age 16+\",\n",
    "             7: \"7: Child Age 5-15\",\n",
    "             8: \"8: Child Age 0-4\"}\n",
    "per_data['ptype_label'] = per_data['ptype'].map(ptype_cat)\n",
    "\n",
    "hh_data = hh_data.merge(land_use[['log_hh_1','household_density_bin','zone_id']],how=\"left\",left_on='home_zone_id',right_on='zone_id')\n",
    "per_data = per_data.merge(hh_data[['household_id','auto_ownership','auto_ownership_simple','log_hh_1','household_density_bin','source']],\n",
    "                          how='left', on=['household_id','source']) # get auto ownership from hh data\n",
    "\n",
    "tour_data = tour_data.merge(per_data, how='left', on=['person_id','household_id','source'])"
   ]
  },
  {
   "cell_type": "markdown",
   "metadata": {
    "collapsed": false
   },
   "source": [
    "## Total tour mode choice"
   ]
  },
  {
   "cell_type": "raw",
   "metadata": {
    "collapsed": false
   },
   "source": [
    ":::{.panel-tabset}\n",
    "\n",
    "### all modes"
   ]
  },
  {
   "cell_type": "code",
   "execution_count": 3,
   "metadata": {
    "collapsed": false,
    "execution": {
     "iopub.execute_input": "2024-02-09T22:44:07.474151Z",
     "iopub.status.busy": "2024-02-09T22:44:07.474151Z",
     "iopub.status.idle": "2024-02-09T22:44:12.722708Z",
     "shell.execute_reply": "2024-02-09T22:44:12.721710Z"
    }
   },
   "outputs": [
    {
     "data": {
      "text/html": [
       "        <script type=\"text/javascript\">\n",
       "        window.PlotlyConfig = {MathJaxConfig: 'local'};\n",
       "        if (window.MathJax && window.MathJax.Hub && window.MathJax.Hub.Config) {window.MathJax.Hub.Config({SVG: {font: \"STIX-Web\"}});}\n",
       "        if (typeof require !== 'undefined') {\n",
       "        require.undef(\"plotly\");\n",
       "        requirejs.config({\n",
       "            paths: {\n",
       "                'plotly': ['https://cdn.plot.ly/plotly-2.12.1.min']\n",
       "            }\n",
       "        });\n",
       "        require(['plotly'], function(Plotly) {\n",
       "            window._Plotly = Plotly;\n",
       "        });\n",
       "        }\n",
       "        </script>\n",
       "        "
      ]
     },
     "metadata": {},
     "output_type": "display_data"
    },
    {
     "data": {
      "application/vnd.plotly.v1+json": {
       "config": {
        "plotlyServerURL": "https://plot.ly"
       },
       "data": [
        {
         "alignmentgroup": "True",
         "hovertemplate": "source=model results<br>tour_mode_transit_agg=%{x}<br>percentage=%{y}<extra></extra>",
         "legendgroup": "model results",
         "marker": {
          "color": "#91268F",
          "pattern": {
           "shape": ""
          }
         },
         "name": "model results",
         "offsetgroup": "model results",
         "orientation": "v",
         "showlegend": true,
         "textposition": "auto",
         "type": "bar",
         "x": [
          "ALL_TRANSIT",
          "BIKE",
          "DRIVEALONEFREE",
          "SCH_BUS",
          "SHARED2FREE",
          "SHARED3FREE",
          "TNC",
          "WALK"
         ],
         "xaxis": "x",
         "y": [
          0.09618877752964919,
          0.016769496146948587,
          0.37288624580366786,
          0.027413007041530862,
          0.2528909368998695,
          0.13068709899678954,
          0.006002453052388794,
          0.09716198452915566
         ],
         "yaxis": "y"
        },
        {
         "alignmentgroup": "True",
         "hovertemplate": "source=survey data<br>tour_mode_transit_agg=%{x}<br>percentage=%{y}<extra></extra>",
         "legendgroup": "survey data",
         "marker": {
          "color": "#00A7A0",
          "pattern": {
           "shape": ""
          }
         },
         "name": "survey data",
         "offsetgroup": "survey data",
         "orientation": "v",
         "showlegend": true,
         "textposition": "auto",
         "type": "bar",
         "x": [
          "ALL_TRANSIT",
          "BIKE",
          "DRIVEALONEFREE",
          "Other",
          "SCH_BUS",
          "SHARED2FREE",
          "SHARED3FREE",
          "TNC",
          "WALK"
         ],
         "xaxis": "x",
         "y": [
          0.06510156356307273,
          0.010968749593045285,
          0.4334892153507273,
          0.0035161726994879148,
          0.020976573973338523,
          0.21917398157636478,
          0.13698946089343342,
          0.0036642750949338033,
          0.10612000725559635
         ],
         "yaxis": "y"
        },
        {
         "alignmentgroup": "True",
         "hovertemplate": "source=unweighted survey<br>tour_mode_transit_agg=%{x}<br>percentage=%{y}<extra></extra>",
         "legendgroup": "unweighted survey",
         "marker": {
          "color": "#8CC63E",
          "pattern": {
           "shape": ""
          }
         },
         "name": "unweighted survey",
         "offsetgroup": "unweighted survey",
         "orientation": "v",
         "showlegend": true,
         "textposition": "auto",
         "type": "bar",
         "x": [
          "ALL_TRANSIT",
          "BIKE",
          "DRIVEALONEFREE",
          "Other",
          "SCH_BUS",
          "SHARED2FREE",
          "SHARED3FREE",
          "TNC",
          "WALK"
         ],
         "xaxis": "x",
         "y": [
          0.16749573621375782,
          0.033186469584991475,
          0.33357021034678797,
          0.003837407617964753,
          0.0108726549175668,
          0.16088686753837408,
          0.0793064241046049,
          0.010943718021603184,
          0.19990051165434905
         ],
         "yaxis": "y"
        }
       ],
       "layout": {
        "barmode": "group",
        "height": 400,
        "legend": {
         "title": {
          "text": "source"
         },
         "tracegroupgap": 0
        },
        "template": {
         "data": {
          "bar": [
           {
            "error_x": {
             "color": "rgb(36,36,36)"
            },
            "error_y": {
             "color": "rgb(36,36,36)"
            },
            "marker": {
             "line": {
              "color": "white",
              "width": 0.5
             },
             "pattern": {
              "fillmode": "overlay",
              "size": 10,
              "solidity": 0.2
             }
            },
            "type": "bar"
           }
          ],
          "barpolar": [
           {
            "marker": {
             "line": {
              "color": "white",
              "width": 0.5
             },
             "pattern": {
              "fillmode": "overlay",
              "size": 10,
              "solidity": 0.2
             }
            },
            "type": "barpolar"
           }
          ],
          "carpet": [
           {
            "aaxis": {
             "endlinecolor": "rgb(36,36,36)",
             "gridcolor": "white",
             "linecolor": "white",
             "minorgridcolor": "white",
             "startlinecolor": "rgb(36,36,36)"
            },
            "baxis": {
             "endlinecolor": "rgb(36,36,36)",
             "gridcolor": "white",
             "linecolor": "white",
             "minorgridcolor": "white",
             "startlinecolor": "rgb(36,36,36)"
            },
            "type": "carpet"
           }
          ],
          "choropleth": [
           {
            "colorbar": {
             "outlinewidth": 1,
             "tickcolor": "rgb(36,36,36)",
             "ticks": "outside"
            },
            "type": "choropleth"
           }
          ],
          "contour": [
           {
            "colorbar": {
             "outlinewidth": 1,
             "tickcolor": "rgb(36,36,36)",
             "ticks": "outside"
            },
            "colorscale": [
             [
              0.0,
              "#440154"
             ],
             [
              0.1111111111111111,
              "#482878"
             ],
             [
              0.2222222222222222,
              "#3e4989"
             ],
             [
              0.3333333333333333,
              "#31688e"
             ],
             [
              0.4444444444444444,
              "#26828e"
             ],
             [
              0.5555555555555556,
              "#1f9e89"
             ],
             [
              0.6666666666666666,
              "#35b779"
             ],
             [
              0.7777777777777778,
              "#6ece58"
             ],
             [
              0.8888888888888888,
              "#b5de2b"
             ],
             [
              1.0,
              "#fde725"
             ]
            ],
            "type": "contour"
           }
          ],
          "contourcarpet": [
           {
            "colorbar": {
             "outlinewidth": 1,
             "tickcolor": "rgb(36,36,36)",
             "ticks": "outside"
            },
            "type": "contourcarpet"
           }
          ],
          "heatmap": [
           {
            "colorbar": {
             "outlinewidth": 1,
             "tickcolor": "rgb(36,36,36)",
             "ticks": "outside"
            },
            "colorscale": [
             [
              0.0,
              "#440154"
             ],
             [
              0.1111111111111111,
              "#482878"
             ],
             [
              0.2222222222222222,
              "#3e4989"
             ],
             [
              0.3333333333333333,
              "#31688e"
             ],
             [
              0.4444444444444444,
              "#26828e"
             ],
             [
              0.5555555555555556,
              "#1f9e89"
             ],
             [
              0.6666666666666666,
              "#35b779"
             ],
             [
              0.7777777777777778,
              "#6ece58"
             ],
             [
              0.8888888888888888,
              "#b5de2b"
             ],
             [
              1.0,
              "#fde725"
             ]
            ],
            "type": "heatmap"
           }
          ],
          "heatmapgl": [
           {
            "colorbar": {
             "outlinewidth": 1,
             "tickcolor": "rgb(36,36,36)",
             "ticks": "outside"
            },
            "colorscale": [
             [
              0.0,
              "#440154"
             ],
             [
              0.1111111111111111,
              "#482878"
             ],
             [
              0.2222222222222222,
              "#3e4989"
             ],
             [
              0.3333333333333333,
              "#31688e"
             ],
             [
              0.4444444444444444,
              "#26828e"
             ],
             [
              0.5555555555555556,
              "#1f9e89"
             ],
             [
              0.6666666666666666,
              "#35b779"
             ],
             [
              0.7777777777777778,
              "#6ece58"
             ],
             [
              0.8888888888888888,
              "#b5de2b"
             ],
             [
              1.0,
              "#fde725"
             ]
            ],
            "type": "heatmapgl"
           }
          ],
          "histogram": [
           {
            "marker": {
             "line": {
              "color": "white",
              "width": 0.6
             }
            },
            "type": "histogram"
           }
          ],
          "histogram2d": [
           {
            "colorbar": {
             "outlinewidth": 1,
             "tickcolor": "rgb(36,36,36)",
             "ticks": "outside"
            },
            "colorscale": [
             [
              0.0,
              "#440154"
             ],
             [
              0.1111111111111111,
              "#482878"
             ],
             [
              0.2222222222222222,
              "#3e4989"
             ],
             [
              0.3333333333333333,
              "#31688e"
             ],
             [
              0.4444444444444444,
              "#26828e"
             ],
             [
              0.5555555555555556,
              "#1f9e89"
             ],
             [
              0.6666666666666666,
              "#35b779"
             ],
             [
              0.7777777777777778,
              "#6ece58"
             ],
             [
              0.8888888888888888,
              "#b5de2b"
             ],
             [
              1.0,
              "#fde725"
             ]
            ],
            "type": "histogram2d"
           }
          ],
          "histogram2dcontour": [
           {
            "colorbar": {
             "outlinewidth": 1,
             "tickcolor": "rgb(36,36,36)",
             "ticks": "outside"
            },
            "colorscale": [
             [
              0.0,
              "#440154"
             ],
             [
              0.1111111111111111,
              "#482878"
             ],
             [
              0.2222222222222222,
              "#3e4989"
             ],
             [
              0.3333333333333333,
              "#31688e"
             ],
             [
              0.4444444444444444,
              "#26828e"
             ],
             [
              0.5555555555555556,
              "#1f9e89"
             ],
             [
              0.6666666666666666,
              "#35b779"
             ],
             [
              0.7777777777777778,
              "#6ece58"
             ],
             [
              0.8888888888888888,
              "#b5de2b"
             ],
             [
              1.0,
              "#fde725"
             ]
            ],
            "type": "histogram2dcontour"
           }
          ],
          "mesh3d": [
           {
            "colorbar": {
             "outlinewidth": 1,
             "tickcolor": "rgb(36,36,36)",
             "ticks": "outside"
            },
            "type": "mesh3d"
           }
          ],
          "parcoords": [
           {
            "line": {
             "colorbar": {
              "outlinewidth": 1,
              "tickcolor": "rgb(36,36,36)",
              "ticks": "outside"
             }
            },
            "type": "parcoords"
           }
          ],
          "pie": [
           {
            "automargin": true,
            "type": "pie"
           }
          ],
          "scatter": [
           {
            "fillpattern": {
             "fillmode": "overlay",
             "size": 10,
             "solidity": 0.2
            },
            "type": "scatter"
           }
          ],
          "scatter3d": [
           {
            "line": {
             "colorbar": {
              "outlinewidth": 1,
              "tickcolor": "rgb(36,36,36)",
              "ticks": "outside"
             }
            },
            "marker": {
             "colorbar": {
              "outlinewidth": 1,
              "tickcolor": "rgb(36,36,36)",
              "ticks": "outside"
             }
            },
            "type": "scatter3d"
           }
          ],
          "scattercarpet": [
           {
            "marker": {
             "colorbar": {
              "outlinewidth": 1,
              "tickcolor": "rgb(36,36,36)",
              "ticks": "outside"
             }
            },
            "type": "scattercarpet"
           }
          ],
          "scattergeo": [
           {
            "marker": {
             "colorbar": {
              "outlinewidth": 1,
              "tickcolor": "rgb(36,36,36)",
              "ticks": "outside"
             }
            },
            "type": "scattergeo"
           }
          ],
          "scattergl": [
           {
            "marker": {
             "colorbar": {
              "outlinewidth": 1,
              "tickcolor": "rgb(36,36,36)",
              "ticks": "outside"
             }
            },
            "type": "scattergl"
           }
          ],
          "scattermapbox": [
           {
            "marker": {
             "colorbar": {
              "outlinewidth": 1,
              "tickcolor": "rgb(36,36,36)",
              "ticks": "outside"
             }
            },
            "type": "scattermapbox"
           }
          ],
          "scatterpolar": [
           {
            "marker": {
             "colorbar": {
              "outlinewidth": 1,
              "tickcolor": "rgb(36,36,36)",
              "ticks": "outside"
             }
            },
            "type": "scatterpolar"
           }
          ],
          "scatterpolargl": [
           {
            "marker": {
             "colorbar": {
              "outlinewidth": 1,
              "tickcolor": "rgb(36,36,36)",
              "ticks": "outside"
             }
            },
            "type": "scatterpolargl"
           }
          ],
          "scatterternary": [
           {
            "marker": {
             "colorbar": {
              "outlinewidth": 1,
              "tickcolor": "rgb(36,36,36)",
              "ticks": "outside"
             }
            },
            "type": "scatterternary"
           }
          ],
          "surface": [
           {
            "colorbar": {
             "outlinewidth": 1,
             "tickcolor": "rgb(36,36,36)",
             "ticks": "outside"
            },
            "colorscale": [
             [
              0.0,
              "#440154"
             ],
             [
              0.1111111111111111,
              "#482878"
             ],
             [
              0.2222222222222222,
              "#3e4989"
             ],
             [
              0.3333333333333333,
              "#31688e"
             ],
             [
              0.4444444444444444,
              "#26828e"
             ],
             [
              0.5555555555555556,
              "#1f9e89"
             ],
             [
              0.6666666666666666,
              "#35b779"
             ],
             [
              0.7777777777777778,
              "#6ece58"
             ],
             [
              0.8888888888888888,
              "#b5de2b"
             ],
             [
              1.0,
              "#fde725"
             ]
            ],
            "type": "surface"
           }
          ],
          "table": [
           {
            "cells": {
             "fill": {
              "color": "rgb(237,237,237)"
             },
             "line": {
              "color": "white"
             }
            },
            "header": {
             "fill": {
              "color": "rgb(217,217,217)"
             },
             "line": {
              "color": "white"
             }
            },
            "type": "table"
           }
          ]
         },
         "layout": {
          "annotationdefaults": {
           "arrowhead": 0,
           "arrowwidth": 1
          },
          "autotypenumbers": "strict",
          "coloraxis": {
           "colorbar": {
            "outlinewidth": 1,
            "tickcolor": "rgb(36,36,36)",
            "ticks": "outside"
           }
          },
          "colorscale": {
           "diverging": [
            [
             0.0,
             "rgb(103,0,31)"
            ],
            [
             0.1,
             "rgb(178,24,43)"
            ],
            [
             0.2,
             "rgb(214,96,77)"
            ],
            [
             0.3,
             "rgb(244,165,130)"
            ],
            [
             0.4,
             "rgb(253,219,199)"
            ],
            [
             0.5,
             "rgb(247,247,247)"
            ],
            [
             0.6,
             "rgb(209,229,240)"
            ],
            [
             0.7,
             "rgb(146,197,222)"
            ],
            [
             0.8,
             "rgb(67,147,195)"
            ],
            [
             0.9,
             "rgb(33,102,172)"
            ],
            [
             1.0,
             "rgb(5,48,97)"
            ]
           ],
           "sequential": [
            [
             0.0,
             "#440154"
            ],
            [
             0.1111111111111111,
             "#482878"
            ],
            [
             0.2222222222222222,
             "#3e4989"
            ],
            [
             0.3333333333333333,
             "#31688e"
            ],
            [
             0.4444444444444444,
             "#26828e"
            ],
            [
             0.5555555555555556,
             "#1f9e89"
            ],
            [
             0.6666666666666666,
             "#35b779"
            ],
            [
             0.7777777777777778,
             "#6ece58"
            ],
            [
             0.8888888888888888,
             "#b5de2b"
            ],
            [
             1.0,
             "#fde725"
            ]
           ],
           "sequentialminus": [
            [
             0.0,
             "#440154"
            ],
            [
             0.1111111111111111,
             "#482878"
            ],
            [
             0.2222222222222222,
             "#3e4989"
            ],
            [
             0.3333333333333333,
             "#31688e"
            ],
            [
             0.4444444444444444,
             "#26828e"
            ],
            [
             0.5555555555555556,
             "#1f9e89"
            ],
            [
             0.6666666666666666,
             "#35b779"
            ],
            [
             0.7777777777777778,
             "#6ece58"
            ],
            [
             0.8888888888888888,
             "#b5de2b"
            ],
            [
             1.0,
             "#fde725"
            ]
           ]
          },
          "colorway": [
           "#91268F",
           "#00A7A0",
           "#8CC63E",
           "#F05A28",
           "#4C4C4C",
           "#630460",
           "#9f3913",
           "#588527",
           "#00716c",
           "#3e4040"
          ],
          "font": {
           "color": "rgb(36,36,36)",
           "size": 11
          },
          "geo": {
           "bgcolor": "white",
           "lakecolor": "white",
           "landcolor": "white",
           "showlakes": true,
           "showland": true,
           "subunitcolor": "white"
          },
          "hoverlabel": {
           "align": "left"
          },
          "hovermode": "closest",
          "mapbox": {
           "style": "light"
          },
          "paper_bgcolor": "white",
          "plot_bgcolor": "white",
          "polar": {
           "angularaxis": {
            "gridcolor": "rgb(232,232,232)",
            "linecolor": "rgb(36,36,36)",
            "showgrid": false,
            "showline": true,
            "ticks": "outside"
           },
           "bgcolor": "white",
           "radialaxis": {
            "gridcolor": "rgb(232,232,232)",
            "linecolor": "rgb(36,36,36)",
            "showgrid": false,
            "showline": true,
            "ticks": "outside"
           }
          },
          "scene": {
           "xaxis": {
            "backgroundcolor": "white",
            "gridcolor": "rgb(232,232,232)",
            "gridwidth": 2,
            "linecolor": "rgb(36,36,36)",
            "showbackground": true,
            "showgrid": false,
            "showline": true,
            "ticks": "outside",
            "zeroline": false,
            "zerolinecolor": "rgb(36,36,36)"
           },
           "yaxis": {
            "backgroundcolor": "white",
            "gridcolor": "rgb(232,232,232)",
            "gridwidth": 2,
            "linecolor": "rgb(36,36,36)",
            "showbackground": true,
            "showgrid": false,
            "showline": true,
            "ticks": "outside",
            "zeroline": false,
            "zerolinecolor": "rgb(36,36,36)"
           },
           "zaxis": {
            "backgroundcolor": "white",
            "gridcolor": "rgb(232,232,232)",
            "gridwidth": 2,
            "linecolor": "rgb(36,36,36)",
            "showbackground": true,
            "showgrid": false,
            "showline": true,
            "ticks": "outside",
            "zeroline": false,
            "zerolinecolor": "rgb(36,36,36)"
           }
          },
          "shapedefaults": {
           "fillcolor": "black",
           "line": {
            "width": 0
           },
           "opacity": 0.3
          },
          "ternary": {
           "aaxis": {
            "gridcolor": "rgb(232,232,232)",
            "linecolor": "rgb(36,36,36)",
            "showgrid": false,
            "showline": true,
            "ticks": "outside"
           },
           "baxis": {
            "gridcolor": "rgb(232,232,232)",
            "linecolor": "rgb(36,36,36)",
            "showgrid": false,
            "showline": true,
            "ticks": "outside"
           },
           "bgcolor": "white",
           "caxis": {
            "gridcolor": "rgb(232,232,232)",
            "linecolor": "rgb(36,36,36)",
            "showgrid": false,
            "showline": true,
            "ticks": "outside"
           }
          },
          "title": {
           "x": 0.05
          },
          "xaxis": {
           "automargin": true,
           "gridcolor": "rgb(232,232,232)",
           "linecolor": "rgb(36,36,36)",
           "showgrid": false,
           "showline": true,
           "ticks": "outside",
           "title": {
            "standoff": 15
           },
           "zeroline": false,
           "zerolinecolor": "rgb(36,36,36)"
          },
          "yaxis": {
           "automargin": true,
           "gridcolor": "rgb(232,232,232)",
           "linecolor": "rgb(36,36,36)",
           "showgrid": false,
           "showline": true,
           "ticks": "outside",
           "title": {
            "standoff": 15
           },
           "zeroline": false,
           "zerolinecolor": "rgb(36,36,36)"
          }
         }
        },
        "title": {
         "text": "Tour mode choice: all modes"
        },
        "width": 700,
        "xaxis": {
         "anchor": "y",
         "categoryarray": [
          "DRIVEALONEFREE",
          "SHARED2FREE",
          "SHARED3FREE",
          "BIKE",
          "WALK",
          "ALL_TRANSIT",
          "SCH_BUS",
          "TNC",
          "Other"
         ],
         "categoryorder": "array",
         "domain": [
          0.0,
          1.0
         ],
         "title": {
          "text": "tour_mode_transit_agg"
         }
        },
        "yaxis": {
         "anchor": "x",
         "domain": [
          0.0,
          1.0
         ],
         "tickformat": ".1%",
         "title": {
          "text": "percentage"
         }
        }
       }
      },
      "text/html": [
       "<div>                            <div id=\"0b55c8b3-c14a-4818-b058-c7a7853bee35\" class=\"plotly-graph-div\" style=\"height:400px; width:700px;\"></div>            <script type=\"text/javascript\">                require([\"plotly\"], function(Plotly) {                    window.PLOTLYENV=window.PLOTLYENV || {};                                    if (document.getElementById(\"0b55c8b3-c14a-4818-b058-c7a7853bee35\")) {                    Plotly.newPlot(                        \"0b55c8b3-c14a-4818-b058-c7a7853bee35\",                        [{\"alignmentgroup\":\"True\",\"hovertemplate\":\"source=model results<br>tour_mode_transit_agg=%{x}<br>percentage=%{y}<extra></extra>\",\"legendgroup\":\"model results\",\"marker\":{\"color\":\"#91268F\",\"pattern\":{\"shape\":\"\"}},\"name\":\"model results\",\"offsetgroup\":\"model results\",\"orientation\":\"v\",\"showlegend\":true,\"textposition\":\"auto\",\"x\":[\"ALL_TRANSIT\",\"BIKE\",\"DRIVEALONEFREE\",\"SCH_BUS\",\"SHARED2FREE\",\"SHARED3FREE\",\"TNC\",\"WALK\"],\"xaxis\":\"x\",\"y\":[0.09618877752964919,0.016769496146948587,0.37288624580366786,0.027413007041530862,0.2528909368998695,0.13068709899678954,0.006002453052388794,0.09716198452915566],\"yaxis\":\"y\",\"type\":\"bar\"},{\"alignmentgroup\":\"True\",\"hovertemplate\":\"source=survey data<br>tour_mode_transit_agg=%{x}<br>percentage=%{y}<extra></extra>\",\"legendgroup\":\"survey data\",\"marker\":{\"color\":\"#00A7A0\",\"pattern\":{\"shape\":\"\"}},\"name\":\"survey data\",\"offsetgroup\":\"survey data\",\"orientation\":\"v\",\"showlegend\":true,\"textposition\":\"auto\",\"x\":[\"ALL_TRANSIT\",\"BIKE\",\"DRIVEALONEFREE\",\"Other\",\"SCH_BUS\",\"SHARED2FREE\",\"SHARED3FREE\",\"TNC\",\"WALK\"],\"xaxis\":\"x\",\"y\":[0.06510156356307273,0.010968749593045285,0.4334892153507273,0.0035161726994879148,0.020976573973338523,0.21917398157636478,0.13698946089343342,0.0036642750949338033,0.10612000725559635],\"yaxis\":\"y\",\"type\":\"bar\"},{\"alignmentgroup\":\"True\",\"hovertemplate\":\"source=unweighted survey<br>tour_mode_transit_agg=%{x}<br>percentage=%{y}<extra></extra>\",\"legendgroup\":\"unweighted survey\",\"marker\":{\"color\":\"#8CC63E\",\"pattern\":{\"shape\":\"\"}},\"name\":\"unweighted survey\",\"offsetgroup\":\"unweighted survey\",\"orientation\":\"v\",\"showlegend\":true,\"textposition\":\"auto\",\"x\":[\"ALL_TRANSIT\",\"BIKE\",\"DRIVEALONEFREE\",\"Other\",\"SCH_BUS\",\"SHARED2FREE\",\"SHARED3FREE\",\"TNC\",\"WALK\"],\"xaxis\":\"x\",\"y\":[0.16749573621375782,0.033186469584991475,0.33357021034678797,0.003837407617964753,0.0108726549175668,0.16088686753837408,0.0793064241046049,0.010943718021603184,0.19990051165434905],\"yaxis\":\"y\",\"type\":\"bar\"}],                        {\"template\":{\"data\":{\"barpolar\":[{\"marker\":{\"line\":{\"color\":\"white\",\"width\":0.5},\"pattern\":{\"fillmode\":\"overlay\",\"size\":10,\"solidity\":0.2}},\"type\":\"barpolar\"}],\"bar\":[{\"error_x\":{\"color\":\"rgb(36,36,36)\"},\"error_y\":{\"color\":\"rgb(36,36,36)\"},\"marker\":{\"line\":{\"color\":\"white\",\"width\":0.5},\"pattern\":{\"fillmode\":\"overlay\",\"size\":10,\"solidity\":0.2}},\"type\":\"bar\"}],\"carpet\":[{\"aaxis\":{\"endlinecolor\":\"rgb(36,36,36)\",\"gridcolor\":\"white\",\"linecolor\":\"white\",\"minorgridcolor\":\"white\",\"startlinecolor\":\"rgb(36,36,36)\"},\"baxis\":{\"endlinecolor\":\"rgb(36,36,36)\",\"gridcolor\":\"white\",\"linecolor\":\"white\",\"minorgridcolor\":\"white\",\"startlinecolor\":\"rgb(36,36,36)\"},\"type\":\"carpet\"}],\"choropleth\":[{\"colorbar\":{\"outlinewidth\":1,\"tickcolor\":\"rgb(36,36,36)\",\"ticks\":\"outside\"},\"type\":\"choropleth\"}],\"contourcarpet\":[{\"colorbar\":{\"outlinewidth\":1,\"tickcolor\":\"rgb(36,36,36)\",\"ticks\":\"outside\"},\"type\":\"contourcarpet\"}],\"contour\":[{\"colorbar\":{\"outlinewidth\":1,\"tickcolor\":\"rgb(36,36,36)\",\"ticks\":\"outside\"},\"colorscale\":[[0.0,\"#440154\"],[0.1111111111111111,\"#482878\"],[0.2222222222222222,\"#3e4989\"],[0.3333333333333333,\"#31688e\"],[0.4444444444444444,\"#26828e\"],[0.5555555555555556,\"#1f9e89\"],[0.6666666666666666,\"#35b779\"],[0.7777777777777778,\"#6ece58\"],[0.8888888888888888,\"#b5de2b\"],[1.0,\"#fde725\"]],\"type\":\"contour\"}],\"heatmapgl\":[{\"colorbar\":{\"outlinewidth\":1,\"tickcolor\":\"rgb(36,36,36)\",\"ticks\":\"outside\"},\"colorscale\":[[0.0,\"#440154\"],[0.1111111111111111,\"#482878\"],[0.2222222222222222,\"#3e4989\"],[0.3333333333333333,\"#31688e\"],[0.4444444444444444,\"#26828e\"],[0.5555555555555556,\"#1f9e89\"],[0.6666666666666666,\"#35b779\"],[0.7777777777777778,\"#6ece58\"],[0.8888888888888888,\"#b5de2b\"],[1.0,\"#fde725\"]],\"type\":\"heatmapgl\"}],\"heatmap\":[{\"colorbar\":{\"outlinewidth\":1,\"tickcolor\":\"rgb(36,36,36)\",\"ticks\":\"outside\"},\"colorscale\":[[0.0,\"#440154\"],[0.1111111111111111,\"#482878\"],[0.2222222222222222,\"#3e4989\"],[0.3333333333333333,\"#31688e\"],[0.4444444444444444,\"#26828e\"],[0.5555555555555556,\"#1f9e89\"],[0.6666666666666666,\"#35b779\"],[0.7777777777777778,\"#6ece58\"],[0.8888888888888888,\"#b5de2b\"],[1.0,\"#fde725\"]],\"type\":\"heatmap\"}],\"histogram2dcontour\":[{\"colorbar\":{\"outlinewidth\":1,\"tickcolor\":\"rgb(36,36,36)\",\"ticks\":\"outside\"},\"colorscale\":[[0.0,\"#440154\"],[0.1111111111111111,\"#482878\"],[0.2222222222222222,\"#3e4989\"],[0.3333333333333333,\"#31688e\"],[0.4444444444444444,\"#26828e\"],[0.5555555555555556,\"#1f9e89\"],[0.6666666666666666,\"#35b779\"],[0.7777777777777778,\"#6ece58\"],[0.8888888888888888,\"#b5de2b\"],[1.0,\"#fde725\"]],\"type\":\"histogram2dcontour\"}],\"histogram2d\":[{\"colorbar\":{\"outlinewidth\":1,\"tickcolor\":\"rgb(36,36,36)\",\"ticks\":\"outside\"},\"colorscale\":[[0.0,\"#440154\"],[0.1111111111111111,\"#482878\"],[0.2222222222222222,\"#3e4989\"],[0.3333333333333333,\"#31688e\"],[0.4444444444444444,\"#26828e\"],[0.5555555555555556,\"#1f9e89\"],[0.6666666666666666,\"#35b779\"],[0.7777777777777778,\"#6ece58\"],[0.8888888888888888,\"#b5de2b\"],[1.0,\"#fde725\"]],\"type\":\"histogram2d\"}],\"histogram\":[{\"marker\":{\"line\":{\"color\":\"white\",\"width\":0.6}},\"type\":\"histogram\"}],\"mesh3d\":[{\"colorbar\":{\"outlinewidth\":1,\"tickcolor\":\"rgb(36,36,36)\",\"ticks\":\"outside\"},\"type\":\"mesh3d\"}],\"parcoords\":[{\"line\":{\"colorbar\":{\"outlinewidth\":1,\"tickcolor\":\"rgb(36,36,36)\",\"ticks\":\"outside\"}},\"type\":\"parcoords\"}],\"pie\":[{\"automargin\":true,\"type\":\"pie\"}],\"scatter3d\":[{\"line\":{\"colorbar\":{\"outlinewidth\":1,\"tickcolor\":\"rgb(36,36,36)\",\"ticks\":\"outside\"}},\"marker\":{\"colorbar\":{\"outlinewidth\":1,\"tickcolor\":\"rgb(36,36,36)\",\"ticks\":\"outside\"}},\"type\":\"scatter3d\"}],\"scattercarpet\":[{\"marker\":{\"colorbar\":{\"outlinewidth\":1,\"tickcolor\":\"rgb(36,36,36)\",\"ticks\":\"outside\"}},\"type\":\"scattercarpet\"}],\"scattergeo\":[{\"marker\":{\"colorbar\":{\"outlinewidth\":1,\"tickcolor\":\"rgb(36,36,36)\",\"ticks\":\"outside\"}},\"type\":\"scattergeo\"}],\"scattergl\":[{\"marker\":{\"colorbar\":{\"outlinewidth\":1,\"tickcolor\":\"rgb(36,36,36)\",\"ticks\":\"outside\"}},\"type\":\"scattergl\"}],\"scattermapbox\":[{\"marker\":{\"colorbar\":{\"outlinewidth\":1,\"tickcolor\":\"rgb(36,36,36)\",\"ticks\":\"outside\"}},\"type\":\"scattermapbox\"}],\"scatterpolargl\":[{\"marker\":{\"colorbar\":{\"outlinewidth\":1,\"tickcolor\":\"rgb(36,36,36)\",\"ticks\":\"outside\"}},\"type\":\"scatterpolargl\"}],\"scatterpolar\":[{\"marker\":{\"colorbar\":{\"outlinewidth\":1,\"tickcolor\":\"rgb(36,36,36)\",\"ticks\":\"outside\"}},\"type\":\"scatterpolar\"}],\"scatter\":[{\"fillpattern\":{\"fillmode\":\"overlay\",\"size\":10,\"solidity\":0.2},\"type\":\"scatter\"}],\"scatterternary\":[{\"marker\":{\"colorbar\":{\"outlinewidth\":1,\"tickcolor\":\"rgb(36,36,36)\",\"ticks\":\"outside\"}},\"type\":\"scatterternary\"}],\"surface\":[{\"colorbar\":{\"outlinewidth\":1,\"tickcolor\":\"rgb(36,36,36)\",\"ticks\":\"outside\"},\"colorscale\":[[0.0,\"#440154\"],[0.1111111111111111,\"#482878\"],[0.2222222222222222,\"#3e4989\"],[0.3333333333333333,\"#31688e\"],[0.4444444444444444,\"#26828e\"],[0.5555555555555556,\"#1f9e89\"],[0.6666666666666666,\"#35b779\"],[0.7777777777777778,\"#6ece58\"],[0.8888888888888888,\"#b5de2b\"],[1.0,\"#fde725\"]],\"type\":\"surface\"}],\"table\":[{\"cells\":{\"fill\":{\"color\":\"rgb(237,237,237)\"},\"line\":{\"color\":\"white\"}},\"header\":{\"fill\":{\"color\":\"rgb(217,217,217)\"},\"line\":{\"color\":\"white\"}},\"type\":\"table\"}]},\"layout\":{\"annotationdefaults\":{\"arrowhead\":0,\"arrowwidth\":1},\"autotypenumbers\":\"strict\",\"coloraxis\":{\"colorbar\":{\"outlinewidth\":1,\"tickcolor\":\"rgb(36,36,36)\",\"ticks\":\"outside\"}},\"colorscale\":{\"diverging\":[[0.0,\"rgb(103,0,31)\"],[0.1,\"rgb(178,24,43)\"],[0.2,\"rgb(214,96,77)\"],[0.3,\"rgb(244,165,130)\"],[0.4,\"rgb(253,219,199)\"],[0.5,\"rgb(247,247,247)\"],[0.6,\"rgb(209,229,240)\"],[0.7,\"rgb(146,197,222)\"],[0.8,\"rgb(67,147,195)\"],[0.9,\"rgb(33,102,172)\"],[1.0,\"rgb(5,48,97)\"]],\"sequential\":[[0.0,\"#440154\"],[0.1111111111111111,\"#482878\"],[0.2222222222222222,\"#3e4989\"],[0.3333333333333333,\"#31688e\"],[0.4444444444444444,\"#26828e\"],[0.5555555555555556,\"#1f9e89\"],[0.6666666666666666,\"#35b779\"],[0.7777777777777778,\"#6ece58\"],[0.8888888888888888,\"#b5de2b\"],[1.0,\"#fde725\"]],\"sequentialminus\":[[0.0,\"#440154\"],[0.1111111111111111,\"#482878\"],[0.2222222222222222,\"#3e4989\"],[0.3333333333333333,\"#31688e\"],[0.4444444444444444,\"#26828e\"],[0.5555555555555556,\"#1f9e89\"],[0.6666666666666666,\"#35b779\"],[0.7777777777777778,\"#6ece58\"],[0.8888888888888888,\"#b5de2b\"],[1.0,\"#fde725\"]]},\"colorway\":[\"#91268F\",\"#00A7A0\",\"#8CC63E\",\"#F05A28\",\"#4C4C4C\",\"#630460\",\"#9f3913\",\"#588527\",\"#00716c\",\"#3e4040\"],\"font\":{\"color\":\"rgb(36,36,36)\",\"size\":11},\"geo\":{\"bgcolor\":\"white\",\"lakecolor\":\"white\",\"landcolor\":\"white\",\"showlakes\":true,\"showland\":true,\"subunitcolor\":\"white\"},\"hoverlabel\":{\"align\":\"left\"},\"hovermode\":\"closest\",\"mapbox\":{\"style\":\"light\"},\"paper_bgcolor\":\"white\",\"plot_bgcolor\":\"white\",\"polar\":{\"angularaxis\":{\"gridcolor\":\"rgb(232,232,232)\",\"linecolor\":\"rgb(36,36,36)\",\"showgrid\":false,\"showline\":true,\"ticks\":\"outside\"},\"bgcolor\":\"white\",\"radialaxis\":{\"gridcolor\":\"rgb(232,232,232)\",\"linecolor\":\"rgb(36,36,36)\",\"showgrid\":false,\"showline\":true,\"ticks\":\"outside\"}},\"scene\":{\"xaxis\":{\"backgroundcolor\":\"white\",\"gridcolor\":\"rgb(232,232,232)\",\"gridwidth\":2,\"linecolor\":\"rgb(36,36,36)\",\"showbackground\":true,\"showgrid\":false,\"showline\":true,\"ticks\":\"outside\",\"zeroline\":false,\"zerolinecolor\":\"rgb(36,36,36)\"},\"yaxis\":{\"backgroundcolor\":\"white\",\"gridcolor\":\"rgb(232,232,232)\",\"gridwidth\":2,\"linecolor\":\"rgb(36,36,36)\",\"showbackground\":true,\"showgrid\":false,\"showline\":true,\"ticks\":\"outside\",\"zeroline\":false,\"zerolinecolor\":\"rgb(36,36,36)\"},\"zaxis\":{\"backgroundcolor\":\"white\",\"gridcolor\":\"rgb(232,232,232)\",\"gridwidth\":2,\"linecolor\":\"rgb(36,36,36)\",\"showbackground\":true,\"showgrid\":false,\"showline\":true,\"ticks\":\"outside\",\"zeroline\":false,\"zerolinecolor\":\"rgb(36,36,36)\"}},\"shapedefaults\":{\"fillcolor\":\"black\",\"line\":{\"width\":0},\"opacity\":0.3},\"ternary\":{\"aaxis\":{\"gridcolor\":\"rgb(232,232,232)\",\"linecolor\":\"rgb(36,36,36)\",\"showgrid\":false,\"showline\":true,\"ticks\":\"outside\"},\"baxis\":{\"gridcolor\":\"rgb(232,232,232)\",\"linecolor\":\"rgb(36,36,36)\",\"showgrid\":false,\"showline\":true,\"ticks\":\"outside\"},\"bgcolor\":\"white\",\"caxis\":{\"gridcolor\":\"rgb(232,232,232)\",\"linecolor\":\"rgb(36,36,36)\",\"showgrid\":false,\"showline\":true,\"ticks\":\"outside\"}},\"title\":{\"x\":0.05},\"xaxis\":{\"automargin\":true,\"gridcolor\":\"rgb(232,232,232)\",\"linecolor\":\"rgb(36,36,36)\",\"showgrid\":false,\"showline\":true,\"ticks\":\"outside\",\"title\":{\"standoff\":15},\"zeroline\":false,\"zerolinecolor\":\"rgb(36,36,36)\"},\"yaxis\":{\"automargin\":true,\"gridcolor\":\"rgb(232,232,232)\",\"linecolor\":\"rgb(36,36,36)\",\"showgrid\":false,\"showline\":true,\"ticks\":\"outside\",\"title\":{\"standoff\":15},\"zeroline\":false,\"zerolinecolor\":\"rgb(36,36,36)\"}}},\"xaxis\":{\"anchor\":\"y\",\"domain\":[0.0,1.0],\"title\":{\"text\":\"tour_mode_transit_agg\"},\"categoryorder\":\"array\",\"categoryarray\":[\"DRIVEALONEFREE\",\"SHARED2FREE\",\"SHARED3FREE\",\"BIKE\",\"WALK\",\"ALL_TRANSIT\",\"SCH_BUS\",\"TNC\",\"Other\"]},\"yaxis\":{\"anchor\":\"x\",\"domain\":[0.0,1.0],\"title\":{\"text\":\"percentage\"},\"tickformat\":\".1%\"},\"legend\":{\"title\":{\"text\":\"source\"},\"tracegroupgap\":0},\"title\":{\"text\":\"Tour mode choice: all modes\"},\"barmode\":\"group\",\"height\":400,\"width\":700},                        {\"responsive\": true}                    ).then(function(){\n",
       "                            \n",
       "var gd = document.getElementById('0b55c8b3-c14a-4818-b058-c7a7853bee35');\n",
       "var x = new MutationObserver(function (mutations, observer) {{\n",
       "        var display = window.getComputedStyle(gd).display;\n",
       "        if (!display || display === 'none') {{\n",
       "            console.log([gd, 'removed!']);\n",
       "            Plotly.purge(gd);\n",
       "            observer.disconnect();\n",
       "        }}\n",
       "}});\n",
       "\n",
       "// Listen for the removal of the full notebook cells\n",
       "var notebookContainer = gd.closest('#notebook-container');\n",
       "if (notebookContainer) {{\n",
       "    x.observe(notebookContainer, {childList: true});\n",
       "}}\n",
       "\n",
       "// Listen for the clearing of the current output cell\n",
       "var outputEl = gd.closest('.output');\n",
       "if (outputEl) {{\n",
       "    x.observe(outputEl, {childList: true});\n",
       "}}\n",
       "\n",
       "                        })                };                });            </script>        </div>"
      ]
     },
     "metadata": {},
     "output_type": "display_data"
    }
   ],
   "source": [
    "# aggregate transit modes\n",
    "transit_modes = ['WALK_LOC','WALK_COM','WALK_FRY','WALK_LR','DRIVE_TRN']\n",
    "tour_mode_ordered = [\"DRIVEALONEFREE\", \"SHARED2FREE\", \"SHARED3FREE\", \"BIKE\",\"WALK\",\"ALL_TRANSIT\",\"SCH_BUS\",\"TNC\",\"Other\"]\n",
    "tour_data['tour_mode_transit_agg'] = tour_data['tour_mode'].apply(lambda x: \"ALL_TRANSIT\" if x in transit_modes else x)\n",
    "\n",
    "df_plot = tour_data.groupby(['source','tour_mode_transit_agg'])['trip_weight_2017_2019'].sum().reset_index()\n",
    "df_plot['percentage'] = df_plot.groupby(['source'], group_keys=False)['trip_weight_2017_2019']. \\\n",
    "    apply(lambda x: x / float(x.sum()))\n",
    "\n",
    "fig = px.bar(df_plot, x=\"tour_mode_transit_agg\", y=\"percentage\", color=\"source\",barmode=\"group\",\n",
    "             category_orders={\"tour_mode_transit_agg\": tour_mode_ordered},\n",
    "             title=\"Tour mode choice: all modes\")\n",
    "fig.for_each_annotation(lambda a: a.update(text = a.text.split(\"=\")[-1]))\n",
    "fig.update_layout(height=400, width=700, yaxis=dict(tickformat=\".1%\"))\n",
    "fig.show()"
   ]
  },
  {
   "cell_type": "raw",
   "metadata": {
    "collapsed": false
   },
   "source": [
    "### disaggregated transit modes"
   ]
  },
  {
   "cell_type": "code",
   "execution_count": 4,
   "metadata": {
    "collapsed": false,
    "execution": {
     "iopub.execute_input": "2024-02-09T22:44:12.735052Z",
     "iopub.status.busy": "2024-02-09T22:44:12.734054Z",
     "iopub.status.idle": "2024-02-09T22:44:13.592838Z",
     "shell.execute_reply": "2024-02-09T22:44:13.591840Z"
    }
   },
   "outputs": [
    {
     "data": {
      "application/vnd.plotly.v1+json": {
       "config": {
        "plotlyServerURL": "https://plot.ly"
       },
       "data": [
        {
         "alignmentgroup": "True",
         "hovertemplate": "source=model results<br>tour_mode=%{x}<br>percentage=%{y}<extra></extra>",
         "legendgroup": "model results",
         "marker": {
          "color": "#91268F",
          "pattern": {
           "shape": ""
          }
         },
         "name": "model results",
         "offsetgroup": "model results",
         "orientation": "v",
         "showlegend": true,
         "textposition": "auto",
         "type": "bar",
         "x": [
          "DRIVE_TRN",
          "WALK_COM",
          "WALK_FRY",
          "WALK_LOC",
          "WALK_LR"
         ],
         "xaxis": "x",
         "y": [
          0.007011038735749574,
          0.005494446426215409,
          0.01362587530479909,
          0.059155895877210554,
          0.010901521185674565
         ],
         "yaxis": "y"
        },
        {
         "alignmentgroup": "True",
         "hovertemplate": "source=survey data<br>tour_mode=%{x}<br>percentage=%{y}<extra></extra>",
         "legendgroup": "survey data",
         "marker": {
          "color": "#00A7A0",
          "pattern": {
           "shape": ""
          }
         },
         "name": "survey data",
         "offsetgroup": "survey data",
         "orientation": "v",
         "showlegend": true,
         "textposition": "auto",
         "type": "bar",
         "x": [
          "DRIVE_TRN",
          "WALK_COM",
          "WALK_FRY",
          "WALK_LOC",
          "WALK_LR"
         ],
         "xaxis": "x",
         "y": [
          0.004860535639253447,
          0.0005494561523184339,
          0.002347990990586895,
          0.05308218706965543,
          0.004261393711258522
         ],
         "yaxis": "y"
        },
        {
         "alignmentgroup": "True",
         "hovertemplate": "source=unweighted survey<br>tour_mode=%{x}<br>percentage=%{y}<extra></extra>",
         "legendgroup": "unweighted survey",
         "marker": {
          "color": "#8CC63E",
          "pattern": {
           "shape": ""
          }
         },
         "name": "unweighted survey",
         "offsetgroup": "unweighted survey",
         "orientation": "v",
         "showlegend": true,
         "textposition": "auto",
         "type": "bar",
         "x": [
          "DRIVE_TRN",
          "WALK_COM",
          "WALK_FRY",
          "WALK_LOC",
          "WALK_LR"
         ],
         "xaxis": "x",
         "y": [
          0.006182490051165435,
          0.0014923251847640704,
          0.0028425241614553724,
          0.1290505969300739,
          0.027927799886299034
         ],
         "yaxis": "y"
        }
       ],
       "layout": {
        "barmode": "group",
        "height": 400,
        "legend": {
         "title": {
          "text": "source"
         },
         "tracegroupgap": 0
        },
        "template": {
         "data": {
          "bar": [
           {
            "error_x": {
             "color": "rgb(36,36,36)"
            },
            "error_y": {
             "color": "rgb(36,36,36)"
            },
            "marker": {
             "line": {
              "color": "white",
              "width": 0.5
             },
             "pattern": {
              "fillmode": "overlay",
              "size": 10,
              "solidity": 0.2
             }
            },
            "type": "bar"
           }
          ],
          "barpolar": [
           {
            "marker": {
             "line": {
              "color": "white",
              "width": 0.5
             },
             "pattern": {
              "fillmode": "overlay",
              "size": 10,
              "solidity": 0.2
             }
            },
            "type": "barpolar"
           }
          ],
          "carpet": [
           {
            "aaxis": {
             "endlinecolor": "rgb(36,36,36)",
             "gridcolor": "white",
             "linecolor": "white",
             "minorgridcolor": "white",
             "startlinecolor": "rgb(36,36,36)"
            },
            "baxis": {
             "endlinecolor": "rgb(36,36,36)",
             "gridcolor": "white",
             "linecolor": "white",
             "minorgridcolor": "white",
             "startlinecolor": "rgb(36,36,36)"
            },
            "type": "carpet"
           }
          ],
          "choropleth": [
           {
            "colorbar": {
             "outlinewidth": 1,
             "tickcolor": "rgb(36,36,36)",
             "ticks": "outside"
            },
            "type": "choropleth"
           }
          ],
          "contour": [
           {
            "colorbar": {
             "outlinewidth": 1,
             "tickcolor": "rgb(36,36,36)",
             "ticks": "outside"
            },
            "colorscale": [
             [
              0.0,
              "#440154"
             ],
             [
              0.1111111111111111,
              "#482878"
             ],
             [
              0.2222222222222222,
              "#3e4989"
             ],
             [
              0.3333333333333333,
              "#31688e"
             ],
             [
              0.4444444444444444,
              "#26828e"
             ],
             [
              0.5555555555555556,
              "#1f9e89"
             ],
             [
              0.6666666666666666,
              "#35b779"
             ],
             [
              0.7777777777777778,
              "#6ece58"
             ],
             [
              0.8888888888888888,
              "#b5de2b"
             ],
             [
              1.0,
              "#fde725"
             ]
            ],
            "type": "contour"
           }
          ],
          "contourcarpet": [
           {
            "colorbar": {
             "outlinewidth": 1,
             "tickcolor": "rgb(36,36,36)",
             "ticks": "outside"
            },
            "type": "contourcarpet"
           }
          ],
          "heatmap": [
           {
            "colorbar": {
             "outlinewidth": 1,
             "tickcolor": "rgb(36,36,36)",
             "ticks": "outside"
            },
            "colorscale": [
             [
              0.0,
              "#440154"
             ],
             [
              0.1111111111111111,
              "#482878"
             ],
             [
              0.2222222222222222,
              "#3e4989"
             ],
             [
              0.3333333333333333,
              "#31688e"
             ],
             [
              0.4444444444444444,
              "#26828e"
             ],
             [
              0.5555555555555556,
              "#1f9e89"
             ],
             [
              0.6666666666666666,
              "#35b779"
             ],
             [
              0.7777777777777778,
              "#6ece58"
             ],
             [
              0.8888888888888888,
              "#b5de2b"
             ],
             [
              1.0,
              "#fde725"
             ]
            ],
            "type": "heatmap"
           }
          ],
          "heatmapgl": [
           {
            "colorbar": {
             "outlinewidth": 1,
             "tickcolor": "rgb(36,36,36)",
             "ticks": "outside"
            },
            "colorscale": [
             [
              0.0,
              "#440154"
             ],
             [
              0.1111111111111111,
              "#482878"
             ],
             [
              0.2222222222222222,
              "#3e4989"
             ],
             [
              0.3333333333333333,
              "#31688e"
             ],
             [
              0.4444444444444444,
              "#26828e"
             ],
             [
              0.5555555555555556,
              "#1f9e89"
             ],
             [
              0.6666666666666666,
              "#35b779"
             ],
             [
              0.7777777777777778,
              "#6ece58"
             ],
             [
              0.8888888888888888,
              "#b5de2b"
             ],
             [
              1.0,
              "#fde725"
             ]
            ],
            "type": "heatmapgl"
           }
          ],
          "histogram": [
           {
            "marker": {
             "line": {
              "color": "white",
              "width": 0.6
             }
            },
            "type": "histogram"
           }
          ],
          "histogram2d": [
           {
            "colorbar": {
             "outlinewidth": 1,
             "tickcolor": "rgb(36,36,36)",
             "ticks": "outside"
            },
            "colorscale": [
             [
              0.0,
              "#440154"
             ],
             [
              0.1111111111111111,
              "#482878"
             ],
             [
              0.2222222222222222,
              "#3e4989"
             ],
             [
              0.3333333333333333,
              "#31688e"
             ],
             [
              0.4444444444444444,
              "#26828e"
             ],
             [
              0.5555555555555556,
              "#1f9e89"
             ],
             [
              0.6666666666666666,
              "#35b779"
             ],
             [
              0.7777777777777778,
              "#6ece58"
             ],
             [
              0.8888888888888888,
              "#b5de2b"
             ],
             [
              1.0,
              "#fde725"
             ]
            ],
            "type": "histogram2d"
           }
          ],
          "histogram2dcontour": [
           {
            "colorbar": {
             "outlinewidth": 1,
             "tickcolor": "rgb(36,36,36)",
             "ticks": "outside"
            },
            "colorscale": [
             [
              0.0,
              "#440154"
             ],
             [
              0.1111111111111111,
              "#482878"
             ],
             [
              0.2222222222222222,
              "#3e4989"
             ],
             [
              0.3333333333333333,
              "#31688e"
             ],
             [
              0.4444444444444444,
              "#26828e"
             ],
             [
              0.5555555555555556,
              "#1f9e89"
             ],
             [
              0.6666666666666666,
              "#35b779"
             ],
             [
              0.7777777777777778,
              "#6ece58"
             ],
             [
              0.8888888888888888,
              "#b5de2b"
             ],
             [
              1.0,
              "#fde725"
             ]
            ],
            "type": "histogram2dcontour"
           }
          ],
          "mesh3d": [
           {
            "colorbar": {
             "outlinewidth": 1,
             "tickcolor": "rgb(36,36,36)",
             "ticks": "outside"
            },
            "type": "mesh3d"
           }
          ],
          "parcoords": [
           {
            "line": {
             "colorbar": {
              "outlinewidth": 1,
              "tickcolor": "rgb(36,36,36)",
              "ticks": "outside"
             }
            },
            "type": "parcoords"
           }
          ],
          "pie": [
           {
            "automargin": true,
            "type": "pie"
           }
          ],
          "scatter": [
           {
            "fillpattern": {
             "fillmode": "overlay",
             "size": 10,
             "solidity": 0.2
            },
            "type": "scatter"
           }
          ],
          "scatter3d": [
           {
            "line": {
             "colorbar": {
              "outlinewidth": 1,
              "tickcolor": "rgb(36,36,36)",
              "ticks": "outside"
             }
            },
            "marker": {
             "colorbar": {
              "outlinewidth": 1,
              "tickcolor": "rgb(36,36,36)",
              "ticks": "outside"
             }
            },
            "type": "scatter3d"
           }
          ],
          "scattercarpet": [
           {
            "marker": {
             "colorbar": {
              "outlinewidth": 1,
              "tickcolor": "rgb(36,36,36)",
              "ticks": "outside"
             }
            },
            "type": "scattercarpet"
           }
          ],
          "scattergeo": [
           {
            "marker": {
             "colorbar": {
              "outlinewidth": 1,
              "tickcolor": "rgb(36,36,36)",
              "ticks": "outside"
             }
            },
            "type": "scattergeo"
           }
          ],
          "scattergl": [
           {
            "marker": {
             "colorbar": {
              "outlinewidth": 1,
              "tickcolor": "rgb(36,36,36)",
              "ticks": "outside"
             }
            },
            "type": "scattergl"
           }
          ],
          "scattermapbox": [
           {
            "marker": {
             "colorbar": {
              "outlinewidth": 1,
              "tickcolor": "rgb(36,36,36)",
              "ticks": "outside"
             }
            },
            "type": "scattermapbox"
           }
          ],
          "scatterpolar": [
           {
            "marker": {
             "colorbar": {
              "outlinewidth": 1,
              "tickcolor": "rgb(36,36,36)",
              "ticks": "outside"
             }
            },
            "type": "scatterpolar"
           }
          ],
          "scatterpolargl": [
           {
            "marker": {
             "colorbar": {
              "outlinewidth": 1,
              "tickcolor": "rgb(36,36,36)",
              "ticks": "outside"
             }
            },
            "type": "scatterpolargl"
           }
          ],
          "scatterternary": [
           {
            "marker": {
             "colorbar": {
              "outlinewidth": 1,
              "tickcolor": "rgb(36,36,36)",
              "ticks": "outside"
             }
            },
            "type": "scatterternary"
           }
          ],
          "surface": [
           {
            "colorbar": {
             "outlinewidth": 1,
             "tickcolor": "rgb(36,36,36)",
             "ticks": "outside"
            },
            "colorscale": [
             [
              0.0,
              "#440154"
             ],
             [
              0.1111111111111111,
              "#482878"
             ],
             [
              0.2222222222222222,
              "#3e4989"
             ],
             [
              0.3333333333333333,
              "#31688e"
             ],
             [
              0.4444444444444444,
              "#26828e"
             ],
             [
              0.5555555555555556,
              "#1f9e89"
             ],
             [
              0.6666666666666666,
              "#35b779"
             ],
             [
              0.7777777777777778,
              "#6ece58"
             ],
             [
              0.8888888888888888,
              "#b5de2b"
             ],
             [
              1.0,
              "#fde725"
             ]
            ],
            "type": "surface"
           }
          ],
          "table": [
           {
            "cells": {
             "fill": {
              "color": "rgb(237,237,237)"
             },
             "line": {
              "color": "white"
             }
            },
            "header": {
             "fill": {
              "color": "rgb(217,217,217)"
             },
             "line": {
              "color": "white"
             }
            },
            "type": "table"
           }
          ]
         },
         "layout": {
          "annotationdefaults": {
           "arrowhead": 0,
           "arrowwidth": 1
          },
          "autotypenumbers": "strict",
          "coloraxis": {
           "colorbar": {
            "outlinewidth": 1,
            "tickcolor": "rgb(36,36,36)",
            "ticks": "outside"
           }
          },
          "colorscale": {
           "diverging": [
            [
             0.0,
             "rgb(103,0,31)"
            ],
            [
             0.1,
             "rgb(178,24,43)"
            ],
            [
             0.2,
             "rgb(214,96,77)"
            ],
            [
             0.3,
             "rgb(244,165,130)"
            ],
            [
             0.4,
             "rgb(253,219,199)"
            ],
            [
             0.5,
             "rgb(247,247,247)"
            ],
            [
             0.6,
             "rgb(209,229,240)"
            ],
            [
             0.7,
             "rgb(146,197,222)"
            ],
            [
             0.8,
             "rgb(67,147,195)"
            ],
            [
             0.9,
             "rgb(33,102,172)"
            ],
            [
             1.0,
             "rgb(5,48,97)"
            ]
           ],
           "sequential": [
            [
             0.0,
             "#440154"
            ],
            [
             0.1111111111111111,
             "#482878"
            ],
            [
             0.2222222222222222,
             "#3e4989"
            ],
            [
             0.3333333333333333,
             "#31688e"
            ],
            [
             0.4444444444444444,
             "#26828e"
            ],
            [
             0.5555555555555556,
             "#1f9e89"
            ],
            [
             0.6666666666666666,
             "#35b779"
            ],
            [
             0.7777777777777778,
             "#6ece58"
            ],
            [
             0.8888888888888888,
             "#b5de2b"
            ],
            [
             1.0,
             "#fde725"
            ]
           ],
           "sequentialminus": [
            [
             0.0,
             "#440154"
            ],
            [
             0.1111111111111111,
             "#482878"
            ],
            [
             0.2222222222222222,
             "#3e4989"
            ],
            [
             0.3333333333333333,
             "#31688e"
            ],
            [
             0.4444444444444444,
             "#26828e"
            ],
            [
             0.5555555555555556,
             "#1f9e89"
            ],
            [
             0.6666666666666666,
             "#35b779"
            ],
            [
             0.7777777777777778,
             "#6ece58"
            ],
            [
             0.8888888888888888,
             "#b5de2b"
            ],
            [
             1.0,
             "#fde725"
            ]
           ]
          },
          "colorway": [
           "#91268F",
           "#00A7A0",
           "#8CC63E",
           "#F05A28",
           "#4C4C4C",
           "#630460",
           "#9f3913",
           "#588527",
           "#00716c",
           "#3e4040"
          ],
          "font": {
           "color": "rgb(36,36,36)",
           "size": 11
          },
          "geo": {
           "bgcolor": "white",
           "lakecolor": "white",
           "landcolor": "white",
           "showlakes": true,
           "showland": true,
           "subunitcolor": "white"
          },
          "hoverlabel": {
           "align": "left"
          },
          "hovermode": "closest",
          "mapbox": {
           "style": "light"
          },
          "paper_bgcolor": "white",
          "plot_bgcolor": "white",
          "polar": {
           "angularaxis": {
            "gridcolor": "rgb(232,232,232)",
            "linecolor": "rgb(36,36,36)",
            "showgrid": false,
            "showline": true,
            "ticks": "outside"
           },
           "bgcolor": "white",
           "radialaxis": {
            "gridcolor": "rgb(232,232,232)",
            "linecolor": "rgb(36,36,36)",
            "showgrid": false,
            "showline": true,
            "ticks": "outside"
           }
          },
          "scene": {
           "xaxis": {
            "backgroundcolor": "white",
            "gridcolor": "rgb(232,232,232)",
            "gridwidth": 2,
            "linecolor": "rgb(36,36,36)",
            "showbackground": true,
            "showgrid": false,
            "showline": true,
            "ticks": "outside",
            "zeroline": false,
            "zerolinecolor": "rgb(36,36,36)"
           },
           "yaxis": {
            "backgroundcolor": "white",
            "gridcolor": "rgb(232,232,232)",
            "gridwidth": 2,
            "linecolor": "rgb(36,36,36)",
            "showbackground": true,
            "showgrid": false,
            "showline": true,
            "ticks": "outside",
            "zeroline": false,
            "zerolinecolor": "rgb(36,36,36)"
           },
           "zaxis": {
            "backgroundcolor": "white",
            "gridcolor": "rgb(232,232,232)",
            "gridwidth": 2,
            "linecolor": "rgb(36,36,36)",
            "showbackground": true,
            "showgrid": false,
            "showline": true,
            "ticks": "outside",
            "zeroline": false,
            "zerolinecolor": "rgb(36,36,36)"
           }
          },
          "shapedefaults": {
           "fillcolor": "black",
           "line": {
            "width": 0
           },
           "opacity": 0.3
          },
          "ternary": {
           "aaxis": {
            "gridcolor": "rgb(232,232,232)",
            "linecolor": "rgb(36,36,36)",
            "showgrid": false,
            "showline": true,
            "ticks": "outside"
           },
           "baxis": {
            "gridcolor": "rgb(232,232,232)",
            "linecolor": "rgb(36,36,36)",
            "showgrid": false,
            "showline": true,
            "ticks": "outside"
           },
           "bgcolor": "white",
           "caxis": {
            "gridcolor": "rgb(232,232,232)",
            "linecolor": "rgb(36,36,36)",
            "showgrid": false,
            "showline": true,
            "ticks": "outside"
           }
          },
          "title": {
           "x": 0.05
          },
          "xaxis": {
           "automargin": true,
           "gridcolor": "rgb(232,232,232)",
           "linecolor": "rgb(36,36,36)",
           "showgrid": false,
           "showline": true,
           "ticks": "outside",
           "title": {
            "standoff": 15
           },
           "zeroline": false,
           "zerolinecolor": "rgb(36,36,36)"
          },
          "yaxis": {
           "automargin": true,
           "gridcolor": "rgb(232,232,232)",
           "linecolor": "rgb(36,36,36)",
           "showgrid": false,
           "showline": true,
           "ticks": "outside",
           "title": {
            "standoff": 15
           },
           "zeroline": false,
           "zerolinecolor": "rgb(36,36,36)"
          }
         }
        },
        "title": {
         "text": "Tour mode choice: transit modes"
        },
        "width": 700,
        "xaxis": {
         "anchor": "y",
         "domain": [
          0.0,
          1.0
         ],
         "title": {
          "text": "tour_mode"
         }
        },
        "yaxis": {
         "anchor": "x",
         "domain": [
          0.0,
          1.0
         ],
         "tickformat": ".1%",
         "title": {
          "text": "percentage"
         }
        }
       }
      },
      "text/html": [
       "<div>                            <div id=\"37e4eea2-4190-4cb9-8b6d-d8b840caf0a3\" class=\"plotly-graph-div\" style=\"height:400px; width:700px;\"></div>            <script type=\"text/javascript\">                require([\"plotly\"], function(Plotly) {                    window.PLOTLYENV=window.PLOTLYENV || {};                                    if (document.getElementById(\"37e4eea2-4190-4cb9-8b6d-d8b840caf0a3\")) {                    Plotly.newPlot(                        \"37e4eea2-4190-4cb9-8b6d-d8b840caf0a3\",                        [{\"alignmentgroup\":\"True\",\"hovertemplate\":\"source=model results<br>tour_mode=%{x}<br>percentage=%{y}<extra></extra>\",\"legendgroup\":\"model results\",\"marker\":{\"color\":\"#91268F\",\"pattern\":{\"shape\":\"\"}},\"name\":\"model results\",\"offsetgroup\":\"model results\",\"orientation\":\"v\",\"showlegend\":true,\"textposition\":\"auto\",\"x\":[\"DRIVE_TRN\",\"WALK_COM\",\"WALK_FRY\",\"WALK_LOC\",\"WALK_LR\"],\"xaxis\":\"x\",\"y\":[0.007011038735749574,0.005494446426215409,0.01362587530479909,0.059155895877210554,0.010901521185674565],\"yaxis\":\"y\",\"type\":\"bar\"},{\"alignmentgroup\":\"True\",\"hovertemplate\":\"source=survey data<br>tour_mode=%{x}<br>percentage=%{y}<extra></extra>\",\"legendgroup\":\"survey data\",\"marker\":{\"color\":\"#00A7A0\",\"pattern\":{\"shape\":\"\"}},\"name\":\"survey data\",\"offsetgroup\":\"survey data\",\"orientation\":\"v\",\"showlegend\":true,\"textposition\":\"auto\",\"x\":[\"DRIVE_TRN\",\"WALK_COM\",\"WALK_FRY\",\"WALK_LOC\",\"WALK_LR\"],\"xaxis\":\"x\",\"y\":[0.004860535639253447,0.0005494561523184339,0.002347990990586895,0.05308218706965543,0.004261393711258522],\"yaxis\":\"y\",\"type\":\"bar\"},{\"alignmentgroup\":\"True\",\"hovertemplate\":\"source=unweighted survey<br>tour_mode=%{x}<br>percentage=%{y}<extra></extra>\",\"legendgroup\":\"unweighted survey\",\"marker\":{\"color\":\"#8CC63E\",\"pattern\":{\"shape\":\"\"}},\"name\":\"unweighted survey\",\"offsetgroup\":\"unweighted survey\",\"orientation\":\"v\",\"showlegend\":true,\"textposition\":\"auto\",\"x\":[\"DRIVE_TRN\",\"WALK_COM\",\"WALK_FRY\",\"WALK_LOC\",\"WALK_LR\"],\"xaxis\":\"x\",\"y\":[0.006182490051165435,0.0014923251847640704,0.0028425241614553724,0.1290505969300739,0.027927799886299034],\"yaxis\":\"y\",\"type\":\"bar\"}],                        {\"template\":{\"data\":{\"barpolar\":[{\"marker\":{\"line\":{\"color\":\"white\",\"width\":0.5},\"pattern\":{\"fillmode\":\"overlay\",\"size\":10,\"solidity\":0.2}},\"type\":\"barpolar\"}],\"bar\":[{\"error_x\":{\"color\":\"rgb(36,36,36)\"},\"error_y\":{\"color\":\"rgb(36,36,36)\"},\"marker\":{\"line\":{\"color\":\"white\",\"width\":0.5},\"pattern\":{\"fillmode\":\"overlay\",\"size\":10,\"solidity\":0.2}},\"type\":\"bar\"}],\"carpet\":[{\"aaxis\":{\"endlinecolor\":\"rgb(36,36,36)\",\"gridcolor\":\"white\",\"linecolor\":\"white\",\"minorgridcolor\":\"white\",\"startlinecolor\":\"rgb(36,36,36)\"},\"baxis\":{\"endlinecolor\":\"rgb(36,36,36)\",\"gridcolor\":\"white\",\"linecolor\":\"white\",\"minorgridcolor\":\"white\",\"startlinecolor\":\"rgb(36,36,36)\"},\"type\":\"carpet\"}],\"choropleth\":[{\"colorbar\":{\"outlinewidth\":1,\"tickcolor\":\"rgb(36,36,36)\",\"ticks\":\"outside\"},\"type\":\"choropleth\"}],\"contourcarpet\":[{\"colorbar\":{\"outlinewidth\":1,\"tickcolor\":\"rgb(36,36,36)\",\"ticks\":\"outside\"},\"type\":\"contourcarpet\"}],\"contour\":[{\"colorbar\":{\"outlinewidth\":1,\"tickcolor\":\"rgb(36,36,36)\",\"ticks\":\"outside\"},\"colorscale\":[[0.0,\"#440154\"],[0.1111111111111111,\"#482878\"],[0.2222222222222222,\"#3e4989\"],[0.3333333333333333,\"#31688e\"],[0.4444444444444444,\"#26828e\"],[0.5555555555555556,\"#1f9e89\"],[0.6666666666666666,\"#35b779\"],[0.7777777777777778,\"#6ece58\"],[0.8888888888888888,\"#b5de2b\"],[1.0,\"#fde725\"]],\"type\":\"contour\"}],\"heatmapgl\":[{\"colorbar\":{\"outlinewidth\":1,\"tickcolor\":\"rgb(36,36,36)\",\"ticks\":\"outside\"},\"colorscale\":[[0.0,\"#440154\"],[0.1111111111111111,\"#482878\"],[0.2222222222222222,\"#3e4989\"],[0.3333333333333333,\"#31688e\"],[0.4444444444444444,\"#26828e\"],[0.5555555555555556,\"#1f9e89\"],[0.6666666666666666,\"#35b779\"],[0.7777777777777778,\"#6ece58\"],[0.8888888888888888,\"#b5de2b\"],[1.0,\"#fde725\"]],\"type\":\"heatmapgl\"}],\"heatmap\":[{\"colorbar\":{\"outlinewidth\":1,\"tickcolor\":\"rgb(36,36,36)\",\"ticks\":\"outside\"},\"colorscale\":[[0.0,\"#440154\"],[0.1111111111111111,\"#482878\"],[0.2222222222222222,\"#3e4989\"],[0.3333333333333333,\"#31688e\"],[0.4444444444444444,\"#26828e\"],[0.5555555555555556,\"#1f9e89\"],[0.6666666666666666,\"#35b779\"],[0.7777777777777778,\"#6ece58\"],[0.8888888888888888,\"#b5de2b\"],[1.0,\"#fde725\"]],\"type\":\"heatmap\"}],\"histogram2dcontour\":[{\"colorbar\":{\"outlinewidth\":1,\"tickcolor\":\"rgb(36,36,36)\",\"ticks\":\"outside\"},\"colorscale\":[[0.0,\"#440154\"],[0.1111111111111111,\"#482878\"],[0.2222222222222222,\"#3e4989\"],[0.3333333333333333,\"#31688e\"],[0.4444444444444444,\"#26828e\"],[0.5555555555555556,\"#1f9e89\"],[0.6666666666666666,\"#35b779\"],[0.7777777777777778,\"#6ece58\"],[0.8888888888888888,\"#b5de2b\"],[1.0,\"#fde725\"]],\"type\":\"histogram2dcontour\"}],\"histogram2d\":[{\"colorbar\":{\"outlinewidth\":1,\"tickcolor\":\"rgb(36,36,36)\",\"ticks\":\"outside\"},\"colorscale\":[[0.0,\"#440154\"],[0.1111111111111111,\"#482878\"],[0.2222222222222222,\"#3e4989\"],[0.3333333333333333,\"#31688e\"],[0.4444444444444444,\"#26828e\"],[0.5555555555555556,\"#1f9e89\"],[0.6666666666666666,\"#35b779\"],[0.7777777777777778,\"#6ece58\"],[0.8888888888888888,\"#b5de2b\"],[1.0,\"#fde725\"]],\"type\":\"histogram2d\"}],\"histogram\":[{\"marker\":{\"line\":{\"color\":\"white\",\"width\":0.6}},\"type\":\"histogram\"}],\"mesh3d\":[{\"colorbar\":{\"outlinewidth\":1,\"tickcolor\":\"rgb(36,36,36)\",\"ticks\":\"outside\"},\"type\":\"mesh3d\"}],\"parcoords\":[{\"line\":{\"colorbar\":{\"outlinewidth\":1,\"tickcolor\":\"rgb(36,36,36)\",\"ticks\":\"outside\"}},\"type\":\"parcoords\"}],\"pie\":[{\"automargin\":true,\"type\":\"pie\"}],\"scatter3d\":[{\"line\":{\"colorbar\":{\"outlinewidth\":1,\"tickcolor\":\"rgb(36,36,36)\",\"ticks\":\"outside\"}},\"marker\":{\"colorbar\":{\"outlinewidth\":1,\"tickcolor\":\"rgb(36,36,36)\",\"ticks\":\"outside\"}},\"type\":\"scatter3d\"}],\"scattercarpet\":[{\"marker\":{\"colorbar\":{\"outlinewidth\":1,\"tickcolor\":\"rgb(36,36,36)\",\"ticks\":\"outside\"}},\"type\":\"scattercarpet\"}],\"scattergeo\":[{\"marker\":{\"colorbar\":{\"outlinewidth\":1,\"tickcolor\":\"rgb(36,36,36)\",\"ticks\":\"outside\"}},\"type\":\"scattergeo\"}],\"scattergl\":[{\"marker\":{\"colorbar\":{\"outlinewidth\":1,\"tickcolor\":\"rgb(36,36,36)\",\"ticks\":\"outside\"}},\"type\":\"scattergl\"}],\"scattermapbox\":[{\"marker\":{\"colorbar\":{\"outlinewidth\":1,\"tickcolor\":\"rgb(36,36,36)\",\"ticks\":\"outside\"}},\"type\":\"scattermapbox\"}],\"scatterpolargl\":[{\"marker\":{\"colorbar\":{\"outlinewidth\":1,\"tickcolor\":\"rgb(36,36,36)\",\"ticks\":\"outside\"}},\"type\":\"scatterpolargl\"}],\"scatterpolar\":[{\"marker\":{\"colorbar\":{\"outlinewidth\":1,\"tickcolor\":\"rgb(36,36,36)\",\"ticks\":\"outside\"}},\"type\":\"scatterpolar\"}],\"scatter\":[{\"fillpattern\":{\"fillmode\":\"overlay\",\"size\":10,\"solidity\":0.2},\"type\":\"scatter\"}],\"scatterternary\":[{\"marker\":{\"colorbar\":{\"outlinewidth\":1,\"tickcolor\":\"rgb(36,36,36)\",\"ticks\":\"outside\"}},\"type\":\"scatterternary\"}],\"surface\":[{\"colorbar\":{\"outlinewidth\":1,\"tickcolor\":\"rgb(36,36,36)\",\"ticks\":\"outside\"},\"colorscale\":[[0.0,\"#440154\"],[0.1111111111111111,\"#482878\"],[0.2222222222222222,\"#3e4989\"],[0.3333333333333333,\"#31688e\"],[0.4444444444444444,\"#26828e\"],[0.5555555555555556,\"#1f9e89\"],[0.6666666666666666,\"#35b779\"],[0.7777777777777778,\"#6ece58\"],[0.8888888888888888,\"#b5de2b\"],[1.0,\"#fde725\"]],\"type\":\"surface\"}],\"table\":[{\"cells\":{\"fill\":{\"color\":\"rgb(237,237,237)\"},\"line\":{\"color\":\"white\"}},\"header\":{\"fill\":{\"color\":\"rgb(217,217,217)\"},\"line\":{\"color\":\"white\"}},\"type\":\"table\"}]},\"layout\":{\"annotationdefaults\":{\"arrowhead\":0,\"arrowwidth\":1},\"autotypenumbers\":\"strict\",\"coloraxis\":{\"colorbar\":{\"outlinewidth\":1,\"tickcolor\":\"rgb(36,36,36)\",\"ticks\":\"outside\"}},\"colorscale\":{\"diverging\":[[0.0,\"rgb(103,0,31)\"],[0.1,\"rgb(178,24,43)\"],[0.2,\"rgb(214,96,77)\"],[0.3,\"rgb(244,165,130)\"],[0.4,\"rgb(253,219,199)\"],[0.5,\"rgb(247,247,247)\"],[0.6,\"rgb(209,229,240)\"],[0.7,\"rgb(146,197,222)\"],[0.8,\"rgb(67,147,195)\"],[0.9,\"rgb(33,102,172)\"],[1.0,\"rgb(5,48,97)\"]],\"sequential\":[[0.0,\"#440154\"],[0.1111111111111111,\"#482878\"],[0.2222222222222222,\"#3e4989\"],[0.3333333333333333,\"#31688e\"],[0.4444444444444444,\"#26828e\"],[0.5555555555555556,\"#1f9e89\"],[0.6666666666666666,\"#35b779\"],[0.7777777777777778,\"#6ece58\"],[0.8888888888888888,\"#b5de2b\"],[1.0,\"#fde725\"]],\"sequentialminus\":[[0.0,\"#440154\"],[0.1111111111111111,\"#482878\"],[0.2222222222222222,\"#3e4989\"],[0.3333333333333333,\"#31688e\"],[0.4444444444444444,\"#26828e\"],[0.5555555555555556,\"#1f9e89\"],[0.6666666666666666,\"#35b779\"],[0.7777777777777778,\"#6ece58\"],[0.8888888888888888,\"#b5de2b\"],[1.0,\"#fde725\"]]},\"colorway\":[\"#91268F\",\"#00A7A0\",\"#8CC63E\",\"#F05A28\",\"#4C4C4C\",\"#630460\",\"#9f3913\",\"#588527\",\"#00716c\",\"#3e4040\"],\"font\":{\"color\":\"rgb(36,36,36)\",\"size\":11},\"geo\":{\"bgcolor\":\"white\",\"lakecolor\":\"white\",\"landcolor\":\"white\",\"showlakes\":true,\"showland\":true,\"subunitcolor\":\"white\"},\"hoverlabel\":{\"align\":\"left\"},\"hovermode\":\"closest\",\"mapbox\":{\"style\":\"light\"},\"paper_bgcolor\":\"white\",\"plot_bgcolor\":\"white\",\"polar\":{\"angularaxis\":{\"gridcolor\":\"rgb(232,232,232)\",\"linecolor\":\"rgb(36,36,36)\",\"showgrid\":false,\"showline\":true,\"ticks\":\"outside\"},\"bgcolor\":\"white\",\"radialaxis\":{\"gridcolor\":\"rgb(232,232,232)\",\"linecolor\":\"rgb(36,36,36)\",\"showgrid\":false,\"showline\":true,\"ticks\":\"outside\"}},\"scene\":{\"xaxis\":{\"backgroundcolor\":\"white\",\"gridcolor\":\"rgb(232,232,232)\",\"gridwidth\":2,\"linecolor\":\"rgb(36,36,36)\",\"showbackground\":true,\"showgrid\":false,\"showline\":true,\"ticks\":\"outside\",\"zeroline\":false,\"zerolinecolor\":\"rgb(36,36,36)\"},\"yaxis\":{\"backgroundcolor\":\"white\",\"gridcolor\":\"rgb(232,232,232)\",\"gridwidth\":2,\"linecolor\":\"rgb(36,36,36)\",\"showbackground\":true,\"showgrid\":false,\"showline\":true,\"ticks\":\"outside\",\"zeroline\":false,\"zerolinecolor\":\"rgb(36,36,36)\"},\"zaxis\":{\"backgroundcolor\":\"white\",\"gridcolor\":\"rgb(232,232,232)\",\"gridwidth\":2,\"linecolor\":\"rgb(36,36,36)\",\"showbackground\":true,\"showgrid\":false,\"showline\":true,\"ticks\":\"outside\",\"zeroline\":false,\"zerolinecolor\":\"rgb(36,36,36)\"}},\"shapedefaults\":{\"fillcolor\":\"black\",\"line\":{\"width\":0},\"opacity\":0.3},\"ternary\":{\"aaxis\":{\"gridcolor\":\"rgb(232,232,232)\",\"linecolor\":\"rgb(36,36,36)\",\"showgrid\":false,\"showline\":true,\"ticks\":\"outside\"},\"baxis\":{\"gridcolor\":\"rgb(232,232,232)\",\"linecolor\":\"rgb(36,36,36)\",\"showgrid\":false,\"showline\":true,\"ticks\":\"outside\"},\"bgcolor\":\"white\",\"caxis\":{\"gridcolor\":\"rgb(232,232,232)\",\"linecolor\":\"rgb(36,36,36)\",\"showgrid\":false,\"showline\":true,\"ticks\":\"outside\"}},\"title\":{\"x\":0.05},\"xaxis\":{\"automargin\":true,\"gridcolor\":\"rgb(232,232,232)\",\"linecolor\":\"rgb(36,36,36)\",\"showgrid\":false,\"showline\":true,\"ticks\":\"outside\",\"title\":{\"standoff\":15},\"zeroline\":false,\"zerolinecolor\":\"rgb(36,36,36)\"},\"yaxis\":{\"automargin\":true,\"gridcolor\":\"rgb(232,232,232)\",\"linecolor\":\"rgb(36,36,36)\",\"showgrid\":false,\"showline\":true,\"ticks\":\"outside\",\"title\":{\"standoff\":15},\"zeroline\":false,\"zerolinecolor\":\"rgb(36,36,36)\"}}},\"xaxis\":{\"anchor\":\"y\",\"domain\":[0.0,1.0],\"title\":{\"text\":\"tour_mode\"}},\"yaxis\":{\"anchor\":\"x\",\"domain\":[0.0,1.0],\"title\":{\"text\":\"percentage\"},\"tickformat\":\".1%\"},\"legend\":{\"title\":{\"text\":\"source\"},\"tracegroupgap\":0},\"title\":{\"text\":\"Tour mode choice: transit modes\"},\"barmode\":\"group\",\"height\":400,\"width\":700},                        {\"responsive\": true}                    ).then(function(){\n",
       "                            \n",
       "var gd = document.getElementById('37e4eea2-4190-4cb9-8b6d-d8b840caf0a3');\n",
       "var x = new MutationObserver(function (mutations, observer) {{\n",
       "        var display = window.getComputedStyle(gd).display;\n",
       "        if (!display || display === 'none') {{\n",
       "            console.log([gd, 'removed!']);\n",
       "            Plotly.purge(gd);\n",
       "            observer.disconnect();\n",
       "        }}\n",
       "}});\n",
       "\n",
       "// Listen for the removal of the full notebook cells\n",
       "var notebookContainer = gd.closest('#notebook-container');\n",
       "if (notebookContainer) {{\n",
       "    x.observe(notebookContainer, {childList: true});\n",
       "}}\n",
       "\n",
       "// Listen for the clearing of the current output cell\n",
       "var outputEl = gd.closest('.output');\n",
       "if (outputEl) {{\n",
       "    x.observe(outputEl, {childList: true});\n",
       "}}\n",
       "\n",
       "                        })                };                });            </script>        </div>"
      ]
     },
     "metadata": {},
     "output_type": "display_data"
    }
   ],
   "source": [
    "# show only transit modes\n",
    "df_plot = tour_data.groupby(['source','tour_mode'])['trip_weight_2017_2019'].sum().reset_index()\n",
    "df_plot['percentage'] = df_plot.groupby(['source'], group_keys=False)['trip_weight_2017_2019']. \\\n",
    "    apply(lambda x: x / float(x.sum()))\n",
    "\n",
    "fig = px.bar(df_plot.loc[df_plot['tour_mode'].isin(transit_modes)], x=\"tour_mode\", y=\"percentage\", color=\"source\",barmode=\"group\",\n",
    "             title=\"Tour mode choice: transit modes\")\n",
    "fig.for_each_annotation(lambda a: a.update(text = a.text.split(\"=\")[-1]))\n",
    "fig.update_layout(height=400, width=700, yaxis=dict(tickformat=\".1%\"))\n",
    "fig.show()"
   ]
  },
  {
   "cell_type": "raw",
   "metadata": {
    "collapsed": false
   },
   "source": [
    ":::"
   ]
  },
  {
   "cell_type": "markdown",
   "metadata": {
    "collapsed": false
   },
   "source": [
    "## Tour mode choice by segments"
   ]
  },
  {
   "cell_type": "code",
   "execution_count": 5,
   "metadata": {
    "collapsed": false,
    "execution": {
     "iopub.execute_input": "2024-02-09T22:44:13.610789Z",
     "iopub.status.busy": "2024-02-09T22:44:13.609792Z",
     "iopub.status.idle": "2024-02-09T22:44:13.656264Z",
     "shell.execute_reply": "2024-02-09T22:44:13.655263Z"
    }
   },
   "outputs": [],
   "source": [
    "def plot_mode_choice(df: pd.DataFrame, grp_var: str, n_nol: int, height: int):\n",
    "    df_plot = df.groupby(['source',grp_var,'tour_mode_transit_agg'])['trip_weight_2017_2019'].sum().reset_index()\n",
    "    df_plot['percentage'] = df_plot.groupby(['source',grp_var], group_keys=False)['trip_weight_2017_2019']. \\\n",
    "        apply(lambda x: x / float(x.sum()))\n",
    "\n",
    "    fig = px.bar(df_plot,\n",
    "                 x=\"percentage\", y=\"tour_mode_transit_agg\", color=\"source\",barmode=\"group\",\n",
    "                 facet_col=grp_var, facet_col_wrap=n_nol, orientation='h',\n",
    "                 category_orders={\"tour_mode_transit_agg\": tour_mode_ordered},\n",
    "                 title=\"Tour mode choice by \" + grp_var)\n",
    "    fig.for_each_annotation(lambda a: a.update(text = a.text.split(\"=\")[-1]))\n",
    "    fig.update_layout(height=height, width=700, xaxis1=dict(tickformat=\".0%\"), xaxis2=dict(tickformat=\".0%\")\n",
    "                      )\n",
    "    fig.show()\n",
    "def plot_mode_choice_transit(df: pd.DataFrame,  grp_var: str, n_nol: int, height: int):\n",
    "    df_plot = df.groupby(['source',grp_var,'tour_mode'])['trip_weight_2017_2019'].sum().reset_index()\n",
    "    df_plot['percentage'] = df_plot.groupby(['source',grp_var], group_keys=False)['trip_weight_2017_2019']. \\\n",
    "        apply(lambda x: x / float(x.sum()))\n",
    "\n",
    "    fig = px.bar(df_plot.loc[df_plot['tour_mode'].isin(transit_modes)],\n",
    "                 x=\"percentage\", y=\"tour_mode\", color=\"source\",barmode=\"group\",\n",
    "                 facet_col=grp_var, facet_col_wrap=n_nol, orientation='h',\n",
    "                 category_orders={grp_var: pd.Series(df_plot[grp_var].unique()).sort_values().to_list()},\n",
    "                 # color_discrete_sequence=config['psrc_color'],\n",
    "                 title=\"Tour mode choice by \" + grp_var + \": disaggregated transit modes\")\n",
    "    fig.for_each_annotation(lambda a: a.update(text = a.text.split(\"=\")[-1]))\n",
    "    fig.update_layout(height=height, width=700, xaxis1=dict(tickformat=\".1%\"), xaxis2=dict(tickformat=\".1%\")\n",
    "                      )\n",
    "    fig.show()"
   ]
  },
  {
   "cell_type": "raw",
   "metadata": {
    "collapsed": false
   },
   "source": [
    "::: {.panel-tabset}\n",
    "\n",
    "### tour type"
   ]
  },
  {
   "cell_type": "code",
   "execution_count": 6,
   "metadata": {
    "collapsed": false,
    "execution": {
     "iopub.execute_input": "2024-02-09T22:44:13.670326Z",
     "iopub.status.busy": "2024-02-09T22:44:13.669299Z",
     "iopub.status.idle": "2024-02-09T22:44:17.414641Z",
     "shell.execute_reply": "2024-02-09T22:44:17.412646Z"
    }
   },
   "outputs": [
    {
     "data": {
      "application/vnd.plotly.v1+json": {
       "config": {
        "plotlyServerURL": "https://plot.ly"
       },
       "data": [
        {
         "alignmentgroup": "True",
         "hovertemplate": "source=model results<br>tour_type=business<br>percentage=%{x}<br>tour_mode_transit_agg=%{y}<extra></extra>",
         "legendgroup": "model results",
         "marker": {
          "color": "#91268F",
          "pattern": {
           "shape": ""
          }
         },
         "name": "model results",
         "offsetgroup": "model results",
         "orientation": "h",
         "showlegend": true,
         "textposition": "auto",
         "type": "bar",
         "x": [
          0.016690430260840394,
          0.001241298330956974,
          0.5176717269143671,
          0.0755850037742179,
          0.06609074897257401,
          0.005468422376918561,
          0.31725236937012496
         ],
         "xaxis": "x10",
         "y": [
          "ALL_TRANSIT",
          "BIKE",
          "DRIVEALONEFREE",
          "SHARED2FREE",
          "SHARED3FREE",
          "TNC",
          "WALK"
         ],
         "yaxis": "y10"
        },
        {
         "alignmentgroup": "True",
         "hovertemplate": "source=model results<br>tour_type=eat<br>percentage=%{x}<br>tour_mode_transit_agg=%{y}<extra></extra>",
         "legendgroup": "model results",
         "marker": {
          "color": "#91268F",
          "pattern": {
           "shape": ""
          }
         },
         "name": "model results",
         "offsetgroup": "model results",
         "orientation": "h",
         "showlegend": false,
         "textposition": "auto",
         "type": "bar",
         "x": [
          0.022691454534046408,
          0.002007832021229871,
          0.41433311557213987,
          0.1019306928865907,
          0.09074736379775522,
          0.006318765478576359,
          0.3619707757096616
         ],
         "xaxis": "x11",
         "y": [
          "ALL_TRANSIT",
          "BIKE",
          "DRIVEALONEFREE",
          "SHARED2FREE",
          "SHARED3FREE",
          "TNC",
          "WALK"
         ],
         "yaxis": "y11"
        },
        {
         "alignmentgroup": "True",
         "hovertemplate": "source=model results<br>tour_type=eatout<br>percentage=%{x}<br>tour_mode_transit_agg=%{y}<extra></extra>",
         "legendgroup": "model results",
         "marker": {
          "color": "#91268F",
          "pattern": {
           "shape": ""
          }
         },
         "name": "model results",
         "offsetgroup": "model results",
         "orientation": "h",
         "showlegend": false,
         "textposition": "auto",
         "type": "bar",
         "x": [
          0.0699012027331805,
          0.009515599861780431,
          0.33137398425337283,
          0.3361819445115313,
          0.15745140950519623,
          0.00959362703753107,
          0.08598223209740764
         ],
         "xaxis": "x12",
         "y": [
          "ALL_TRANSIT",
          "BIKE",
          "DRIVEALONEFREE",
          "SHARED2FREE",
          "SHARED3FREE",
          "TNC",
          "WALK"
         ],
         "yaxis": "y12"
        },
        {
         "alignmentgroup": "True",
         "hovertemplate": "source=model results<br>tour_type=escort<br>percentage=%{x}<br>tour_mode_transit_agg=%{y}<extra></extra>",
         "legendgroup": "model results",
         "marker": {
          "color": "#91268F",
          "pattern": {
           "shape": ""
          }
         },
         "name": "model results",
         "offsetgroup": "model results",
         "orientation": "h",
         "showlegend": false,
         "textposition": "auto",
         "type": "bar",
         "x": [
          0.005932904802790863,
          0.01406647638054131,
          0.6495467167908168,
          0.2736329953047285,
          0.00011602812521755274,
          0.05670487859590498
         ],
         "xaxis": "x7",
         "y": [
          "ALL_TRANSIT",
          "BIKE",
          "SHARED2FREE",
          "SHARED3FREE",
          "TNC",
          "WALK"
         ],
         "yaxis": "y7"
        },
        {
         "alignmentgroup": "True",
         "hovertemplate": "source=model results<br>tour_type=maint<br>percentage=%{x}<br>tour_mode_transit_agg=%{y}<extra></extra>",
         "legendgroup": "model results",
         "marker": {
          "color": "#91268F",
          "pattern": {
           "shape": ""
          }
         },
         "name": "model results",
         "offsetgroup": "model results",
         "orientation": "h",
         "showlegend": false,
         "textposition": "auto",
         "type": "bar",
         "x": [
          0.016519131233976685,
          0.0015962850094325932,
          0.5129395830310066,
          0.0737435302084845,
          0.06266627968848257,
          0.004692110482271562,
          0.32784308034634546
         ],
         "xaxis": "x8",
         "y": [
          "ALL_TRANSIT",
          "BIKE",
          "DRIVEALONEFREE",
          "SHARED2FREE",
          "SHARED3FREE",
          "TNC",
          "WALK"
         ],
         "yaxis": "y8"
        },
        {
         "alignmentgroup": "True",
         "hovertemplate": "source=model results<br>tour_type=othdiscr<br>percentage=%{x}<br>tour_mode_transit_agg=%{y}<extra></extra>",
         "legendgroup": "model results",
         "marker": {
          "color": "#91268F",
          "pattern": {
           "shape": ""
          }
         },
         "name": "model results",
         "offsetgroup": "model results",
         "orientation": "h",
         "showlegend": false,
         "textposition": "auto",
         "type": "bar",
         "x": [
          0.06920305640269446,
          0.022607996246523005,
          0.3579191661918965,
          0.2563440463822514,
          0.12907269010355574,
          0.005948590770468179,
          0.15890445390261068
         ],
         "xaxis": "x9",
         "y": [
          "ALL_TRANSIT",
          "BIKE",
          "DRIVEALONEFREE",
          "SHARED2FREE",
          "SHARED3FREE",
          "TNC",
          "WALK"
         ],
         "yaxis": "y9"
        },
        {
         "alignmentgroup": "True",
         "hovertemplate": "source=model results<br>tour_type=othmaint<br>percentage=%{x}<br>tour_mode_transit_agg=%{y}<extra></extra>",
         "legendgroup": "model results",
         "marker": {
          "color": "#91268F",
          "pattern": {
           "shape": ""
          }
         },
         "name": "model results",
         "offsetgroup": "model results",
         "orientation": "h",
         "showlegend": false,
         "textposition": "auto",
         "type": "bar",
         "x": [
          0.08291050812559747,
          0.008299629874745692,
          0.540927028948207,
          0.21176802215849205,
          0.09088903595852636,
          0.00652253842194279,
          0.05868323651248866
         ],
         "xaxis": "x4",
         "y": [
          "ALL_TRANSIT",
          "BIKE",
          "DRIVEALONEFREE",
          "SHARED2FREE",
          "SHARED3FREE",
          "TNC",
          "WALK"
         ],
         "yaxis": "y4"
        },
        {
         "alignmentgroup": "True",
         "hovertemplate": "source=model results<br>tour_type=school<br>percentage=%{x}<br>tour_mode_transit_agg=%{y}<extra></extra>",
         "legendgroup": "model results",
         "marker": {
          "color": "#91268F",
          "pattern": {
           "shape": ""
          }
         },
         "name": "model results",
         "offsetgroup": "model results",
         "orientation": "h",
         "showlegend": false,
         "textposition": "auto",
         "type": "bar",
         "x": [
          0.09432708070158713,
          0.026122812174755893,
          0.07465419847934725,
          0.18570792979891473,
          0.2679190468245582,
          0.23687172438632312,
          0.003046866930966814,
          0.11135034070354687
         ],
         "xaxis": "x5",
         "y": [
          "ALL_TRANSIT",
          "BIKE",
          "DRIVEALONEFREE",
          "SCH_BUS",
          "SHARED2FREE",
          "SHARED3FREE",
          "TNC",
          "WALK"
         ],
         "yaxis": "y5"
        },
        {
         "alignmentgroup": "True",
         "hovertemplate": "source=model results<br>tour_type=shopping<br>percentage=%{x}<br>tour_mode_transit_agg=%{y}<extra></extra>",
         "legendgroup": "model results",
         "marker": {
          "color": "#91268F",
          "pattern": {
           "shape": ""
          }
         },
         "name": "model results",
         "offsetgroup": "model results",
         "orientation": "h",
         "showlegend": false,
         "textposition": "auto",
         "type": "bar",
         "x": [
          0.06401598335617456,
          0.00814303562681285,
          0.5754820049645273,
          0.2136494229149811,
          0.06764994028257076,
          0.006747794307855732,
          0.0643118185470777
         ],
         "xaxis": "x6",
         "y": [
          "ALL_TRANSIT",
          "BIKE",
          "DRIVEALONEFREE",
          "SHARED2FREE",
          "SHARED3FREE",
          "TNC",
          "WALK"
         ],
         "yaxis": "y6"
        },
        {
         "alignmentgroup": "True",
         "hovertemplate": "source=model results<br>tour_type=social<br>percentage=%{x}<br>tour_mode_transit_agg=%{y}<extra></extra>",
         "legendgroup": "model results",
         "marker": {
          "color": "#91268F",
          "pattern": {
           "shape": ""
          }
         },
         "name": "model results",
         "offsetgroup": "model results",
         "orientation": "h",
         "showlegend": false,
         "textposition": "auto",
         "type": "bar",
         "x": [
          0.09677438174191554,
          0.01714029018312924,
          0.3995589496467513,
          0.28299564200246197,
          0.13142250406921457,
          0.005915675372938411,
          0.06619255698358896
         ],
         "xaxis": "x",
         "y": [
          "ALL_TRANSIT",
          "BIKE",
          "DRIVEALONEFREE",
          "SHARED2FREE",
          "SHARED3FREE",
          "TNC",
          "WALK"
         ],
         "yaxis": "y"
        },
        {
         "alignmentgroup": "True",
         "hovertemplate": "source=model results<br>tour_type=work<br>percentage=%{x}<br>tour_mode_transit_agg=%{y}<extra></extra>",
         "legendgroup": "model results",
         "marker": {
          "color": "#91268F",
          "pattern": {
           "shape": ""
          }
         },
         "name": "model results",
         "offsetgroup": "model results",
         "orientation": "h",
         "showlegend": false,
         "textposition": "auto",
         "type": "bar",
         "x": [
          0.19459072707059905,
          0.022936517400687025,
          0.5207073368697612,
          0.14369770850242922,
          0.06841410827008666,
          0.00877439308203923,
          0.040879208804397583
         ],
         "xaxis": "x2",
         "y": [
          "ALL_TRANSIT",
          "BIKE",
          "DRIVEALONEFREE",
          "SHARED2FREE",
          "SHARED3FREE",
          "TNC",
          "WALK"
         ],
         "yaxis": "y2"
        },
        {
         "alignmentgroup": "True",
         "hovertemplate": "source=survey data<br>tour_type=business<br>percentage=%{x}<br>tour_mode_transit_agg=%{y}<extra></extra>",
         "legendgroup": "survey data",
         "marker": {
          "color": "#00A7A0",
          "pattern": {
           "shape": ""
          }
         },
         "name": "survey data",
         "offsetgroup": "survey data",
         "orientation": "h",
         "showlegend": true,
         "textposition": "auto",
         "type": "bar",
         "x": [
          0.005331517271279194,
          0.0008008217923615089,
          0.42443143930485866,
          0.0008450394009786195,
          0.28254734352188626,
          0.1344230798137811,
          0.15162075889485477
         ],
         "xaxis": "x10",
         "y": [
          "ALL_TRANSIT",
          "BIKE",
          "DRIVEALONEFREE",
          "Other",
          "SHARED2FREE",
          "SHARED3FREE",
          "WALK"
         ],
         "yaxis": "y10"
        },
        {
         "alignmentgroup": "True",
         "hovertemplate": "source=survey data<br>tour_type=eat<br>percentage=%{x}<br>tour_mode_transit_agg=%{y}<extra></extra>",
         "legendgroup": "survey data",
         "marker": {
          "color": "#00A7A0",
          "pattern": {
           "shape": ""
          }
         },
         "name": "survey data",
         "offsetgroup": "survey data",
         "orientation": "h",
         "showlegend": false,
         "textposition": "auto",
         "type": "bar",
         "x": [
          9.894558460707909e-05,
          0.00044139973670012715,
          0.28266166061618053,
          0.00024831429626348187,
          0.1018951045060247,
          0.12831136577142127,
          0.0051903015441834436,
          0.4811529079446193
         ],
         "xaxis": "x11",
         "y": [
          "ALL_TRANSIT",
          "BIKE",
          "DRIVEALONEFREE",
          "Other",
          "SHARED2FREE",
          "SHARED3FREE",
          "TNC",
          "WALK"
         ],
         "yaxis": "y11"
        },
        {
         "alignmentgroup": "True",
         "hovertemplate": "source=survey data<br>tour_type=eatout<br>percentage=%{x}<br>tour_mode_transit_agg=%{y}<extra></extra>",
         "legendgroup": "survey data",
         "marker": {
          "color": "#00A7A0",
          "pattern": {
           "shape": ""
          }
         },
         "name": "survey data",
         "offsetgroup": "survey data",
         "orientation": "h",
         "showlegend": false,
         "textposition": "auto",
         "type": "bar",
         "x": [
          0.02658047193718083,
          0.0036383981302630973,
          0.34530906747329504,
          0.37671985006146436,
          0.11121425017608103,
          0.005243217912347525,
          0.1312947443093681
         ],
         "xaxis": "x12",
         "y": [
          "ALL_TRANSIT",
          "BIKE",
          "DRIVEALONEFREE",
          "SHARED2FREE",
          "SHARED3FREE",
          "TNC",
          "WALK"
         ],
         "yaxis": "y12"
        },
        {
         "alignmentgroup": "True",
         "hovertemplate": "source=survey data<br>tour_type=escort<br>percentage=%{x}<br>tour_mode_transit_agg=%{y}<extra></extra>",
         "legendgroup": "survey data",
         "marker": {
          "color": "#00A7A0",
          "pattern": {
           "shape": ""
          }
         },
         "name": "survey data",
         "offsetgroup": "survey data",
         "orientation": "h",
         "showlegend": false,
         "textposition": "auto",
         "type": "bar",
         "x": [
          0.000875091436223993,
          0.005478332491211031,
          0.06248327229089747,
          0.6118095921618818,
          0.2753532774293184,
          0.044000434190467265
         ],
         "xaxis": "x7",
         "y": [
          "ALL_TRANSIT",
          "BIKE",
          "DRIVEALONEFREE",
          "SHARED2FREE",
          "SHARED3FREE",
          "WALK"
         ],
         "yaxis": "y7"
        },
        {
         "alignmentgroup": "True",
         "hovertemplate": "source=survey data<br>tour_type=maint<br>percentage=%{x}<br>tour_mode_transit_agg=%{y}<extra></extra>",
         "legendgroup": "survey data",
         "marker": {
          "color": "#00A7A0",
          "pattern": {
           "shape": ""
          }
         },
         "name": "survey data",
         "offsetgroup": "survey data",
         "orientation": "h",
         "showlegend": false,
         "textposition": "auto",
         "type": "bar",
         "x": [
          0.00741195255545645,
          0.0019389982238605258,
          0.683429834652159,
          0.002959857709856226,
          0.023693395915961014,
          2.7378105082017667e-05,
          0.2805385828376248
         ],
         "xaxis": "x8",
         "y": [
          "ALL_TRANSIT",
          "BIKE",
          "DRIVEALONEFREE",
          "Other",
          "SHARED2FREE",
          "SHARED3FREE",
          "WALK"
         ],
         "yaxis": "y8"
        },
        {
         "alignmentgroup": "True",
         "hovertemplate": "source=survey data<br>tour_type=othdiscr<br>percentage=%{x}<br>tour_mode_transit_agg=%{y}<extra></extra>",
         "legendgroup": "survey data",
         "marker": {
          "color": "#00A7A0",
          "pattern": {
           "shape": ""
          }
         },
         "name": "survey data",
         "offsetgroup": "survey data",
         "orientation": "h",
         "showlegend": false,
         "textposition": "auto",
         "type": "bar",
         "x": [
          0.015944990042469107,
          0.02131199827638532,
          0.2603287777558467,
          0.0019559097423301,
          0.0009737279994872324,
          0.25408674649905777,
          0.13100445670526303,
          0.0006144820839508626,
          0.31377891089520993
         ],
         "xaxis": "x9",
         "y": [
          "ALL_TRANSIT",
          "BIKE",
          "DRIVEALONEFREE",
          "Other",
          "SCH_BUS",
          "SHARED2FREE",
          "SHARED3FREE",
          "TNC",
          "WALK"
         ],
         "yaxis": "y9"
        },
        {
         "alignmentgroup": "True",
         "hovertemplate": "source=survey data<br>tour_type=othmaint<br>percentage=%{x}<br>tour_mode_transit_agg=%{y}<extra></extra>",
         "legendgroup": "survey data",
         "marker": {
          "color": "#00A7A0",
          "pattern": {
           "shape": ""
          }
         },
         "name": "survey data",
         "offsetgroup": "survey data",
         "orientation": "h",
         "showlegend": false,
         "textposition": "auto",
         "type": "bar",
         "x": [
          0.08329367366913691,
          0.01893933046328545,
          0.471058860845908,
          0.0011272626010420147,
          0.24205872949785096,
          0.10461034764041706,
          0.0010323383109099836,
          0.07787945697144955
         ],
         "xaxis": "x4",
         "y": [
          "ALL_TRANSIT",
          "BIKE",
          "DRIVEALONEFREE",
          "Other",
          "SHARED2FREE",
          "SHARED3FREE",
          "TNC",
          "WALK"
         ],
         "yaxis": "y4"
        },
        {
         "alignmentgroup": "True",
         "hovertemplate": "source=survey data<br>tour_type=school<br>percentage=%{x}<br>tour_mode_transit_agg=%{y}<extra></extra>",
         "legendgroup": "survey data",
         "marker": {
          "color": "#00A7A0",
          "pattern": {
           "shape": ""
          }
         },
         "name": "survey data",
         "offsetgroup": "survey data",
         "orientation": "h",
         "showlegend": false,
         "textposition": "auto",
         "type": "bar",
         "x": [
          0.10435933027387852,
          0.011374849818253338,
          0.09035239994919261,
          0.009380930035471371,
          0.24792561836094543,
          0.1632965738486768,
          0.2892262067377942,
          0.005266495468093331,
          0.07881759550769439
         ],
         "xaxis": "x5",
         "y": [
          "ALL_TRANSIT",
          "BIKE",
          "DRIVEALONEFREE",
          "Other",
          "SCH_BUS",
          "SHARED2FREE",
          "SHARED3FREE",
          "TNC",
          "WALK"
         ],
         "yaxis": "y5"
        },
        {
         "alignmentgroup": "True",
         "hovertemplate": "source=survey data<br>tour_type=shopping<br>percentage=%{x}<br>tour_mode_transit_agg=%{y}<extra></extra>",
         "legendgroup": "survey data",
         "marker": {
          "color": "#00A7A0",
          "pattern": {
           "shape": ""
          }
         },
         "name": "survey data",
         "offsetgroup": "survey data",
         "orientation": "h",
         "showlegend": false,
         "textposition": "auto",
         "type": "bar",
         "x": [
          0.06499351005481026,
          0.001063979689952512,
          0.4480752094207278,
          0.006970347386001331,
          0.25853596878893725,
          0.14582405837254667,
          0.0027400603189232237,
          0.07179686596810092
         ],
         "xaxis": "x6",
         "y": [
          "ALL_TRANSIT",
          "BIKE",
          "DRIVEALONEFREE",
          "Other",
          "SHARED2FREE",
          "SHARED3FREE",
          "TNC",
          "WALK"
         ],
         "yaxis": "y6"
        },
        {
         "alignmentgroup": "True",
         "hovertemplate": "source=survey data<br>tour_type=social<br>percentage=%{x}<br>tour_mode_transit_agg=%{y}<extra></extra>",
         "legendgroup": "survey data",
         "marker": {
          "color": "#00A7A0",
          "pattern": {
           "shape": ""
          }
         },
         "name": "survey data",
         "offsetgroup": "survey data",
         "orientation": "h",
         "showlegend": false,
         "textposition": "auto",
         "type": "bar",
         "x": [
          0.036061016066737166,
          0.007823122267678645,
          0.5643324790403704,
          0.005605571743999991,
          0.24459230665235257,
          0.08165989808599082,
          0.016600580929139706,
          0.043325025213730654
         ],
         "xaxis": "x",
         "y": [
          "ALL_TRANSIT",
          "BIKE",
          "DRIVEALONEFREE",
          "Other",
          "SHARED2FREE",
          "SHARED3FREE",
          "TNC",
          "WALK"
         ],
         "yaxis": "y"
        },
        {
         "alignmentgroup": "True",
         "hovertemplate": "source=survey data<br>tour_type=work<br>percentage=%{x}<br>tour_mode_transit_agg=%{y}<extra></extra>",
         "legendgroup": "survey data",
         "marker": {
          "color": "#00A7A0",
          "pattern": {
           "shape": ""
          }
         },
         "name": "survey data",
         "offsetgroup": "survey data",
         "orientation": "h",
         "showlegend": false,
         "textposition": "auto",
         "type": "bar",
         "x": [
          0.10295644640808493,
          0.011870726758346,
          0.6431329595376722,
          0.0032630058332786083,
          0.00028684441069403674,
          0.10470995036903594,
          0.09868554072156904,
          0.004230975707521923,
          0.03086355025379727
         ],
         "xaxis": "x2",
         "y": [
          "ALL_TRANSIT",
          "BIKE",
          "DRIVEALONEFREE",
          "Other",
          "SCH_BUS",
          "SHARED2FREE",
          "SHARED3FREE",
          "TNC",
          "WALK"
         ],
         "yaxis": "y2"
        },
        {
         "alignmentgroup": "True",
         "hovertemplate": "source=unweighted survey<br>tour_type=business<br>percentage=%{x}<br>tour_mode_transit_agg=%{y}<extra></extra>",
         "legendgroup": "unweighted survey",
         "marker": {
          "color": "#8CC63E",
          "pattern": {
           "shape": ""
          }
         },
         "name": "unweighted survey",
         "offsetgroup": "unweighted survey",
         "orientation": "h",
         "showlegend": true,
         "textposition": "auto",
         "type": "bar",
         "x": [
          0.046357615894039736,
          0.013245033112582781,
          0.2980132450331126,
          0.019867549668874173,
          0.13245033112582782,
          0.09933774834437085,
          0.39072847682119205
         ],
         "xaxis": "x10",
         "y": [
          "ALL_TRANSIT",
          "BIKE",
          "DRIVEALONEFREE",
          "Other",
          "SHARED2FREE",
          "SHARED3FREE",
          "WALK"
         ],
         "yaxis": "y10"
        },
        {
         "alignmentgroup": "True",
         "hovertemplate": "source=unweighted survey<br>tour_type=eat<br>percentage=%{x}<br>tour_mode_transit_agg=%{y}<extra></extra>",
         "legendgroup": "unweighted survey",
         "marker": {
          "color": "#8CC63E",
          "pattern": {
           "shape": ""
          }
         },
         "name": "unweighted survey",
         "offsetgroup": "unweighted survey",
         "orientation": "h",
         "showlegend": false,
         "textposition": "auto",
         "type": "bar",
         "x": [
          0.0056657223796034,
          0.0084985835694051,
          0.13031161473087818,
          0.0028328611898017,
          0.05099150141643059,
          0.07932011331444759,
          0.0084985835694051,
          0.7138810198300283
         ],
         "xaxis": "x11",
         "y": [
          "ALL_TRANSIT",
          "BIKE",
          "DRIVEALONEFREE",
          "Other",
          "SHARED2FREE",
          "SHARED3FREE",
          "TNC",
          "WALK"
         ],
         "yaxis": "y11"
        },
        {
         "alignmentgroup": "True",
         "hovertemplate": "source=unweighted survey<br>tour_type=eatout<br>percentage=%{x}<br>tour_mode_transit_agg=%{y}<extra></extra>",
         "legendgroup": "unweighted survey",
         "marker": {
          "color": "#8CC63E",
          "pattern": {
           "shape": ""
          }
         },
         "name": "unweighted survey",
         "offsetgroup": "unweighted survey",
         "orientation": "h",
         "showlegend": false,
         "textposition": "auto",
         "type": "bar",
         "x": [
          0.07349397590361446,
          0.014457831325301205,
          0.25421686746987954,
          0.23012048192771084,
          0.1,
          0.027710843373493974,
          0.3
         ],
         "xaxis": "x12",
         "y": [
          "ALL_TRANSIT",
          "BIKE",
          "DRIVEALONEFREE",
          "SHARED2FREE",
          "SHARED3FREE",
          "TNC",
          "WALK"
         ],
         "yaxis": "y12"
        },
        {
         "alignmentgroup": "True",
         "hovertemplate": "source=unweighted survey<br>tour_type=escort<br>percentage=%{x}<br>tour_mode_transit_agg=%{y}<extra></extra>",
         "legendgroup": "unweighted survey",
         "marker": {
          "color": "#8CC63E",
          "pattern": {
           "shape": ""
          }
         },
         "name": "unweighted survey",
         "offsetgroup": "unweighted survey",
         "orientation": "h",
         "showlegend": false,
         "textposition": "auto",
         "type": "bar",
         "x": [
          0.013927576601671309,
          0.018105849582172703,
          0.0403899721448468,
          0.5724233983286908,
          0.24373259052924792,
          0.11142061281337047
         ],
         "xaxis": "x7",
         "y": [
          "ALL_TRANSIT",
          "BIKE",
          "DRIVEALONEFREE",
          "SHARED2FREE",
          "SHARED3FREE",
          "WALK"
         ],
         "yaxis": "y7"
        },
        {
         "alignmentgroup": "True",
         "hovertemplate": "source=unweighted survey<br>tour_type=maint<br>percentage=%{x}<br>tour_mode_transit_agg=%{y}<extra></extra>",
         "legendgroup": "unweighted survey",
         "marker": {
          "color": "#8CC63E",
          "pattern": {
           "shape": ""
          }
         },
         "name": "unweighted survey",
         "offsetgroup": "unweighted survey",
         "orientation": "h",
         "showlegend": false,
         "textposition": "auto",
         "type": "bar",
         "x": [
          0.029585798816568046,
          0.01775147928994083,
          0.33136094674556216,
          0.01775147928994083,
          0.05325443786982249,
          0.005917159763313609,
          0.5443786982248521
         ],
         "xaxis": "x8",
         "y": [
          "ALL_TRANSIT",
          "BIKE",
          "DRIVEALONEFREE",
          "Other",
          "SHARED2FREE",
          "SHARED3FREE",
          "WALK"
         ],
         "yaxis": "y8"
        },
        {
         "alignmentgroup": "True",
         "hovertemplate": "source=unweighted survey<br>tour_type=othdiscr<br>percentage=%{x}<br>tour_mode_transit_agg=%{y}<extra></extra>",
         "legendgroup": "unweighted survey",
         "marker": {
          "color": "#8CC63E",
          "pattern": {
           "shape": ""
          }
         },
         "name": "unweighted survey",
         "offsetgroup": "unweighted survey",
         "orientation": "h",
         "showlegend": false,
         "textposition": "auto",
         "type": "bar",
         "x": [
          0.059318075665576835,
          0.028958430639887903,
          0.2751050910789351,
          0.0014012143858010276,
          0.0014012143858010276,
          0.14759458197104158,
          0.07706679121905652,
          0.007473143390938813,
          0.40168145726296123
         ],
         "xaxis": "x9",
         "y": [
          "ALL_TRANSIT",
          "BIKE",
          "DRIVEALONEFREE",
          "Other",
          "SCH_BUS",
          "SHARED2FREE",
          "SHARED3FREE",
          "TNC",
          "WALK"
         ],
         "yaxis": "y9"
        },
        {
         "alignmentgroup": "True",
         "hovertemplate": "source=unweighted survey<br>tour_type=othmaint<br>percentage=%{x}<br>tour_mode_transit_agg=%{y}<extra></extra>",
         "legendgroup": "unweighted survey",
         "marker": {
          "color": "#8CC63E",
          "pattern": {
           "shape": ""
          }
         },
         "name": "unweighted survey",
         "offsetgroup": "unweighted survey",
         "orientation": "h",
         "showlegend": false,
         "textposition": "auto",
         "type": "bar",
         "x": [
          0.11070110701107011,
          0.015682656826568265,
          0.4732472324723247,
          0.007380073800738007,
          0.1752767527675277,
          0.058118081180811805,
          0.012915129151291513,
          0.1466789667896679
         ],
         "xaxis": "x4",
         "y": [
          "ALL_TRANSIT",
          "BIKE",
          "DRIVEALONEFREE",
          "Other",
          "SHARED2FREE",
          "SHARED3FREE",
          "TNC",
          "WALK"
         ],
         "yaxis": "y4"
        },
        {
         "alignmentgroup": "True",
         "hovertemplate": "source=unweighted survey<br>tour_type=school<br>percentage=%{x}<br>tour_mode_transit_agg=%{y}<extra></extra>",
         "legendgroup": "unweighted survey",
         "marker": {
          "color": "#8CC63E",
          "pattern": {
           "shape": ""
          }
         },
         "name": "unweighted survey",
         "offsetgroup": "unweighted survey",
         "orientation": "h",
         "showlegend": false,
         "textposition": "auto",
         "type": "bar",
         "x": [
          0.1893048128342246,
          0.0481283422459893,
          0.07379679144385026,
          0.0053475935828877,
          0.15828877005347594,
          0.20427807486631017,
          0.18502673796791444,
          0.0074866310160427805,
          0.12834224598930483
         ],
         "xaxis": "x5",
         "y": [
          "ALL_TRANSIT",
          "BIKE",
          "DRIVEALONEFREE",
          "Other",
          "SCH_BUS",
          "SHARED2FREE",
          "SHARED3FREE",
          "TNC",
          "WALK"
         ],
         "yaxis": "y5"
        },
        {
         "alignmentgroup": "True",
         "hovertemplate": "source=unweighted survey<br>tour_type=shopping<br>percentage=%{x}<br>tour_mode_transit_agg=%{y}<extra></extra>",
         "legendgroup": "unweighted survey",
         "marker": {
          "color": "#8CC63E",
          "pattern": {
           "shape": ""
          }
         },
         "name": "unweighted survey",
         "offsetgroup": "unweighted survey",
         "orientation": "h",
         "showlegend": false,
         "textposition": "auto",
         "type": "bar",
         "x": [
          0.06629055007052186,
          0.014104372355430184,
          0.43370944992947813,
          0.0014104372355430183,
          0.17912552891396333,
          0.06064880112834979,
          0.0021156558533145277,
          0.24259520451339917
         ],
         "xaxis": "x6",
         "y": [
          "ALL_TRANSIT",
          "BIKE",
          "DRIVEALONEFREE",
          "Other",
          "SHARED2FREE",
          "SHARED3FREE",
          "TNC",
          "WALK"
         ],
         "yaxis": "y6"
        },
        {
         "alignmentgroup": "True",
         "hovertemplate": "source=unweighted survey<br>tour_type=social<br>percentage=%{x}<br>tour_mode_transit_agg=%{y}<extra></extra>",
         "legendgroup": "unweighted survey",
         "marker": {
          "color": "#8CC63E",
          "pattern": {
           "shape": ""
          }
         },
         "name": "unweighted survey",
         "offsetgroup": "unweighted survey",
         "orientation": "h",
         "showlegend": false,
         "textposition": "auto",
         "type": "bar",
         "x": [
          0.1066066066066066,
          0.02702702702702703,
          0.38288288288288286,
          0.0045045045045045045,
          0.21021021021021022,
          0.1066066066066066,
          0.021021021021021023,
          0.14114114114114115
         ],
         "xaxis": "x",
         "y": [
          "ALL_TRANSIT",
          "BIKE",
          "DRIVEALONEFREE",
          "Other",
          "SHARED2FREE",
          "SHARED3FREE",
          "TNC",
          "WALK"
         ],
         "yaxis": "y"
        },
        {
         "alignmentgroup": "True",
         "hovertemplate": "source=unweighted survey<br>tour_type=work<br>percentage=%{x}<br>tour_mode_transit_agg=%{y}<extra></extra>",
         "legendgroup": "unweighted survey",
         "marker": {
          "color": "#8CC63E",
          "pattern": {
           "shape": ""
          }
         },
         "name": "unweighted survey",
         "offsetgroup": "unweighted survey",
         "orientation": "h",
         "showlegend": false,
         "textposition": "auto",
         "type": "bar",
         "x": [
          0.3001605136436597,
          0.04851079008382379,
          0.40413768503656144,
          0.004637060816836098,
          0.0003566969859104691,
          0.0934546103085429,
          0.04565721419654004,
          0.013197788478687356,
          0.0898876404494382
         ],
         "xaxis": "x2",
         "y": [
          "ALL_TRANSIT",
          "BIKE",
          "DRIVEALONEFREE",
          "Other",
          "SCH_BUS",
          "SHARED2FREE",
          "SHARED3FREE",
          "TNC",
          "WALK"
         ],
         "yaxis": "y2"
        }
       ],
       "layout": {
        "annotations": [
         {
          "font": {},
          "showarrow": false,
          "text": "social",
          "x": 0.15999999999999998,
          "xanchor": "center",
          "xref": "paper",
          "y": 0.1975,
          "yanchor": "bottom",
          "yref": "paper"
         },
         {
          "font": {},
          "showarrow": false,
          "text": "work",
          "x": 0.49999999999999994,
          "xanchor": "center",
          "xref": "paper",
          "y": 0.1975,
          "yanchor": "bottom",
          "yref": "paper"
         },
         {
          "font": {},
          "showarrow": false,
          "text": "othmaint",
          "x": 0.15999999999999998,
          "xanchor": "center",
          "xref": "paper",
          "y": 0.465,
          "yanchor": "bottom",
          "yref": "paper"
         },
         {
          "font": {},
          "showarrow": false,
          "text": "school",
          "x": 0.49999999999999994,
          "xanchor": "center",
          "xref": "paper",
          "y": 0.465,
          "yanchor": "bottom",
          "yref": "paper"
         },
         {
          "font": {},
          "showarrow": false,
          "text": "shopping",
          "x": 0.8399999999999999,
          "xanchor": "center",
          "xref": "paper",
          "y": 0.465,
          "yanchor": "bottom",
          "yref": "paper"
         },
         {
          "font": {},
          "showarrow": false,
          "text": "escort",
          "x": 0.15999999999999998,
          "xanchor": "center",
          "xref": "paper",
          "y": 0.7325,
          "yanchor": "bottom",
          "yref": "paper"
         },
         {
          "font": {},
          "showarrow": false,
          "text": "maint",
          "x": 0.49999999999999994,
          "xanchor": "center",
          "xref": "paper",
          "y": 0.7325,
          "yanchor": "bottom",
          "yref": "paper"
         },
         {
          "font": {},
          "showarrow": false,
          "text": "othdiscr",
          "x": 0.8399999999999999,
          "xanchor": "center",
          "xref": "paper",
          "y": 0.7325,
          "yanchor": "bottom",
          "yref": "paper"
         },
         {
          "font": {},
          "showarrow": false,
          "text": "business",
          "x": 0.15999999999999998,
          "xanchor": "center",
          "xref": "paper",
          "y": 1.0,
          "yanchor": "bottom",
          "yref": "paper"
         },
         {
          "font": {},
          "showarrow": false,
          "text": "eat",
          "x": 0.49999999999999994,
          "xanchor": "center",
          "xref": "paper",
          "y": 1.0,
          "yanchor": "bottom",
          "yref": "paper"
         },
         {
          "font": {},
          "showarrow": false,
          "text": "eatout",
          "x": 0.8399999999999999,
          "xanchor": "center",
          "xref": "paper",
          "y": 1.0,
          "yanchor": "bottom",
          "yref": "paper"
         }
        ],
        "barmode": "group",
        "height": 1200,
        "legend": {
         "title": {
          "text": "source"
         },
         "tracegroupgap": 0
        },
        "template": {
         "data": {
          "bar": [
           {
            "error_x": {
             "color": "rgb(36,36,36)"
            },
            "error_y": {
             "color": "rgb(36,36,36)"
            },
            "marker": {
             "line": {
              "color": "white",
              "width": 0.5
             },
             "pattern": {
              "fillmode": "overlay",
              "size": 10,
              "solidity": 0.2
             }
            },
            "type": "bar"
           }
          ],
          "barpolar": [
           {
            "marker": {
             "line": {
              "color": "white",
              "width": 0.5
             },
             "pattern": {
              "fillmode": "overlay",
              "size": 10,
              "solidity": 0.2
             }
            },
            "type": "barpolar"
           }
          ],
          "carpet": [
           {
            "aaxis": {
             "endlinecolor": "rgb(36,36,36)",
             "gridcolor": "white",
             "linecolor": "white",
             "minorgridcolor": "white",
             "startlinecolor": "rgb(36,36,36)"
            },
            "baxis": {
             "endlinecolor": "rgb(36,36,36)",
             "gridcolor": "white",
             "linecolor": "white",
             "minorgridcolor": "white",
             "startlinecolor": "rgb(36,36,36)"
            },
            "type": "carpet"
           }
          ],
          "choropleth": [
           {
            "colorbar": {
             "outlinewidth": 1,
             "tickcolor": "rgb(36,36,36)",
             "ticks": "outside"
            },
            "type": "choropleth"
           }
          ],
          "contour": [
           {
            "colorbar": {
             "outlinewidth": 1,
             "tickcolor": "rgb(36,36,36)",
             "ticks": "outside"
            },
            "colorscale": [
             [
              0.0,
              "#440154"
             ],
             [
              0.1111111111111111,
              "#482878"
             ],
             [
              0.2222222222222222,
              "#3e4989"
             ],
             [
              0.3333333333333333,
              "#31688e"
             ],
             [
              0.4444444444444444,
              "#26828e"
             ],
             [
              0.5555555555555556,
              "#1f9e89"
             ],
             [
              0.6666666666666666,
              "#35b779"
             ],
             [
              0.7777777777777778,
              "#6ece58"
             ],
             [
              0.8888888888888888,
              "#b5de2b"
             ],
             [
              1.0,
              "#fde725"
             ]
            ],
            "type": "contour"
           }
          ],
          "contourcarpet": [
           {
            "colorbar": {
             "outlinewidth": 1,
             "tickcolor": "rgb(36,36,36)",
             "ticks": "outside"
            },
            "type": "contourcarpet"
           }
          ],
          "heatmap": [
           {
            "colorbar": {
             "outlinewidth": 1,
             "tickcolor": "rgb(36,36,36)",
             "ticks": "outside"
            },
            "colorscale": [
             [
              0.0,
              "#440154"
             ],
             [
              0.1111111111111111,
              "#482878"
             ],
             [
              0.2222222222222222,
              "#3e4989"
             ],
             [
              0.3333333333333333,
              "#31688e"
             ],
             [
              0.4444444444444444,
              "#26828e"
             ],
             [
              0.5555555555555556,
              "#1f9e89"
             ],
             [
              0.6666666666666666,
              "#35b779"
             ],
             [
              0.7777777777777778,
              "#6ece58"
             ],
             [
              0.8888888888888888,
              "#b5de2b"
             ],
             [
              1.0,
              "#fde725"
             ]
            ],
            "type": "heatmap"
           }
          ],
          "heatmapgl": [
           {
            "colorbar": {
             "outlinewidth": 1,
             "tickcolor": "rgb(36,36,36)",
             "ticks": "outside"
            },
            "colorscale": [
             [
              0.0,
              "#440154"
             ],
             [
              0.1111111111111111,
              "#482878"
             ],
             [
              0.2222222222222222,
              "#3e4989"
             ],
             [
              0.3333333333333333,
              "#31688e"
             ],
             [
              0.4444444444444444,
              "#26828e"
             ],
             [
              0.5555555555555556,
              "#1f9e89"
             ],
             [
              0.6666666666666666,
              "#35b779"
             ],
             [
              0.7777777777777778,
              "#6ece58"
             ],
             [
              0.8888888888888888,
              "#b5de2b"
             ],
             [
              1.0,
              "#fde725"
             ]
            ],
            "type": "heatmapgl"
           }
          ],
          "histogram": [
           {
            "marker": {
             "line": {
              "color": "white",
              "width": 0.6
             }
            },
            "type": "histogram"
           }
          ],
          "histogram2d": [
           {
            "colorbar": {
             "outlinewidth": 1,
             "tickcolor": "rgb(36,36,36)",
             "ticks": "outside"
            },
            "colorscale": [
             [
              0.0,
              "#440154"
             ],
             [
              0.1111111111111111,
              "#482878"
             ],
             [
              0.2222222222222222,
              "#3e4989"
             ],
             [
              0.3333333333333333,
              "#31688e"
             ],
             [
              0.4444444444444444,
              "#26828e"
             ],
             [
              0.5555555555555556,
              "#1f9e89"
             ],
             [
              0.6666666666666666,
              "#35b779"
             ],
             [
              0.7777777777777778,
              "#6ece58"
             ],
             [
              0.8888888888888888,
              "#b5de2b"
             ],
             [
              1.0,
              "#fde725"
             ]
            ],
            "type": "histogram2d"
           }
          ],
          "histogram2dcontour": [
           {
            "colorbar": {
             "outlinewidth": 1,
             "tickcolor": "rgb(36,36,36)",
             "ticks": "outside"
            },
            "colorscale": [
             [
              0.0,
              "#440154"
             ],
             [
              0.1111111111111111,
              "#482878"
             ],
             [
              0.2222222222222222,
              "#3e4989"
             ],
             [
              0.3333333333333333,
              "#31688e"
             ],
             [
              0.4444444444444444,
              "#26828e"
             ],
             [
              0.5555555555555556,
              "#1f9e89"
             ],
             [
              0.6666666666666666,
              "#35b779"
             ],
             [
              0.7777777777777778,
              "#6ece58"
             ],
             [
              0.8888888888888888,
              "#b5de2b"
             ],
             [
              1.0,
              "#fde725"
             ]
            ],
            "type": "histogram2dcontour"
           }
          ],
          "mesh3d": [
           {
            "colorbar": {
             "outlinewidth": 1,
             "tickcolor": "rgb(36,36,36)",
             "ticks": "outside"
            },
            "type": "mesh3d"
           }
          ],
          "parcoords": [
           {
            "line": {
             "colorbar": {
              "outlinewidth": 1,
              "tickcolor": "rgb(36,36,36)",
              "ticks": "outside"
             }
            },
            "type": "parcoords"
           }
          ],
          "pie": [
           {
            "automargin": true,
            "type": "pie"
           }
          ],
          "scatter": [
           {
            "fillpattern": {
             "fillmode": "overlay",
             "size": 10,
             "solidity": 0.2
            },
            "type": "scatter"
           }
          ],
          "scatter3d": [
           {
            "line": {
             "colorbar": {
              "outlinewidth": 1,
              "tickcolor": "rgb(36,36,36)",
              "ticks": "outside"
             }
            },
            "marker": {
             "colorbar": {
              "outlinewidth": 1,
              "tickcolor": "rgb(36,36,36)",
              "ticks": "outside"
             }
            },
            "type": "scatter3d"
           }
          ],
          "scattercarpet": [
           {
            "marker": {
             "colorbar": {
              "outlinewidth": 1,
              "tickcolor": "rgb(36,36,36)",
              "ticks": "outside"
             }
            },
            "type": "scattercarpet"
           }
          ],
          "scattergeo": [
           {
            "marker": {
             "colorbar": {
              "outlinewidth": 1,
              "tickcolor": "rgb(36,36,36)",
              "ticks": "outside"
             }
            },
            "type": "scattergeo"
           }
          ],
          "scattergl": [
           {
            "marker": {
             "colorbar": {
              "outlinewidth": 1,
              "tickcolor": "rgb(36,36,36)",
              "ticks": "outside"
             }
            },
            "type": "scattergl"
           }
          ],
          "scattermapbox": [
           {
            "marker": {
             "colorbar": {
              "outlinewidth": 1,
              "tickcolor": "rgb(36,36,36)",
              "ticks": "outside"
             }
            },
            "type": "scattermapbox"
           }
          ],
          "scatterpolar": [
           {
            "marker": {
             "colorbar": {
              "outlinewidth": 1,
              "tickcolor": "rgb(36,36,36)",
              "ticks": "outside"
             }
            },
            "type": "scatterpolar"
           }
          ],
          "scatterpolargl": [
           {
            "marker": {
             "colorbar": {
              "outlinewidth": 1,
              "tickcolor": "rgb(36,36,36)",
              "ticks": "outside"
             }
            },
            "type": "scatterpolargl"
           }
          ],
          "scatterternary": [
           {
            "marker": {
             "colorbar": {
              "outlinewidth": 1,
              "tickcolor": "rgb(36,36,36)",
              "ticks": "outside"
             }
            },
            "type": "scatterternary"
           }
          ],
          "surface": [
           {
            "colorbar": {
             "outlinewidth": 1,
             "tickcolor": "rgb(36,36,36)",
             "ticks": "outside"
            },
            "colorscale": [
             [
              0.0,
              "#440154"
             ],
             [
              0.1111111111111111,
              "#482878"
             ],
             [
              0.2222222222222222,
              "#3e4989"
             ],
             [
              0.3333333333333333,
              "#31688e"
             ],
             [
              0.4444444444444444,
              "#26828e"
             ],
             [
              0.5555555555555556,
              "#1f9e89"
             ],
             [
              0.6666666666666666,
              "#35b779"
             ],
             [
              0.7777777777777778,
              "#6ece58"
             ],
             [
              0.8888888888888888,
              "#b5de2b"
             ],
             [
              1.0,
              "#fde725"
             ]
            ],
            "type": "surface"
           }
          ],
          "table": [
           {
            "cells": {
             "fill": {
              "color": "rgb(237,237,237)"
             },
             "line": {
              "color": "white"
             }
            },
            "header": {
             "fill": {
              "color": "rgb(217,217,217)"
             },
             "line": {
              "color": "white"
             }
            },
            "type": "table"
           }
          ]
         },
         "layout": {
          "annotationdefaults": {
           "arrowhead": 0,
           "arrowwidth": 1
          },
          "autotypenumbers": "strict",
          "coloraxis": {
           "colorbar": {
            "outlinewidth": 1,
            "tickcolor": "rgb(36,36,36)",
            "ticks": "outside"
           }
          },
          "colorscale": {
           "diverging": [
            [
             0.0,
             "rgb(103,0,31)"
            ],
            [
             0.1,
             "rgb(178,24,43)"
            ],
            [
             0.2,
             "rgb(214,96,77)"
            ],
            [
             0.3,
             "rgb(244,165,130)"
            ],
            [
             0.4,
             "rgb(253,219,199)"
            ],
            [
             0.5,
             "rgb(247,247,247)"
            ],
            [
             0.6,
             "rgb(209,229,240)"
            ],
            [
             0.7,
             "rgb(146,197,222)"
            ],
            [
             0.8,
             "rgb(67,147,195)"
            ],
            [
             0.9,
             "rgb(33,102,172)"
            ],
            [
             1.0,
             "rgb(5,48,97)"
            ]
           ],
           "sequential": [
            [
             0.0,
             "#440154"
            ],
            [
             0.1111111111111111,
             "#482878"
            ],
            [
             0.2222222222222222,
             "#3e4989"
            ],
            [
             0.3333333333333333,
             "#31688e"
            ],
            [
             0.4444444444444444,
             "#26828e"
            ],
            [
             0.5555555555555556,
             "#1f9e89"
            ],
            [
             0.6666666666666666,
             "#35b779"
            ],
            [
             0.7777777777777778,
             "#6ece58"
            ],
            [
             0.8888888888888888,
             "#b5de2b"
            ],
            [
             1.0,
             "#fde725"
            ]
           ],
           "sequentialminus": [
            [
             0.0,
             "#440154"
            ],
            [
             0.1111111111111111,
             "#482878"
            ],
            [
             0.2222222222222222,
             "#3e4989"
            ],
            [
             0.3333333333333333,
             "#31688e"
            ],
            [
             0.4444444444444444,
             "#26828e"
            ],
            [
             0.5555555555555556,
             "#1f9e89"
            ],
            [
             0.6666666666666666,
             "#35b779"
            ],
            [
             0.7777777777777778,
             "#6ece58"
            ],
            [
             0.8888888888888888,
             "#b5de2b"
            ],
            [
             1.0,
             "#fde725"
            ]
           ]
          },
          "colorway": [
           "#91268F",
           "#00A7A0",
           "#8CC63E",
           "#F05A28",
           "#4C4C4C",
           "#630460",
           "#9f3913",
           "#588527",
           "#00716c",
           "#3e4040"
          ],
          "font": {
           "color": "rgb(36,36,36)",
           "size": 11
          },
          "geo": {
           "bgcolor": "white",
           "lakecolor": "white",
           "landcolor": "white",
           "showlakes": true,
           "showland": true,
           "subunitcolor": "white"
          },
          "hoverlabel": {
           "align": "left"
          },
          "hovermode": "closest",
          "mapbox": {
           "style": "light"
          },
          "paper_bgcolor": "white",
          "plot_bgcolor": "white",
          "polar": {
           "angularaxis": {
            "gridcolor": "rgb(232,232,232)",
            "linecolor": "rgb(36,36,36)",
            "showgrid": false,
            "showline": true,
            "ticks": "outside"
           },
           "bgcolor": "white",
           "radialaxis": {
            "gridcolor": "rgb(232,232,232)",
            "linecolor": "rgb(36,36,36)",
            "showgrid": false,
            "showline": true,
            "ticks": "outside"
           }
          },
          "scene": {
           "xaxis": {
            "backgroundcolor": "white",
            "gridcolor": "rgb(232,232,232)",
            "gridwidth": 2,
            "linecolor": "rgb(36,36,36)",
            "showbackground": true,
            "showgrid": false,
            "showline": true,
            "ticks": "outside",
            "zeroline": false,
            "zerolinecolor": "rgb(36,36,36)"
           },
           "yaxis": {
            "backgroundcolor": "white",
            "gridcolor": "rgb(232,232,232)",
            "gridwidth": 2,
            "linecolor": "rgb(36,36,36)",
            "showbackground": true,
            "showgrid": false,
            "showline": true,
            "ticks": "outside",
            "zeroline": false,
            "zerolinecolor": "rgb(36,36,36)"
           },
           "zaxis": {
            "backgroundcolor": "white",
            "gridcolor": "rgb(232,232,232)",
            "gridwidth": 2,
            "linecolor": "rgb(36,36,36)",
            "showbackground": true,
            "showgrid": false,
            "showline": true,
            "ticks": "outside",
            "zeroline": false,
            "zerolinecolor": "rgb(36,36,36)"
           }
          },
          "shapedefaults": {
           "fillcolor": "black",
           "line": {
            "width": 0
           },
           "opacity": 0.3
          },
          "ternary": {
           "aaxis": {
            "gridcolor": "rgb(232,232,232)",
            "linecolor": "rgb(36,36,36)",
            "showgrid": false,
            "showline": true,
            "ticks": "outside"
           },
           "baxis": {
            "gridcolor": "rgb(232,232,232)",
            "linecolor": "rgb(36,36,36)",
            "showgrid": false,
            "showline": true,
            "ticks": "outside"
           },
           "bgcolor": "white",
           "caxis": {
            "gridcolor": "rgb(232,232,232)",
            "linecolor": "rgb(36,36,36)",
            "showgrid": false,
            "showline": true,
            "ticks": "outside"
           }
          },
          "title": {
           "x": 0.05
          },
          "xaxis": {
           "automargin": true,
           "gridcolor": "rgb(232,232,232)",
           "linecolor": "rgb(36,36,36)",
           "showgrid": false,
           "showline": true,
           "ticks": "outside",
           "title": {
            "standoff": 15
           },
           "zeroline": false,
           "zerolinecolor": "rgb(36,36,36)"
          },
          "yaxis": {
           "automargin": true,
           "gridcolor": "rgb(232,232,232)",
           "linecolor": "rgb(36,36,36)",
           "showgrid": false,
           "showline": true,
           "ticks": "outside",
           "title": {
            "standoff": 15
           },
           "zeroline": false,
           "zerolinecolor": "rgb(36,36,36)"
          }
         }
        },
        "title": {
         "text": "Tour mode choice by tour_type"
        },
        "width": 700,
        "xaxis": {
         "anchor": "y",
         "domain": [
          0.0,
          0.31999999999999995
         ],
         "tickformat": ".0%",
         "title": {
          "text": "percentage"
         }
        },
        "xaxis10": {
         "anchor": "y10",
         "domain": [
          0.0,
          0.31999999999999995
         ],
         "matches": "x",
         "showticklabels": false
        },
        "xaxis11": {
         "anchor": "y11",
         "domain": [
          0.33999999999999997,
          0.6599999999999999
         ],
         "matches": "x",
         "showticklabels": false
        },
        "xaxis12": {
         "anchor": "y12",
         "domain": [
          0.6799999999999999,
          0.9999999999999999
         ],
         "matches": "x",
         "showticklabels": false
        },
        "xaxis2": {
         "anchor": "y2",
         "domain": [
          0.33999999999999997,
          0.6599999999999999
         ],
         "matches": "x",
         "tickformat": ".0%",
         "title": {
          "text": "percentage"
         }
        },
        "xaxis3": {
         "anchor": "y3",
         "domain": [
          0.6799999999999999,
          0.9999999999999999
         ],
         "matches": "x",
         "title": {
          "text": "percentage"
         }
        },
        "xaxis4": {
         "anchor": "y4",
         "domain": [
          0.0,
          0.31999999999999995
         ],
         "matches": "x",
         "showticklabels": false
        },
        "xaxis5": {
         "anchor": "y5",
         "domain": [
          0.33999999999999997,
          0.6599999999999999
         ],
         "matches": "x",
         "showticklabels": false
        },
        "xaxis6": {
         "anchor": "y6",
         "domain": [
          0.6799999999999999,
          0.9999999999999999
         ],
         "matches": "x",
         "showticklabels": false
        },
        "xaxis7": {
         "anchor": "y7",
         "domain": [
          0.0,
          0.31999999999999995
         ],
         "matches": "x",
         "showticklabels": false
        },
        "xaxis8": {
         "anchor": "y8",
         "domain": [
          0.33999999999999997,
          0.6599999999999999
         ],
         "matches": "x",
         "showticklabels": false
        },
        "xaxis9": {
         "anchor": "y9",
         "domain": [
          0.6799999999999999,
          0.9999999999999999
         ],
         "matches": "x",
         "showticklabels": false
        },
        "yaxis": {
         "anchor": "x",
         "categoryarray": [
          "Other",
          "TNC",
          "SCH_BUS",
          "ALL_TRANSIT",
          "WALK",
          "BIKE",
          "SHARED3FREE",
          "SHARED2FREE",
          "DRIVEALONEFREE"
         ],
         "categoryorder": "array",
         "domain": [
          0.0,
          0.1975
         ],
         "title": {
          "text": "tour_mode_transit_agg"
         }
        },
        "yaxis10": {
         "anchor": "x10",
         "categoryarray": [
          "Other",
          "TNC",
          "SCH_BUS",
          "ALL_TRANSIT",
          "WALK",
          "BIKE",
          "SHARED3FREE",
          "SHARED2FREE",
          "DRIVEALONEFREE"
         ],
         "categoryorder": "array",
         "domain": [
          0.8025,
          1.0
         ],
         "matches": "y",
         "title": {
          "text": "tour_mode_transit_agg"
         }
        },
        "yaxis11": {
         "anchor": "x11",
         "domain": [
          0.8025,
          1.0
         ],
         "matches": "y",
         "showticklabels": false
        },
        "yaxis12": {
         "anchor": "x12",
         "domain": [
          0.8025,
          1.0
         ],
         "matches": "y",
         "showticklabels": false
        },
        "yaxis2": {
         "anchor": "x2",
         "domain": [
          0.0,
          0.1975
         ],
         "matches": "y",
         "showticklabels": false
        },
        "yaxis3": {
         "anchor": "x3",
         "domain": [
          0.0,
          0.1975
         ],
         "matches": "y",
         "showticklabels": false
        },
        "yaxis4": {
         "anchor": "x4",
         "categoryarray": [
          "Other",
          "TNC",
          "SCH_BUS",
          "ALL_TRANSIT",
          "WALK",
          "BIKE",
          "SHARED3FREE",
          "SHARED2FREE",
          "DRIVEALONEFREE"
         ],
         "categoryorder": "array",
         "domain": [
          0.2675,
          0.465
         ],
         "matches": "y",
         "title": {
          "text": "tour_mode_transit_agg"
         }
        },
        "yaxis5": {
         "anchor": "x5",
         "domain": [
          0.2675,
          0.465
         ],
         "matches": "y",
         "showticklabels": false
        },
        "yaxis6": {
         "anchor": "x6",
         "domain": [
          0.2675,
          0.465
         ],
         "matches": "y",
         "showticklabels": false
        },
        "yaxis7": {
         "anchor": "x7",
         "categoryarray": [
          "Other",
          "TNC",
          "SCH_BUS",
          "ALL_TRANSIT",
          "WALK",
          "BIKE",
          "SHARED3FREE",
          "SHARED2FREE",
          "DRIVEALONEFREE"
         ],
         "categoryorder": "array",
         "domain": [
          0.535,
          0.7325
         ],
         "matches": "y",
         "title": {
          "text": "tour_mode_transit_agg"
         }
        },
        "yaxis8": {
         "anchor": "x8",
         "domain": [
          0.535,
          0.7325
         ],
         "matches": "y",
         "showticklabels": false
        },
        "yaxis9": {
         "anchor": "x9",
         "domain": [
          0.535,
          0.7325
         ],
         "matches": "y",
         "showticklabels": false
        }
       }
      },
      "text/html": [
       "<div>                            <div id=\"a3368c2c-288f-47dd-a0fa-60f280034eeb\" class=\"plotly-graph-div\" style=\"height:1200px; width:700px;\"></div>            <script type=\"text/javascript\">                require([\"plotly\"], function(Plotly) {                    window.PLOTLYENV=window.PLOTLYENV || {};                                    if (document.getElementById(\"a3368c2c-288f-47dd-a0fa-60f280034eeb\")) {                    Plotly.newPlot(                        \"a3368c2c-288f-47dd-a0fa-60f280034eeb\",                        [{\"alignmentgroup\":\"True\",\"hovertemplate\":\"source=model results<br>tour_type=business<br>percentage=%{x}<br>tour_mode_transit_agg=%{y}<extra></extra>\",\"legendgroup\":\"model results\",\"marker\":{\"color\":\"#91268F\",\"pattern\":{\"shape\":\"\"}},\"name\":\"model results\",\"offsetgroup\":\"model results\",\"orientation\":\"h\",\"showlegend\":true,\"textposition\":\"auto\",\"x\":[0.016690430260840394,0.001241298330956974,0.5176717269143671,0.0755850037742179,0.06609074897257401,0.005468422376918561,0.31725236937012496],\"xaxis\":\"x10\",\"y\":[\"ALL_TRANSIT\",\"BIKE\",\"DRIVEALONEFREE\",\"SHARED2FREE\",\"SHARED3FREE\",\"TNC\",\"WALK\"],\"yaxis\":\"y10\",\"type\":\"bar\"},{\"alignmentgroup\":\"True\",\"hovertemplate\":\"source=model results<br>tour_type=eat<br>percentage=%{x}<br>tour_mode_transit_agg=%{y}<extra></extra>\",\"legendgroup\":\"model results\",\"marker\":{\"color\":\"#91268F\",\"pattern\":{\"shape\":\"\"}},\"name\":\"model results\",\"offsetgroup\":\"model results\",\"orientation\":\"h\",\"showlegend\":false,\"textposition\":\"auto\",\"x\":[0.022691454534046408,0.002007832021229871,0.41433311557213987,0.1019306928865907,0.09074736379775522,0.006318765478576359,0.3619707757096616],\"xaxis\":\"x11\",\"y\":[\"ALL_TRANSIT\",\"BIKE\",\"DRIVEALONEFREE\",\"SHARED2FREE\",\"SHARED3FREE\",\"TNC\",\"WALK\"],\"yaxis\":\"y11\",\"type\":\"bar\"},{\"alignmentgroup\":\"True\",\"hovertemplate\":\"source=model results<br>tour_type=eatout<br>percentage=%{x}<br>tour_mode_transit_agg=%{y}<extra></extra>\",\"legendgroup\":\"model results\",\"marker\":{\"color\":\"#91268F\",\"pattern\":{\"shape\":\"\"}},\"name\":\"model results\",\"offsetgroup\":\"model results\",\"orientation\":\"h\",\"showlegend\":false,\"textposition\":\"auto\",\"x\":[0.0699012027331805,0.009515599861780431,0.33137398425337283,0.3361819445115313,0.15745140950519623,0.00959362703753107,0.08598223209740764],\"xaxis\":\"x12\",\"y\":[\"ALL_TRANSIT\",\"BIKE\",\"DRIVEALONEFREE\",\"SHARED2FREE\",\"SHARED3FREE\",\"TNC\",\"WALK\"],\"yaxis\":\"y12\",\"type\":\"bar\"},{\"alignmentgroup\":\"True\",\"hovertemplate\":\"source=model results<br>tour_type=escort<br>percentage=%{x}<br>tour_mode_transit_agg=%{y}<extra></extra>\",\"legendgroup\":\"model results\",\"marker\":{\"color\":\"#91268F\",\"pattern\":{\"shape\":\"\"}},\"name\":\"model results\",\"offsetgroup\":\"model results\",\"orientation\":\"h\",\"showlegend\":false,\"textposition\":\"auto\",\"x\":[0.005932904802790863,0.01406647638054131,0.6495467167908168,0.2736329953047285,0.00011602812521755274,0.05670487859590498],\"xaxis\":\"x7\",\"y\":[\"ALL_TRANSIT\",\"BIKE\",\"SHARED2FREE\",\"SHARED3FREE\",\"TNC\",\"WALK\"],\"yaxis\":\"y7\",\"type\":\"bar\"},{\"alignmentgroup\":\"True\",\"hovertemplate\":\"source=model results<br>tour_type=maint<br>percentage=%{x}<br>tour_mode_transit_agg=%{y}<extra></extra>\",\"legendgroup\":\"model results\",\"marker\":{\"color\":\"#91268F\",\"pattern\":{\"shape\":\"\"}},\"name\":\"model results\",\"offsetgroup\":\"model results\",\"orientation\":\"h\",\"showlegend\":false,\"textposition\":\"auto\",\"x\":[0.016519131233976685,0.0015962850094325932,0.5129395830310066,0.0737435302084845,0.06266627968848257,0.004692110482271562,0.32784308034634546],\"xaxis\":\"x8\",\"y\":[\"ALL_TRANSIT\",\"BIKE\",\"DRIVEALONEFREE\",\"SHARED2FREE\",\"SHARED3FREE\",\"TNC\",\"WALK\"],\"yaxis\":\"y8\",\"type\":\"bar\"},{\"alignmentgroup\":\"True\",\"hovertemplate\":\"source=model results<br>tour_type=othdiscr<br>percentage=%{x}<br>tour_mode_transit_agg=%{y}<extra></extra>\",\"legendgroup\":\"model results\",\"marker\":{\"color\":\"#91268F\",\"pattern\":{\"shape\":\"\"}},\"name\":\"model results\",\"offsetgroup\":\"model results\",\"orientation\":\"h\",\"showlegend\":false,\"textposition\":\"auto\",\"x\":[0.06920305640269446,0.022607996246523005,0.3579191661918965,0.2563440463822514,0.12907269010355574,0.005948590770468179,0.15890445390261068],\"xaxis\":\"x9\",\"y\":[\"ALL_TRANSIT\",\"BIKE\",\"DRIVEALONEFREE\",\"SHARED2FREE\",\"SHARED3FREE\",\"TNC\",\"WALK\"],\"yaxis\":\"y9\",\"type\":\"bar\"},{\"alignmentgroup\":\"True\",\"hovertemplate\":\"source=model results<br>tour_type=othmaint<br>percentage=%{x}<br>tour_mode_transit_agg=%{y}<extra></extra>\",\"legendgroup\":\"model results\",\"marker\":{\"color\":\"#91268F\",\"pattern\":{\"shape\":\"\"}},\"name\":\"model results\",\"offsetgroup\":\"model results\",\"orientation\":\"h\",\"showlegend\":false,\"textposition\":\"auto\",\"x\":[0.08291050812559747,0.008299629874745692,0.540927028948207,0.21176802215849205,0.09088903595852636,0.00652253842194279,0.05868323651248866],\"xaxis\":\"x4\",\"y\":[\"ALL_TRANSIT\",\"BIKE\",\"DRIVEALONEFREE\",\"SHARED2FREE\",\"SHARED3FREE\",\"TNC\",\"WALK\"],\"yaxis\":\"y4\",\"type\":\"bar\"},{\"alignmentgroup\":\"True\",\"hovertemplate\":\"source=model results<br>tour_type=school<br>percentage=%{x}<br>tour_mode_transit_agg=%{y}<extra></extra>\",\"legendgroup\":\"model results\",\"marker\":{\"color\":\"#91268F\",\"pattern\":{\"shape\":\"\"}},\"name\":\"model results\",\"offsetgroup\":\"model results\",\"orientation\":\"h\",\"showlegend\":false,\"textposition\":\"auto\",\"x\":[0.09432708070158713,0.026122812174755893,0.07465419847934725,0.18570792979891473,0.2679190468245582,0.23687172438632312,0.003046866930966814,0.11135034070354687],\"xaxis\":\"x5\",\"y\":[\"ALL_TRANSIT\",\"BIKE\",\"DRIVEALONEFREE\",\"SCH_BUS\",\"SHARED2FREE\",\"SHARED3FREE\",\"TNC\",\"WALK\"],\"yaxis\":\"y5\",\"type\":\"bar\"},{\"alignmentgroup\":\"True\",\"hovertemplate\":\"source=model results<br>tour_type=shopping<br>percentage=%{x}<br>tour_mode_transit_agg=%{y}<extra></extra>\",\"legendgroup\":\"model results\",\"marker\":{\"color\":\"#91268F\",\"pattern\":{\"shape\":\"\"}},\"name\":\"model results\",\"offsetgroup\":\"model results\",\"orientation\":\"h\",\"showlegend\":false,\"textposition\":\"auto\",\"x\":[0.06401598335617456,0.00814303562681285,0.5754820049645273,0.2136494229149811,0.06764994028257076,0.006747794307855732,0.0643118185470777],\"xaxis\":\"x6\",\"y\":[\"ALL_TRANSIT\",\"BIKE\",\"DRIVEALONEFREE\",\"SHARED2FREE\",\"SHARED3FREE\",\"TNC\",\"WALK\"],\"yaxis\":\"y6\",\"type\":\"bar\"},{\"alignmentgroup\":\"True\",\"hovertemplate\":\"source=model results<br>tour_type=social<br>percentage=%{x}<br>tour_mode_transit_agg=%{y}<extra></extra>\",\"legendgroup\":\"model results\",\"marker\":{\"color\":\"#91268F\",\"pattern\":{\"shape\":\"\"}},\"name\":\"model results\",\"offsetgroup\":\"model results\",\"orientation\":\"h\",\"showlegend\":false,\"textposition\":\"auto\",\"x\":[0.09677438174191554,0.01714029018312924,0.3995589496467513,0.28299564200246197,0.13142250406921457,0.005915675372938411,0.06619255698358896],\"xaxis\":\"x\",\"y\":[\"ALL_TRANSIT\",\"BIKE\",\"DRIVEALONEFREE\",\"SHARED2FREE\",\"SHARED3FREE\",\"TNC\",\"WALK\"],\"yaxis\":\"y\",\"type\":\"bar\"},{\"alignmentgroup\":\"True\",\"hovertemplate\":\"source=model results<br>tour_type=work<br>percentage=%{x}<br>tour_mode_transit_agg=%{y}<extra></extra>\",\"legendgroup\":\"model results\",\"marker\":{\"color\":\"#91268F\",\"pattern\":{\"shape\":\"\"}},\"name\":\"model results\",\"offsetgroup\":\"model results\",\"orientation\":\"h\",\"showlegend\":false,\"textposition\":\"auto\",\"x\":[0.19459072707059905,0.022936517400687025,0.5207073368697612,0.14369770850242922,0.06841410827008666,0.00877439308203923,0.040879208804397583],\"xaxis\":\"x2\",\"y\":[\"ALL_TRANSIT\",\"BIKE\",\"DRIVEALONEFREE\",\"SHARED2FREE\",\"SHARED3FREE\",\"TNC\",\"WALK\"],\"yaxis\":\"y2\",\"type\":\"bar\"},{\"alignmentgroup\":\"True\",\"hovertemplate\":\"source=survey data<br>tour_type=business<br>percentage=%{x}<br>tour_mode_transit_agg=%{y}<extra></extra>\",\"legendgroup\":\"survey data\",\"marker\":{\"color\":\"#00A7A0\",\"pattern\":{\"shape\":\"\"}},\"name\":\"survey data\",\"offsetgroup\":\"survey data\",\"orientation\":\"h\",\"showlegend\":true,\"textposition\":\"auto\",\"x\":[0.005331517271279194,0.0008008217923615089,0.42443143930485866,0.0008450394009786195,0.28254734352188626,0.1344230798137811,0.15162075889485477],\"xaxis\":\"x10\",\"y\":[\"ALL_TRANSIT\",\"BIKE\",\"DRIVEALONEFREE\",\"Other\",\"SHARED2FREE\",\"SHARED3FREE\",\"WALK\"],\"yaxis\":\"y10\",\"type\":\"bar\"},{\"alignmentgroup\":\"True\",\"hovertemplate\":\"source=survey data<br>tour_type=eat<br>percentage=%{x}<br>tour_mode_transit_agg=%{y}<extra></extra>\",\"legendgroup\":\"survey data\",\"marker\":{\"color\":\"#00A7A0\",\"pattern\":{\"shape\":\"\"}},\"name\":\"survey data\",\"offsetgroup\":\"survey data\",\"orientation\":\"h\",\"showlegend\":false,\"textposition\":\"auto\",\"x\":[9.894558460707909e-05,0.00044139973670012715,0.28266166061618053,0.00024831429626348187,0.1018951045060247,0.12831136577142127,0.0051903015441834436,0.4811529079446193],\"xaxis\":\"x11\",\"y\":[\"ALL_TRANSIT\",\"BIKE\",\"DRIVEALONEFREE\",\"Other\",\"SHARED2FREE\",\"SHARED3FREE\",\"TNC\",\"WALK\"],\"yaxis\":\"y11\",\"type\":\"bar\"},{\"alignmentgroup\":\"True\",\"hovertemplate\":\"source=survey data<br>tour_type=eatout<br>percentage=%{x}<br>tour_mode_transit_agg=%{y}<extra></extra>\",\"legendgroup\":\"survey data\",\"marker\":{\"color\":\"#00A7A0\",\"pattern\":{\"shape\":\"\"}},\"name\":\"survey data\",\"offsetgroup\":\"survey data\",\"orientation\":\"h\",\"showlegend\":false,\"textposition\":\"auto\",\"x\":[0.02658047193718083,0.0036383981302630973,0.34530906747329504,0.37671985006146436,0.11121425017608103,0.005243217912347525,0.1312947443093681],\"xaxis\":\"x12\",\"y\":[\"ALL_TRANSIT\",\"BIKE\",\"DRIVEALONEFREE\",\"SHARED2FREE\",\"SHARED3FREE\",\"TNC\",\"WALK\"],\"yaxis\":\"y12\",\"type\":\"bar\"},{\"alignmentgroup\":\"True\",\"hovertemplate\":\"source=survey data<br>tour_type=escort<br>percentage=%{x}<br>tour_mode_transit_agg=%{y}<extra></extra>\",\"legendgroup\":\"survey data\",\"marker\":{\"color\":\"#00A7A0\",\"pattern\":{\"shape\":\"\"}},\"name\":\"survey data\",\"offsetgroup\":\"survey data\",\"orientation\":\"h\",\"showlegend\":false,\"textposition\":\"auto\",\"x\":[0.000875091436223993,0.005478332491211031,0.06248327229089747,0.6118095921618818,0.2753532774293184,0.044000434190467265],\"xaxis\":\"x7\",\"y\":[\"ALL_TRANSIT\",\"BIKE\",\"DRIVEALONEFREE\",\"SHARED2FREE\",\"SHARED3FREE\",\"WALK\"],\"yaxis\":\"y7\",\"type\":\"bar\"},{\"alignmentgroup\":\"True\",\"hovertemplate\":\"source=survey data<br>tour_type=maint<br>percentage=%{x}<br>tour_mode_transit_agg=%{y}<extra></extra>\",\"legendgroup\":\"survey data\",\"marker\":{\"color\":\"#00A7A0\",\"pattern\":{\"shape\":\"\"}},\"name\":\"survey data\",\"offsetgroup\":\"survey data\",\"orientation\":\"h\",\"showlegend\":false,\"textposition\":\"auto\",\"x\":[0.00741195255545645,0.0019389982238605258,0.683429834652159,0.002959857709856226,0.023693395915961014,2.7378105082017667e-05,0.2805385828376248],\"xaxis\":\"x8\",\"y\":[\"ALL_TRANSIT\",\"BIKE\",\"DRIVEALONEFREE\",\"Other\",\"SHARED2FREE\",\"SHARED3FREE\",\"WALK\"],\"yaxis\":\"y8\",\"type\":\"bar\"},{\"alignmentgroup\":\"True\",\"hovertemplate\":\"source=survey data<br>tour_type=othdiscr<br>percentage=%{x}<br>tour_mode_transit_agg=%{y}<extra></extra>\",\"legendgroup\":\"survey data\",\"marker\":{\"color\":\"#00A7A0\",\"pattern\":{\"shape\":\"\"}},\"name\":\"survey data\",\"offsetgroup\":\"survey data\",\"orientation\":\"h\",\"showlegend\":false,\"textposition\":\"auto\",\"x\":[0.015944990042469107,0.02131199827638532,0.2603287777558467,0.0019559097423301,0.0009737279994872324,0.25408674649905777,0.13100445670526303,0.0006144820839508626,0.31377891089520993],\"xaxis\":\"x9\",\"y\":[\"ALL_TRANSIT\",\"BIKE\",\"DRIVEALONEFREE\",\"Other\",\"SCH_BUS\",\"SHARED2FREE\",\"SHARED3FREE\",\"TNC\",\"WALK\"],\"yaxis\":\"y9\",\"type\":\"bar\"},{\"alignmentgroup\":\"True\",\"hovertemplate\":\"source=survey data<br>tour_type=othmaint<br>percentage=%{x}<br>tour_mode_transit_agg=%{y}<extra></extra>\",\"legendgroup\":\"survey data\",\"marker\":{\"color\":\"#00A7A0\",\"pattern\":{\"shape\":\"\"}},\"name\":\"survey data\",\"offsetgroup\":\"survey data\",\"orientation\":\"h\",\"showlegend\":false,\"textposition\":\"auto\",\"x\":[0.08329367366913691,0.01893933046328545,0.471058860845908,0.0011272626010420147,0.24205872949785096,0.10461034764041706,0.0010323383109099836,0.07787945697144955],\"xaxis\":\"x4\",\"y\":[\"ALL_TRANSIT\",\"BIKE\",\"DRIVEALONEFREE\",\"Other\",\"SHARED2FREE\",\"SHARED3FREE\",\"TNC\",\"WALK\"],\"yaxis\":\"y4\",\"type\":\"bar\"},{\"alignmentgroup\":\"True\",\"hovertemplate\":\"source=survey data<br>tour_type=school<br>percentage=%{x}<br>tour_mode_transit_agg=%{y}<extra></extra>\",\"legendgroup\":\"survey data\",\"marker\":{\"color\":\"#00A7A0\",\"pattern\":{\"shape\":\"\"}},\"name\":\"survey data\",\"offsetgroup\":\"survey data\",\"orientation\":\"h\",\"showlegend\":false,\"textposition\":\"auto\",\"x\":[0.10435933027387852,0.011374849818253338,0.09035239994919261,0.009380930035471371,0.24792561836094543,0.1632965738486768,0.2892262067377942,0.005266495468093331,0.07881759550769439],\"xaxis\":\"x5\",\"y\":[\"ALL_TRANSIT\",\"BIKE\",\"DRIVEALONEFREE\",\"Other\",\"SCH_BUS\",\"SHARED2FREE\",\"SHARED3FREE\",\"TNC\",\"WALK\"],\"yaxis\":\"y5\",\"type\":\"bar\"},{\"alignmentgroup\":\"True\",\"hovertemplate\":\"source=survey data<br>tour_type=shopping<br>percentage=%{x}<br>tour_mode_transit_agg=%{y}<extra></extra>\",\"legendgroup\":\"survey data\",\"marker\":{\"color\":\"#00A7A0\",\"pattern\":{\"shape\":\"\"}},\"name\":\"survey data\",\"offsetgroup\":\"survey data\",\"orientation\":\"h\",\"showlegend\":false,\"textposition\":\"auto\",\"x\":[0.06499351005481026,0.001063979689952512,0.4480752094207278,0.006970347386001331,0.25853596878893725,0.14582405837254667,0.0027400603189232237,0.07179686596810092],\"xaxis\":\"x6\",\"y\":[\"ALL_TRANSIT\",\"BIKE\",\"DRIVEALONEFREE\",\"Other\",\"SHARED2FREE\",\"SHARED3FREE\",\"TNC\",\"WALK\"],\"yaxis\":\"y6\",\"type\":\"bar\"},{\"alignmentgroup\":\"True\",\"hovertemplate\":\"source=survey data<br>tour_type=social<br>percentage=%{x}<br>tour_mode_transit_agg=%{y}<extra></extra>\",\"legendgroup\":\"survey data\",\"marker\":{\"color\":\"#00A7A0\",\"pattern\":{\"shape\":\"\"}},\"name\":\"survey data\",\"offsetgroup\":\"survey data\",\"orientation\":\"h\",\"showlegend\":false,\"textposition\":\"auto\",\"x\":[0.036061016066737166,0.007823122267678645,0.5643324790403704,0.005605571743999991,0.24459230665235257,0.08165989808599082,0.016600580929139706,0.043325025213730654],\"xaxis\":\"x\",\"y\":[\"ALL_TRANSIT\",\"BIKE\",\"DRIVEALONEFREE\",\"Other\",\"SHARED2FREE\",\"SHARED3FREE\",\"TNC\",\"WALK\"],\"yaxis\":\"y\",\"type\":\"bar\"},{\"alignmentgroup\":\"True\",\"hovertemplate\":\"source=survey data<br>tour_type=work<br>percentage=%{x}<br>tour_mode_transit_agg=%{y}<extra></extra>\",\"legendgroup\":\"survey data\",\"marker\":{\"color\":\"#00A7A0\",\"pattern\":{\"shape\":\"\"}},\"name\":\"survey data\",\"offsetgroup\":\"survey data\",\"orientation\":\"h\",\"showlegend\":false,\"textposition\":\"auto\",\"x\":[0.10295644640808493,0.011870726758346,0.6431329595376722,0.0032630058332786083,0.00028684441069403674,0.10470995036903594,0.09868554072156904,0.004230975707521923,0.03086355025379727],\"xaxis\":\"x2\",\"y\":[\"ALL_TRANSIT\",\"BIKE\",\"DRIVEALONEFREE\",\"Other\",\"SCH_BUS\",\"SHARED2FREE\",\"SHARED3FREE\",\"TNC\",\"WALK\"],\"yaxis\":\"y2\",\"type\":\"bar\"},{\"alignmentgroup\":\"True\",\"hovertemplate\":\"source=unweighted survey<br>tour_type=business<br>percentage=%{x}<br>tour_mode_transit_agg=%{y}<extra></extra>\",\"legendgroup\":\"unweighted survey\",\"marker\":{\"color\":\"#8CC63E\",\"pattern\":{\"shape\":\"\"}},\"name\":\"unweighted survey\",\"offsetgroup\":\"unweighted survey\",\"orientation\":\"h\",\"showlegend\":true,\"textposition\":\"auto\",\"x\":[0.046357615894039736,0.013245033112582781,0.2980132450331126,0.019867549668874173,0.13245033112582782,0.09933774834437085,0.39072847682119205],\"xaxis\":\"x10\",\"y\":[\"ALL_TRANSIT\",\"BIKE\",\"DRIVEALONEFREE\",\"Other\",\"SHARED2FREE\",\"SHARED3FREE\",\"WALK\"],\"yaxis\":\"y10\",\"type\":\"bar\"},{\"alignmentgroup\":\"True\",\"hovertemplate\":\"source=unweighted survey<br>tour_type=eat<br>percentage=%{x}<br>tour_mode_transit_agg=%{y}<extra></extra>\",\"legendgroup\":\"unweighted survey\",\"marker\":{\"color\":\"#8CC63E\",\"pattern\":{\"shape\":\"\"}},\"name\":\"unweighted survey\",\"offsetgroup\":\"unweighted survey\",\"orientation\":\"h\",\"showlegend\":false,\"textposition\":\"auto\",\"x\":[0.0056657223796034,0.0084985835694051,0.13031161473087818,0.0028328611898017,0.05099150141643059,0.07932011331444759,0.0084985835694051,0.7138810198300283],\"xaxis\":\"x11\",\"y\":[\"ALL_TRANSIT\",\"BIKE\",\"DRIVEALONEFREE\",\"Other\",\"SHARED2FREE\",\"SHARED3FREE\",\"TNC\",\"WALK\"],\"yaxis\":\"y11\",\"type\":\"bar\"},{\"alignmentgroup\":\"True\",\"hovertemplate\":\"source=unweighted survey<br>tour_type=eatout<br>percentage=%{x}<br>tour_mode_transit_agg=%{y}<extra></extra>\",\"legendgroup\":\"unweighted survey\",\"marker\":{\"color\":\"#8CC63E\",\"pattern\":{\"shape\":\"\"}},\"name\":\"unweighted survey\",\"offsetgroup\":\"unweighted survey\",\"orientation\":\"h\",\"showlegend\":false,\"textposition\":\"auto\",\"x\":[0.07349397590361446,0.014457831325301205,0.25421686746987954,0.23012048192771084,0.1,0.027710843373493974,0.3],\"xaxis\":\"x12\",\"y\":[\"ALL_TRANSIT\",\"BIKE\",\"DRIVEALONEFREE\",\"SHARED2FREE\",\"SHARED3FREE\",\"TNC\",\"WALK\"],\"yaxis\":\"y12\",\"type\":\"bar\"},{\"alignmentgroup\":\"True\",\"hovertemplate\":\"source=unweighted survey<br>tour_type=escort<br>percentage=%{x}<br>tour_mode_transit_agg=%{y}<extra></extra>\",\"legendgroup\":\"unweighted survey\",\"marker\":{\"color\":\"#8CC63E\",\"pattern\":{\"shape\":\"\"}},\"name\":\"unweighted survey\",\"offsetgroup\":\"unweighted survey\",\"orientation\":\"h\",\"showlegend\":false,\"textposition\":\"auto\",\"x\":[0.013927576601671309,0.018105849582172703,0.0403899721448468,0.5724233983286908,0.24373259052924792,0.11142061281337047],\"xaxis\":\"x7\",\"y\":[\"ALL_TRANSIT\",\"BIKE\",\"DRIVEALONEFREE\",\"SHARED2FREE\",\"SHARED3FREE\",\"WALK\"],\"yaxis\":\"y7\",\"type\":\"bar\"},{\"alignmentgroup\":\"True\",\"hovertemplate\":\"source=unweighted survey<br>tour_type=maint<br>percentage=%{x}<br>tour_mode_transit_agg=%{y}<extra></extra>\",\"legendgroup\":\"unweighted survey\",\"marker\":{\"color\":\"#8CC63E\",\"pattern\":{\"shape\":\"\"}},\"name\":\"unweighted survey\",\"offsetgroup\":\"unweighted survey\",\"orientation\":\"h\",\"showlegend\":false,\"textposition\":\"auto\",\"x\":[0.029585798816568046,0.01775147928994083,0.33136094674556216,0.01775147928994083,0.05325443786982249,0.005917159763313609,0.5443786982248521],\"xaxis\":\"x8\",\"y\":[\"ALL_TRANSIT\",\"BIKE\",\"DRIVEALONEFREE\",\"Other\",\"SHARED2FREE\",\"SHARED3FREE\",\"WALK\"],\"yaxis\":\"y8\",\"type\":\"bar\"},{\"alignmentgroup\":\"True\",\"hovertemplate\":\"source=unweighted survey<br>tour_type=othdiscr<br>percentage=%{x}<br>tour_mode_transit_agg=%{y}<extra></extra>\",\"legendgroup\":\"unweighted survey\",\"marker\":{\"color\":\"#8CC63E\",\"pattern\":{\"shape\":\"\"}},\"name\":\"unweighted survey\",\"offsetgroup\":\"unweighted survey\",\"orientation\":\"h\",\"showlegend\":false,\"textposition\":\"auto\",\"x\":[0.059318075665576835,0.028958430639887903,0.2751050910789351,0.0014012143858010276,0.0014012143858010276,0.14759458197104158,0.07706679121905652,0.007473143390938813,0.40168145726296123],\"xaxis\":\"x9\",\"y\":[\"ALL_TRANSIT\",\"BIKE\",\"DRIVEALONEFREE\",\"Other\",\"SCH_BUS\",\"SHARED2FREE\",\"SHARED3FREE\",\"TNC\",\"WALK\"],\"yaxis\":\"y9\",\"type\":\"bar\"},{\"alignmentgroup\":\"True\",\"hovertemplate\":\"source=unweighted survey<br>tour_type=othmaint<br>percentage=%{x}<br>tour_mode_transit_agg=%{y}<extra></extra>\",\"legendgroup\":\"unweighted survey\",\"marker\":{\"color\":\"#8CC63E\",\"pattern\":{\"shape\":\"\"}},\"name\":\"unweighted survey\",\"offsetgroup\":\"unweighted survey\",\"orientation\":\"h\",\"showlegend\":false,\"textposition\":\"auto\",\"x\":[0.11070110701107011,0.015682656826568265,0.4732472324723247,0.007380073800738007,0.1752767527675277,0.058118081180811805,0.012915129151291513,0.1466789667896679],\"xaxis\":\"x4\",\"y\":[\"ALL_TRANSIT\",\"BIKE\",\"DRIVEALONEFREE\",\"Other\",\"SHARED2FREE\",\"SHARED3FREE\",\"TNC\",\"WALK\"],\"yaxis\":\"y4\",\"type\":\"bar\"},{\"alignmentgroup\":\"True\",\"hovertemplate\":\"source=unweighted survey<br>tour_type=school<br>percentage=%{x}<br>tour_mode_transit_agg=%{y}<extra></extra>\",\"legendgroup\":\"unweighted survey\",\"marker\":{\"color\":\"#8CC63E\",\"pattern\":{\"shape\":\"\"}},\"name\":\"unweighted survey\",\"offsetgroup\":\"unweighted survey\",\"orientation\":\"h\",\"showlegend\":false,\"textposition\":\"auto\",\"x\":[0.1893048128342246,0.0481283422459893,0.07379679144385026,0.0053475935828877,0.15828877005347594,0.20427807486631017,0.18502673796791444,0.0074866310160427805,0.12834224598930483],\"xaxis\":\"x5\",\"y\":[\"ALL_TRANSIT\",\"BIKE\",\"DRIVEALONEFREE\",\"Other\",\"SCH_BUS\",\"SHARED2FREE\",\"SHARED3FREE\",\"TNC\",\"WALK\"],\"yaxis\":\"y5\",\"type\":\"bar\"},{\"alignmentgroup\":\"True\",\"hovertemplate\":\"source=unweighted survey<br>tour_type=shopping<br>percentage=%{x}<br>tour_mode_transit_agg=%{y}<extra></extra>\",\"legendgroup\":\"unweighted survey\",\"marker\":{\"color\":\"#8CC63E\",\"pattern\":{\"shape\":\"\"}},\"name\":\"unweighted survey\",\"offsetgroup\":\"unweighted survey\",\"orientation\":\"h\",\"showlegend\":false,\"textposition\":\"auto\",\"x\":[0.06629055007052186,0.014104372355430184,0.43370944992947813,0.0014104372355430183,0.17912552891396333,0.06064880112834979,0.0021156558533145277,0.24259520451339917],\"xaxis\":\"x6\",\"y\":[\"ALL_TRANSIT\",\"BIKE\",\"DRIVEALONEFREE\",\"Other\",\"SHARED2FREE\",\"SHARED3FREE\",\"TNC\",\"WALK\"],\"yaxis\":\"y6\",\"type\":\"bar\"},{\"alignmentgroup\":\"True\",\"hovertemplate\":\"source=unweighted survey<br>tour_type=social<br>percentage=%{x}<br>tour_mode_transit_agg=%{y}<extra></extra>\",\"legendgroup\":\"unweighted survey\",\"marker\":{\"color\":\"#8CC63E\",\"pattern\":{\"shape\":\"\"}},\"name\":\"unweighted survey\",\"offsetgroup\":\"unweighted survey\",\"orientation\":\"h\",\"showlegend\":false,\"textposition\":\"auto\",\"x\":[0.1066066066066066,0.02702702702702703,0.38288288288288286,0.0045045045045045045,0.21021021021021022,0.1066066066066066,0.021021021021021023,0.14114114114114115],\"xaxis\":\"x\",\"y\":[\"ALL_TRANSIT\",\"BIKE\",\"DRIVEALONEFREE\",\"Other\",\"SHARED2FREE\",\"SHARED3FREE\",\"TNC\",\"WALK\"],\"yaxis\":\"y\",\"type\":\"bar\"},{\"alignmentgroup\":\"True\",\"hovertemplate\":\"source=unweighted survey<br>tour_type=work<br>percentage=%{x}<br>tour_mode_transit_agg=%{y}<extra></extra>\",\"legendgroup\":\"unweighted survey\",\"marker\":{\"color\":\"#8CC63E\",\"pattern\":{\"shape\":\"\"}},\"name\":\"unweighted survey\",\"offsetgroup\":\"unweighted survey\",\"orientation\":\"h\",\"showlegend\":false,\"textposition\":\"auto\",\"x\":[0.3001605136436597,0.04851079008382379,0.40413768503656144,0.004637060816836098,0.0003566969859104691,0.0934546103085429,0.04565721419654004,0.013197788478687356,0.0898876404494382],\"xaxis\":\"x2\",\"y\":[\"ALL_TRANSIT\",\"BIKE\",\"DRIVEALONEFREE\",\"Other\",\"SCH_BUS\",\"SHARED2FREE\",\"SHARED3FREE\",\"TNC\",\"WALK\"],\"yaxis\":\"y2\",\"type\":\"bar\"}],                        {\"template\":{\"data\":{\"barpolar\":[{\"marker\":{\"line\":{\"color\":\"white\",\"width\":0.5},\"pattern\":{\"fillmode\":\"overlay\",\"size\":10,\"solidity\":0.2}},\"type\":\"barpolar\"}],\"bar\":[{\"error_x\":{\"color\":\"rgb(36,36,36)\"},\"error_y\":{\"color\":\"rgb(36,36,36)\"},\"marker\":{\"line\":{\"color\":\"white\",\"width\":0.5},\"pattern\":{\"fillmode\":\"overlay\",\"size\":10,\"solidity\":0.2}},\"type\":\"bar\"}],\"carpet\":[{\"aaxis\":{\"endlinecolor\":\"rgb(36,36,36)\",\"gridcolor\":\"white\",\"linecolor\":\"white\",\"minorgridcolor\":\"white\",\"startlinecolor\":\"rgb(36,36,36)\"},\"baxis\":{\"endlinecolor\":\"rgb(36,36,36)\",\"gridcolor\":\"white\",\"linecolor\":\"white\",\"minorgridcolor\":\"white\",\"startlinecolor\":\"rgb(36,36,36)\"},\"type\":\"carpet\"}],\"choropleth\":[{\"colorbar\":{\"outlinewidth\":1,\"tickcolor\":\"rgb(36,36,36)\",\"ticks\":\"outside\"},\"type\":\"choropleth\"}],\"contourcarpet\":[{\"colorbar\":{\"outlinewidth\":1,\"tickcolor\":\"rgb(36,36,36)\",\"ticks\":\"outside\"},\"type\":\"contourcarpet\"}],\"contour\":[{\"colorbar\":{\"outlinewidth\":1,\"tickcolor\":\"rgb(36,36,36)\",\"ticks\":\"outside\"},\"colorscale\":[[0.0,\"#440154\"],[0.1111111111111111,\"#482878\"],[0.2222222222222222,\"#3e4989\"],[0.3333333333333333,\"#31688e\"],[0.4444444444444444,\"#26828e\"],[0.5555555555555556,\"#1f9e89\"],[0.6666666666666666,\"#35b779\"],[0.7777777777777778,\"#6ece58\"],[0.8888888888888888,\"#b5de2b\"],[1.0,\"#fde725\"]],\"type\":\"contour\"}],\"heatmapgl\":[{\"colorbar\":{\"outlinewidth\":1,\"tickcolor\":\"rgb(36,36,36)\",\"ticks\":\"outside\"},\"colorscale\":[[0.0,\"#440154\"],[0.1111111111111111,\"#482878\"],[0.2222222222222222,\"#3e4989\"],[0.3333333333333333,\"#31688e\"],[0.4444444444444444,\"#26828e\"],[0.5555555555555556,\"#1f9e89\"],[0.6666666666666666,\"#35b779\"],[0.7777777777777778,\"#6ece58\"],[0.8888888888888888,\"#b5de2b\"],[1.0,\"#fde725\"]],\"type\":\"heatmapgl\"}],\"heatmap\":[{\"colorbar\":{\"outlinewidth\":1,\"tickcolor\":\"rgb(36,36,36)\",\"ticks\":\"outside\"},\"colorscale\":[[0.0,\"#440154\"],[0.1111111111111111,\"#482878\"],[0.2222222222222222,\"#3e4989\"],[0.3333333333333333,\"#31688e\"],[0.4444444444444444,\"#26828e\"],[0.5555555555555556,\"#1f9e89\"],[0.6666666666666666,\"#35b779\"],[0.7777777777777778,\"#6ece58\"],[0.8888888888888888,\"#b5de2b\"],[1.0,\"#fde725\"]],\"type\":\"heatmap\"}],\"histogram2dcontour\":[{\"colorbar\":{\"outlinewidth\":1,\"tickcolor\":\"rgb(36,36,36)\",\"ticks\":\"outside\"},\"colorscale\":[[0.0,\"#440154\"],[0.1111111111111111,\"#482878\"],[0.2222222222222222,\"#3e4989\"],[0.3333333333333333,\"#31688e\"],[0.4444444444444444,\"#26828e\"],[0.5555555555555556,\"#1f9e89\"],[0.6666666666666666,\"#35b779\"],[0.7777777777777778,\"#6ece58\"],[0.8888888888888888,\"#b5de2b\"],[1.0,\"#fde725\"]],\"type\":\"histogram2dcontour\"}],\"histogram2d\":[{\"colorbar\":{\"outlinewidth\":1,\"tickcolor\":\"rgb(36,36,36)\",\"ticks\":\"outside\"},\"colorscale\":[[0.0,\"#440154\"],[0.1111111111111111,\"#482878\"],[0.2222222222222222,\"#3e4989\"],[0.3333333333333333,\"#31688e\"],[0.4444444444444444,\"#26828e\"],[0.5555555555555556,\"#1f9e89\"],[0.6666666666666666,\"#35b779\"],[0.7777777777777778,\"#6ece58\"],[0.8888888888888888,\"#b5de2b\"],[1.0,\"#fde725\"]],\"type\":\"histogram2d\"}],\"histogram\":[{\"marker\":{\"line\":{\"color\":\"white\",\"width\":0.6}},\"type\":\"histogram\"}],\"mesh3d\":[{\"colorbar\":{\"outlinewidth\":1,\"tickcolor\":\"rgb(36,36,36)\",\"ticks\":\"outside\"},\"type\":\"mesh3d\"}],\"parcoords\":[{\"line\":{\"colorbar\":{\"outlinewidth\":1,\"tickcolor\":\"rgb(36,36,36)\",\"ticks\":\"outside\"}},\"type\":\"parcoords\"}],\"pie\":[{\"automargin\":true,\"type\":\"pie\"}],\"scatter3d\":[{\"line\":{\"colorbar\":{\"outlinewidth\":1,\"tickcolor\":\"rgb(36,36,36)\",\"ticks\":\"outside\"}},\"marker\":{\"colorbar\":{\"outlinewidth\":1,\"tickcolor\":\"rgb(36,36,36)\",\"ticks\":\"outside\"}},\"type\":\"scatter3d\"}],\"scattercarpet\":[{\"marker\":{\"colorbar\":{\"outlinewidth\":1,\"tickcolor\":\"rgb(36,36,36)\",\"ticks\":\"outside\"}},\"type\":\"scattercarpet\"}],\"scattergeo\":[{\"marker\":{\"colorbar\":{\"outlinewidth\":1,\"tickcolor\":\"rgb(36,36,36)\",\"ticks\":\"outside\"}},\"type\":\"scattergeo\"}],\"scattergl\":[{\"marker\":{\"colorbar\":{\"outlinewidth\":1,\"tickcolor\":\"rgb(36,36,36)\",\"ticks\":\"outside\"}},\"type\":\"scattergl\"}],\"scattermapbox\":[{\"marker\":{\"colorbar\":{\"outlinewidth\":1,\"tickcolor\":\"rgb(36,36,36)\",\"ticks\":\"outside\"}},\"type\":\"scattermapbox\"}],\"scatterpolargl\":[{\"marker\":{\"colorbar\":{\"outlinewidth\":1,\"tickcolor\":\"rgb(36,36,36)\",\"ticks\":\"outside\"}},\"type\":\"scatterpolargl\"}],\"scatterpolar\":[{\"marker\":{\"colorbar\":{\"outlinewidth\":1,\"tickcolor\":\"rgb(36,36,36)\",\"ticks\":\"outside\"}},\"type\":\"scatterpolar\"}],\"scatter\":[{\"fillpattern\":{\"fillmode\":\"overlay\",\"size\":10,\"solidity\":0.2},\"type\":\"scatter\"}],\"scatterternary\":[{\"marker\":{\"colorbar\":{\"outlinewidth\":1,\"tickcolor\":\"rgb(36,36,36)\",\"ticks\":\"outside\"}},\"type\":\"scatterternary\"}],\"surface\":[{\"colorbar\":{\"outlinewidth\":1,\"tickcolor\":\"rgb(36,36,36)\",\"ticks\":\"outside\"},\"colorscale\":[[0.0,\"#440154\"],[0.1111111111111111,\"#482878\"],[0.2222222222222222,\"#3e4989\"],[0.3333333333333333,\"#31688e\"],[0.4444444444444444,\"#26828e\"],[0.5555555555555556,\"#1f9e89\"],[0.6666666666666666,\"#35b779\"],[0.7777777777777778,\"#6ece58\"],[0.8888888888888888,\"#b5de2b\"],[1.0,\"#fde725\"]],\"type\":\"surface\"}],\"table\":[{\"cells\":{\"fill\":{\"color\":\"rgb(237,237,237)\"},\"line\":{\"color\":\"white\"}},\"header\":{\"fill\":{\"color\":\"rgb(217,217,217)\"},\"line\":{\"color\":\"white\"}},\"type\":\"table\"}]},\"layout\":{\"annotationdefaults\":{\"arrowhead\":0,\"arrowwidth\":1},\"autotypenumbers\":\"strict\",\"coloraxis\":{\"colorbar\":{\"outlinewidth\":1,\"tickcolor\":\"rgb(36,36,36)\",\"ticks\":\"outside\"}},\"colorscale\":{\"diverging\":[[0.0,\"rgb(103,0,31)\"],[0.1,\"rgb(178,24,43)\"],[0.2,\"rgb(214,96,77)\"],[0.3,\"rgb(244,165,130)\"],[0.4,\"rgb(253,219,199)\"],[0.5,\"rgb(247,247,247)\"],[0.6,\"rgb(209,229,240)\"],[0.7,\"rgb(146,197,222)\"],[0.8,\"rgb(67,147,195)\"],[0.9,\"rgb(33,102,172)\"],[1.0,\"rgb(5,48,97)\"]],\"sequential\":[[0.0,\"#440154\"],[0.1111111111111111,\"#482878\"],[0.2222222222222222,\"#3e4989\"],[0.3333333333333333,\"#31688e\"],[0.4444444444444444,\"#26828e\"],[0.5555555555555556,\"#1f9e89\"],[0.6666666666666666,\"#35b779\"],[0.7777777777777778,\"#6ece58\"],[0.8888888888888888,\"#b5de2b\"],[1.0,\"#fde725\"]],\"sequentialminus\":[[0.0,\"#440154\"],[0.1111111111111111,\"#482878\"],[0.2222222222222222,\"#3e4989\"],[0.3333333333333333,\"#31688e\"],[0.4444444444444444,\"#26828e\"],[0.5555555555555556,\"#1f9e89\"],[0.6666666666666666,\"#35b779\"],[0.7777777777777778,\"#6ece58\"],[0.8888888888888888,\"#b5de2b\"],[1.0,\"#fde725\"]]},\"colorway\":[\"#91268F\",\"#00A7A0\",\"#8CC63E\",\"#F05A28\",\"#4C4C4C\",\"#630460\",\"#9f3913\",\"#588527\",\"#00716c\",\"#3e4040\"],\"font\":{\"color\":\"rgb(36,36,36)\",\"size\":11},\"geo\":{\"bgcolor\":\"white\",\"lakecolor\":\"white\",\"landcolor\":\"white\",\"showlakes\":true,\"showland\":true,\"subunitcolor\":\"white\"},\"hoverlabel\":{\"align\":\"left\"},\"hovermode\":\"closest\",\"mapbox\":{\"style\":\"light\"},\"paper_bgcolor\":\"white\",\"plot_bgcolor\":\"white\",\"polar\":{\"angularaxis\":{\"gridcolor\":\"rgb(232,232,232)\",\"linecolor\":\"rgb(36,36,36)\",\"showgrid\":false,\"showline\":true,\"ticks\":\"outside\"},\"bgcolor\":\"white\",\"radialaxis\":{\"gridcolor\":\"rgb(232,232,232)\",\"linecolor\":\"rgb(36,36,36)\",\"showgrid\":false,\"showline\":true,\"ticks\":\"outside\"}},\"scene\":{\"xaxis\":{\"backgroundcolor\":\"white\",\"gridcolor\":\"rgb(232,232,232)\",\"gridwidth\":2,\"linecolor\":\"rgb(36,36,36)\",\"showbackground\":true,\"showgrid\":false,\"showline\":true,\"ticks\":\"outside\",\"zeroline\":false,\"zerolinecolor\":\"rgb(36,36,36)\"},\"yaxis\":{\"backgroundcolor\":\"white\",\"gridcolor\":\"rgb(232,232,232)\",\"gridwidth\":2,\"linecolor\":\"rgb(36,36,36)\",\"showbackground\":true,\"showgrid\":false,\"showline\":true,\"ticks\":\"outside\",\"zeroline\":false,\"zerolinecolor\":\"rgb(36,36,36)\"},\"zaxis\":{\"backgroundcolor\":\"white\",\"gridcolor\":\"rgb(232,232,232)\",\"gridwidth\":2,\"linecolor\":\"rgb(36,36,36)\",\"showbackground\":true,\"showgrid\":false,\"showline\":true,\"ticks\":\"outside\",\"zeroline\":false,\"zerolinecolor\":\"rgb(36,36,36)\"}},\"shapedefaults\":{\"fillcolor\":\"black\",\"line\":{\"width\":0},\"opacity\":0.3},\"ternary\":{\"aaxis\":{\"gridcolor\":\"rgb(232,232,232)\",\"linecolor\":\"rgb(36,36,36)\",\"showgrid\":false,\"showline\":true,\"ticks\":\"outside\"},\"baxis\":{\"gridcolor\":\"rgb(232,232,232)\",\"linecolor\":\"rgb(36,36,36)\",\"showgrid\":false,\"showline\":true,\"ticks\":\"outside\"},\"bgcolor\":\"white\",\"caxis\":{\"gridcolor\":\"rgb(232,232,232)\",\"linecolor\":\"rgb(36,36,36)\",\"showgrid\":false,\"showline\":true,\"ticks\":\"outside\"}},\"title\":{\"x\":0.05},\"xaxis\":{\"automargin\":true,\"gridcolor\":\"rgb(232,232,232)\",\"linecolor\":\"rgb(36,36,36)\",\"showgrid\":false,\"showline\":true,\"ticks\":\"outside\",\"title\":{\"standoff\":15},\"zeroline\":false,\"zerolinecolor\":\"rgb(36,36,36)\"},\"yaxis\":{\"automargin\":true,\"gridcolor\":\"rgb(232,232,232)\",\"linecolor\":\"rgb(36,36,36)\",\"showgrid\":false,\"showline\":true,\"ticks\":\"outside\",\"title\":{\"standoff\":15},\"zeroline\":false,\"zerolinecolor\":\"rgb(36,36,36)\"}}},\"xaxis\":{\"anchor\":\"y\",\"domain\":[0.0,0.31999999999999995],\"title\":{\"text\":\"percentage\"},\"tickformat\":\".0%\"},\"yaxis\":{\"anchor\":\"x\",\"domain\":[0.0,0.1975],\"title\":{\"text\":\"tour_mode_transit_agg\"},\"categoryorder\":\"array\",\"categoryarray\":[\"Other\",\"TNC\",\"SCH_BUS\",\"ALL_TRANSIT\",\"WALK\",\"BIKE\",\"SHARED3FREE\",\"SHARED2FREE\",\"DRIVEALONEFREE\"]},\"xaxis2\":{\"anchor\":\"y2\",\"domain\":[0.33999999999999997,0.6599999999999999],\"matches\":\"x\",\"title\":{\"text\":\"percentage\"},\"tickformat\":\".0%\"},\"yaxis2\":{\"anchor\":\"x2\",\"domain\":[0.0,0.1975],\"matches\":\"y\",\"showticklabels\":false},\"xaxis3\":{\"anchor\":\"y3\",\"domain\":[0.6799999999999999,0.9999999999999999],\"matches\":\"x\",\"title\":{\"text\":\"percentage\"}},\"yaxis3\":{\"anchor\":\"x3\",\"domain\":[0.0,0.1975],\"matches\":\"y\",\"showticklabels\":false},\"xaxis4\":{\"anchor\":\"y4\",\"domain\":[0.0,0.31999999999999995],\"matches\":\"x\",\"showticklabels\":false},\"yaxis4\":{\"anchor\":\"x4\",\"domain\":[0.2675,0.465],\"matches\":\"y\",\"title\":{\"text\":\"tour_mode_transit_agg\"},\"categoryorder\":\"array\",\"categoryarray\":[\"Other\",\"TNC\",\"SCH_BUS\",\"ALL_TRANSIT\",\"WALK\",\"BIKE\",\"SHARED3FREE\",\"SHARED2FREE\",\"DRIVEALONEFREE\"]},\"xaxis5\":{\"anchor\":\"y5\",\"domain\":[0.33999999999999997,0.6599999999999999],\"matches\":\"x\",\"showticklabels\":false},\"yaxis5\":{\"anchor\":\"x5\",\"domain\":[0.2675,0.465],\"matches\":\"y\",\"showticklabels\":false},\"xaxis6\":{\"anchor\":\"y6\",\"domain\":[0.6799999999999999,0.9999999999999999],\"matches\":\"x\",\"showticklabels\":false},\"yaxis6\":{\"anchor\":\"x6\",\"domain\":[0.2675,0.465],\"matches\":\"y\",\"showticklabels\":false},\"xaxis7\":{\"anchor\":\"y7\",\"domain\":[0.0,0.31999999999999995],\"matches\":\"x\",\"showticklabels\":false},\"yaxis7\":{\"anchor\":\"x7\",\"domain\":[0.535,0.7325],\"matches\":\"y\",\"title\":{\"text\":\"tour_mode_transit_agg\"},\"categoryorder\":\"array\",\"categoryarray\":[\"Other\",\"TNC\",\"SCH_BUS\",\"ALL_TRANSIT\",\"WALK\",\"BIKE\",\"SHARED3FREE\",\"SHARED2FREE\",\"DRIVEALONEFREE\"]},\"xaxis8\":{\"anchor\":\"y8\",\"domain\":[0.33999999999999997,0.6599999999999999],\"matches\":\"x\",\"showticklabels\":false},\"yaxis8\":{\"anchor\":\"x8\",\"domain\":[0.535,0.7325],\"matches\":\"y\",\"showticklabels\":false},\"xaxis9\":{\"anchor\":\"y9\",\"domain\":[0.6799999999999999,0.9999999999999999],\"matches\":\"x\",\"showticklabels\":false},\"yaxis9\":{\"anchor\":\"x9\",\"domain\":[0.535,0.7325],\"matches\":\"y\",\"showticklabels\":false},\"xaxis10\":{\"anchor\":\"y10\",\"domain\":[0.0,0.31999999999999995],\"matches\":\"x\",\"showticklabels\":false},\"yaxis10\":{\"anchor\":\"x10\",\"domain\":[0.8025,1.0],\"matches\":\"y\",\"title\":{\"text\":\"tour_mode_transit_agg\"},\"categoryorder\":\"array\",\"categoryarray\":[\"Other\",\"TNC\",\"SCH_BUS\",\"ALL_TRANSIT\",\"WALK\",\"BIKE\",\"SHARED3FREE\",\"SHARED2FREE\",\"DRIVEALONEFREE\"]},\"xaxis11\":{\"anchor\":\"y11\",\"domain\":[0.33999999999999997,0.6599999999999999],\"matches\":\"x\",\"showticklabels\":false},\"yaxis11\":{\"anchor\":\"x11\",\"domain\":[0.8025,1.0],\"matches\":\"y\",\"showticklabels\":false},\"xaxis12\":{\"anchor\":\"y12\",\"domain\":[0.6799999999999999,0.9999999999999999],\"matches\":\"x\",\"showticklabels\":false},\"yaxis12\":{\"anchor\":\"x12\",\"domain\":[0.8025,1.0],\"matches\":\"y\",\"showticklabels\":false},\"annotations\":[{\"font\":{},\"showarrow\":false,\"text\":\"social\",\"x\":0.15999999999999998,\"xanchor\":\"center\",\"xref\":\"paper\",\"y\":0.1975,\"yanchor\":\"bottom\",\"yref\":\"paper\"},{\"font\":{},\"showarrow\":false,\"text\":\"work\",\"x\":0.49999999999999994,\"xanchor\":\"center\",\"xref\":\"paper\",\"y\":0.1975,\"yanchor\":\"bottom\",\"yref\":\"paper\"},{\"font\":{},\"showarrow\":false,\"text\":\"othmaint\",\"x\":0.15999999999999998,\"xanchor\":\"center\",\"xref\":\"paper\",\"y\":0.465,\"yanchor\":\"bottom\",\"yref\":\"paper\"},{\"font\":{},\"showarrow\":false,\"text\":\"school\",\"x\":0.49999999999999994,\"xanchor\":\"center\",\"xref\":\"paper\",\"y\":0.465,\"yanchor\":\"bottom\",\"yref\":\"paper\"},{\"font\":{},\"showarrow\":false,\"text\":\"shopping\",\"x\":0.8399999999999999,\"xanchor\":\"center\",\"xref\":\"paper\",\"y\":0.465,\"yanchor\":\"bottom\",\"yref\":\"paper\"},{\"font\":{},\"showarrow\":false,\"text\":\"escort\",\"x\":0.15999999999999998,\"xanchor\":\"center\",\"xref\":\"paper\",\"y\":0.7325,\"yanchor\":\"bottom\",\"yref\":\"paper\"},{\"font\":{},\"showarrow\":false,\"text\":\"maint\",\"x\":0.49999999999999994,\"xanchor\":\"center\",\"xref\":\"paper\",\"y\":0.7325,\"yanchor\":\"bottom\",\"yref\":\"paper\"},{\"font\":{},\"showarrow\":false,\"text\":\"othdiscr\",\"x\":0.8399999999999999,\"xanchor\":\"center\",\"xref\":\"paper\",\"y\":0.7325,\"yanchor\":\"bottom\",\"yref\":\"paper\"},{\"font\":{},\"showarrow\":false,\"text\":\"business\",\"x\":0.15999999999999998,\"xanchor\":\"center\",\"xref\":\"paper\",\"y\":1.0,\"yanchor\":\"bottom\",\"yref\":\"paper\"},{\"font\":{},\"showarrow\":false,\"text\":\"eat\",\"x\":0.49999999999999994,\"xanchor\":\"center\",\"xref\":\"paper\",\"y\":1.0,\"yanchor\":\"bottom\",\"yref\":\"paper\"},{\"font\":{},\"showarrow\":false,\"text\":\"eatout\",\"x\":0.8399999999999999,\"xanchor\":\"center\",\"xref\":\"paper\",\"y\":1.0,\"yanchor\":\"bottom\",\"yref\":\"paper\"}],\"legend\":{\"title\":{\"text\":\"source\"},\"tracegroupgap\":0},\"title\":{\"text\":\"Tour mode choice by tour_type\"},\"barmode\":\"group\",\"height\":1200,\"width\":700},                        {\"responsive\": true}                    ).then(function(){\n",
       "                            \n",
       "var gd = document.getElementById('a3368c2c-288f-47dd-a0fa-60f280034eeb');\n",
       "var x = new MutationObserver(function (mutations, observer) {{\n",
       "        var display = window.getComputedStyle(gd).display;\n",
       "        if (!display || display === 'none') {{\n",
       "            console.log([gd, 'removed!']);\n",
       "            Plotly.purge(gd);\n",
       "            observer.disconnect();\n",
       "        }}\n",
       "}});\n",
       "\n",
       "// Listen for the removal of the full notebook cells\n",
       "var notebookContainer = gd.closest('#notebook-container');\n",
       "if (notebookContainer) {{\n",
       "    x.observe(notebookContainer, {childList: true});\n",
       "}}\n",
       "\n",
       "// Listen for the clearing of the current output cell\n",
       "var outputEl = gd.closest('.output');\n",
       "if (outputEl) {{\n",
       "    x.observe(outputEl, {childList: true});\n",
       "}}\n",
       "\n",
       "                        })                };                });            </script>        </div>"
      ]
     },
     "metadata": {},
     "output_type": "display_data"
    },
    {
     "data": {
      "application/vnd.plotly.v1+json": {
       "config": {
        "plotlyServerURL": "https://plot.ly"
       },
       "data": [
        {
         "alignmentgroup": "True",
         "hovertemplate": "source=model results<br>tour_type=business<br>percentage=%{x}<br>tour_mode=%{y}<extra></extra>",
         "legendgroup": "model results",
         "marker": {
          "color": "#91268F",
          "pattern": {
           "shape": ""
          }
         },
         "name": "model results",
         "offsetgroup": "model results",
         "orientation": "h",
         "showlegend": true,
         "textposition": "auto",
         "type": "bar",
         "x": [
          1.6774301769688836e-05,
          0.00025161452654533256,
          0.014945902876792753,
          0.0014761385557326176
         ],
         "xaxis": "x10",
         "y": [
          "WALK_COM",
          "WALK_FRY",
          "WALK_LOC",
          "WALK_LR"
         ],
         "yaxis": "y10"
        },
        {
         "alignmentgroup": "True",
         "hovertemplate": "source=model results<br>tour_type=eat<br>percentage=%{x}<br>tour_mode=%{y}<extra></extra>",
         "legendgroup": "model results",
         "marker": {
          "color": "#91268F",
          "pattern": {
           "shape": ""
          }
         },
         "name": "model results",
         "offsetgroup": "model results",
         "orientation": "h",
         "showlegend": false,
         "textposition": "auto",
         "type": "bar",
         "x": [
          2.583607380259025e-05,
          0.0002251429288511436,
          0.020432643510162805,
          0.002007832021229871
         ],
         "xaxis": "x11",
         "y": [
          "WALK_COM",
          "WALK_FRY",
          "WALK_LOC",
          "WALK_LR"
         ],
         "yaxis": "y11"
        },
        {
         "alignmentgroup": "True",
         "hovertemplate": "source=model results<br>tour_type=eatout<br>percentage=%{x}<br>tour_mode=%{y}<extra></extra>",
         "legendgroup": "model results",
         "marker": {
          "color": "#91268F",
          "pattern": {
           "shape": ""
          }
         },
         "name": "model results",
         "offsetgroup": "model results",
         "orientation": "h",
         "showlegend": false,
         "textposition": "auto",
         "type": "bar",
         "x": [
          0.014888328249181643,
          0.0007654094383158019,
          0.01232829376860112,
          0.034889294299929034,
          0.007029876977152899
         ],
         "xaxis": "x12",
         "y": [
          "DRIVE_TRN",
          "WALK_COM",
          "WALK_FRY",
          "WALK_LOC",
          "WALK_LR"
         ],
         "yaxis": "y12"
        },
        {
         "alignmentgroup": "True",
         "hovertemplate": "source=model results<br>tour_type=escort<br>percentage=%{x}<br>tour_mode=%{y}<extra></extra>",
         "legendgroup": "model results",
         "marker": {
          "color": "#91268F",
          "pattern": {
           "shape": ""
          }
         },
         "name": "model results",
         "offsetgroup": "model results",
         "orientation": "h",
         "showlegend": false,
         "textposition": "auto",
         "type": "bar",
         "x": [
          5.994786469573558e-05,
          0.0007406461993053783,
          0.004701072873397845,
          0.00043123786539190435
         ],
         "xaxis": "x7",
         "y": [
          "WALK_COM",
          "WALK_FRY",
          "WALK_LOC",
          "WALK_LR"
         ],
         "yaxis": "y7"
        },
        {
         "alignmentgroup": "True",
         "hovertemplate": "source=model results<br>tour_type=maint<br>percentage=%{x}<br>tour_mode=%{y}<extra></extra>",
         "legendgroup": "model results",
         "marker": {
          "color": "#91268F",
          "pattern": {
           "shape": ""
          }
         },
         "name": "model results",
         "offsetgroup": "model results",
         "orientation": "h",
         "showlegend": false,
         "textposition": "auto",
         "type": "bar",
         "x": [
          7.255840951966333e-05,
          0.00031441977458520774,
          0.0149712184975572,
          0.0011609345523146133
         ],
         "xaxis": "x8",
         "y": [
          "WALK_COM",
          "WALK_FRY",
          "WALK_LOC",
          "WALK_LR"
         ],
         "yaxis": "y8"
        },
        {
         "alignmentgroup": "True",
         "hovertemplate": "source=model results<br>tour_type=othdiscr<br>percentage=%{x}<br>tour_mode=%{y}<extra></extra>",
         "legendgroup": "model results",
         "marker": {
          "color": "#91268F",
          "pattern": {
           "shape": ""
          }
         },
         "name": "model results",
         "offsetgroup": "model results",
         "orientation": "h",
         "showlegend": false,
         "textposition": "auto",
         "type": "bar",
         "x": [
          0.007490197392674017,
          0.0009048560608599484,
          0.014883206541774188,
          0.039191997050839505,
          0.006732799356546801
         ],
         "xaxis": "x9",
         "y": [
          "DRIVE_TRN",
          "WALK_COM",
          "WALK_FRY",
          "WALK_LOC",
          "WALK_LR"
         ],
         "yaxis": "y9"
        },
        {
         "alignmentgroup": "True",
         "hovertemplate": "source=model results<br>tour_type=othmaint<br>percentage=%{x}<br>tour_mode=%{y}<extra></extra>",
         "legendgroup": "model results",
         "marker": {
          "color": "#91268F",
          "pattern": {
           "shape": ""
          }
         },
         "name": "model results",
         "offsetgroup": "model results",
         "orientation": "h",
         "showlegend": false,
         "textposition": "auto",
         "type": "bar",
         "x": [
          0.007522611956761527,
          0.0007696644361104983,
          0.010336544353751502,
          0.05591097384611614,
          0.008370713532857808
         ],
         "xaxis": "x4",
         "y": [
          "DRIVE_TRN",
          "WALK_COM",
          "WALK_FRY",
          "WALK_LOC",
          "WALK_LR"
         ],
         "yaxis": "y4"
        },
        {
         "alignmentgroup": "True",
         "hovertemplate": "source=model results<br>tour_type=school<br>percentage=%{x}<br>tour_mode=%{y}<extra></extra>",
         "legendgroup": "model results",
         "marker": {
          "color": "#91268F",
          "pattern": {
           "shape": ""
          }
         },
         "name": "model results",
         "offsetgroup": "model results",
         "orientation": "h",
         "showlegend": false,
         "textposition": "auto",
         "type": "bar",
         "x": [
          0.0024827794417917326,
          0.005312485930916496,
          0.0011943824301312762,
          0.07180595390372377,
          0.013531478995023848
         ],
         "xaxis": "x5",
         "y": [
          "DRIVE_TRN",
          "WALK_COM",
          "WALK_FRY",
          "WALK_LOC",
          "WALK_LR"
         ],
         "yaxis": "y5"
        },
        {
         "alignmentgroup": "True",
         "hovertemplate": "source=model results<br>tour_type=shopping<br>percentage=%{x}<br>tour_mode=%{y}<extra></extra>",
         "legendgroup": "model results",
         "marker": {
          "color": "#91268F",
          "pattern": {
           "shape": ""
          }
         },
         "name": "model results",
         "offsetgroup": "model results",
         "orientation": "h",
         "showlegend": false,
         "textposition": "auto",
         "type": "bar",
         "x": [
          5.0911172387981664e-05,
          0.0005435111646825069,
          0.007832064681956531,
          0.04877565510295065,
          0.006813841234196897
         ],
         "xaxis": "x6",
         "y": [
          "DRIVE_TRN",
          "WALK_COM",
          "WALK_FRY",
          "WALK_LOC",
          "WALK_LR"
         ],
         "yaxis": "y6"
        },
        {
         "alignmentgroup": "True",
         "hovertemplate": "source=model results<br>tour_type=social<br>percentage=%{x}<br>tour_mode=%{y}<extra></extra>",
         "legendgroup": "model results",
         "marker": {
          "color": "#91268F",
          "pattern": {
           "shape": ""
          }
         },
         "name": "model results",
         "offsetgroup": "model results",
         "orientation": "h",
         "showlegend": false,
         "textposition": "auto",
         "type": "bar",
         "x": [
          0.005332275434778804,
          0.0015518438355045534,
          0.022233371643262605,
          0.05719069593778623,
          0.010466194890583341
         ],
         "xaxis": "x",
         "y": [
          "DRIVE_TRN",
          "WALK_COM",
          "WALK_FRY",
          "WALK_LOC",
          "WALK_LR"
         ],
         "yaxis": "y"
        },
        {
         "alignmentgroup": "True",
         "hovertemplate": "source=model results<br>tour_type=work<br>percentage=%{x}<br>tour_mode=%{y}<extra></extra>",
         "legendgroup": "model results",
         "marker": {
          "color": "#91268F",
          "pattern": {
           "shape": ""
          }
         },
         "name": "model results",
         "offsetgroup": "model results",
         "orientation": "h",
         "showlegend": false,
         "textposition": "auto",
         "type": "bar",
         "x": [
          0.01653863464135005,
          0.01718334673277915,
          0.03263335654194283,
          0.1062474755828759,
          0.021987913571651134
         ],
         "xaxis": "x2",
         "y": [
          "DRIVE_TRN",
          "WALK_COM",
          "WALK_FRY",
          "WALK_LOC",
          "WALK_LR"
         ],
         "yaxis": "y2"
        },
        {
         "alignmentgroup": "True",
         "hovertemplate": "source=survey data<br>tour_type=business<br>percentage=%{x}<br>tour_mode=%{y}<extra></extra>",
         "legendgroup": "survey data",
         "marker": {
          "color": "#00A7A0",
          "pattern": {
           "shape": ""
          }
         },
         "name": "survey data",
         "offsetgroup": "survey data",
         "orientation": "h",
         "showlegend": true,
         "textposition": "auto",
         "type": "bar",
         "x": [
          0.005331517271279193
         ],
         "xaxis": "x10",
         "y": [
          "WALK_LOC"
         ],
         "yaxis": "y10"
        },
        {
         "alignmentgroup": "True",
         "hovertemplate": "source=survey data<br>tour_type=eat<br>percentage=%{x}<br>tour_mode=%{y}<extra></extra>",
         "legendgroup": "survey data",
         "marker": {
          "color": "#00A7A0",
          "pattern": {
           "shape": ""
          }
         },
         "name": "survey data",
         "offsetgroup": "survey data",
         "orientation": "h",
         "showlegend": false,
         "textposition": "auto",
         "type": "bar",
         "x": [
          2.9961919480659112e-05,
          6.898366512641998e-05
         ],
         "xaxis": "x11",
         "y": [
          "WALK_LOC",
          "WALK_LR"
         ],
         "yaxis": "y11"
        },
        {
         "alignmentgroup": "True",
         "hovertemplate": "source=survey data<br>tour_type=eatout<br>percentage=%{x}<br>tour_mode=%{y}<extra></extra>",
         "legendgroup": "survey data",
         "marker": {
          "color": "#00A7A0",
          "pattern": {
           "shape": ""
          }
         },
         "name": "survey data",
         "offsetgroup": "survey data",
         "orientation": "h",
         "showlegend": false,
         "textposition": "auto",
         "type": "bar",
         "x": [
          0.0001929702595802792,
          0.00139645962492017,
          0.01714681604594281,
          0.007844226006737573
         ],
         "xaxis": "x12",
         "y": [
          "DRIVE_TRN",
          "WALK_FRY",
          "WALK_LOC",
          "WALK_LR"
         ],
         "yaxis": "y12"
        },
        {
         "alignmentgroup": "True",
         "hovertemplate": "source=survey data<br>tour_type=escort<br>percentage=%{x}<br>tour_mode=%{y}<extra></extra>",
         "legendgroup": "survey data",
         "marker": {
          "color": "#00A7A0",
          "pattern": {
           "shape": ""
          }
         },
         "name": "survey data",
         "offsetgroup": "survey data",
         "orientation": "h",
         "showlegend": false,
         "textposition": "auto",
         "type": "bar",
         "x": [
          0.0007588012700926158,
          0.00011629016613137703
         ],
         "xaxis": "x7",
         "y": [
          "WALK_LOC",
          "WALK_LR"
         ],
         "yaxis": "y7"
        },
        {
         "alignmentgroup": "True",
         "hovertemplate": "source=survey data<br>tour_type=maint<br>percentage=%{x}<br>tour_mode=%{y}<extra></extra>",
         "legendgroup": "survey data",
         "marker": {
          "color": "#00A7A0",
          "pattern": {
           "shape": ""
          }
         },
         "name": "survey data",
         "offsetgroup": "survey data",
         "orientation": "h",
         "showlegend": false,
         "textposition": "auto",
         "type": "bar",
         "x": [
          0.00741195255545645
         ],
         "xaxis": "x8",
         "y": [
          "WALK_LOC"
         ],
         "yaxis": "y8"
        },
        {
         "alignmentgroup": "True",
         "hovertemplate": "source=survey data<br>tour_type=othdiscr<br>percentage=%{x}<br>tour_mode=%{y}<extra></extra>",
         "legendgroup": "survey data",
         "marker": {
          "color": "#00A7A0",
          "pattern": {
           "shape": ""
          }
         },
         "name": "survey data",
         "offsetgroup": "survey data",
         "orientation": "h",
         "showlegend": false,
         "textposition": "auto",
         "type": "bar",
         "x": [
          0.0009197891605373747,
          0.0,
          0.014100756611157356,
          0.0009244442707743756
         ],
         "xaxis": "x9",
         "y": [
          "DRIVE_TRN",
          "WALK_FRY",
          "WALK_LOC",
          "WALK_LR"
         ],
         "yaxis": "y9"
        },
        {
         "alignmentgroup": "True",
         "hovertemplate": "source=survey data<br>tour_type=othmaint<br>percentage=%{x}<br>tour_mode=%{y}<extra></extra>",
         "legendgroup": "survey data",
         "marker": {
          "color": "#00A7A0",
          "pattern": {
           "shape": ""
          }
         },
         "name": "survey data",
         "offsetgroup": "survey data",
         "orientation": "h",
         "showlegend": false,
         "textposition": "auto",
         "type": "bar",
         "x": [
          0.00020098617172150657,
          0.0005543139336317466,
          0.07165471923520493,
          0.010883654328578731
         ],
         "xaxis": "x4",
         "y": [
          "DRIVE_TRN",
          "WALK_FRY",
          "WALK_LOC",
          "WALK_LR"
         ],
         "yaxis": "y4"
        },
        {
         "alignmentgroup": "True",
         "hovertemplate": "source=survey data<br>tour_type=school<br>percentage=%{x}<br>tour_mode=%{y}<extra></extra>",
         "legendgroup": "survey data",
         "marker": {
          "color": "#00A7A0",
          "pattern": {
           "shape": ""
          }
         },
         "name": "survey data",
         "offsetgroup": "survey data",
         "orientation": "h",
         "showlegend": false,
         "textposition": "auto",
         "type": "bar",
         "x": [
          0.015393560672526122,
          0.00015641595611658881,
          0.0865054914119494,
          0.0023038622332863983
         ],
         "xaxis": "x5",
         "y": [
          "DRIVE_TRN",
          "WALK_FRY",
          "WALK_LOC",
          "WALK_LR"
         ],
         "yaxis": "y5"
        },
        {
         "alignmentgroup": "True",
         "hovertemplate": "source=survey data<br>tour_type=shopping<br>percentage=%{x}<br>tour_mode=%{y}<extra></extra>",
         "legendgroup": "survey data",
         "marker": {
          "color": "#00A7A0",
          "pattern": {
           "shape": ""
          }
         },
         "name": "survey data",
         "offsetgroup": "survey data",
         "orientation": "h",
         "showlegend": false,
         "textposition": "auto",
         "type": "bar",
         "x": [
          2.7009303673155258e-05,
          0.062253341372407234,
          0.002713159378729872
         ],
         "xaxis": "x6",
         "y": [
          "WALK_FRY",
          "WALK_LOC",
          "WALK_LR"
         ],
         "yaxis": "y6"
        },
        {
         "alignmentgroup": "True",
         "hovertemplate": "source=survey data<br>tour_type=social<br>percentage=%{x}<br>tour_mode=%{y}<extra></extra>",
         "legendgroup": "survey data",
         "marker": {
          "color": "#00A7A0",
          "pattern": {
           "shape": ""
          }
         },
         "name": "survey data",
         "offsetgroup": "survey data",
         "orientation": "h",
         "showlegend": false,
         "textposition": "auto",
         "type": "bar",
         "x": [
          0.0019289955333368564,
          0.0004384526689628146,
          0.031930147024265484,
          0.0017634208401720072
         ],
         "xaxis": "x",
         "y": [
          "DRIVE_TRN",
          "WALK_FRY",
          "WALK_LOC",
          "WALK_LR"
         ],
         "yaxis": "y"
        },
        {
         "alignmentgroup": "True",
         "hovertemplate": "source=survey data<br>tour_type=work<br>percentage=%{x}<br>tour_mode=%{y}<extra></extra>",
         "legendgroup": "survey data",
         "marker": {
          "color": "#00A7A0",
          "pattern": {
           "shape": ""
          }
         },
         "name": "survey data",
         "offsetgroup": "survey data",
         "orientation": "h",
         "showlegend": false,
         "textposition": "auto",
         "type": "bar",
         "x": [
          0.010129738293058277,
          0.0016853344749078892,
          0.006714641717603625,
          0.07828729875518302,
          0.006139433167332126
         ],
         "xaxis": "x2",
         "y": [
          "DRIVE_TRN",
          "WALK_COM",
          "WALK_FRY",
          "WALK_LOC",
          "WALK_LR"
         ],
         "yaxis": "y2"
        },
        {
         "alignmentgroup": "True",
         "hovertemplate": "source=unweighted survey<br>tour_type=business<br>percentage=%{x}<br>tour_mode=%{y}<extra></extra>",
         "legendgroup": "unweighted survey",
         "marker": {
          "color": "#8CC63E",
          "pattern": {
           "shape": ""
          }
         },
         "name": "unweighted survey",
         "offsetgroup": "unweighted survey",
         "orientation": "h",
         "showlegend": true,
         "textposition": "auto",
         "type": "bar",
         "x": [
          0.046357615894039736
         ],
         "xaxis": "x10",
         "y": [
          "WALK_LOC"
         ],
         "yaxis": "y10"
        },
        {
         "alignmentgroup": "True",
         "hovertemplate": "source=unweighted survey<br>tour_type=eat<br>percentage=%{x}<br>tour_mode=%{y}<extra></extra>",
         "legendgroup": "unweighted survey",
         "marker": {
          "color": "#8CC63E",
          "pattern": {
           "shape": ""
          }
         },
         "name": "unweighted survey",
         "offsetgroup": "unweighted survey",
         "orientation": "h",
         "showlegend": false,
         "textposition": "auto",
         "type": "bar",
         "x": [
          0.0028328611898017,
          0.0028328611898017
         ],
         "xaxis": "x11",
         "y": [
          "WALK_LOC",
          "WALK_LR"
         ],
         "yaxis": "y11"
        },
        {
         "alignmentgroup": "True",
         "hovertemplate": "source=unweighted survey<br>tour_type=eatout<br>percentage=%{x}<br>tour_mode=%{y}<extra></extra>",
         "legendgroup": "unweighted survey",
         "marker": {
          "color": "#8CC63E",
          "pattern": {
           "shape": ""
          }
         },
         "name": "unweighted survey",
         "offsetgroup": "unweighted survey",
         "orientation": "h",
         "showlegend": false,
         "textposition": "auto",
         "type": "bar",
         "x": [
          0.0024096385542168677,
          0.0024096385542168677,
          0.046987951807228916,
          0.021686746987951807
         ],
         "xaxis": "x12",
         "y": [
          "DRIVE_TRN",
          "WALK_FRY",
          "WALK_LOC",
          "WALK_LR"
         ],
         "yaxis": "y12"
        },
        {
         "alignmentgroup": "True",
         "hovertemplate": "source=unweighted survey<br>tour_type=escort<br>percentage=%{x}<br>tour_mode=%{y}<extra></extra>",
         "legendgroup": "unweighted survey",
         "marker": {
          "color": "#8CC63E",
          "pattern": {
           "shape": ""
          }
         },
         "name": "unweighted survey",
         "offsetgroup": "unweighted survey",
         "orientation": "h",
         "showlegend": false,
         "textposition": "auto",
         "type": "bar",
         "x": [
          0.009749303621169917,
          0.004178272980501393
         ],
         "xaxis": "x7",
         "y": [
          "WALK_LOC",
          "WALK_LR"
         ],
         "yaxis": "y7"
        },
        {
         "alignmentgroup": "True",
         "hovertemplate": "source=unweighted survey<br>tour_type=maint<br>percentage=%{x}<br>tour_mode=%{y}<extra></extra>",
         "legendgroup": "unweighted survey",
         "marker": {
          "color": "#8CC63E",
          "pattern": {
           "shape": ""
          }
         },
         "name": "unweighted survey",
         "offsetgroup": "unweighted survey",
         "orientation": "h",
         "showlegend": false,
         "textposition": "auto",
         "type": "bar",
         "x": [
          0.029585798816568046
         ],
         "xaxis": "x8",
         "y": [
          "WALK_LOC"
         ],
         "yaxis": "y8"
        },
        {
         "alignmentgroup": "True",
         "hovertemplate": "source=unweighted survey<br>tour_type=othdiscr<br>percentage=%{x}<br>tour_mode=%{y}<extra></extra>",
         "legendgroup": "unweighted survey",
         "marker": {
          "color": "#8CC63E",
          "pattern": {
           "shape": ""
          }
         },
         "name": "unweighted survey",
         "offsetgroup": "unweighted survey",
         "orientation": "h",
         "showlegend": false,
         "textposition": "auto",
         "type": "bar",
         "x": [
          0.0018682858477347033,
          0.00046707146193367583,
          0.04624007473143391,
          0.010742643624474545
         ],
         "xaxis": "x9",
         "y": [
          "DRIVE_TRN",
          "WALK_FRY",
          "WALK_LOC",
          "WALK_LR"
         ],
         "yaxis": "y9"
        },
        {
         "alignmentgroup": "True",
         "hovertemplate": "source=unweighted survey<br>tour_type=othmaint<br>percentage=%{x}<br>tour_mode=%{y}<extra></extra>",
         "legendgroup": "unweighted survey",
         "marker": {
          "color": "#8CC63E",
          "pattern": {
           "shape": ""
          }
         },
         "name": "unweighted survey",
         "offsetgroup": "unweighted survey",
         "orientation": "h",
         "showlegend": false,
         "textposition": "auto",
         "type": "bar",
         "x": [
          0.0027675276752767526,
          0.0009225092250922509,
          0.08763837638376384,
          0.01937269372693727
         ],
         "xaxis": "x4",
         "y": [
          "DRIVE_TRN",
          "WALK_FRY",
          "WALK_LOC",
          "WALK_LR"
         ],
         "yaxis": "y4"
        },
        {
         "alignmentgroup": "True",
         "hovertemplate": "source=unweighted survey<br>tour_type=school<br>percentage=%{x}<br>tour_mode=%{y}<extra></extra>",
         "legendgroup": "unweighted survey",
         "marker": {
          "color": "#8CC63E",
          "pattern": {
           "shape": ""
          }
         },
         "name": "unweighted survey",
         "offsetgroup": "unweighted survey",
         "orientation": "h",
         "showlegend": false,
         "textposition": "auto",
         "type": "bar",
         "x": [
          0.0010695187165775401,
          0.0010695187165775401,
          0.15828877005347594,
          0.028877005347593583
         ],
         "xaxis": "x5",
         "y": [
          "DRIVE_TRN",
          "WALK_FRY",
          "WALK_LOC",
          "WALK_LR"
         ],
         "yaxis": "y5"
        },
        {
         "alignmentgroup": "True",
         "hovertemplate": "source=unweighted survey<br>tour_type=shopping<br>percentage=%{x}<br>tour_mode=%{y}<extra></extra>",
         "legendgroup": "unweighted survey",
         "marker": {
          "color": "#8CC63E",
          "pattern": {
           "shape": ""
          }
         },
         "name": "unweighted survey",
         "offsetgroup": "unweighted survey",
         "orientation": "h",
         "showlegend": false,
         "textposition": "auto",
         "type": "bar",
         "x": [
          0.0007052186177715092,
          0.056417489421720736,
          0.009167842031029619
         ],
         "xaxis": "x6",
         "y": [
          "WALK_FRY",
          "WALK_LOC",
          "WALK_LR"
         ],
         "yaxis": "y6"
        },
        {
         "alignmentgroup": "True",
         "hovertemplate": "source=unweighted survey<br>tour_type=social<br>percentage=%{x}<br>tour_mode=%{y}<extra></extra>",
         "legendgroup": "unweighted survey",
         "marker": {
          "color": "#8CC63E",
          "pattern": {
           "shape": ""
          }
         },
         "name": "unweighted survey",
         "offsetgroup": "unweighted survey",
         "orientation": "h",
         "showlegend": false,
         "textposition": "auto",
         "type": "bar",
         "x": [
          0.0045045045045045045,
          0.003003003003003003,
          0.07807807807807808,
          0.021021021021021023
         ],
         "xaxis": "x",
         "y": [
          "DRIVE_TRN",
          "WALK_FRY",
          "WALK_LOC",
          "WALK_LR"
         ],
         "yaxis": "y"
        },
        {
         "alignmentgroup": "True",
         "hovertemplate": "source=unweighted survey<br>tour_type=work<br>percentage=%{x}<br>tour_mode=%{y}<extra></extra>",
         "legendgroup": "unweighted survey",
         "marker": {
          "color": "#8CC63E",
          "pattern": {
           "shape": ""
          }
         },
         "name": "unweighted survey",
         "offsetgroup": "unweighted survey",
         "orientation": "h",
         "showlegend": false,
         "textposition": "auto",
         "type": "bar",
         "x": [
          0.013197788478687356,
          0.003745318352059925,
          0.005707151774567505,
          0.2288211164615659,
          0.04868913857677903
         ],
         "xaxis": "x2",
         "y": [
          "DRIVE_TRN",
          "WALK_COM",
          "WALK_FRY",
          "WALK_LOC",
          "WALK_LR"
         ],
         "yaxis": "y2"
        }
       ],
       "layout": {
        "annotations": [
         {
          "font": {},
          "showarrow": false,
          "text": "social",
          "x": 0.15999999999999998,
          "xanchor": "center",
          "xref": "paper",
          "y": 0.1975,
          "yanchor": "bottom",
          "yref": "paper"
         },
         {
          "font": {},
          "showarrow": false,
          "text": "work",
          "x": 0.49999999999999994,
          "xanchor": "center",
          "xref": "paper",
          "y": 0.1975,
          "yanchor": "bottom",
          "yref": "paper"
         },
         {
          "font": {},
          "showarrow": false,
          "text": "othmaint",
          "x": 0.15999999999999998,
          "xanchor": "center",
          "xref": "paper",
          "y": 0.465,
          "yanchor": "bottom",
          "yref": "paper"
         },
         {
          "font": {},
          "showarrow": false,
          "text": "school",
          "x": 0.49999999999999994,
          "xanchor": "center",
          "xref": "paper",
          "y": 0.465,
          "yanchor": "bottom",
          "yref": "paper"
         },
         {
          "font": {},
          "showarrow": false,
          "text": "shopping",
          "x": 0.8399999999999999,
          "xanchor": "center",
          "xref": "paper",
          "y": 0.465,
          "yanchor": "bottom",
          "yref": "paper"
         },
         {
          "font": {},
          "showarrow": false,
          "text": "escort",
          "x": 0.15999999999999998,
          "xanchor": "center",
          "xref": "paper",
          "y": 0.7325,
          "yanchor": "bottom",
          "yref": "paper"
         },
         {
          "font": {},
          "showarrow": false,
          "text": "maint",
          "x": 0.49999999999999994,
          "xanchor": "center",
          "xref": "paper",
          "y": 0.7325,
          "yanchor": "bottom",
          "yref": "paper"
         },
         {
          "font": {},
          "showarrow": false,
          "text": "othdiscr",
          "x": 0.8399999999999999,
          "xanchor": "center",
          "xref": "paper",
          "y": 0.7325,
          "yanchor": "bottom",
          "yref": "paper"
         },
         {
          "font": {},
          "showarrow": false,
          "text": "business",
          "x": 0.15999999999999998,
          "xanchor": "center",
          "xref": "paper",
          "y": 1.0,
          "yanchor": "bottom",
          "yref": "paper"
         },
         {
          "font": {},
          "showarrow": false,
          "text": "eat",
          "x": 0.49999999999999994,
          "xanchor": "center",
          "xref": "paper",
          "y": 1.0,
          "yanchor": "bottom",
          "yref": "paper"
         },
         {
          "font": {},
          "showarrow": false,
          "text": "eatout",
          "x": 0.8399999999999999,
          "xanchor": "center",
          "xref": "paper",
          "y": 1.0,
          "yanchor": "bottom",
          "yref": "paper"
         }
        ],
        "barmode": "group",
        "height": 800,
        "legend": {
         "title": {
          "text": "source"
         },
         "tracegroupgap": 0
        },
        "template": {
         "data": {
          "bar": [
           {
            "error_x": {
             "color": "rgb(36,36,36)"
            },
            "error_y": {
             "color": "rgb(36,36,36)"
            },
            "marker": {
             "line": {
              "color": "white",
              "width": 0.5
             },
             "pattern": {
              "fillmode": "overlay",
              "size": 10,
              "solidity": 0.2
             }
            },
            "type": "bar"
           }
          ],
          "barpolar": [
           {
            "marker": {
             "line": {
              "color": "white",
              "width": 0.5
             },
             "pattern": {
              "fillmode": "overlay",
              "size": 10,
              "solidity": 0.2
             }
            },
            "type": "barpolar"
           }
          ],
          "carpet": [
           {
            "aaxis": {
             "endlinecolor": "rgb(36,36,36)",
             "gridcolor": "white",
             "linecolor": "white",
             "minorgridcolor": "white",
             "startlinecolor": "rgb(36,36,36)"
            },
            "baxis": {
             "endlinecolor": "rgb(36,36,36)",
             "gridcolor": "white",
             "linecolor": "white",
             "minorgridcolor": "white",
             "startlinecolor": "rgb(36,36,36)"
            },
            "type": "carpet"
           }
          ],
          "choropleth": [
           {
            "colorbar": {
             "outlinewidth": 1,
             "tickcolor": "rgb(36,36,36)",
             "ticks": "outside"
            },
            "type": "choropleth"
           }
          ],
          "contour": [
           {
            "colorbar": {
             "outlinewidth": 1,
             "tickcolor": "rgb(36,36,36)",
             "ticks": "outside"
            },
            "colorscale": [
             [
              0.0,
              "#440154"
             ],
             [
              0.1111111111111111,
              "#482878"
             ],
             [
              0.2222222222222222,
              "#3e4989"
             ],
             [
              0.3333333333333333,
              "#31688e"
             ],
             [
              0.4444444444444444,
              "#26828e"
             ],
             [
              0.5555555555555556,
              "#1f9e89"
             ],
             [
              0.6666666666666666,
              "#35b779"
             ],
             [
              0.7777777777777778,
              "#6ece58"
             ],
             [
              0.8888888888888888,
              "#b5de2b"
             ],
             [
              1.0,
              "#fde725"
             ]
            ],
            "type": "contour"
           }
          ],
          "contourcarpet": [
           {
            "colorbar": {
             "outlinewidth": 1,
             "tickcolor": "rgb(36,36,36)",
             "ticks": "outside"
            },
            "type": "contourcarpet"
           }
          ],
          "heatmap": [
           {
            "colorbar": {
             "outlinewidth": 1,
             "tickcolor": "rgb(36,36,36)",
             "ticks": "outside"
            },
            "colorscale": [
             [
              0.0,
              "#440154"
             ],
             [
              0.1111111111111111,
              "#482878"
             ],
             [
              0.2222222222222222,
              "#3e4989"
             ],
             [
              0.3333333333333333,
              "#31688e"
             ],
             [
              0.4444444444444444,
              "#26828e"
             ],
             [
              0.5555555555555556,
              "#1f9e89"
             ],
             [
              0.6666666666666666,
              "#35b779"
             ],
             [
              0.7777777777777778,
              "#6ece58"
             ],
             [
              0.8888888888888888,
              "#b5de2b"
             ],
             [
              1.0,
              "#fde725"
             ]
            ],
            "type": "heatmap"
           }
          ],
          "heatmapgl": [
           {
            "colorbar": {
             "outlinewidth": 1,
             "tickcolor": "rgb(36,36,36)",
             "ticks": "outside"
            },
            "colorscale": [
             [
              0.0,
              "#440154"
             ],
             [
              0.1111111111111111,
              "#482878"
             ],
             [
              0.2222222222222222,
              "#3e4989"
             ],
             [
              0.3333333333333333,
              "#31688e"
             ],
             [
              0.4444444444444444,
              "#26828e"
             ],
             [
              0.5555555555555556,
              "#1f9e89"
             ],
             [
              0.6666666666666666,
              "#35b779"
             ],
             [
              0.7777777777777778,
              "#6ece58"
             ],
             [
              0.8888888888888888,
              "#b5de2b"
             ],
             [
              1.0,
              "#fde725"
             ]
            ],
            "type": "heatmapgl"
           }
          ],
          "histogram": [
           {
            "marker": {
             "line": {
              "color": "white",
              "width": 0.6
             }
            },
            "type": "histogram"
           }
          ],
          "histogram2d": [
           {
            "colorbar": {
             "outlinewidth": 1,
             "tickcolor": "rgb(36,36,36)",
             "ticks": "outside"
            },
            "colorscale": [
             [
              0.0,
              "#440154"
             ],
             [
              0.1111111111111111,
              "#482878"
             ],
             [
              0.2222222222222222,
              "#3e4989"
             ],
             [
              0.3333333333333333,
              "#31688e"
             ],
             [
              0.4444444444444444,
              "#26828e"
             ],
             [
              0.5555555555555556,
              "#1f9e89"
             ],
             [
              0.6666666666666666,
              "#35b779"
             ],
             [
              0.7777777777777778,
              "#6ece58"
             ],
             [
              0.8888888888888888,
              "#b5de2b"
             ],
             [
              1.0,
              "#fde725"
             ]
            ],
            "type": "histogram2d"
           }
          ],
          "histogram2dcontour": [
           {
            "colorbar": {
             "outlinewidth": 1,
             "tickcolor": "rgb(36,36,36)",
             "ticks": "outside"
            },
            "colorscale": [
             [
              0.0,
              "#440154"
             ],
             [
              0.1111111111111111,
              "#482878"
             ],
             [
              0.2222222222222222,
              "#3e4989"
             ],
             [
              0.3333333333333333,
              "#31688e"
             ],
             [
              0.4444444444444444,
              "#26828e"
             ],
             [
              0.5555555555555556,
              "#1f9e89"
             ],
             [
              0.6666666666666666,
              "#35b779"
             ],
             [
              0.7777777777777778,
              "#6ece58"
             ],
             [
              0.8888888888888888,
              "#b5de2b"
             ],
             [
              1.0,
              "#fde725"
             ]
            ],
            "type": "histogram2dcontour"
           }
          ],
          "mesh3d": [
           {
            "colorbar": {
             "outlinewidth": 1,
             "tickcolor": "rgb(36,36,36)",
             "ticks": "outside"
            },
            "type": "mesh3d"
           }
          ],
          "parcoords": [
           {
            "line": {
             "colorbar": {
              "outlinewidth": 1,
              "tickcolor": "rgb(36,36,36)",
              "ticks": "outside"
             }
            },
            "type": "parcoords"
           }
          ],
          "pie": [
           {
            "automargin": true,
            "type": "pie"
           }
          ],
          "scatter": [
           {
            "fillpattern": {
             "fillmode": "overlay",
             "size": 10,
             "solidity": 0.2
            },
            "type": "scatter"
           }
          ],
          "scatter3d": [
           {
            "line": {
             "colorbar": {
              "outlinewidth": 1,
              "tickcolor": "rgb(36,36,36)",
              "ticks": "outside"
             }
            },
            "marker": {
             "colorbar": {
              "outlinewidth": 1,
              "tickcolor": "rgb(36,36,36)",
              "ticks": "outside"
             }
            },
            "type": "scatter3d"
           }
          ],
          "scattercarpet": [
           {
            "marker": {
             "colorbar": {
              "outlinewidth": 1,
              "tickcolor": "rgb(36,36,36)",
              "ticks": "outside"
             }
            },
            "type": "scattercarpet"
           }
          ],
          "scattergeo": [
           {
            "marker": {
             "colorbar": {
              "outlinewidth": 1,
              "tickcolor": "rgb(36,36,36)",
              "ticks": "outside"
             }
            },
            "type": "scattergeo"
           }
          ],
          "scattergl": [
           {
            "marker": {
             "colorbar": {
              "outlinewidth": 1,
              "tickcolor": "rgb(36,36,36)",
              "ticks": "outside"
             }
            },
            "type": "scattergl"
           }
          ],
          "scattermapbox": [
           {
            "marker": {
             "colorbar": {
              "outlinewidth": 1,
              "tickcolor": "rgb(36,36,36)",
              "ticks": "outside"
             }
            },
            "type": "scattermapbox"
           }
          ],
          "scatterpolar": [
           {
            "marker": {
             "colorbar": {
              "outlinewidth": 1,
              "tickcolor": "rgb(36,36,36)",
              "ticks": "outside"
             }
            },
            "type": "scatterpolar"
           }
          ],
          "scatterpolargl": [
           {
            "marker": {
             "colorbar": {
              "outlinewidth": 1,
              "tickcolor": "rgb(36,36,36)",
              "ticks": "outside"
             }
            },
            "type": "scatterpolargl"
           }
          ],
          "scatterternary": [
           {
            "marker": {
             "colorbar": {
              "outlinewidth": 1,
              "tickcolor": "rgb(36,36,36)",
              "ticks": "outside"
             }
            },
            "type": "scatterternary"
           }
          ],
          "surface": [
           {
            "colorbar": {
             "outlinewidth": 1,
             "tickcolor": "rgb(36,36,36)",
             "ticks": "outside"
            },
            "colorscale": [
             [
              0.0,
              "#440154"
             ],
             [
              0.1111111111111111,
              "#482878"
             ],
             [
              0.2222222222222222,
              "#3e4989"
             ],
             [
              0.3333333333333333,
              "#31688e"
             ],
             [
              0.4444444444444444,
              "#26828e"
             ],
             [
              0.5555555555555556,
              "#1f9e89"
             ],
             [
              0.6666666666666666,
              "#35b779"
             ],
             [
              0.7777777777777778,
              "#6ece58"
             ],
             [
              0.8888888888888888,
              "#b5de2b"
             ],
             [
              1.0,
              "#fde725"
             ]
            ],
            "type": "surface"
           }
          ],
          "table": [
           {
            "cells": {
             "fill": {
              "color": "rgb(237,237,237)"
             },
             "line": {
              "color": "white"
             }
            },
            "header": {
             "fill": {
              "color": "rgb(217,217,217)"
             },
             "line": {
              "color": "white"
             }
            },
            "type": "table"
           }
          ]
         },
         "layout": {
          "annotationdefaults": {
           "arrowhead": 0,
           "arrowwidth": 1
          },
          "autotypenumbers": "strict",
          "coloraxis": {
           "colorbar": {
            "outlinewidth": 1,
            "tickcolor": "rgb(36,36,36)",
            "ticks": "outside"
           }
          },
          "colorscale": {
           "diverging": [
            [
             0.0,
             "rgb(103,0,31)"
            ],
            [
             0.1,
             "rgb(178,24,43)"
            ],
            [
             0.2,
             "rgb(214,96,77)"
            ],
            [
             0.3,
             "rgb(244,165,130)"
            ],
            [
             0.4,
             "rgb(253,219,199)"
            ],
            [
             0.5,
             "rgb(247,247,247)"
            ],
            [
             0.6,
             "rgb(209,229,240)"
            ],
            [
             0.7,
             "rgb(146,197,222)"
            ],
            [
             0.8,
             "rgb(67,147,195)"
            ],
            [
             0.9,
             "rgb(33,102,172)"
            ],
            [
             1.0,
             "rgb(5,48,97)"
            ]
           ],
           "sequential": [
            [
             0.0,
             "#440154"
            ],
            [
             0.1111111111111111,
             "#482878"
            ],
            [
             0.2222222222222222,
             "#3e4989"
            ],
            [
             0.3333333333333333,
             "#31688e"
            ],
            [
             0.4444444444444444,
             "#26828e"
            ],
            [
             0.5555555555555556,
             "#1f9e89"
            ],
            [
             0.6666666666666666,
             "#35b779"
            ],
            [
             0.7777777777777778,
             "#6ece58"
            ],
            [
             0.8888888888888888,
             "#b5de2b"
            ],
            [
             1.0,
             "#fde725"
            ]
           ],
           "sequentialminus": [
            [
             0.0,
             "#440154"
            ],
            [
             0.1111111111111111,
             "#482878"
            ],
            [
             0.2222222222222222,
             "#3e4989"
            ],
            [
             0.3333333333333333,
             "#31688e"
            ],
            [
             0.4444444444444444,
             "#26828e"
            ],
            [
             0.5555555555555556,
             "#1f9e89"
            ],
            [
             0.6666666666666666,
             "#35b779"
            ],
            [
             0.7777777777777778,
             "#6ece58"
            ],
            [
             0.8888888888888888,
             "#b5de2b"
            ],
            [
             1.0,
             "#fde725"
            ]
           ]
          },
          "colorway": [
           "#91268F",
           "#00A7A0",
           "#8CC63E",
           "#F05A28",
           "#4C4C4C",
           "#630460",
           "#9f3913",
           "#588527",
           "#00716c",
           "#3e4040"
          ],
          "font": {
           "color": "rgb(36,36,36)",
           "size": 11
          },
          "geo": {
           "bgcolor": "white",
           "lakecolor": "white",
           "landcolor": "white",
           "showlakes": true,
           "showland": true,
           "subunitcolor": "white"
          },
          "hoverlabel": {
           "align": "left"
          },
          "hovermode": "closest",
          "mapbox": {
           "style": "light"
          },
          "paper_bgcolor": "white",
          "plot_bgcolor": "white",
          "polar": {
           "angularaxis": {
            "gridcolor": "rgb(232,232,232)",
            "linecolor": "rgb(36,36,36)",
            "showgrid": false,
            "showline": true,
            "ticks": "outside"
           },
           "bgcolor": "white",
           "radialaxis": {
            "gridcolor": "rgb(232,232,232)",
            "linecolor": "rgb(36,36,36)",
            "showgrid": false,
            "showline": true,
            "ticks": "outside"
           }
          },
          "scene": {
           "xaxis": {
            "backgroundcolor": "white",
            "gridcolor": "rgb(232,232,232)",
            "gridwidth": 2,
            "linecolor": "rgb(36,36,36)",
            "showbackground": true,
            "showgrid": false,
            "showline": true,
            "ticks": "outside",
            "zeroline": false,
            "zerolinecolor": "rgb(36,36,36)"
           },
           "yaxis": {
            "backgroundcolor": "white",
            "gridcolor": "rgb(232,232,232)",
            "gridwidth": 2,
            "linecolor": "rgb(36,36,36)",
            "showbackground": true,
            "showgrid": false,
            "showline": true,
            "ticks": "outside",
            "zeroline": false,
            "zerolinecolor": "rgb(36,36,36)"
           },
           "zaxis": {
            "backgroundcolor": "white",
            "gridcolor": "rgb(232,232,232)",
            "gridwidth": 2,
            "linecolor": "rgb(36,36,36)",
            "showbackground": true,
            "showgrid": false,
            "showline": true,
            "ticks": "outside",
            "zeroline": false,
            "zerolinecolor": "rgb(36,36,36)"
           }
          },
          "shapedefaults": {
           "fillcolor": "black",
           "line": {
            "width": 0
           },
           "opacity": 0.3
          },
          "ternary": {
           "aaxis": {
            "gridcolor": "rgb(232,232,232)",
            "linecolor": "rgb(36,36,36)",
            "showgrid": false,
            "showline": true,
            "ticks": "outside"
           },
           "baxis": {
            "gridcolor": "rgb(232,232,232)",
            "linecolor": "rgb(36,36,36)",
            "showgrid": false,
            "showline": true,
            "ticks": "outside"
           },
           "bgcolor": "white",
           "caxis": {
            "gridcolor": "rgb(232,232,232)",
            "linecolor": "rgb(36,36,36)",
            "showgrid": false,
            "showline": true,
            "ticks": "outside"
           }
          },
          "title": {
           "x": 0.05
          },
          "xaxis": {
           "automargin": true,
           "gridcolor": "rgb(232,232,232)",
           "linecolor": "rgb(36,36,36)",
           "showgrid": false,
           "showline": true,
           "ticks": "outside",
           "title": {
            "standoff": 15
           },
           "zeroline": false,
           "zerolinecolor": "rgb(36,36,36)"
          },
          "yaxis": {
           "automargin": true,
           "gridcolor": "rgb(232,232,232)",
           "linecolor": "rgb(36,36,36)",
           "showgrid": false,
           "showline": true,
           "ticks": "outside",
           "title": {
            "standoff": 15
           },
           "zeroline": false,
           "zerolinecolor": "rgb(36,36,36)"
          }
         }
        },
        "title": {
         "text": "Tour mode choice by tour_type: disaggregated transit modes"
        },
        "width": 700,
        "xaxis": {
         "anchor": "y",
         "domain": [
          0.0,
          0.31999999999999995
         ],
         "tickformat": ".1%",
         "title": {
          "text": "percentage"
         }
        },
        "xaxis10": {
         "anchor": "y10",
         "domain": [
          0.0,
          0.31999999999999995
         ],
         "matches": "x",
         "showticklabels": false
        },
        "xaxis11": {
         "anchor": "y11",
         "domain": [
          0.33999999999999997,
          0.6599999999999999
         ],
         "matches": "x",
         "showticklabels": false
        },
        "xaxis12": {
         "anchor": "y12",
         "domain": [
          0.6799999999999999,
          0.9999999999999999
         ],
         "matches": "x",
         "showticklabels": false
        },
        "xaxis2": {
         "anchor": "y2",
         "domain": [
          0.33999999999999997,
          0.6599999999999999
         ],
         "matches": "x",
         "tickformat": ".1%",
         "title": {
          "text": "percentage"
         }
        },
        "xaxis3": {
         "anchor": "y3",
         "domain": [
          0.6799999999999999,
          0.9999999999999999
         ],
         "matches": "x",
         "title": {
          "text": "percentage"
         }
        },
        "xaxis4": {
         "anchor": "y4",
         "domain": [
          0.0,
          0.31999999999999995
         ],
         "matches": "x",
         "showticklabels": false
        },
        "xaxis5": {
         "anchor": "y5",
         "domain": [
          0.33999999999999997,
          0.6599999999999999
         ],
         "matches": "x",
         "showticklabels": false
        },
        "xaxis6": {
         "anchor": "y6",
         "domain": [
          0.6799999999999999,
          0.9999999999999999
         ],
         "matches": "x",
         "showticklabels": false
        },
        "xaxis7": {
         "anchor": "y7",
         "domain": [
          0.0,
          0.31999999999999995
         ],
         "matches": "x",
         "showticklabels": false
        },
        "xaxis8": {
         "anchor": "y8",
         "domain": [
          0.33999999999999997,
          0.6599999999999999
         ],
         "matches": "x",
         "showticklabels": false
        },
        "xaxis9": {
         "anchor": "y9",
         "domain": [
          0.6799999999999999,
          0.9999999999999999
         ],
         "matches": "x",
         "showticklabels": false
        },
        "yaxis": {
         "anchor": "x",
         "domain": [
          0.0,
          0.1975
         ],
         "title": {
          "text": "tour_mode"
         }
        },
        "yaxis10": {
         "anchor": "x10",
         "domain": [
          0.8025,
          1.0
         ],
         "matches": "y",
         "title": {
          "text": "tour_mode"
         }
        },
        "yaxis11": {
         "anchor": "x11",
         "domain": [
          0.8025,
          1.0
         ],
         "matches": "y",
         "showticklabels": false
        },
        "yaxis12": {
         "anchor": "x12",
         "domain": [
          0.8025,
          1.0
         ],
         "matches": "y",
         "showticklabels": false
        },
        "yaxis2": {
         "anchor": "x2",
         "domain": [
          0.0,
          0.1975
         ],
         "matches": "y",
         "showticklabels": false
        },
        "yaxis3": {
         "anchor": "x3",
         "domain": [
          0.0,
          0.1975
         ],
         "matches": "y",
         "showticklabels": false
        },
        "yaxis4": {
         "anchor": "x4",
         "domain": [
          0.2675,
          0.465
         ],
         "matches": "y",
         "title": {
          "text": "tour_mode"
         }
        },
        "yaxis5": {
         "anchor": "x5",
         "domain": [
          0.2675,
          0.465
         ],
         "matches": "y",
         "showticklabels": false
        },
        "yaxis6": {
         "anchor": "x6",
         "domain": [
          0.2675,
          0.465
         ],
         "matches": "y",
         "showticklabels": false
        },
        "yaxis7": {
         "anchor": "x7",
         "domain": [
          0.535,
          0.7325
         ],
         "matches": "y",
         "title": {
          "text": "tour_mode"
         }
        },
        "yaxis8": {
         "anchor": "x8",
         "domain": [
          0.535,
          0.7325
         ],
         "matches": "y",
         "showticklabels": false
        },
        "yaxis9": {
         "anchor": "x9",
         "domain": [
          0.535,
          0.7325
         ],
         "matches": "y",
         "showticklabels": false
        }
       }
      },
      "text/html": [
       "<div>                            <div id=\"ee45a06d-fda9-4418-9be6-e806960f7167\" class=\"plotly-graph-div\" style=\"height:800px; width:700px;\"></div>            <script type=\"text/javascript\">                require([\"plotly\"], function(Plotly) {                    window.PLOTLYENV=window.PLOTLYENV || {};                                    if (document.getElementById(\"ee45a06d-fda9-4418-9be6-e806960f7167\")) {                    Plotly.newPlot(                        \"ee45a06d-fda9-4418-9be6-e806960f7167\",                        [{\"alignmentgroup\":\"True\",\"hovertemplate\":\"source=model results<br>tour_type=business<br>percentage=%{x}<br>tour_mode=%{y}<extra></extra>\",\"legendgroup\":\"model results\",\"marker\":{\"color\":\"#91268F\",\"pattern\":{\"shape\":\"\"}},\"name\":\"model results\",\"offsetgroup\":\"model results\",\"orientation\":\"h\",\"showlegend\":true,\"textposition\":\"auto\",\"x\":[1.6774301769688836e-05,0.00025161452654533256,0.014945902876792753,0.0014761385557326176],\"xaxis\":\"x10\",\"y\":[\"WALK_COM\",\"WALK_FRY\",\"WALK_LOC\",\"WALK_LR\"],\"yaxis\":\"y10\",\"type\":\"bar\"},{\"alignmentgroup\":\"True\",\"hovertemplate\":\"source=model results<br>tour_type=eat<br>percentage=%{x}<br>tour_mode=%{y}<extra></extra>\",\"legendgroup\":\"model results\",\"marker\":{\"color\":\"#91268F\",\"pattern\":{\"shape\":\"\"}},\"name\":\"model results\",\"offsetgroup\":\"model results\",\"orientation\":\"h\",\"showlegend\":false,\"textposition\":\"auto\",\"x\":[2.583607380259025e-05,0.0002251429288511436,0.020432643510162805,0.002007832021229871],\"xaxis\":\"x11\",\"y\":[\"WALK_COM\",\"WALK_FRY\",\"WALK_LOC\",\"WALK_LR\"],\"yaxis\":\"y11\",\"type\":\"bar\"},{\"alignmentgroup\":\"True\",\"hovertemplate\":\"source=model results<br>tour_type=eatout<br>percentage=%{x}<br>tour_mode=%{y}<extra></extra>\",\"legendgroup\":\"model results\",\"marker\":{\"color\":\"#91268F\",\"pattern\":{\"shape\":\"\"}},\"name\":\"model results\",\"offsetgroup\":\"model results\",\"orientation\":\"h\",\"showlegend\":false,\"textposition\":\"auto\",\"x\":[0.014888328249181643,0.0007654094383158019,0.01232829376860112,0.034889294299929034,0.007029876977152899],\"xaxis\":\"x12\",\"y\":[\"DRIVE_TRN\",\"WALK_COM\",\"WALK_FRY\",\"WALK_LOC\",\"WALK_LR\"],\"yaxis\":\"y12\",\"type\":\"bar\"},{\"alignmentgroup\":\"True\",\"hovertemplate\":\"source=model results<br>tour_type=escort<br>percentage=%{x}<br>tour_mode=%{y}<extra></extra>\",\"legendgroup\":\"model results\",\"marker\":{\"color\":\"#91268F\",\"pattern\":{\"shape\":\"\"}},\"name\":\"model results\",\"offsetgroup\":\"model results\",\"orientation\":\"h\",\"showlegend\":false,\"textposition\":\"auto\",\"x\":[5.994786469573558e-05,0.0007406461993053783,0.004701072873397845,0.00043123786539190435],\"xaxis\":\"x7\",\"y\":[\"WALK_COM\",\"WALK_FRY\",\"WALK_LOC\",\"WALK_LR\"],\"yaxis\":\"y7\",\"type\":\"bar\"},{\"alignmentgroup\":\"True\",\"hovertemplate\":\"source=model results<br>tour_type=maint<br>percentage=%{x}<br>tour_mode=%{y}<extra></extra>\",\"legendgroup\":\"model results\",\"marker\":{\"color\":\"#91268F\",\"pattern\":{\"shape\":\"\"}},\"name\":\"model results\",\"offsetgroup\":\"model results\",\"orientation\":\"h\",\"showlegend\":false,\"textposition\":\"auto\",\"x\":[7.255840951966333e-05,0.00031441977458520774,0.0149712184975572,0.0011609345523146133],\"xaxis\":\"x8\",\"y\":[\"WALK_COM\",\"WALK_FRY\",\"WALK_LOC\",\"WALK_LR\"],\"yaxis\":\"y8\",\"type\":\"bar\"},{\"alignmentgroup\":\"True\",\"hovertemplate\":\"source=model results<br>tour_type=othdiscr<br>percentage=%{x}<br>tour_mode=%{y}<extra></extra>\",\"legendgroup\":\"model results\",\"marker\":{\"color\":\"#91268F\",\"pattern\":{\"shape\":\"\"}},\"name\":\"model results\",\"offsetgroup\":\"model results\",\"orientation\":\"h\",\"showlegend\":false,\"textposition\":\"auto\",\"x\":[0.007490197392674017,0.0009048560608599484,0.014883206541774188,0.039191997050839505,0.006732799356546801],\"xaxis\":\"x9\",\"y\":[\"DRIVE_TRN\",\"WALK_COM\",\"WALK_FRY\",\"WALK_LOC\",\"WALK_LR\"],\"yaxis\":\"y9\",\"type\":\"bar\"},{\"alignmentgroup\":\"True\",\"hovertemplate\":\"source=model results<br>tour_type=othmaint<br>percentage=%{x}<br>tour_mode=%{y}<extra></extra>\",\"legendgroup\":\"model results\",\"marker\":{\"color\":\"#91268F\",\"pattern\":{\"shape\":\"\"}},\"name\":\"model results\",\"offsetgroup\":\"model results\",\"orientation\":\"h\",\"showlegend\":false,\"textposition\":\"auto\",\"x\":[0.007522611956761527,0.0007696644361104983,0.010336544353751502,0.05591097384611614,0.008370713532857808],\"xaxis\":\"x4\",\"y\":[\"DRIVE_TRN\",\"WALK_COM\",\"WALK_FRY\",\"WALK_LOC\",\"WALK_LR\"],\"yaxis\":\"y4\",\"type\":\"bar\"},{\"alignmentgroup\":\"True\",\"hovertemplate\":\"source=model results<br>tour_type=school<br>percentage=%{x}<br>tour_mode=%{y}<extra></extra>\",\"legendgroup\":\"model results\",\"marker\":{\"color\":\"#91268F\",\"pattern\":{\"shape\":\"\"}},\"name\":\"model results\",\"offsetgroup\":\"model results\",\"orientation\":\"h\",\"showlegend\":false,\"textposition\":\"auto\",\"x\":[0.0024827794417917326,0.005312485930916496,0.0011943824301312762,0.07180595390372377,0.013531478995023848],\"xaxis\":\"x5\",\"y\":[\"DRIVE_TRN\",\"WALK_COM\",\"WALK_FRY\",\"WALK_LOC\",\"WALK_LR\"],\"yaxis\":\"y5\",\"type\":\"bar\"},{\"alignmentgroup\":\"True\",\"hovertemplate\":\"source=model results<br>tour_type=shopping<br>percentage=%{x}<br>tour_mode=%{y}<extra></extra>\",\"legendgroup\":\"model results\",\"marker\":{\"color\":\"#91268F\",\"pattern\":{\"shape\":\"\"}},\"name\":\"model results\",\"offsetgroup\":\"model results\",\"orientation\":\"h\",\"showlegend\":false,\"textposition\":\"auto\",\"x\":[5.0911172387981664e-05,0.0005435111646825069,0.007832064681956531,0.04877565510295065,0.006813841234196897],\"xaxis\":\"x6\",\"y\":[\"DRIVE_TRN\",\"WALK_COM\",\"WALK_FRY\",\"WALK_LOC\",\"WALK_LR\"],\"yaxis\":\"y6\",\"type\":\"bar\"},{\"alignmentgroup\":\"True\",\"hovertemplate\":\"source=model results<br>tour_type=social<br>percentage=%{x}<br>tour_mode=%{y}<extra></extra>\",\"legendgroup\":\"model results\",\"marker\":{\"color\":\"#91268F\",\"pattern\":{\"shape\":\"\"}},\"name\":\"model results\",\"offsetgroup\":\"model results\",\"orientation\":\"h\",\"showlegend\":false,\"textposition\":\"auto\",\"x\":[0.005332275434778804,0.0015518438355045534,0.022233371643262605,0.05719069593778623,0.010466194890583341],\"xaxis\":\"x\",\"y\":[\"DRIVE_TRN\",\"WALK_COM\",\"WALK_FRY\",\"WALK_LOC\",\"WALK_LR\"],\"yaxis\":\"y\",\"type\":\"bar\"},{\"alignmentgroup\":\"True\",\"hovertemplate\":\"source=model results<br>tour_type=work<br>percentage=%{x}<br>tour_mode=%{y}<extra></extra>\",\"legendgroup\":\"model results\",\"marker\":{\"color\":\"#91268F\",\"pattern\":{\"shape\":\"\"}},\"name\":\"model results\",\"offsetgroup\":\"model results\",\"orientation\":\"h\",\"showlegend\":false,\"textposition\":\"auto\",\"x\":[0.01653863464135005,0.01718334673277915,0.03263335654194283,0.1062474755828759,0.021987913571651134],\"xaxis\":\"x2\",\"y\":[\"DRIVE_TRN\",\"WALK_COM\",\"WALK_FRY\",\"WALK_LOC\",\"WALK_LR\"],\"yaxis\":\"y2\",\"type\":\"bar\"},{\"alignmentgroup\":\"True\",\"hovertemplate\":\"source=survey data<br>tour_type=business<br>percentage=%{x}<br>tour_mode=%{y}<extra></extra>\",\"legendgroup\":\"survey data\",\"marker\":{\"color\":\"#00A7A0\",\"pattern\":{\"shape\":\"\"}},\"name\":\"survey data\",\"offsetgroup\":\"survey data\",\"orientation\":\"h\",\"showlegend\":true,\"textposition\":\"auto\",\"x\":[0.005331517271279193],\"xaxis\":\"x10\",\"y\":[\"WALK_LOC\"],\"yaxis\":\"y10\",\"type\":\"bar\"},{\"alignmentgroup\":\"True\",\"hovertemplate\":\"source=survey data<br>tour_type=eat<br>percentage=%{x}<br>tour_mode=%{y}<extra></extra>\",\"legendgroup\":\"survey data\",\"marker\":{\"color\":\"#00A7A0\",\"pattern\":{\"shape\":\"\"}},\"name\":\"survey data\",\"offsetgroup\":\"survey data\",\"orientation\":\"h\",\"showlegend\":false,\"textposition\":\"auto\",\"x\":[2.9961919480659112e-05,6.898366512641998e-05],\"xaxis\":\"x11\",\"y\":[\"WALK_LOC\",\"WALK_LR\"],\"yaxis\":\"y11\",\"type\":\"bar\"},{\"alignmentgroup\":\"True\",\"hovertemplate\":\"source=survey data<br>tour_type=eatout<br>percentage=%{x}<br>tour_mode=%{y}<extra></extra>\",\"legendgroup\":\"survey data\",\"marker\":{\"color\":\"#00A7A0\",\"pattern\":{\"shape\":\"\"}},\"name\":\"survey data\",\"offsetgroup\":\"survey data\",\"orientation\":\"h\",\"showlegend\":false,\"textposition\":\"auto\",\"x\":[0.0001929702595802792,0.00139645962492017,0.01714681604594281,0.007844226006737573],\"xaxis\":\"x12\",\"y\":[\"DRIVE_TRN\",\"WALK_FRY\",\"WALK_LOC\",\"WALK_LR\"],\"yaxis\":\"y12\",\"type\":\"bar\"},{\"alignmentgroup\":\"True\",\"hovertemplate\":\"source=survey data<br>tour_type=escort<br>percentage=%{x}<br>tour_mode=%{y}<extra></extra>\",\"legendgroup\":\"survey data\",\"marker\":{\"color\":\"#00A7A0\",\"pattern\":{\"shape\":\"\"}},\"name\":\"survey data\",\"offsetgroup\":\"survey data\",\"orientation\":\"h\",\"showlegend\":false,\"textposition\":\"auto\",\"x\":[0.0007588012700926158,0.00011629016613137703],\"xaxis\":\"x7\",\"y\":[\"WALK_LOC\",\"WALK_LR\"],\"yaxis\":\"y7\",\"type\":\"bar\"},{\"alignmentgroup\":\"True\",\"hovertemplate\":\"source=survey data<br>tour_type=maint<br>percentage=%{x}<br>tour_mode=%{y}<extra></extra>\",\"legendgroup\":\"survey data\",\"marker\":{\"color\":\"#00A7A0\",\"pattern\":{\"shape\":\"\"}},\"name\":\"survey data\",\"offsetgroup\":\"survey data\",\"orientation\":\"h\",\"showlegend\":false,\"textposition\":\"auto\",\"x\":[0.00741195255545645],\"xaxis\":\"x8\",\"y\":[\"WALK_LOC\"],\"yaxis\":\"y8\",\"type\":\"bar\"},{\"alignmentgroup\":\"True\",\"hovertemplate\":\"source=survey data<br>tour_type=othdiscr<br>percentage=%{x}<br>tour_mode=%{y}<extra></extra>\",\"legendgroup\":\"survey data\",\"marker\":{\"color\":\"#00A7A0\",\"pattern\":{\"shape\":\"\"}},\"name\":\"survey data\",\"offsetgroup\":\"survey data\",\"orientation\":\"h\",\"showlegend\":false,\"textposition\":\"auto\",\"x\":[0.0009197891605373747,0.0,0.014100756611157356,0.0009244442707743756],\"xaxis\":\"x9\",\"y\":[\"DRIVE_TRN\",\"WALK_FRY\",\"WALK_LOC\",\"WALK_LR\"],\"yaxis\":\"y9\",\"type\":\"bar\"},{\"alignmentgroup\":\"True\",\"hovertemplate\":\"source=survey data<br>tour_type=othmaint<br>percentage=%{x}<br>tour_mode=%{y}<extra></extra>\",\"legendgroup\":\"survey data\",\"marker\":{\"color\":\"#00A7A0\",\"pattern\":{\"shape\":\"\"}},\"name\":\"survey data\",\"offsetgroup\":\"survey data\",\"orientation\":\"h\",\"showlegend\":false,\"textposition\":\"auto\",\"x\":[0.00020098617172150657,0.0005543139336317466,0.07165471923520493,0.010883654328578731],\"xaxis\":\"x4\",\"y\":[\"DRIVE_TRN\",\"WALK_FRY\",\"WALK_LOC\",\"WALK_LR\"],\"yaxis\":\"y4\",\"type\":\"bar\"},{\"alignmentgroup\":\"True\",\"hovertemplate\":\"source=survey data<br>tour_type=school<br>percentage=%{x}<br>tour_mode=%{y}<extra></extra>\",\"legendgroup\":\"survey data\",\"marker\":{\"color\":\"#00A7A0\",\"pattern\":{\"shape\":\"\"}},\"name\":\"survey data\",\"offsetgroup\":\"survey data\",\"orientation\":\"h\",\"showlegend\":false,\"textposition\":\"auto\",\"x\":[0.015393560672526122,0.00015641595611658881,0.0865054914119494,0.0023038622332863983],\"xaxis\":\"x5\",\"y\":[\"DRIVE_TRN\",\"WALK_FRY\",\"WALK_LOC\",\"WALK_LR\"],\"yaxis\":\"y5\",\"type\":\"bar\"},{\"alignmentgroup\":\"True\",\"hovertemplate\":\"source=survey data<br>tour_type=shopping<br>percentage=%{x}<br>tour_mode=%{y}<extra></extra>\",\"legendgroup\":\"survey data\",\"marker\":{\"color\":\"#00A7A0\",\"pattern\":{\"shape\":\"\"}},\"name\":\"survey data\",\"offsetgroup\":\"survey data\",\"orientation\":\"h\",\"showlegend\":false,\"textposition\":\"auto\",\"x\":[2.7009303673155258e-05,0.062253341372407234,0.002713159378729872],\"xaxis\":\"x6\",\"y\":[\"WALK_FRY\",\"WALK_LOC\",\"WALK_LR\"],\"yaxis\":\"y6\",\"type\":\"bar\"},{\"alignmentgroup\":\"True\",\"hovertemplate\":\"source=survey data<br>tour_type=social<br>percentage=%{x}<br>tour_mode=%{y}<extra></extra>\",\"legendgroup\":\"survey data\",\"marker\":{\"color\":\"#00A7A0\",\"pattern\":{\"shape\":\"\"}},\"name\":\"survey data\",\"offsetgroup\":\"survey data\",\"orientation\":\"h\",\"showlegend\":false,\"textposition\":\"auto\",\"x\":[0.0019289955333368564,0.0004384526689628146,0.031930147024265484,0.0017634208401720072],\"xaxis\":\"x\",\"y\":[\"DRIVE_TRN\",\"WALK_FRY\",\"WALK_LOC\",\"WALK_LR\"],\"yaxis\":\"y\",\"type\":\"bar\"},{\"alignmentgroup\":\"True\",\"hovertemplate\":\"source=survey data<br>tour_type=work<br>percentage=%{x}<br>tour_mode=%{y}<extra></extra>\",\"legendgroup\":\"survey data\",\"marker\":{\"color\":\"#00A7A0\",\"pattern\":{\"shape\":\"\"}},\"name\":\"survey data\",\"offsetgroup\":\"survey data\",\"orientation\":\"h\",\"showlegend\":false,\"textposition\":\"auto\",\"x\":[0.010129738293058277,0.0016853344749078892,0.006714641717603625,0.07828729875518302,0.006139433167332126],\"xaxis\":\"x2\",\"y\":[\"DRIVE_TRN\",\"WALK_COM\",\"WALK_FRY\",\"WALK_LOC\",\"WALK_LR\"],\"yaxis\":\"y2\",\"type\":\"bar\"},{\"alignmentgroup\":\"True\",\"hovertemplate\":\"source=unweighted survey<br>tour_type=business<br>percentage=%{x}<br>tour_mode=%{y}<extra></extra>\",\"legendgroup\":\"unweighted survey\",\"marker\":{\"color\":\"#8CC63E\",\"pattern\":{\"shape\":\"\"}},\"name\":\"unweighted survey\",\"offsetgroup\":\"unweighted survey\",\"orientation\":\"h\",\"showlegend\":true,\"textposition\":\"auto\",\"x\":[0.046357615894039736],\"xaxis\":\"x10\",\"y\":[\"WALK_LOC\"],\"yaxis\":\"y10\",\"type\":\"bar\"},{\"alignmentgroup\":\"True\",\"hovertemplate\":\"source=unweighted survey<br>tour_type=eat<br>percentage=%{x}<br>tour_mode=%{y}<extra></extra>\",\"legendgroup\":\"unweighted survey\",\"marker\":{\"color\":\"#8CC63E\",\"pattern\":{\"shape\":\"\"}},\"name\":\"unweighted survey\",\"offsetgroup\":\"unweighted survey\",\"orientation\":\"h\",\"showlegend\":false,\"textposition\":\"auto\",\"x\":[0.0028328611898017,0.0028328611898017],\"xaxis\":\"x11\",\"y\":[\"WALK_LOC\",\"WALK_LR\"],\"yaxis\":\"y11\",\"type\":\"bar\"},{\"alignmentgroup\":\"True\",\"hovertemplate\":\"source=unweighted survey<br>tour_type=eatout<br>percentage=%{x}<br>tour_mode=%{y}<extra></extra>\",\"legendgroup\":\"unweighted survey\",\"marker\":{\"color\":\"#8CC63E\",\"pattern\":{\"shape\":\"\"}},\"name\":\"unweighted survey\",\"offsetgroup\":\"unweighted survey\",\"orientation\":\"h\",\"showlegend\":false,\"textposition\":\"auto\",\"x\":[0.0024096385542168677,0.0024096385542168677,0.046987951807228916,0.021686746987951807],\"xaxis\":\"x12\",\"y\":[\"DRIVE_TRN\",\"WALK_FRY\",\"WALK_LOC\",\"WALK_LR\"],\"yaxis\":\"y12\",\"type\":\"bar\"},{\"alignmentgroup\":\"True\",\"hovertemplate\":\"source=unweighted survey<br>tour_type=escort<br>percentage=%{x}<br>tour_mode=%{y}<extra></extra>\",\"legendgroup\":\"unweighted survey\",\"marker\":{\"color\":\"#8CC63E\",\"pattern\":{\"shape\":\"\"}},\"name\":\"unweighted survey\",\"offsetgroup\":\"unweighted survey\",\"orientation\":\"h\",\"showlegend\":false,\"textposition\":\"auto\",\"x\":[0.009749303621169917,0.004178272980501393],\"xaxis\":\"x7\",\"y\":[\"WALK_LOC\",\"WALK_LR\"],\"yaxis\":\"y7\",\"type\":\"bar\"},{\"alignmentgroup\":\"True\",\"hovertemplate\":\"source=unweighted survey<br>tour_type=maint<br>percentage=%{x}<br>tour_mode=%{y}<extra></extra>\",\"legendgroup\":\"unweighted survey\",\"marker\":{\"color\":\"#8CC63E\",\"pattern\":{\"shape\":\"\"}},\"name\":\"unweighted survey\",\"offsetgroup\":\"unweighted survey\",\"orientation\":\"h\",\"showlegend\":false,\"textposition\":\"auto\",\"x\":[0.029585798816568046],\"xaxis\":\"x8\",\"y\":[\"WALK_LOC\"],\"yaxis\":\"y8\",\"type\":\"bar\"},{\"alignmentgroup\":\"True\",\"hovertemplate\":\"source=unweighted survey<br>tour_type=othdiscr<br>percentage=%{x}<br>tour_mode=%{y}<extra></extra>\",\"legendgroup\":\"unweighted survey\",\"marker\":{\"color\":\"#8CC63E\",\"pattern\":{\"shape\":\"\"}},\"name\":\"unweighted survey\",\"offsetgroup\":\"unweighted survey\",\"orientation\":\"h\",\"showlegend\":false,\"textposition\":\"auto\",\"x\":[0.0018682858477347033,0.00046707146193367583,0.04624007473143391,0.010742643624474545],\"xaxis\":\"x9\",\"y\":[\"DRIVE_TRN\",\"WALK_FRY\",\"WALK_LOC\",\"WALK_LR\"],\"yaxis\":\"y9\",\"type\":\"bar\"},{\"alignmentgroup\":\"True\",\"hovertemplate\":\"source=unweighted survey<br>tour_type=othmaint<br>percentage=%{x}<br>tour_mode=%{y}<extra></extra>\",\"legendgroup\":\"unweighted survey\",\"marker\":{\"color\":\"#8CC63E\",\"pattern\":{\"shape\":\"\"}},\"name\":\"unweighted survey\",\"offsetgroup\":\"unweighted survey\",\"orientation\":\"h\",\"showlegend\":false,\"textposition\":\"auto\",\"x\":[0.0027675276752767526,0.0009225092250922509,0.08763837638376384,0.01937269372693727],\"xaxis\":\"x4\",\"y\":[\"DRIVE_TRN\",\"WALK_FRY\",\"WALK_LOC\",\"WALK_LR\"],\"yaxis\":\"y4\",\"type\":\"bar\"},{\"alignmentgroup\":\"True\",\"hovertemplate\":\"source=unweighted survey<br>tour_type=school<br>percentage=%{x}<br>tour_mode=%{y}<extra></extra>\",\"legendgroup\":\"unweighted survey\",\"marker\":{\"color\":\"#8CC63E\",\"pattern\":{\"shape\":\"\"}},\"name\":\"unweighted survey\",\"offsetgroup\":\"unweighted survey\",\"orientation\":\"h\",\"showlegend\":false,\"textposition\":\"auto\",\"x\":[0.0010695187165775401,0.0010695187165775401,0.15828877005347594,0.028877005347593583],\"xaxis\":\"x5\",\"y\":[\"DRIVE_TRN\",\"WALK_FRY\",\"WALK_LOC\",\"WALK_LR\"],\"yaxis\":\"y5\",\"type\":\"bar\"},{\"alignmentgroup\":\"True\",\"hovertemplate\":\"source=unweighted survey<br>tour_type=shopping<br>percentage=%{x}<br>tour_mode=%{y}<extra></extra>\",\"legendgroup\":\"unweighted survey\",\"marker\":{\"color\":\"#8CC63E\",\"pattern\":{\"shape\":\"\"}},\"name\":\"unweighted survey\",\"offsetgroup\":\"unweighted survey\",\"orientation\":\"h\",\"showlegend\":false,\"textposition\":\"auto\",\"x\":[0.0007052186177715092,0.056417489421720736,0.009167842031029619],\"xaxis\":\"x6\",\"y\":[\"WALK_FRY\",\"WALK_LOC\",\"WALK_LR\"],\"yaxis\":\"y6\",\"type\":\"bar\"},{\"alignmentgroup\":\"True\",\"hovertemplate\":\"source=unweighted survey<br>tour_type=social<br>percentage=%{x}<br>tour_mode=%{y}<extra></extra>\",\"legendgroup\":\"unweighted survey\",\"marker\":{\"color\":\"#8CC63E\",\"pattern\":{\"shape\":\"\"}},\"name\":\"unweighted survey\",\"offsetgroup\":\"unweighted survey\",\"orientation\":\"h\",\"showlegend\":false,\"textposition\":\"auto\",\"x\":[0.0045045045045045045,0.003003003003003003,0.07807807807807808,0.021021021021021023],\"xaxis\":\"x\",\"y\":[\"DRIVE_TRN\",\"WALK_FRY\",\"WALK_LOC\",\"WALK_LR\"],\"yaxis\":\"y\",\"type\":\"bar\"},{\"alignmentgroup\":\"True\",\"hovertemplate\":\"source=unweighted survey<br>tour_type=work<br>percentage=%{x}<br>tour_mode=%{y}<extra></extra>\",\"legendgroup\":\"unweighted survey\",\"marker\":{\"color\":\"#8CC63E\",\"pattern\":{\"shape\":\"\"}},\"name\":\"unweighted survey\",\"offsetgroup\":\"unweighted survey\",\"orientation\":\"h\",\"showlegend\":false,\"textposition\":\"auto\",\"x\":[0.013197788478687356,0.003745318352059925,0.005707151774567505,0.2288211164615659,0.04868913857677903],\"xaxis\":\"x2\",\"y\":[\"DRIVE_TRN\",\"WALK_COM\",\"WALK_FRY\",\"WALK_LOC\",\"WALK_LR\"],\"yaxis\":\"y2\",\"type\":\"bar\"}],                        {\"template\":{\"data\":{\"barpolar\":[{\"marker\":{\"line\":{\"color\":\"white\",\"width\":0.5},\"pattern\":{\"fillmode\":\"overlay\",\"size\":10,\"solidity\":0.2}},\"type\":\"barpolar\"}],\"bar\":[{\"error_x\":{\"color\":\"rgb(36,36,36)\"},\"error_y\":{\"color\":\"rgb(36,36,36)\"},\"marker\":{\"line\":{\"color\":\"white\",\"width\":0.5},\"pattern\":{\"fillmode\":\"overlay\",\"size\":10,\"solidity\":0.2}},\"type\":\"bar\"}],\"carpet\":[{\"aaxis\":{\"endlinecolor\":\"rgb(36,36,36)\",\"gridcolor\":\"white\",\"linecolor\":\"white\",\"minorgridcolor\":\"white\",\"startlinecolor\":\"rgb(36,36,36)\"},\"baxis\":{\"endlinecolor\":\"rgb(36,36,36)\",\"gridcolor\":\"white\",\"linecolor\":\"white\",\"minorgridcolor\":\"white\",\"startlinecolor\":\"rgb(36,36,36)\"},\"type\":\"carpet\"}],\"choropleth\":[{\"colorbar\":{\"outlinewidth\":1,\"tickcolor\":\"rgb(36,36,36)\",\"ticks\":\"outside\"},\"type\":\"choropleth\"}],\"contourcarpet\":[{\"colorbar\":{\"outlinewidth\":1,\"tickcolor\":\"rgb(36,36,36)\",\"ticks\":\"outside\"},\"type\":\"contourcarpet\"}],\"contour\":[{\"colorbar\":{\"outlinewidth\":1,\"tickcolor\":\"rgb(36,36,36)\",\"ticks\":\"outside\"},\"colorscale\":[[0.0,\"#440154\"],[0.1111111111111111,\"#482878\"],[0.2222222222222222,\"#3e4989\"],[0.3333333333333333,\"#31688e\"],[0.4444444444444444,\"#26828e\"],[0.5555555555555556,\"#1f9e89\"],[0.6666666666666666,\"#35b779\"],[0.7777777777777778,\"#6ece58\"],[0.8888888888888888,\"#b5de2b\"],[1.0,\"#fde725\"]],\"type\":\"contour\"}],\"heatmapgl\":[{\"colorbar\":{\"outlinewidth\":1,\"tickcolor\":\"rgb(36,36,36)\",\"ticks\":\"outside\"},\"colorscale\":[[0.0,\"#440154\"],[0.1111111111111111,\"#482878\"],[0.2222222222222222,\"#3e4989\"],[0.3333333333333333,\"#31688e\"],[0.4444444444444444,\"#26828e\"],[0.5555555555555556,\"#1f9e89\"],[0.6666666666666666,\"#35b779\"],[0.7777777777777778,\"#6ece58\"],[0.8888888888888888,\"#b5de2b\"],[1.0,\"#fde725\"]],\"type\":\"heatmapgl\"}],\"heatmap\":[{\"colorbar\":{\"outlinewidth\":1,\"tickcolor\":\"rgb(36,36,36)\",\"ticks\":\"outside\"},\"colorscale\":[[0.0,\"#440154\"],[0.1111111111111111,\"#482878\"],[0.2222222222222222,\"#3e4989\"],[0.3333333333333333,\"#31688e\"],[0.4444444444444444,\"#26828e\"],[0.5555555555555556,\"#1f9e89\"],[0.6666666666666666,\"#35b779\"],[0.7777777777777778,\"#6ece58\"],[0.8888888888888888,\"#b5de2b\"],[1.0,\"#fde725\"]],\"type\":\"heatmap\"}],\"histogram2dcontour\":[{\"colorbar\":{\"outlinewidth\":1,\"tickcolor\":\"rgb(36,36,36)\",\"ticks\":\"outside\"},\"colorscale\":[[0.0,\"#440154\"],[0.1111111111111111,\"#482878\"],[0.2222222222222222,\"#3e4989\"],[0.3333333333333333,\"#31688e\"],[0.4444444444444444,\"#26828e\"],[0.5555555555555556,\"#1f9e89\"],[0.6666666666666666,\"#35b779\"],[0.7777777777777778,\"#6ece58\"],[0.8888888888888888,\"#b5de2b\"],[1.0,\"#fde725\"]],\"type\":\"histogram2dcontour\"}],\"histogram2d\":[{\"colorbar\":{\"outlinewidth\":1,\"tickcolor\":\"rgb(36,36,36)\",\"ticks\":\"outside\"},\"colorscale\":[[0.0,\"#440154\"],[0.1111111111111111,\"#482878\"],[0.2222222222222222,\"#3e4989\"],[0.3333333333333333,\"#31688e\"],[0.4444444444444444,\"#26828e\"],[0.5555555555555556,\"#1f9e89\"],[0.6666666666666666,\"#35b779\"],[0.7777777777777778,\"#6ece58\"],[0.8888888888888888,\"#b5de2b\"],[1.0,\"#fde725\"]],\"type\":\"histogram2d\"}],\"histogram\":[{\"marker\":{\"line\":{\"color\":\"white\",\"width\":0.6}},\"type\":\"histogram\"}],\"mesh3d\":[{\"colorbar\":{\"outlinewidth\":1,\"tickcolor\":\"rgb(36,36,36)\",\"ticks\":\"outside\"},\"type\":\"mesh3d\"}],\"parcoords\":[{\"line\":{\"colorbar\":{\"outlinewidth\":1,\"tickcolor\":\"rgb(36,36,36)\",\"ticks\":\"outside\"}},\"type\":\"parcoords\"}],\"pie\":[{\"automargin\":true,\"type\":\"pie\"}],\"scatter3d\":[{\"line\":{\"colorbar\":{\"outlinewidth\":1,\"tickcolor\":\"rgb(36,36,36)\",\"ticks\":\"outside\"}},\"marker\":{\"colorbar\":{\"outlinewidth\":1,\"tickcolor\":\"rgb(36,36,36)\",\"ticks\":\"outside\"}},\"type\":\"scatter3d\"}],\"scattercarpet\":[{\"marker\":{\"colorbar\":{\"outlinewidth\":1,\"tickcolor\":\"rgb(36,36,36)\",\"ticks\":\"outside\"}},\"type\":\"scattercarpet\"}],\"scattergeo\":[{\"marker\":{\"colorbar\":{\"outlinewidth\":1,\"tickcolor\":\"rgb(36,36,36)\",\"ticks\":\"outside\"}},\"type\":\"scattergeo\"}],\"scattergl\":[{\"marker\":{\"colorbar\":{\"outlinewidth\":1,\"tickcolor\":\"rgb(36,36,36)\",\"ticks\":\"outside\"}},\"type\":\"scattergl\"}],\"scattermapbox\":[{\"marker\":{\"colorbar\":{\"outlinewidth\":1,\"tickcolor\":\"rgb(36,36,36)\",\"ticks\":\"outside\"}},\"type\":\"scattermapbox\"}],\"scatterpolargl\":[{\"marker\":{\"colorbar\":{\"outlinewidth\":1,\"tickcolor\":\"rgb(36,36,36)\",\"ticks\":\"outside\"}},\"type\":\"scatterpolargl\"}],\"scatterpolar\":[{\"marker\":{\"colorbar\":{\"outlinewidth\":1,\"tickcolor\":\"rgb(36,36,36)\",\"ticks\":\"outside\"}},\"type\":\"scatterpolar\"}],\"scatter\":[{\"fillpattern\":{\"fillmode\":\"overlay\",\"size\":10,\"solidity\":0.2},\"type\":\"scatter\"}],\"scatterternary\":[{\"marker\":{\"colorbar\":{\"outlinewidth\":1,\"tickcolor\":\"rgb(36,36,36)\",\"ticks\":\"outside\"}},\"type\":\"scatterternary\"}],\"surface\":[{\"colorbar\":{\"outlinewidth\":1,\"tickcolor\":\"rgb(36,36,36)\",\"ticks\":\"outside\"},\"colorscale\":[[0.0,\"#440154\"],[0.1111111111111111,\"#482878\"],[0.2222222222222222,\"#3e4989\"],[0.3333333333333333,\"#31688e\"],[0.4444444444444444,\"#26828e\"],[0.5555555555555556,\"#1f9e89\"],[0.6666666666666666,\"#35b779\"],[0.7777777777777778,\"#6ece58\"],[0.8888888888888888,\"#b5de2b\"],[1.0,\"#fde725\"]],\"type\":\"surface\"}],\"table\":[{\"cells\":{\"fill\":{\"color\":\"rgb(237,237,237)\"},\"line\":{\"color\":\"white\"}},\"header\":{\"fill\":{\"color\":\"rgb(217,217,217)\"},\"line\":{\"color\":\"white\"}},\"type\":\"table\"}]},\"layout\":{\"annotationdefaults\":{\"arrowhead\":0,\"arrowwidth\":1},\"autotypenumbers\":\"strict\",\"coloraxis\":{\"colorbar\":{\"outlinewidth\":1,\"tickcolor\":\"rgb(36,36,36)\",\"ticks\":\"outside\"}},\"colorscale\":{\"diverging\":[[0.0,\"rgb(103,0,31)\"],[0.1,\"rgb(178,24,43)\"],[0.2,\"rgb(214,96,77)\"],[0.3,\"rgb(244,165,130)\"],[0.4,\"rgb(253,219,199)\"],[0.5,\"rgb(247,247,247)\"],[0.6,\"rgb(209,229,240)\"],[0.7,\"rgb(146,197,222)\"],[0.8,\"rgb(67,147,195)\"],[0.9,\"rgb(33,102,172)\"],[1.0,\"rgb(5,48,97)\"]],\"sequential\":[[0.0,\"#440154\"],[0.1111111111111111,\"#482878\"],[0.2222222222222222,\"#3e4989\"],[0.3333333333333333,\"#31688e\"],[0.4444444444444444,\"#26828e\"],[0.5555555555555556,\"#1f9e89\"],[0.6666666666666666,\"#35b779\"],[0.7777777777777778,\"#6ece58\"],[0.8888888888888888,\"#b5de2b\"],[1.0,\"#fde725\"]],\"sequentialminus\":[[0.0,\"#440154\"],[0.1111111111111111,\"#482878\"],[0.2222222222222222,\"#3e4989\"],[0.3333333333333333,\"#31688e\"],[0.4444444444444444,\"#26828e\"],[0.5555555555555556,\"#1f9e89\"],[0.6666666666666666,\"#35b779\"],[0.7777777777777778,\"#6ece58\"],[0.8888888888888888,\"#b5de2b\"],[1.0,\"#fde725\"]]},\"colorway\":[\"#91268F\",\"#00A7A0\",\"#8CC63E\",\"#F05A28\",\"#4C4C4C\",\"#630460\",\"#9f3913\",\"#588527\",\"#00716c\",\"#3e4040\"],\"font\":{\"color\":\"rgb(36,36,36)\",\"size\":11},\"geo\":{\"bgcolor\":\"white\",\"lakecolor\":\"white\",\"landcolor\":\"white\",\"showlakes\":true,\"showland\":true,\"subunitcolor\":\"white\"},\"hoverlabel\":{\"align\":\"left\"},\"hovermode\":\"closest\",\"mapbox\":{\"style\":\"light\"},\"paper_bgcolor\":\"white\",\"plot_bgcolor\":\"white\",\"polar\":{\"angularaxis\":{\"gridcolor\":\"rgb(232,232,232)\",\"linecolor\":\"rgb(36,36,36)\",\"showgrid\":false,\"showline\":true,\"ticks\":\"outside\"},\"bgcolor\":\"white\",\"radialaxis\":{\"gridcolor\":\"rgb(232,232,232)\",\"linecolor\":\"rgb(36,36,36)\",\"showgrid\":false,\"showline\":true,\"ticks\":\"outside\"}},\"scene\":{\"xaxis\":{\"backgroundcolor\":\"white\",\"gridcolor\":\"rgb(232,232,232)\",\"gridwidth\":2,\"linecolor\":\"rgb(36,36,36)\",\"showbackground\":true,\"showgrid\":false,\"showline\":true,\"ticks\":\"outside\",\"zeroline\":false,\"zerolinecolor\":\"rgb(36,36,36)\"},\"yaxis\":{\"backgroundcolor\":\"white\",\"gridcolor\":\"rgb(232,232,232)\",\"gridwidth\":2,\"linecolor\":\"rgb(36,36,36)\",\"showbackground\":true,\"showgrid\":false,\"showline\":true,\"ticks\":\"outside\",\"zeroline\":false,\"zerolinecolor\":\"rgb(36,36,36)\"},\"zaxis\":{\"backgroundcolor\":\"white\",\"gridcolor\":\"rgb(232,232,232)\",\"gridwidth\":2,\"linecolor\":\"rgb(36,36,36)\",\"showbackground\":true,\"showgrid\":false,\"showline\":true,\"ticks\":\"outside\",\"zeroline\":false,\"zerolinecolor\":\"rgb(36,36,36)\"}},\"shapedefaults\":{\"fillcolor\":\"black\",\"line\":{\"width\":0},\"opacity\":0.3},\"ternary\":{\"aaxis\":{\"gridcolor\":\"rgb(232,232,232)\",\"linecolor\":\"rgb(36,36,36)\",\"showgrid\":false,\"showline\":true,\"ticks\":\"outside\"},\"baxis\":{\"gridcolor\":\"rgb(232,232,232)\",\"linecolor\":\"rgb(36,36,36)\",\"showgrid\":false,\"showline\":true,\"ticks\":\"outside\"},\"bgcolor\":\"white\",\"caxis\":{\"gridcolor\":\"rgb(232,232,232)\",\"linecolor\":\"rgb(36,36,36)\",\"showgrid\":false,\"showline\":true,\"ticks\":\"outside\"}},\"title\":{\"x\":0.05},\"xaxis\":{\"automargin\":true,\"gridcolor\":\"rgb(232,232,232)\",\"linecolor\":\"rgb(36,36,36)\",\"showgrid\":false,\"showline\":true,\"ticks\":\"outside\",\"title\":{\"standoff\":15},\"zeroline\":false,\"zerolinecolor\":\"rgb(36,36,36)\"},\"yaxis\":{\"automargin\":true,\"gridcolor\":\"rgb(232,232,232)\",\"linecolor\":\"rgb(36,36,36)\",\"showgrid\":false,\"showline\":true,\"ticks\":\"outside\",\"title\":{\"standoff\":15},\"zeroline\":false,\"zerolinecolor\":\"rgb(36,36,36)\"}}},\"xaxis\":{\"anchor\":\"y\",\"domain\":[0.0,0.31999999999999995],\"title\":{\"text\":\"percentage\"},\"tickformat\":\".1%\"},\"yaxis\":{\"anchor\":\"x\",\"domain\":[0.0,0.1975],\"title\":{\"text\":\"tour_mode\"}},\"xaxis2\":{\"anchor\":\"y2\",\"domain\":[0.33999999999999997,0.6599999999999999],\"matches\":\"x\",\"title\":{\"text\":\"percentage\"},\"tickformat\":\".1%\"},\"yaxis2\":{\"anchor\":\"x2\",\"domain\":[0.0,0.1975],\"matches\":\"y\",\"showticklabels\":false},\"xaxis3\":{\"anchor\":\"y3\",\"domain\":[0.6799999999999999,0.9999999999999999],\"matches\":\"x\",\"title\":{\"text\":\"percentage\"}},\"yaxis3\":{\"anchor\":\"x3\",\"domain\":[0.0,0.1975],\"matches\":\"y\",\"showticklabels\":false},\"xaxis4\":{\"anchor\":\"y4\",\"domain\":[0.0,0.31999999999999995],\"matches\":\"x\",\"showticklabels\":false},\"yaxis4\":{\"anchor\":\"x4\",\"domain\":[0.2675,0.465],\"matches\":\"y\",\"title\":{\"text\":\"tour_mode\"}},\"xaxis5\":{\"anchor\":\"y5\",\"domain\":[0.33999999999999997,0.6599999999999999],\"matches\":\"x\",\"showticklabels\":false},\"yaxis5\":{\"anchor\":\"x5\",\"domain\":[0.2675,0.465],\"matches\":\"y\",\"showticklabels\":false},\"xaxis6\":{\"anchor\":\"y6\",\"domain\":[0.6799999999999999,0.9999999999999999],\"matches\":\"x\",\"showticklabels\":false},\"yaxis6\":{\"anchor\":\"x6\",\"domain\":[0.2675,0.465],\"matches\":\"y\",\"showticklabels\":false},\"xaxis7\":{\"anchor\":\"y7\",\"domain\":[0.0,0.31999999999999995],\"matches\":\"x\",\"showticklabels\":false},\"yaxis7\":{\"anchor\":\"x7\",\"domain\":[0.535,0.7325],\"matches\":\"y\",\"title\":{\"text\":\"tour_mode\"}},\"xaxis8\":{\"anchor\":\"y8\",\"domain\":[0.33999999999999997,0.6599999999999999],\"matches\":\"x\",\"showticklabels\":false},\"yaxis8\":{\"anchor\":\"x8\",\"domain\":[0.535,0.7325],\"matches\":\"y\",\"showticklabels\":false},\"xaxis9\":{\"anchor\":\"y9\",\"domain\":[0.6799999999999999,0.9999999999999999],\"matches\":\"x\",\"showticklabels\":false},\"yaxis9\":{\"anchor\":\"x9\",\"domain\":[0.535,0.7325],\"matches\":\"y\",\"showticklabels\":false},\"xaxis10\":{\"anchor\":\"y10\",\"domain\":[0.0,0.31999999999999995],\"matches\":\"x\",\"showticklabels\":false},\"yaxis10\":{\"anchor\":\"x10\",\"domain\":[0.8025,1.0],\"matches\":\"y\",\"title\":{\"text\":\"tour_mode\"}},\"xaxis11\":{\"anchor\":\"y11\",\"domain\":[0.33999999999999997,0.6599999999999999],\"matches\":\"x\",\"showticklabels\":false},\"yaxis11\":{\"anchor\":\"x11\",\"domain\":[0.8025,1.0],\"matches\":\"y\",\"showticklabels\":false},\"xaxis12\":{\"anchor\":\"y12\",\"domain\":[0.6799999999999999,0.9999999999999999],\"matches\":\"x\",\"showticklabels\":false},\"yaxis12\":{\"anchor\":\"x12\",\"domain\":[0.8025,1.0],\"matches\":\"y\",\"showticklabels\":false},\"annotations\":[{\"font\":{},\"showarrow\":false,\"text\":\"social\",\"x\":0.15999999999999998,\"xanchor\":\"center\",\"xref\":\"paper\",\"y\":0.1975,\"yanchor\":\"bottom\",\"yref\":\"paper\"},{\"font\":{},\"showarrow\":false,\"text\":\"work\",\"x\":0.49999999999999994,\"xanchor\":\"center\",\"xref\":\"paper\",\"y\":0.1975,\"yanchor\":\"bottom\",\"yref\":\"paper\"},{\"font\":{},\"showarrow\":false,\"text\":\"othmaint\",\"x\":0.15999999999999998,\"xanchor\":\"center\",\"xref\":\"paper\",\"y\":0.465,\"yanchor\":\"bottom\",\"yref\":\"paper\"},{\"font\":{},\"showarrow\":false,\"text\":\"school\",\"x\":0.49999999999999994,\"xanchor\":\"center\",\"xref\":\"paper\",\"y\":0.465,\"yanchor\":\"bottom\",\"yref\":\"paper\"},{\"font\":{},\"showarrow\":false,\"text\":\"shopping\",\"x\":0.8399999999999999,\"xanchor\":\"center\",\"xref\":\"paper\",\"y\":0.465,\"yanchor\":\"bottom\",\"yref\":\"paper\"},{\"font\":{},\"showarrow\":false,\"text\":\"escort\",\"x\":0.15999999999999998,\"xanchor\":\"center\",\"xref\":\"paper\",\"y\":0.7325,\"yanchor\":\"bottom\",\"yref\":\"paper\"},{\"font\":{},\"showarrow\":false,\"text\":\"maint\",\"x\":0.49999999999999994,\"xanchor\":\"center\",\"xref\":\"paper\",\"y\":0.7325,\"yanchor\":\"bottom\",\"yref\":\"paper\"},{\"font\":{},\"showarrow\":false,\"text\":\"othdiscr\",\"x\":0.8399999999999999,\"xanchor\":\"center\",\"xref\":\"paper\",\"y\":0.7325,\"yanchor\":\"bottom\",\"yref\":\"paper\"},{\"font\":{},\"showarrow\":false,\"text\":\"business\",\"x\":0.15999999999999998,\"xanchor\":\"center\",\"xref\":\"paper\",\"y\":1.0,\"yanchor\":\"bottom\",\"yref\":\"paper\"},{\"font\":{},\"showarrow\":false,\"text\":\"eat\",\"x\":0.49999999999999994,\"xanchor\":\"center\",\"xref\":\"paper\",\"y\":1.0,\"yanchor\":\"bottom\",\"yref\":\"paper\"},{\"font\":{},\"showarrow\":false,\"text\":\"eatout\",\"x\":0.8399999999999999,\"xanchor\":\"center\",\"xref\":\"paper\",\"y\":1.0,\"yanchor\":\"bottom\",\"yref\":\"paper\"}],\"legend\":{\"title\":{\"text\":\"source\"},\"tracegroupgap\":0},\"title\":{\"text\":\"Tour mode choice by tour_type: disaggregated transit modes\"},\"barmode\":\"group\",\"height\":800,\"width\":700},                        {\"responsive\": true}                    ).then(function(){\n",
       "                            \n",
       "var gd = document.getElementById('ee45a06d-fda9-4418-9be6-e806960f7167');\n",
       "var x = new MutationObserver(function (mutations, observer) {{\n",
       "        var display = window.getComputedStyle(gd).display;\n",
       "        if (!display || display === 'none') {{\n",
       "            console.log([gd, 'removed!']);\n",
       "            Plotly.purge(gd);\n",
       "            observer.disconnect();\n",
       "        }}\n",
       "}});\n",
       "\n",
       "// Listen for the removal of the full notebook cells\n",
       "var notebookContainer = gd.closest('#notebook-container');\n",
       "if (notebookContainer) {{\n",
       "    x.observe(notebookContainer, {childList: true});\n",
       "}}\n",
       "\n",
       "// Listen for the clearing of the current output cell\n",
       "var outputEl = gd.closest('.output');\n",
       "if (outputEl) {{\n",
       "    x.observe(outputEl, {childList: true});\n",
       "}}\n",
       "\n",
       "                        })                };                });            </script>        </div>"
      ]
     },
     "metadata": {},
     "output_type": "display_data"
    }
   ],
   "source": [
    "plot_mode_choice(tour_data,'tour_type',3,1200)\n",
    "plot_mode_choice_transit(tour_data,'tour_type',3,800)"
   ]
  },
  {
   "cell_type": "raw",
   "metadata": {
    "collapsed": false
   },
   "source": [
    "### person type"
   ]
  },
  {
   "cell_type": "code",
   "execution_count": 7,
   "metadata": {
    "collapsed": false,
    "execution": {
     "iopub.execute_input": "2024-02-09T22:44:17.426610Z",
     "iopub.status.busy": "2024-02-09T22:44:17.425612Z",
     "iopub.status.idle": "2024-02-09T22:44:20.480511Z",
     "shell.execute_reply": "2024-02-09T22:44:20.480511Z"
    }
   },
   "outputs": [
    {
     "data": {
      "application/vnd.plotly.v1+json": {
       "config": {
        "plotlyServerURL": "https://plot.ly"
       },
       "data": [
        {
         "alignmentgroup": "True",
         "hovertemplate": "source=model results<br>ptype_label=1: Full-Time Worker<br>percentage=%{x}<br>tour_mode_transit_agg=%{y}<extra></extra>",
         "legendgroup": "model results",
         "marker": {
          "color": "#91268F",
          "pattern": {
           "shape": ""
          }
         },
         "name": "model results",
         "offsetgroup": "model results",
         "orientation": "h",
         "showlegend": true,
         "textposition": "auto",
         "type": "bar",
         "x": [
          0.12474265178948916,
          0.017816308523740373,
          0.471618628334038,
          0.17967730372603444,
          0.08980027940662856,
          0.008551313394974357,
          0.10779351482509512
         ],
         "xaxis": "x7",
         "y": [
          "ALL_TRANSIT",
          "BIKE",
          "DRIVEALONEFREE",
          "SHARED2FREE",
          "SHARED3FREE",
          "TNC",
          "WALK"
         ],
         "yaxis": "y7"
        },
        {
         "alignmentgroup": "True",
         "hovertemplate": "source=model results<br>ptype_label=2: Part-Time Worker<br>percentage=%{x}<br>tour_mode_transit_agg=%{y}<extra></extra>",
         "legendgroup": "model results",
         "marker": {
          "color": "#91268F",
          "pattern": {
           "shape": ""
          }
         },
         "name": "model results",
         "offsetgroup": "model results",
         "orientation": "h",
         "showlegend": false,
         "textposition": "auto",
         "type": "bar",
         "x": [
          0.09680205552618468,
          0.015494768720669917,
          0.4190875883029943,
          0.26995968575338475,
          0.11694177387036347,
          0.005782799109736119,
          0.07593132871666677
         ],
         "xaxis": "x8",
         "y": [
          "ALL_TRANSIT",
          "BIKE",
          "DRIVEALONEFREE",
          "SHARED2FREE",
          "SHARED3FREE",
          "TNC",
          "WALK"
         ],
         "yaxis": "y8"
        },
        {
         "alignmentgroup": "True",
         "hovertemplate": "source=model results<br>ptype_label=3: University Student<br>percentage=%{x}<br>tour_mode_transit_agg=%{y}<extra></extra>",
         "legendgroup": "model results",
         "marker": {
          "color": "#91268F",
          "pattern": {
           "shape": ""
          }
         },
         "name": "model results",
         "offsetgroup": "model results",
         "orientation": "h",
         "showlegend": false,
         "textposition": "auto",
         "type": "bar",
         "x": [
          0.19413436266475284,
          0.03752339756956231,
          0.35679717580424597,
          0.2146029929492091,
          0.08293650408790697,
          0.008520109786730547,
          0.10548545713759226
         ],
         "xaxis": "x5",
         "y": [
          "ALL_TRANSIT",
          "BIKE",
          "DRIVEALONEFREE",
          "SHARED2FREE",
          "SHARED3FREE",
          "TNC",
          "WALK"
         ],
         "yaxis": "y5"
        },
        {
         "alignmentgroup": "True",
         "hovertemplate": "source=model results<br>ptype_label=4: Non-Working Adult Age <65<br>percentage=%{x}<br>tour_mode_transit_agg=%{y}<extra></extra>",
         "legendgroup": "model results",
         "marker": {
          "color": "#91268F",
          "pattern": {
           "shape": ""
          }
         },
         "name": "model results",
         "offsetgroup": "model results",
         "orientation": "h",
         "showlegend": false,
         "textposition": "auto",
         "type": "bar",
         "x": [
          0.053890510704411886,
          0.011510882196072773,
          0.3666180551440181,
          0.3375000966218427,
          0.14398715831295686,
          0.003815918641831847,
          0.08267737837886584
         ],
         "xaxis": "x6",
         "y": [
          "ALL_TRANSIT",
          "BIKE",
          "DRIVEALONEFREE",
          "SHARED2FREE",
          "SHARED3FREE",
          "TNC",
          "WALK"
         ],
         "yaxis": "y6"
        },
        {
         "alignmentgroup": "True",
         "hovertemplate": "source=model results<br>ptype_label=5: Non-Working Adult Age 65+<br>percentage=%{x}<br>tour_mode_transit_agg=%{y}<extra></extra>",
         "legendgroup": "model results",
         "marker": {
          "color": "#91268F",
          "pattern": {
           "shape": ""
          }
         },
         "name": "model results",
         "offsetgroup": "model results",
         "orientation": "h",
         "showlegend": false,
         "textposition": "auto",
         "type": "bar",
         "x": [
          0.06575079860218826,
          0.010382297385761904,
          0.5308158216083089,
          0.2158955130092906,
          0.08606146094961913,
          0.004079764555380693,
          0.08701434388945058
         ],
         "xaxis": "x3",
         "y": [
          "ALL_TRANSIT",
          "BIKE",
          "DRIVEALONEFREE",
          "SHARED2FREE",
          "SHARED3FREE",
          "TNC",
          "WALK"
         ],
         "yaxis": "y3"
        },
        {
         "alignmentgroup": "True",
         "hovertemplate": "source=model results<br>ptype_label=6: High School Student Age 16+<br>percentage=%{x}<br>tour_mode_transit_agg=%{y}<extra></extra>",
         "legendgroup": "model results",
         "marker": {
          "color": "#91268F",
          "pattern": {
           "shape": ""
          }
         },
         "name": "model results",
         "offsetgroup": "model results",
         "orientation": "h",
         "showlegend": false,
         "textposition": "auto",
         "type": "bar",
         "x": [
          0.11863610990834016,
          0.013975908642735293,
          0.24874404628378555,
          0.04517781591865906,
          0.2930297829273764,
          0.22961390182954505,
          0.002884911339840469,
          0.04793752314971803
         ],
         "xaxis": "x4",
         "y": [
          "ALL_TRANSIT",
          "BIKE",
          "DRIVEALONEFREE",
          "SCH_BUS",
          "SHARED2FREE",
          "SHARED3FREE",
          "TNC",
          "WALK"
         ],
         "yaxis": "y4"
        },
        {
         "alignmentgroup": "True",
         "hovertemplate": "source=model results<br>ptype_label=7: Child Age 5-15<br>percentage=%{x}<br>tour_mode_transit_agg=%{y}<extra></extra>",
         "legendgroup": "model results",
         "marker": {
          "color": "#91268F",
          "pattern": {
           "shape": ""
          }
         },
         "name": "model results",
         "offsetgroup": "model results",
         "orientation": "h",
         "showlegend": false,
         "textposition": "auto",
         "type": "bar",
         "x": [
          0.053148645029850825,
          0.018162533408244814,
          0.21306540227289833,
          0.36297237551654793,
          0.24411866118482659,
          0.0024346231059909932,
          0.10609775948164056
         ],
         "xaxis": "x",
         "y": [
          "ALL_TRANSIT",
          "BIKE",
          "SCH_BUS",
          "SHARED2FREE",
          "SHARED3FREE",
          "TNC",
          "WALK"
         ],
         "yaxis": "y"
        },
        {
         "alignmentgroup": "True",
         "hovertemplate": "source=model results<br>ptype_label=8: Child Age 0-4<br>percentage=%{x}<br>tour_mode_transit_agg=%{y}<extra></extra>",
         "legendgroup": "model results",
         "marker": {
          "color": "#91268F",
          "pattern": {
           "shape": ""
          }
         },
         "name": "model results",
         "offsetgroup": "model results",
         "orientation": "h",
         "showlegend": false,
         "textposition": "auto",
         "type": "bar",
         "x": [
          0.03044958351708794,
          0.022987081844714558,
          0.048828347595994234,
          0.46509818689949406,
          0.3032867711549039,
          0.002997884137972043,
          0.12635214484983326
         ],
         "xaxis": "x2",
         "y": [
          "ALL_TRANSIT",
          "BIKE",
          "SCH_BUS",
          "SHARED2FREE",
          "SHARED3FREE",
          "TNC",
          "WALK"
         ],
         "yaxis": "y2"
        },
        {
         "alignmentgroup": "True",
         "hovertemplate": "source=survey data<br>ptype_label=1: Full-Time Worker<br>percentage=%{x}<br>tour_mode_transit_agg=%{y}<extra></extra>",
         "legendgroup": "survey data",
         "marker": {
          "color": "#00A7A0",
          "pattern": {
           "shape": ""
          }
         },
         "name": "survey data",
         "offsetgroup": "survey data",
         "orientation": "h",
         "showlegend": true,
         "textposition": "auto",
         "type": "bar",
         "x": [
          0.07331075476156679,
          0.017864420306627535,
          0.5307925159112671,
          0.002611527619133405,
          0.00023527290807704034,
          0.17177935060928973,
          0.10346196695098753,
          0.005744454527267034,
          0.09419973640578398
         ],
         "xaxis": "x7",
         "y": [
          "ALL_TRANSIT",
          "BIKE",
          "DRIVEALONEFREE",
          "Other",
          "SCH_BUS",
          "SHARED2FREE",
          "SHARED3FREE",
          "TNC",
          "WALK"
         ],
         "yaxis": "y7"
        },
        {
         "alignmentgroup": "True",
         "hovertemplate": "source=survey data<br>ptype_label=2: Part-Time Worker<br>percentage=%{x}<br>tour_mode_transit_agg=%{y}<extra></extra>",
         "legendgroup": "survey data",
         "marker": {
          "color": "#00A7A0",
          "pattern": {
           "shape": ""
          }
         },
         "name": "survey data",
         "offsetgroup": "survey data",
         "orientation": "h",
         "showlegend": false,
         "textposition": "auto",
         "type": "bar",
         "x": [
          0.07070144199717297,
          0.004940155811631587,
          0.5797269282626383,
          0.00437818224304406,
          0.19243460078676716,
          0.06698400555696536,
          0.00011972936033794962,
          0.0807149559814426
         ],
         "xaxis": "x8",
         "y": [
          "ALL_TRANSIT",
          "BIKE",
          "DRIVEALONEFREE",
          "Other",
          "SHARED2FREE",
          "SHARED3FREE",
          "TNC",
          "WALK"
         ],
         "yaxis": "y8"
        },
        {
         "alignmentgroup": "True",
         "hovertemplate": "source=survey data<br>ptype_label=3: University Student<br>percentage=%{x}<br>tour_mode_transit_agg=%{y}<extra></extra>",
         "legendgroup": "survey data",
         "marker": {
          "color": "#00A7A0",
          "pattern": {
           "shape": ""
          }
         },
         "name": "survey data",
         "offsetgroup": "survey data",
         "orientation": "h",
         "showlegend": false,
         "textposition": "auto",
         "type": "bar",
         "x": [
          0.19895646074023424,
          0.00875373308267574,
          0.41065507960648784,
          0.006953250137482995,
          0.1935851147387784,
          0.10702110057802958,
          0.010175856427495763,
          0.0638994046888155
         ],
         "xaxis": "x5",
         "y": [
          "ALL_TRANSIT",
          "BIKE",
          "DRIVEALONEFREE",
          "SCH_BUS",
          "SHARED2FREE",
          "SHARED3FREE",
          "TNC",
          "WALK"
         ],
         "yaxis": "y5"
        },
        {
         "alignmentgroup": "True",
         "hovertemplate": "source=survey data<br>ptype_label=4: Non-Working Adult Age <65<br>percentage=%{x}<br>tour_mode_transit_agg=%{y}<extra></extra>",
         "legendgroup": "survey data",
         "marker": {
          "color": "#00A7A0",
          "pattern": {
           "shape": ""
          }
         },
         "name": "survey data",
         "offsetgroup": "survey data",
         "orientation": "h",
         "showlegend": false,
         "textposition": "auto",
         "type": "bar",
         "x": [
          0.04703253632335278,
          0.0049776559716655485,
          0.33352292467270717,
          0.00044175986121094263,
          0.30230614901497543,
          0.18104236641884838,
          0.0020685452963976913,
          0.1286080624408421
         ],
         "xaxis": "x6",
         "y": [
          "ALL_TRANSIT",
          "BIKE",
          "DRIVEALONEFREE",
          "Other",
          "SHARED2FREE",
          "SHARED3FREE",
          "TNC",
          "WALK"
         ],
         "yaxis": "y6"
        },
        {
         "alignmentgroup": "True",
         "hovertemplate": "source=survey data<br>ptype_label=5: Non-Working Adult Age 65+<br>percentage=%{x}<br>tour_mode_transit_agg=%{y}<extra></extra>",
         "legendgroup": "survey data",
         "marker": {
          "color": "#00A7A0",
          "pattern": {
           "shape": ""
          }
         },
         "name": "survey data",
         "offsetgroup": "survey data",
         "orientation": "h",
         "showlegend": false,
         "textposition": "auto",
         "type": "bar",
         "x": [
          0.06086818594148499,
          0.0017690647449145034,
          0.4995384462452455,
          0.009859952535308903,
          0.2526617723649937,
          0.039728041376923234,
          5.571144172243365e-05,
          0.13551882534940668
         ],
         "xaxis": "x3",
         "y": [
          "ALL_TRANSIT",
          "BIKE",
          "DRIVEALONEFREE",
          "Other",
          "SHARED2FREE",
          "SHARED3FREE",
          "TNC",
          "WALK"
         ],
         "yaxis": "y3"
        },
        {
         "alignmentgroup": "True",
         "hovertemplate": "source=survey data<br>ptype_label=6: High School Student Age 16+<br>percentage=%{x}<br>tour_mode_transit_agg=%{y}<extra></extra>",
         "legendgroup": "survey data",
         "marker": {
          "color": "#00A7A0",
          "pattern": {
           "shape": ""
          }
         },
         "name": "survey data",
         "offsetgroup": "survey data",
         "orientation": "h",
         "showlegend": false,
         "textposition": "auto",
         "type": "bar",
         "x": [
          0.05646143430120324,
          0.004173349141123231,
          0.36633648221486204,
          0.10537613909765184,
          0.18367086951629324,
          0.24949541583121396,
          0.017481678974939106,
          0.017004630922713405
         ],
         "xaxis": "x4",
         "y": [
          "ALL_TRANSIT",
          "BIKE",
          "DRIVEALONEFREE",
          "SCH_BUS",
          "SHARED2FREE",
          "SHARED3FREE",
          "TNC",
          "WALK"
         ],
         "yaxis": "y4"
        },
        {
         "alignmentgroup": "True",
         "hovertemplate": "source=survey data<br>ptype_label=7: Child Age 5-15<br>percentage=%{x}<br>tour_mode_transit_agg=%{y}<extra></extra>",
         "legendgroup": "survey data",
         "marker": {
          "color": "#00A7A0",
          "pattern": {
           "shape": ""
          }
         },
         "name": "survey data",
         "offsetgroup": "survey data",
         "orientation": "h",
         "showlegend": false,
         "textposition": "auto",
         "type": "bar",
         "x": [
          0.01400797535977015,
          0.011638829660575651,
          0.0007235697087579902,
          0.012262735880585785,
          0.2737077726795708,
          0.1982321991701664,
          0.3850247611284562,
          8.792291511619138e-06,
          0.10439336412060525
         ],
         "xaxis": "x",
         "y": [
          "ALL_TRANSIT",
          "BIKE",
          "DRIVEALONEFREE",
          "Other",
          "SCH_BUS",
          "SHARED2FREE",
          "SHARED3FREE",
          "TNC",
          "WALK"
         ],
         "yaxis": "y"
        },
        {
         "alignmentgroup": "True",
         "hovertemplate": "source=survey data<br>ptype_label=8: Child Age 0-4<br>percentage=%{x}<br>tour_mode_transit_agg=%{y}<extra></extra>",
         "legendgroup": "survey data",
         "marker": {
          "color": "#00A7A0",
          "pattern": {
           "shape": ""
          }
         },
         "name": "survey data",
         "offsetgroup": "survey data",
         "orientation": "h",
         "showlegend": false,
         "textposition": "auto",
         "type": "bar",
         "x": [
          0.01670053965685396,
          0.000250622260858451,
          0.0,
          0.6715803291305497,
          0.26462387415457556,
          0.0468446347971622
         ],
         "xaxis": "x2",
         "y": [
          "ALL_TRANSIT",
          "BIKE",
          "DRIVEALONEFREE",
          "SHARED2FREE",
          "SHARED3FREE",
          "WALK"
         ],
         "yaxis": "y2"
        },
        {
         "alignmentgroup": "True",
         "hovertemplate": "source=unweighted survey<br>ptype_label=1: Full-Time Worker<br>percentage=%{x}<br>tour_mode_transit_agg=%{y}<extra></extra>",
         "legendgroup": "unweighted survey",
         "marker": {
          "color": "#8CC63E",
          "pattern": {
           "shape": ""
          }
         },
         "name": "unweighted survey",
         "offsetgroup": "unweighted survey",
         "orientation": "h",
         "showlegend": true,
         "textposition": "auto",
         "type": "bar",
         "x": [
          0.21029635258358662,
          0.04160334346504559,
          0.366451367781155,
          0.005129179331306991,
          0.00018996960486322188,
          0.11702127659574468,
          0.04901215805471125,
          0.012727963525835866,
          0.19756838905775076
         ],
         "xaxis": "x7",
         "y": [
          "ALL_TRANSIT",
          "BIKE",
          "DRIVEALONEFREE",
          "Other",
          "SCH_BUS",
          "SHARED2FREE",
          "SHARED3FREE",
          "TNC",
          "WALK"
         ],
         "yaxis": "y7"
        },
        {
         "alignmentgroup": "True",
         "hovertemplate": "source=unweighted survey<br>ptype_label=2: Part-Time Worker<br>percentage=%{x}<br>tour_mode_transit_agg=%{y}<extra></extra>",
         "legendgroup": "unweighted survey",
         "marker": {
          "color": "#8CC63E",
          "pattern": {
           "shape": ""
          }
         },
         "name": "unweighted survey",
         "offsetgroup": "unweighted survey",
         "orientation": "h",
         "showlegend": false,
         "textposition": "auto",
         "type": "bar",
         "x": [
          0.14106583072100312,
          0.03657262277951933,
          0.42528735632183906,
          0.0020898641588296763,
          0.14106583072100312,
          0.06374085684430512,
          0.0041797283176593526,
          0.18599791013584116
         ],
         "xaxis": "x8",
         "y": [
          "ALL_TRANSIT",
          "BIKE",
          "DRIVEALONEFREE",
          "Other",
          "SHARED2FREE",
          "SHARED3FREE",
          "TNC",
          "WALK"
         ],
         "yaxis": "y8"
        },
        {
         "alignmentgroup": "True",
         "hovertemplate": "source=unweighted survey<br>ptype_label=3: University Student<br>percentage=%{x}<br>tour_mode_transit_agg=%{y}<extra></extra>",
         "legendgroup": "unweighted survey",
         "marker": {
          "color": "#8CC63E",
          "pattern": {
           "shape": ""
          }
         },
         "name": "unweighted survey",
         "offsetgroup": "unweighted survey",
         "orientation": "h",
         "showlegend": false,
         "textposition": "auto",
         "type": "bar",
         "x": [
          0.3236514522821577,
          0.06639004149377593,
          0.2033195020746888,
          0.002074688796680498,
          0.10995850622406639,
          0.043568464730290454,
          0.024896265560165973,
          0.22614107883817428
         ],
         "xaxis": "x5",
         "y": [
          "ALL_TRANSIT",
          "BIKE",
          "DRIVEALONEFREE",
          "SCH_BUS",
          "SHARED2FREE",
          "SHARED3FREE",
          "TNC",
          "WALK"
         ],
         "yaxis": "y5"
        },
        {
         "alignmentgroup": "True",
         "hovertemplate": "source=unweighted survey<br>ptype_label=4: Non-Working Adult Age <65<br>percentage=%{x}<br>tour_mode_transit_agg=%{y}<extra></extra>",
         "legendgroup": "unweighted survey",
         "marker": {
          "color": "#8CC63E",
          "pattern": {
           "shape": ""
          }
         },
         "name": "unweighted survey",
         "offsetgroup": "unweighted survey",
         "orientation": "h",
         "showlegend": false,
         "textposition": "auto",
         "type": "bar",
         "x": [
          0.09323583180987204,
          0.01340645947592931,
          0.28762949421084705,
          0.0018281535648994515,
          0.22608165752589884,
          0.1157830591102986,
          0.009750152346130409,
          0.2522851919561243
         ],
         "xaxis": "x6",
         "y": [
          "ALL_TRANSIT",
          "BIKE",
          "DRIVEALONEFREE",
          "Other",
          "SHARED2FREE",
          "SHARED3FREE",
          "TNC",
          "WALK"
         ],
         "yaxis": "y6"
        },
        {
         "alignmentgroup": "True",
         "hovertemplate": "source=unweighted survey<br>ptype_label=5: Non-Working Adult Age 65+<br>percentage=%{x}<br>tour_mode_transit_agg=%{y}<extra></extra>",
         "legendgroup": "unweighted survey",
         "marker": {
          "color": "#8CC63E",
          "pattern": {
           "shape": ""
          }
         },
         "name": "unweighted survey",
         "offsetgroup": "unweighted survey",
         "orientation": "h",
         "showlegend": false,
         "textposition": "auto",
         "type": "bar",
         "x": [
          0.08707360861759425,
          0.013464991023339317,
          0.47217235188509876,
          0.008976660682226212,
          0.19210053859964094,
          0.03231597845601436,
          0.0008976660682226212,
          0.19299820466786355
         ],
         "xaxis": "x3",
         "y": [
          "ALL_TRANSIT",
          "BIKE",
          "DRIVEALONEFREE",
          "Other",
          "SHARED2FREE",
          "SHARED3FREE",
          "TNC",
          "WALK"
         ],
         "yaxis": "y3"
        },
        {
         "alignmentgroup": "True",
         "hovertemplate": "source=unweighted survey<br>ptype_label=6: High School Student Age 16+<br>percentage=%{x}<br>tour_mode_transit_agg=%{y}<extra></extra>",
         "legendgroup": "unweighted survey",
         "marker": {
          "color": "#8CC63E",
          "pattern": {
           "shape": ""
          }
         },
         "name": "unweighted survey",
         "offsetgroup": "unweighted survey",
         "orientation": "h",
         "showlegend": false,
         "textposition": "auto",
         "type": "bar",
         "x": [
          0.11702127659574468,
          0.010638297872340425,
          0.2553191489361702,
          0.0851063829787234,
          0.26595744680851063,
          0.11702127659574468,
          0.02127659574468085,
          0.1276595744680851
         ],
         "xaxis": "x4",
         "y": [
          "ALL_TRANSIT",
          "BIKE",
          "DRIVEALONEFREE",
          "SCH_BUS",
          "SHARED2FREE",
          "SHARED3FREE",
          "TNC",
          "WALK"
         ],
         "yaxis": "y4"
        },
        {
         "alignmentgroup": "True",
         "hovertemplate": "source=unweighted survey<br>ptype_label=7: Child Age 5-15<br>percentage=%{x}<br>tour_mode_transit_agg=%{y}<extra></extra>",
         "legendgroup": "unweighted survey",
         "marker": {
          "color": "#8CC63E",
          "pattern": {
           "shape": ""
          }
         },
         "name": "unweighted survey",
         "offsetgroup": "unweighted survey",
         "orientation": "h",
         "showlegend": false,
         "textposition": "auto",
         "type": "bar",
         "x": [
          0.0594059405940594,
          0.039603960396039604,
          0.0049504950495049506,
          0.012376237623762377,
          0.27722772277227725,
          0.2301980198019802,
          0.25742574257425743,
          0.0024752475247524753,
          0.11633663366336634
         ],
         "xaxis": "x",
         "y": [
          "ALL_TRANSIT",
          "BIKE",
          "DRIVEALONEFREE",
          "Other",
          "SCH_BUS",
          "SHARED2FREE",
          "SHARED3FREE",
          "TNC",
          "WALK"
         ],
         "yaxis": "y"
        },
        {
         "alignmentgroup": "True",
         "hovertemplate": "source=unweighted survey<br>ptype_label=8: Child Age 0-4<br>percentage=%{x}<br>tour_mode_transit_agg=%{y}<extra></extra>",
         "legendgroup": "unweighted survey",
         "marker": {
          "color": "#8CC63E",
          "pattern": {
           "shape": ""
          }
         },
         "name": "unweighted survey",
         "offsetgroup": "unweighted survey",
         "orientation": "h",
         "showlegend": false,
         "textposition": "auto",
         "type": "bar",
         "x": [
          0.05,
          0.008333333333333333,
          0.008333333333333333,
          0.45,
          0.4083333333333333,
          0.075
         ],
         "xaxis": "x2",
         "y": [
          "ALL_TRANSIT",
          "BIKE",
          "DRIVEALONEFREE",
          "SHARED2FREE",
          "SHARED3FREE",
          "WALK"
         ],
         "yaxis": "y2"
        }
       ],
       "layout": {
        "annotations": [
         {
          "font": {},
          "showarrow": false,
          "text": "7: Child Age 5-15",
          "x": 0.245,
          "xanchor": "center",
          "xref": "paper",
          "y": 0.1975,
          "yanchor": "bottom",
          "yref": "paper"
         },
         {
          "font": {},
          "showarrow": false,
          "text": "8: Child Age 0-4",
          "x": 0.755,
          "xanchor": "center",
          "xref": "paper",
          "y": 0.1975,
          "yanchor": "bottom",
          "yref": "paper"
         },
         {
          "font": {},
          "showarrow": false,
          "text": "5: Non-Working Adult Age 65+",
          "x": 0.245,
          "xanchor": "center",
          "xref": "paper",
          "y": 0.465,
          "yanchor": "bottom",
          "yref": "paper"
         },
         {
          "font": {},
          "showarrow": false,
          "text": "6: High School Student Age 16+",
          "x": 0.755,
          "xanchor": "center",
          "xref": "paper",
          "y": 0.465,
          "yanchor": "bottom",
          "yref": "paper"
         },
         {
          "font": {},
          "showarrow": false,
          "text": "3: University Student",
          "x": 0.245,
          "xanchor": "center",
          "xref": "paper",
          "y": 0.7325,
          "yanchor": "bottom",
          "yref": "paper"
         },
         {
          "font": {},
          "showarrow": false,
          "text": "4: Non-Working Adult Age <65",
          "x": 0.755,
          "xanchor": "center",
          "xref": "paper",
          "y": 0.7325,
          "yanchor": "bottom",
          "yref": "paper"
         },
         {
          "font": {},
          "showarrow": false,
          "text": "1: Full-Time Worker",
          "x": 0.245,
          "xanchor": "center",
          "xref": "paper",
          "y": 1.0,
          "yanchor": "bottom",
          "yref": "paper"
         },
         {
          "font": {},
          "showarrow": false,
          "text": "2: Part-Time Worker",
          "x": 0.755,
          "xanchor": "center",
          "xref": "paper",
          "y": 1.0,
          "yanchor": "bottom",
          "yref": "paper"
         }
        ],
        "barmode": "group",
        "height": 1200,
        "legend": {
         "title": {
          "text": "source"
         },
         "tracegroupgap": 0
        },
        "template": {
         "data": {
          "bar": [
           {
            "error_x": {
             "color": "rgb(36,36,36)"
            },
            "error_y": {
             "color": "rgb(36,36,36)"
            },
            "marker": {
             "line": {
              "color": "white",
              "width": 0.5
             },
             "pattern": {
              "fillmode": "overlay",
              "size": 10,
              "solidity": 0.2
             }
            },
            "type": "bar"
           }
          ],
          "barpolar": [
           {
            "marker": {
             "line": {
              "color": "white",
              "width": 0.5
             },
             "pattern": {
              "fillmode": "overlay",
              "size": 10,
              "solidity": 0.2
             }
            },
            "type": "barpolar"
           }
          ],
          "carpet": [
           {
            "aaxis": {
             "endlinecolor": "rgb(36,36,36)",
             "gridcolor": "white",
             "linecolor": "white",
             "minorgridcolor": "white",
             "startlinecolor": "rgb(36,36,36)"
            },
            "baxis": {
             "endlinecolor": "rgb(36,36,36)",
             "gridcolor": "white",
             "linecolor": "white",
             "minorgridcolor": "white",
             "startlinecolor": "rgb(36,36,36)"
            },
            "type": "carpet"
           }
          ],
          "choropleth": [
           {
            "colorbar": {
             "outlinewidth": 1,
             "tickcolor": "rgb(36,36,36)",
             "ticks": "outside"
            },
            "type": "choropleth"
           }
          ],
          "contour": [
           {
            "colorbar": {
             "outlinewidth": 1,
             "tickcolor": "rgb(36,36,36)",
             "ticks": "outside"
            },
            "colorscale": [
             [
              0.0,
              "#440154"
             ],
             [
              0.1111111111111111,
              "#482878"
             ],
             [
              0.2222222222222222,
              "#3e4989"
             ],
             [
              0.3333333333333333,
              "#31688e"
             ],
             [
              0.4444444444444444,
              "#26828e"
             ],
             [
              0.5555555555555556,
              "#1f9e89"
             ],
             [
              0.6666666666666666,
              "#35b779"
             ],
             [
              0.7777777777777778,
              "#6ece58"
             ],
             [
              0.8888888888888888,
              "#b5de2b"
             ],
             [
              1.0,
              "#fde725"
             ]
            ],
            "type": "contour"
           }
          ],
          "contourcarpet": [
           {
            "colorbar": {
             "outlinewidth": 1,
             "tickcolor": "rgb(36,36,36)",
             "ticks": "outside"
            },
            "type": "contourcarpet"
           }
          ],
          "heatmap": [
           {
            "colorbar": {
             "outlinewidth": 1,
             "tickcolor": "rgb(36,36,36)",
             "ticks": "outside"
            },
            "colorscale": [
             [
              0.0,
              "#440154"
             ],
             [
              0.1111111111111111,
              "#482878"
             ],
             [
              0.2222222222222222,
              "#3e4989"
             ],
             [
              0.3333333333333333,
              "#31688e"
             ],
             [
              0.4444444444444444,
              "#26828e"
             ],
             [
              0.5555555555555556,
              "#1f9e89"
             ],
             [
              0.6666666666666666,
              "#35b779"
             ],
             [
              0.7777777777777778,
              "#6ece58"
             ],
             [
              0.8888888888888888,
              "#b5de2b"
             ],
             [
              1.0,
              "#fde725"
             ]
            ],
            "type": "heatmap"
           }
          ],
          "heatmapgl": [
           {
            "colorbar": {
             "outlinewidth": 1,
             "tickcolor": "rgb(36,36,36)",
             "ticks": "outside"
            },
            "colorscale": [
             [
              0.0,
              "#440154"
             ],
             [
              0.1111111111111111,
              "#482878"
             ],
             [
              0.2222222222222222,
              "#3e4989"
             ],
             [
              0.3333333333333333,
              "#31688e"
             ],
             [
              0.4444444444444444,
              "#26828e"
             ],
             [
              0.5555555555555556,
              "#1f9e89"
             ],
             [
              0.6666666666666666,
              "#35b779"
             ],
             [
              0.7777777777777778,
              "#6ece58"
             ],
             [
              0.8888888888888888,
              "#b5de2b"
             ],
             [
              1.0,
              "#fde725"
             ]
            ],
            "type": "heatmapgl"
           }
          ],
          "histogram": [
           {
            "marker": {
             "line": {
              "color": "white",
              "width": 0.6
             }
            },
            "type": "histogram"
           }
          ],
          "histogram2d": [
           {
            "colorbar": {
             "outlinewidth": 1,
             "tickcolor": "rgb(36,36,36)",
             "ticks": "outside"
            },
            "colorscale": [
             [
              0.0,
              "#440154"
             ],
             [
              0.1111111111111111,
              "#482878"
             ],
             [
              0.2222222222222222,
              "#3e4989"
             ],
             [
              0.3333333333333333,
              "#31688e"
             ],
             [
              0.4444444444444444,
              "#26828e"
             ],
             [
              0.5555555555555556,
              "#1f9e89"
             ],
             [
              0.6666666666666666,
              "#35b779"
             ],
             [
              0.7777777777777778,
              "#6ece58"
             ],
             [
              0.8888888888888888,
              "#b5de2b"
             ],
             [
              1.0,
              "#fde725"
             ]
            ],
            "type": "histogram2d"
           }
          ],
          "histogram2dcontour": [
           {
            "colorbar": {
             "outlinewidth": 1,
             "tickcolor": "rgb(36,36,36)",
             "ticks": "outside"
            },
            "colorscale": [
             [
              0.0,
              "#440154"
             ],
             [
              0.1111111111111111,
              "#482878"
             ],
             [
              0.2222222222222222,
              "#3e4989"
             ],
             [
              0.3333333333333333,
              "#31688e"
             ],
             [
              0.4444444444444444,
              "#26828e"
             ],
             [
              0.5555555555555556,
              "#1f9e89"
             ],
             [
              0.6666666666666666,
              "#35b779"
             ],
             [
              0.7777777777777778,
              "#6ece58"
             ],
             [
              0.8888888888888888,
              "#b5de2b"
             ],
             [
              1.0,
              "#fde725"
             ]
            ],
            "type": "histogram2dcontour"
           }
          ],
          "mesh3d": [
           {
            "colorbar": {
             "outlinewidth": 1,
             "tickcolor": "rgb(36,36,36)",
             "ticks": "outside"
            },
            "type": "mesh3d"
           }
          ],
          "parcoords": [
           {
            "line": {
             "colorbar": {
              "outlinewidth": 1,
              "tickcolor": "rgb(36,36,36)",
              "ticks": "outside"
             }
            },
            "type": "parcoords"
           }
          ],
          "pie": [
           {
            "automargin": true,
            "type": "pie"
           }
          ],
          "scatter": [
           {
            "fillpattern": {
             "fillmode": "overlay",
             "size": 10,
             "solidity": 0.2
            },
            "type": "scatter"
           }
          ],
          "scatter3d": [
           {
            "line": {
             "colorbar": {
              "outlinewidth": 1,
              "tickcolor": "rgb(36,36,36)",
              "ticks": "outside"
             }
            },
            "marker": {
             "colorbar": {
              "outlinewidth": 1,
              "tickcolor": "rgb(36,36,36)",
              "ticks": "outside"
             }
            },
            "type": "scatter3d"
           }
          ],
          "scattercarpet": [
           {
            "marker": {
             "colorbar": {
              "outlinewidth": 1,
              "tickcolor": "rgb(36,36,36)",
              "ticks": "outside"
             }
            },
            "type": "scattercarpet"
           }
          ],
          "scattergeo": [
           {
            "marker": {
             "colorbar": {
              "outlinewidth": 1,
              "tickcolor": "rgb(36,36,36)",
              "ticks": "outside"
             }
            },
            "type": "scattergeo"
           }
          ],
          "scattergl": [
           {
            "marker": {
             "colorbar": {
              "outlinewidth": 1,
              "tickcolor": "rgb(36,36,36)",
              "ticks": "outside"
             }
            },
            "type": "scattergl"
           }
          ],
          "scattermapbox": [
           {
            "marker": {
             "colorbar": {
              "outlinewidth": 1,
              "tickcolor": "rgb(36,36,36)",
              "ticks": "outside"
             }
            },
            "type": "scattermapbox"
           }
          ],
          "scatterpolar": [
           {
            "marker": {
             "colorbar": {
              "outlinewidth": 1,
              "tickcolor": "rgb(36,36,36)",
              "ticks": "outside"
             }
            },
            "type": "scatterpolar"
           }
          ],
          "scatterpolargl": [
           {
            "marker": {
             "colorbar": {
              "outlinewidth": 1,
              "tickcolor": "rgb(36,36,36)",
              "ticks": "outside"
             }
            },
            "type": "scatterpolargl"
           }
          ],
          "scatterternary": [
           {
            "marker": {
             "colorbar": {
              "outlinewidth": 1,
              "tickcolor": "rgb(36,36,36)",
              "ticks": "outside"
             }
            },
            "type": "scatterternary"
           }
          ],
          "surface": [
           {
            "colorbar": {
             "outlinewidth": 1,
             "tickcolor": "rgb(36,36,36)",
             "ticks": "outside"
            },
            "colorscale": [
             [
              0.0,
              "#440154"
             ],
             [
              0.1111111111111111,
              "#482878"
             ],
             [
              0.2222222222222222,
              "#3e4989"
             ],
             [
              0.3333333333333333,
              "#31688e"
             ],
             [
              0.4444444444444444,
              "#26828e"
             ],
             [
              0.5555555555555556,
              "#1f9e89"
             ],
             [
              0.6666666666666666,
              "#35b779"
             ],
             [
              0.7777777777777778,
              "#6ece58"
             ],
             [
              0.8888888888888888,
              "#b5de2b"
             ],
             [
              1.0,
              "#fde725"
             ]
            ],
            "type": "surface"
           }
          ],
          "table": [
           {
            "cells": {
             "fill": {
              "color": "rgb(237,237,237)"
             },
             "line": {
              "color": "white"
             }
            },
            "header": {
             "fill": {
              "color": "rgb(217,217,217)"
             },
             "line": {
              "color": "white"
             }
            },
            "type": "table"
           }
          ]
         },
         "layout": {
          "annotationdefaults": {
           "arrowhead": 0,
           "arrowwidth": 1
          },
          "autotypenumbers": "strict",
          "coloraxis": {
           "colorbar": {
            "outlinewidth": 1,
            "tickcolor": "rgb(36,36,36)",
            "ticks": "outside"
           }
          },
          "colorscale": {
           "diverging": [
            [
             0.0,
             "rgb(103,0,31)"
            ],
            [
             0.1,
             "rgb(178,24,43)"
            ],
            [
             0.2,
             "rgb(214,96,77)"
            ],
            [
             0.3,
             "rgb(244,165,130)"
            ],
            [
             0.4,
             "rgb(253,219,199)"
            ],
            [
             0.5,
             "rgb(247,247,247)"
            ],
            [
             0.6,
             "rgb(209,229,240)"
            ],
            [
             0.7,
             "rgb(146,197,222)"
            ],
            [
             0.8,
             "rgb(67,147,195)"
            ],
            [
             0.9,
             "rgb(33,102,172)"
            ],
            [
             1.0,
             "rgb(5,48,97)"
            ]
           ],
           "sequential": [
            [
             0.0,
             "#440154"
            ],
            [
             0.1111111111111111,
             "#482878"
            ],
            [
             0.2222222222222222,
             "#3e4989"
            ],
            [
             0.3333333333333333,
             "#31688e"
            ],
            [
             0.4444444444444444,
             "#26828e"
            ],
            [
             0.5555555555555556,
             "#1f9e89"
            ],
            [
             0.6666666666666666,
             "#35b779"
            ],
            [
             0.7777777777777778,
             "#6ece58"
            ],
            [
             0.8888888888888888,
             "#b5de2b"
            ],
            [
             1.0,
             "#fde725"
            ]
           ],
           "sequentialminus": [
            [
             0.0,
             "#440154"
            ],
            [
             0.1111111111111111,
             "#482878"
            ],
            [
             0.2222222222222222,
             "#3e4989"
            ],
            [
             0.3333333333333333,
             "#31688e"
            ],
            [
             0.4444444444444444,
             "#26828e"
            ],
            [
             0.5555555555555556,
             "#1f9e89"
            ],
            [
             0.6666666666666666,
             "#35b779"
            ],
            [
             0.7777777777777778,
             "#6ece58"
            ],
            [
             0.8888888888888888,
             "#b5de2b"
            ],
            [
             1.0,
             "#fde725"
            ]
           ]
          },
          "colorway": [
           "#91268F",
           "#00A7A0",
           "#8CC63E",
           "#F05A28",
           "#4C4C4C",
           "#630460",
           "#9f3913",
           "#588527",
           "#00716c",
           "#3e4040"
          ],
          "font": {
           "color": "rgb(36,36,36)",
           "size": 11
          },
          "geo": {
           "bgcolor": "white",
           "lakecolor": "white",
           "landcolor": "white",
           "showlakes": true,
           "showland": true,
           "subunitcolor": "white"
          },
          "hoverlabel": {
           "align": "left"
          },
          "hovermode": "closest",
          "mapbox": {
           "style": "light"
          },
          "paper_bgcolor": "white",
          "plot_bgcolor": "white",
          "polar": {
           "angularaxis": {
            "gridcolor": "rgb(232,232,232)",
            "linecolor": "rgb(36,36,36)",
            "showgrid": false,
            "showline": true,
            "ticks": "outside"
           },
           "bgcolor": "white",
           "radialaxis": {
            "gridcolor": "rgb(232,232,232)",
            "linecolor": "rgb(36,36,36)",
            "showgrid": false,
            "showline": true,
            "ticks": "outside"
           }
          },
          "scene": {
           "xaxis": {
            "backgroundcolor": "white",
            "gridcolor": "rgb(232,232,232)",
            "gridwidth": 2,
            "linecolor": "rgb(36,36,36)",
            "showbackground": true,
            "showgrid": false,
            "showline": true,
            "ticks": "outside",
            "zeroline": false,
            "zerolinecolor": "rgb(36,36,36)"
           },
           "yaxis": {
            "backgroundcolor": "white",
            "gridcolor": "rgb(232,232,232)",
            "gridwidth": 2,
            "linecolor": "rgb(36,36,36)",
            "showbackground": true,
            "showgrid": false,
            "showline": true,
            "ticks": "outside",
            "zeroline": false,
            "zerolinecolor": "rgb(36,36,36)"
           },
           "zaxis": {
            "backgroundcolor": "white",
            "gridcolor": "rgb(232,232,232)",
            "gridwidth": 2,
            "linecolor": "rgb(36,36,36)",
            "showbackground": true,
            "showgrid": false,
            "showline": true,
            "ticks": "outside",
            "zeroline": false,
            "zerolinecolor": "rgb(36,36,36)"
           }
          },
          "shapedefaults": {
           "fillcolor": "black",
           "line": {
            "width": 0
           },
           "opacity": 0.3
          },
          "ternary": {
           "aaxis": {
            "gridcolor": "rgb(232,232,232)",
            "linecolor": "rgb(36,36,36)",
            "showgrid": false,
            "showline": true,
            "ticks": "outside"
           },
           "baxis": {
            "gridcolor": "rgb(232,232,232)",
            "linecolor": "rgb(36,36,36)",
            "showgrid": false,
            "showline": true,
            "ticks": "outside"
           },
           "bgcolor": "white",
           "caxis": {
            "gridcolor": "rgb(232,232,232)",
            "linecolor": "rgb(36,36,36)",
            "showgrid": false,
            "showline": true,
            "ticks": "outside"
           }
          },
          "title": {
           "x": 0.05
          },
          "xaxis": {
           "automargin": true,
           "gridcolor": "rgb(232,232,232)",
           "linecolor": "rgb(36,36,36)",
           "showgrid": false,
           "showline": true,
           "ticks": "outside",
           "title": {
            "standoff": 15
           },
           "zeroline": false,
           "zerolinecolor": "rgb(36,36,36)"
          },
          "yaxis": {
           "automargin": true,
           "gridcolor": "rgb(232,232,232)",
           "linecolor": "rgb(36,36,36)",
           "showgrid": false,
           "showline": true,
           "ticks": "outside",
           "title": {
            "standoff": 15
           },
           "zeroline": false,
           "zerolinecolor": "rgb(36,36,36)"
          }
         }
        },
        "title": {
         "text": "Tour mode choice by ptype_label"
        },
        "width": 700,
        "xaxis": {
         "anchor": "y",
         "domain": [
          0.0,
          0.49
         ],
         "tickformat": ".0%",
         "title": {
          "text": "percentage"
         }
        },
        "xaxis2": {
         "anchor": "y2",
         "domain": [
          0.51,
          1.0
         ],
         "matches": "x",
         "tickformat": ".0%",
         "title": {
          "text": "percentage"
         }
        },
        "xaxis3": {
         "anchor": "y3",
         "domain": [
          0.0,
          0.49
         ],
         "matches": "x",
         "showticklabels": false
        },
        "xaxis4": {
         "anchor": "y4",
         "domain": [
          0.51,
          1.0
         ],
         "matches": "x",
         "showticklabels": false
        },
        "xaxis5": {
         "anchor": "y5",
         "domain": [
          0.0,
          0.49
         ],
         "matches": "x",
         "showticklabels": false
        },
        "xaxis6": {
         "anchor": "y6",
         "domain": [
          0.51,
          1.0
         ],
         "matches": "x",
         "showticklabels": false
        },
        "xaxis7": {
         "anchor": "y7",
         "domain": [
          0.0,
          0.49
         ],
         "matches": "x",
         "showticklabels": false
        },
        "xaxis8": {
         "anchor": "y8",
         "domain": [
          0.51,
          1.0
         ],
         "matches": "x",
         "showticklabels": false
        },
        "yaxis": {
         "anchor": "x",
         "categoryarray": [
          "Other",
          "TNC",
          "SCH_BUS",
          "ALL_TRANSIT",
          "WALK",
          "BIKE",
          "SHARED3FREE",
          "SHARED2FREE",
          "DRIVEALONEFREE"
         ],
         "categoryorder": "array",
         "domain": [
          0.0,
          0.1975
         ],
         "title": {
          "text": "tour_mode_transit_agg"
         }
        },
        "yaxis2": {
         "anchor": "x2",
         "domain": [
          0.0,
          0.1975
         ],
         "matches": "y",
         "showticklabels": false
        },
        "yaxis3": {
         "anchor": "x3",
         "categoryarray": [
          "Other",
          "TNC",
          "SCH_BUS",
          "ALL_TRANSIT",
          "WALK",
          "BIKE",
          "SHARED3FREE",
          "SHARED2FREE",
          "DRIVEALONEFREE"
         ],
         "categoryorder": "array",
         "domain": [
          0.2675,
          0.465
         ],
         "matches": "y",
         "title": {
          "text": "tour_mode_transit_agg"
         }
        },
        "yaxis4": {
         "anchor": "x4",
         "domain": [
          0.2675,
          0.465
         ],
         "matches": "y",
         "showticklabels": false
        },
        "yaxis5": {
         "anchor": "x5",
         "categoryarray": [
          "Other",
          "TNC",
          "SCH_BUS",
          "ALL_TRANSIT",
          "WALK",
          "BIKE",
          "SHARED3FREE",
          "SHARED2FREE",
          "DRIVEALONEFREE"
         ],
         "categoryorder": "array",
         "domain": [
          0.535,
          0.7325
         ],
         "matches": "y",
         "title": {
          "text": "tour_mode_transit_agg"
         }
        },
        "yaxis6": {
         "anchor": "x6",
         "domain": [
          0.535,
          0.7325
         ],
         "matches": "y",
         "showticklabels": false
        },
        "yaxis7": {
         "anchor": "x7",
         "categoryarray": [
          "Other",
          "TNC",
          "SCH_BUS",
          "ALL_TRANSIT",
          "WALK",
          "BIKE",
          "SHARED3FREE",
          "SHARED2FREE",
          "DRIVEALONEFREE"
         ],
         "categoryorder": "array",
         "domain": [
          0.8025,
          1.0
         ],
         "matches": "y",
         "title": {
          "text": "tour_mode_transit_agg"
         }
        },
        "yaxis8": {
         "anchor": "x8",
         "domain": [
          0.8025,
          1.0
         ],
         "matches": "y",
         "showticklabels": false
        }
       }
      },
      "text/html": [
       "<div>                            <div id=\"d5bfc55b-e7e1-40f0-ac62-755e9f875ee9\" class=\"plotly-graph-div\" style=\"height:1200px; width:700px;\"></div>            <script type=\"text/javascript\">                require([\"plotly\"], function(Plotly) {                    window.PLOTLYENV=window.PLOTLYENV || {};                                    if (document.getElementById(\"d5bfc55b-e7e1-40f0-ac62-755e9f875ee9\")) {                    Plotly.newPlot(                        \"d5bfc55b-e7e1-40f0-ac62-755e9f875ee9\",                        [{\"alignmentgroup\":\"True\",\"hovertemplate\":\"source=model results<br>ptype_label=1: Full-Time Worker<br>percentage=%{x}<br>tour_mode_transit_agg=%{y}<extra></extra>\",\"legendgroup\":\"model results\",\"marker\":{\"color\":\"#91268F\",\"pattern\":{\"shape\":\"\"}},\"name\":\"model results\",\"offsetgroup\":\"model results\",\"orientation\":\"h\",\"showlegend\":true,\"textposition\":\"auto\",\"x\":[0.12474265178948916,0.017816308523740373,0.471618628334038,0.17967730372603444,0.08980027940662856,0.008551313394974357,0.10779351482509512],\"xaxis\":\"x7\",\"y\":[\"ALL_TRANSIT\",\"BIKE\",\"DRIVEALONEFREE\",\"SHARED2FREE\",\"SHARED3FREE\",\"TNC\",\"WALK\"],\"yaxis\":\"y7\",\"type\":\"bar\"},{\"alignmentgroup\":\"True\",\"hovertemplate\":\"source=model results<br>ptype_label=2: Part-Time Worker<br>percentage=%{x}<br>tour_mode_transit_agg=%{y}<extra></extra>\",\"legendgroup\":\"model results\",\"marker\":{\"color\":\"#91268F\",\"pattern\":{\"shape\":\"\"}},\"name\":\"model results\",\"offsetgroup\":\"model results\",\"orientation\":\"h\",\"showlegend\":false,\"textposition\":\"auto\",\"x\":[0.09680205552618468,0.015494768720669917,0.4190875883029943,0.26995968575338475,0.11694177387036347,0.005782799109736119,0.07593132871666677],\"xaxis\":\"x8\",\"y\":[\"ALL_TRANSIT\",\"BIKE\",\"DRIVEALONEFREE\",\"SHARED2FREE\",\"SHARED3FREE\",\"TNC\",\"WALK\"],\"yaxis\":\"y8\",\"type\":\"bar\"},{\"alignmentgroup\":\"True\",\"hovertemplate\":\"source=model results<br>ptype_label=3: University Student<br>percentage=%{x}<br>tour_mode_transit_agg=%{y}<extra></extra>\",\"legendgroup\":\"model results\",\"marker\":{\"color\":\"#91268F\",\"pattern\":{\"shape\":\"\"}},\"name\":\"model results\",\"offsetgroup\":\"model results\",\"orientation\":\"h\",\"showlegend\":false,\"textposition\":\"auto\",\"x\":[0.19413436266475284,0.03752339756956231,0.35679717580424597,0.2146029929492091,0.08293650408790697,0.008520109786730547,0.10548545713759226],\"xaxis\":\"x5\",\"y\":[\"ALL_TRANSIT\",\"BIKE\",\"DRIVEALONEFREE\",\"SHARED2FREE\",\"SHARED3FREE\",\"TNC\",\"WALK\"],\"yaxis\":\"y5\",\"type\":\"bar\"},{\"alignmentgroup\":\"True\",\"hovertemplate\":\"source=model results<br>ptype_label=4: Non-Working Adult Age <65<br>percentage=%{x}<br>tour_mode_transit_agg=%{y}<extra></extra>\",\"legendgroup\":\"model results\",\"marker\":{\"color\":\"#91268F\",\"pattern\":{\"shape\":\"\"}},\"name\":\"model results\",\"offsetgroup\":\"model results\",\"orientation\":\"h\",\"showlegend\":false,\"textposition\":\"auto\",\"x\":[0.053890510704411886,0.011510882196072773,0.3666180551440181,0.3375000966218427,0.14398715831295686,0.003815918641831847,0.08267737837886584],\"xaxis\":\"x6\",\"y\":[\"ALL_TRANSIT\",\"BIKE\",\"DRIVEALONEFREE\",\"SHARED2FREE\",\"SHARED3FREE\",\"TNC\",\"WALK\"],\"yaxis\":\"y6\",\"type\":\"bar\"},{\"alignmentgroup\":\"True\",\"hovertemplate\":\"source=model results<br>ptype_label=5: Non-Working Adult Age 65+<br>percentage=%{x}<br>tour_mode_transit_agg=%{y}<extra></extra>\",\"legendgroup\":\"model results\",\"marker\":{\"color\":\"#91268F\",\"pattern\":{\"shape\":\"\"}},\"name\":\"model results\",\"offsetgroup\":\"model results\",\"orientation\":\"h\",\"showlegend\":false,\"textposition\":\"auto\",\"x\":[0.06575079860218826,0.010382297385761904,0.5308158216083089,0.2158955130092906,0.08606146094961913,0.004079764555380693,0.08701434388945058],\"xaxis\":\"x3\",\"y\":[\"ALL_TRANSIT\",\"BIKE\",\"DRIVEALONEFREE\",\"SHARED2FREE\",\"SHARED3FREE\",\"TNC\",\"WALK\"],\"yaxis\":\"y3\",\"type\":\"bar\"},{\"alignmentgroup\":\"True\",\"hovertemplate\":\"source=model results<br>ptype_label=6: High School Student Age 16+<br>percentage=%{x}<br>tour_mode_transit_agg=%{y}<extra></extra>\",\"legendgroup\":\"model results\",\"marker\":{\"color\":\"#91268F\",\"pattern\":{\"shape\":\"\"}},\"name\":\"model results\",\"offsetgroup\":\"model results\",\"orientation\":\"h\",\"showlegend\":false,\"textposition\":\"auto\",\"x\":[0.11863610990834016,0.013975908642735293,0.24874404628378555,0.04517781591865906,0.2930297829273764,0.22961390182954505,0.002884911339840469,0.04793752314971803],\"xaxis\":\"x4\",\"y\":[\"ALL_TRANSIT\",\"BIKE\",\"DRIVEALONEFREE\",\"SCH_BUS\",\"SHARED2FREE\",\"SHARED3FREE\",\"TNC\",\"WALK\"],\"yaxis\":\"y4\",\"type\":\"bar\"},{\"alignmentgroup\":\"True\",\"hovertemplate\":\"source=model results<br>ptype_label=7: Child Age 5-15<br>percentage=%{x}<br>tour_mode_transit_agg=%{y}<extra></extra>\",\"legendgroup\":\"model results\",\"marker\":{\"color\":\"#91268F\",\"pattern\":{\"shape\":\"\"}},\"name\":\"model results\",\"offsetgroup\":\"model results\",\"orientation\":\"h\",\"showlegend\":false,\"textposition\":\"auto\",\"x\":[0.053148645029850825,0.018162533408244814,0.21306540227289833,0.36297237551654793,0.24411866118482659,0.0024346231059909932,0.10609775948164056],\"xaxis\":\"x\",\"y\":[\"ALL_TRANSIT\",\"BIKE\",\"SCH_BUS\",\"SHARED2FREE\",\"SHARED3FREE\",\"TNC\",\"WALK\"],\"yaxis\":\"y\",\"type\":\"bar\"},{\"alignmentgroup\":\"True\",\"hovertemplate\":\"source=model results<br>ptype_label=8: Child Age 0-4<br>percentage=%{x}<br>tour_mode_transit_agg=%{y}<extra></extra>\",\"legendgroup\":\"model results\",\"marker\":{\"color\":\"#91268F\",\"pattern\":{\"shape\":\"\"}},\"name\":\"model results\",\"offsetgroup\":\"model results\",\"orientation\":\"h\",\"showlegend\":false,\"textposition\":\"auto\",\"x\":[0.03044958351708794,0.022987081844714558,0.048828347595994234,0.46509818689949406,0.3032867711549039,0.002997884137972043,0.12635214484983326],\"xaxis\":\"x2\",\"y\":[\"ALL_TRANSIT\",\"BIKE\",\"SCH_BUS\",\"SHARED2FREE\",\"SHARED3FREE\",\"TNC\",\"WALK\"],\"yaxis\":\"y2\",\"type\":\"bar\"},{\"alignmentgroup\":\"True\",\"hovertemplate\":\"source=survey data<br>ptype_label=1: Full-Time Worker<br>percentage=%{x}<br>tour_mode_transit_agg=%{y}<extra></extra>\",\"legendgroup\":\"survey data\",\"marker\":{\"color\":\"#00A7A0\",\"pattern\":{\"shape\":\"\"}},\"name\":\"survey data\",\"offsetgroup\":\"survey data\",\"orientation\":\"h\",\"showlegend\":true,\"textposition\":\"auto\",\"x\":[0.07331075476156679,0.017864420306627535,0.5307925159112671,0.002611527619133405,0.00023527290807704034,0.17177935060928973,0.10346196695098753,0.005744454527267034,0.09419973640578398],\"xaxis\":\"x7\",\"y\":[\"ALL_TRANSIT\",\"BIKE\",\"DRIVEALONEFREE\",\"Other\",\"SCH_BUS\",\"SHARED2FREE\",\"SHARED3FREE\",\"TNC\",\"WALK\"],\"yaxis\":\"y7\",\"type\":\"bar\"},{\"alignmentgroup\":\"True\",\"hovertemplate\":\"source=survey data<br>ptype_label=2: Part-Time Worker<br>percentage=%{x}<br>tour_mode_transit_agg=%{y}<extra></extra>\",\"legendgroup\":\"survey data\",\"marker\":{\"color\":\"#00A7A0\",\"pattern\":{\"shape\":\"\"}},\"name\":\"survey data\",\"offsetgroup\":\"survey data\",\"orientation\":\"h\",\"showlegend\":false,\"textposition\":\"auto\",\"x\":[0.07070144199717297,0.004940155811631587,0.5797269282626383,0.00437818224304406,0.19243460078676716,0.06698400555696536,0.00011972936033794962,0.0807149559814426],\"xaxis\":\"x8\",\"y\":[\"ALL_TRANSIT\",\"BIKE\",\"DRIVEALONEFREE\",\"Other\",\"SHARED2FREE\",\"SHARED3FREE\",\"TNC\",\"WALK\"],\"yaxis\":\"y8\",\"type\":\"bar\"},{\"alignmentgroup\":\"True\",\"hovertemplate\":\"source=survey data<br>ptype_label=3: University Student<br>percentage=%{x}<br>tour_mode_transit_agg=%{y}<extra></extra>\",\"legendgroup\":\"survey data\",\"marker\":{\"color\":\"#00A7A0\",\"pattern\":{\"shape\":\"\"}},\"name\":\"survey data\",\"offsetgroup\":\"survey data\",\"orientation\":\"h\",\"showlegend\":false,\"textposition\":\"auto\",\"x\":[0.19895646074023424,0.00875373308267574,0.41065507960648784,0.006953250137482995,0.1935851147387784,0.10702110057802958,0.010175856427495763,0.0638994046888155],\"xaxis\":\"x5\",\"y\":[\"ALL_TRANSIT\",\"BIKE\",\"DRIVEALONEFREE\",\"SCH_BUS\",\"SHARED2FREE\",\"SHARED3FREE\",\"TNC\",\"WALK\"],\"yaxis\":\"y5\",\"type\":\"bar\"},{\"alignmentgroup\":\"True\",\"hovertemplate\":\"source=survey data<br>ptype_label=4: Non-Working Adult Age <65<br>percentage=%{x}<br>tour_mode_transit_agg=%{y}<extra></extra>\",\"legendgroup\":\"survey data\",\"marker\":{\"color\":\"#00A7A0\",\"pattern\":{\"shape\":\"\"}},\"name\":\"survey data\",\"offsetgroup\":\"survey data\",\"orientation\":\"h\",\"showlegend\":false,\"textposition\":\"auto\",\"x\":[0.04703253632335278,0.0049776559716655485,0.33352292467270717,0.00044175986121094263,0.30230614901497543,0.18104236641884838,0.0020685452963976913,0.1286080624408421],\"xaxis\":\"x6\",\"y\":[\"ALL_TRANSIT\",\"BIKE\",\"DRIVEALONEFREE\",\"Other\",\"SHARED2FREE\",\"SHARED3FREE\",\"TNC\",\"WALK\"],\"yaxis\":\"y6\",\"type\":\"bar\"},{\"alignmentgroup\":\"True\",\"hovertemplate\":\"source=survey data<br>ptype_label=5: Non-Working Adult Age 65+<br>percentage=%{x}<br>tour_mode_transit_agg=%{y}<extra></extra>\",\"legendgroup\":\"survey data\",\"marker\":{\"color\":\"#00A7A0\",\"pattern\":{\"shape\":\"\"}},\"name\":\"survey data\",\"offsetgroup\":\"survey data\",\"orientation\":\"h\",\"showlegend\":false,\"textposition\":\"auto\",\"x\":[0.06086818594148499,0.0017690647449145034,0.4995384462452455,0.009859952535308903,0.2526617723649937,0.039728041376923234,5.571144172243365e-05,0.13551882534940668],\"xaxis\":\"x3\",\"y\":[\"ALL_TRANSIT\",\"BIKE\",\"DRIVEALONEFREE\",\"Other\",\"SHARED2FREE\",\"SHARED3FREE\",\"TNC\",\"WALK\"],\"yaxis\":\"y3\",\"type\":\"bar\"},{\"alignmentgroup\":\"True\",\"hovertemplate\":\"source=survey data<br>ptype_label=6: High School Student Age 16+<br>percentage=%{x}<br>tour_mode_transit_agg=%{y}<extra></extra>\",\"legendgroup\":\"survey data\",\"marker\":{\"color\":\"#00A7A0\",\"pattern\":{\"shape\":\"\"}},\"name\":\"survey data\",\"offsetgroup\":\"survey data\",\"orientation\":\"h\",\"showlegend\":false,\"textposition\":\"auto\",\"x\":[0.05646143430120324,0.004173349141123231,0.36633648221486204,0.10537613909765184,0.18367086951629324,0.24949541583121396,0.017481678974939106,0.017004630922713405],\"xaxis\":\"x4\",\"y\":[\"ALL_TRANSIT\",\"BIKE\",\"DRIVEALONEFREE\",\"SCH_BUS\",\"SHARED2FREE\",\"SHARED3FREE\",\"TNC\",\"WALK\"],\"yaxis\":\"y4\",\"type\":\"bar\"},{\"alignmentgroup\":\"True\",\"hovertemplate\":\"source=survey data<br>ptype_label=7: Child Age 5-15<br>percentage=%{x}<br>tour_mode_transit_agg=%{y}<extra></extra>\",\"legendgroup\":\"survey data\",\"marker\":{\"color\":\"#00A7A0\",\"pattern\":{\"shape\":\"\"}},\"name\":\"survey data\",\"offsetgroup\":\"survey data\",\"orientation\":\"h\",\"showlegend\":false,\"textposition\":\"auto\",\"x\":[0.01400797535977015,0.011638829660575651,0.0007235697087579902,0.012262735880585785,0.2737077726795708,0.1982321991701664,0.3850247611284562,8.792291511619138e-06,0.10439336412060525],\"xaxis\":\"x\",\"y\":[\"ALL_TRANSIT\",\"BIKE\",\"DRIVEALONEFREE\",\"Other\",\"SCH_BUS\",\"SHARED2FREE\",\"SHARED3FREE\",\"TNC\",\"WALK\"],\"yaxis\":\"y\",\"type\":\"bar\"},{\"alignmentgroup\":\"True\",\"hovertemplate\":\"source=survey data<br>ptype_label=8: Child Age 0-4<br>percentage=%{x}<br>tour_mode_transit_agg=%{y}<extra></extra>\",\"legendgroup\":\"survey data\",\"marker\":{\"color\":\"#00A7A0\",\"pattern\":{\"shape\":\"\"}},\"name\":\"survey data\",\"offsetgroup\":\"survey data\",\"orientation\":\"h\",\"showlegend\":false,\"textposition\":\"auto\",\"x\":[0.01670053965685396,0.000250622260858451,0.0,0.6715803291305497,0.26462387415457556,0.0468446347971622],\"xaxis\":\"x2\",\"y\":[\"ALL_TRANSIT\",\"BIKE\",\"DRIVEALONEFREE\",\"SHARED2FREE\",\"SHARED3FREE\",\"WALK\"],\"yaxis\":\"y2\",\"type\":\"bar\"},{\"alignmentgroup\":\"True\",\"hovertemplate\":\"source=unweighted survey<br>ptype_label=1: Full-Time Worker<br>percentage=%{x}<br>tour_mode_transit_agg=%{y}<extra></extra>\",\"legendgroup\":\"unweighted survey\",\"marker\":{\"color\":\"#8CC63E\",\"pattern\":{\"shape\":\"\"}},\"name\":\"unweighted survey\",\"offsetgroup\":\"unweighted survey\",\"orientation\":\"h\",\"showlegend\":true,\"textposition\":\"auto\",\"x\":[0.21029635258358662,0.04160334346504559,0.366451367781155,0.005129179331306991,0.00018996960486322188,0.11702127659574468,0.04901215805471125,0.012727963525835866,0.19756838905775076],\"xaxis\":\"x7\",\"y\":[\"ALL_TRANSIT\",\"BIKE\",\"DRIVEALONEFREE\",\"Other\",\"SCH_BUS\",\"SHARED2FREE\",\"SHARED3FREE\",\"TNC\",\"WALK\"],\"yaxis\":\"y7\",\"type\":\"bar\"},{\"alignmentgroup\":\"True\",\"hovertemplate\":\"source=unweighted survey<br>ptype_label=2: Part-Time Worker<br>percentage=%{x}<br>tour_mode_transit_agg=%{y}<extra></extra>\",\"legendgroup\":\"unweighted survey\",\"marker\":{\"color\":\"#8CC63E\",\"pattern\":{\"shape\":\"\"}},\"name\":\"unweighted survey\",\"offsetgroup\":\"unweighted survey\",\"orientation\":\"h\",\"showlegend\":false,\"textposition\":\"auto\",\"x\":[0.14106583072100312,0.03657262277951933,0.42528735632183906,0.0020898641588296763,0.14106583072100312,0.06374085684430512,0.0041797283176593526,0.18599791013584116],\"xaxis\":\"x8\",\"y\":[\"ALL_TRANSIT\",\"BIKE\",\"DRIVEALONEFREE\",\"Other\",\"SHARED2FREE\",\"SHARED3FREE\",\"TNC\",\"WALK\"],\"yaxis\":\"y8\",\"type\":\"bar\"},{\"alignmentgroup\":\"True\",\"hovertemplate\":\"source=unweighted survey<br>ptype_label=3: University Student<br>percentage=%{x}<br>tour_mode_transit_agg=%{y}<extra></extra>\",\"legendgroup\":\"unweighted survey\",\"marker\":{\"color\":\"#8CC63E\",\"pattern\":{\"shape\":\"\"}},\"name\":\"unweighted survey\",\"offsetgroup\":\"unweighted survey\",\"orientation\":\"h\",\"showlegend\":false,\"textposition\":\"auto\",\"x\":[0.3236514522821577,0.06639004149377593,0.2033195020746888,0.002074688796680498,0.10995850622406639,0.043568464730290454,0.024896265560165973,0.22614107883817428],\"xaxis\":\"x5\",\"y\":[\"ALL_TRANSIT\",\"BIKE\",\"DRIVEALONEFREE\",\"SCH_BUS\",\"SHARED2FREE\",\"SHARED3FREE\",\"TNC\",\"WALK\"],\"yaxis\":\"y5\",\"type\":\"bar\"},{\"alignmentgroup\":\"True\",\"hovertemplate\":\"source=unweighted survey<br>ptype_label=4: Non-Working Adult Age <65<br>percentage=%{x}<br>tour_mode_transit_agg=%{y}<extra></extra>\",\"legendgroup\":\"unweighted survey\",\"marker\":{\"color\":\"#8CC63E\",\"pattern\":{\"shape\":\"\"}},\"name\":\"unweighted survey\",\"offsetgroup\":\"unweighted survey\",\"orientation\":\"h\",\"showlegend\":false,\"textposition\":\"auto\",\"x\":[0.09323583180987204,0.01340645947592931,0.28762949421084705,0.0018281535648994515,0.22608165752589884,0.1157830591102986,0.009750152346130409,0.2522851919561243],\"xaxis\":\"x6\",\"y\":[\"ALL_TRANSIT\",\"BIKE\",\"DRIVEALONEFREE\",\"Other\",\"SHARED2FREE\",\"SHARED3FREE\",\"TNC\",\"WALK\"],\"yaxis\":\"y6\",\"type\":\"bar\"},{\"alignmentgroup\":\"True\",\"hovertemplate\":\"source=unweighted survey<br>ptype_label=5: Non-Working Adult Age 65+<br>percentage=%{x}<br>tour_mode_transit_agg=%{y}<extra></extra>\",\"legendgroup\":\"unweighted survey\",\"marker\":{\"color\":\"#8CC63E\",\"pattern\":{\"shape\":\"\"}},\"name\":\"unweighted survey\",\"offsetgroup\":\"unweighted survey\",\"orientation\":\"h\",\"showlegend\":false,\"textposition\":\"auto\",\"x\":[0.08707360861759425,0.013464991023339317,0.47217235188509876,0.008976660682226212,0.19210053859964094,0.03231597845601436,0.0008976660682226212,0.19299820466786355],\"xaxis\":\"x3\",\"y\":[\"ALL_TRANSIT\",\"BIKE\",\"DRIVEALONEFREE\",\"Other\",\"SHARED2FREE\",\"SHARED3FREE\",\"TNC\",\"WALK\"],\"yaxis\":\"y3\",\"type\":\"bar\"},{\"alignmentgroup\":\"True\",\"hovertemplate\":\"source=unweighted survey<br>ptype_label=6: High School Student Age 16+<br>percentage=%{x}<br>tour_mode_transit_agg=%{y}<extra></extra>\",\"legendgroup\":\"unweighted survey\",\"marker\":{\"color\":\"#8CC63E\",\"pattern\":{\"shape\":\"\"}},\"name\":\"unweighted survey\",\"offsetgroup\":\"unweighted survey\",\"orientation\":\"h\",\"showlegend\":false,\"textposition\":\"auto\",\"x\":[0.11702127659574468,0.010638297872340425,0.2553191489361702,0.0851063829787234,0.26595744680851063,0.11702127659574468,0.02127659574468085,0.1276595744680851],\"xaxis\":\"x4\",\"y\":[\"ALL_TRANSIT\",\"BIKE\",\"DRIVEALONEFREE\",\"SCH_BUS\",\"SHARED2FREE\",\"SHARED3FREE\",\"TNC\",\"WALK\"],\"yaxis\":\"y4\",\"type\":\"bar\"},{\"alignmentgroup\":\"True\",\"hovertemplate\":\"source=unweighted survey<br>ptype_label=7: Child Age 5-15<br>percentage=%{x}<br>tour_mode_transit_agg=%{y}<extra></extra>\",\"legendgroup\":\"unweighted survey\",\"marker\":{\"color\":\"#8CC63E\",\"pattern\":{\"shape\":\"\"}},\"name\":\"unweighted survey\",\"offsetgroup\":\"unweighted survey\",\"orientation\":\"h\",\"showlegend\":false,\"textposition\":\"auto\",\"x\":[0.0594059405940594,0.039603960396039604,0.0049504950495049506,0.012376237623762377,0.27722772277227725,0.2301980198019802,0.25742574257425743,0.0024752475247524753,0.11633663366336634],\"xaxis\":\"x\",\"y\":[\"ALL_TRANSIT\",\"BIKE\",\"DRIVEALONEFREE\",\"Other\",\"SCH_BUS\",\"SHARED2FREE\",\"SHARED3FREE\",\"TNC\",\"WALK\"],\"yaxis\":\"y\",\"type\":\"bar\"},{\"alignmentgroup\":\"True\",\"hovertemplate\":\"source=unweighted survey<br>ptype_label=8: Child Age 0-4<br>percentage=%{x}<br>tour_mode_transit_agg=%{y}<extra></extra>\",\"legendgroup\":\"unweighted survey\",\"marker\":{\"color\":\"#8CC63E\",\"pattern\":{\"shape\":\"\"}},\"name\":\"unweighted survey\",\"offsetgroup\":\"unweighted survey\",\"orientation\":\"h\",\"showlegend\":false,\"textposition\":\"auto\",\"x\":[0.05,0.008333333333333333,0.008333333333333333,0.45,0.4083333333333333,0.075],\"xaxis\":\"x2\",\"y\":[\"ALL_TRANSIT\",\"BIKE\",\"DRIVEALONEFREE\",\"SHARED2FREE\",\"SHARED3FREE\",\"WALK\"],\"yaxis\":\"y2\",\"type\":\"bar\"}],                        {\"template\":{\"data\":{\"barpolar\":[{\"marker\":{\"line\":{\"color\":\"white\",\"width\":0.5},\"pattern\":{\"fillmode\":\"overlay\",\"size\":10,\"solidity\":0.2}},\"type\":\"barpolar\"}],\"bar\":[{\"error_x\":{\"color\":\"rgb(36,36,36)\"},\"error_y\":{\"color\":\"rgb(36,36,36)\"},\"marker\":{\"line\":{\"color\":\"white\",\"width\":0.5},\"pattern\":{\"fillmode\":\"overlay\",\"size\":10,\"solidity\":0.2}},\"type\":\"bar\"}],\"carpet\":[{\"aaxis\":{\"endlinecolor\":\"rgb(36,36,36)\",\"gridcolor\":\"white\",\"linecolor\":\"white\",\"minorgridcolor\":\"white\",\"startlinecolor\":\"rgb(36,36,36)\"},\"baxis\":{\"endlinecolor\":\"rgb(36,36,36)\",\"gridcolor\":\"white\",\"linecolor\":\"white\",\"minorgridcolor\":\"white\",\"startlinecolor\":\"rgb(36,36,36)\"},\"type\":\"carpet\"}],\"choropleth\":[{\"colorbar\":{\"outlinewidth\":1,\"tickcolor\":\"rgb(36,36,36)\",\"ticks\":\"outside\"},\"type\":\"choropleth\"}],\"contourcarpet\":[{\"colorbar\":{\"outlinewidth\":1,\"tickcolor\":\"rgb(36,36,36)\",\"ticks\":\"outside\"},\"type\":\"contourcarpet\"}],\"contour\":[{\"colorbar\":{\"outlinewidth\":1,\"tickcolor\":\"rgb(36,36,36)\",\"ticks\":\"outside\"},\"colorscale\":[[0.0,\"#440154\"],[0.1111111111111111,\"#482878\"],[0.2222222222222222,\"#3e4989\"],[0.3333333333333333,\"#31688e\"],[0.4444444444444444,\"#26828e\"],[0.5555555555555556,\"#1f9e89\"],[0.6666666666666666,\"#35b779\"],[0.7777777777777778,\"#6ece58\"],[0.8888888888888888,\"#b5de2b\"],[1.0,\"#fde725\"]],\"type\":\"contour\"}],\"heatmapgl\":[{\"colorbar\":{\"outlinewidth\":1,\"tickcolor\":\"rgb(36,36,36)\",\"ticks\":\"outside\"},\"colorscale\":[[0.0,\"#440154\"],[0.1111111111111111,\"#482878\"],[0.2222222222222222,\"#3e4989\"],[0.3333333333333333,\"#31688e\"],[0.4444444444444444,\"#26828e\"],[0.5555555555555556,\"#1f9e89\"],[0.6666666666666666,\"#35b779\"],[0.7777777777777778,\"#6ece58\"],[0.8888888888888888,\"#b5de2b\"],[1.0,\"#fde725\"]],\"type\":\"heatmapgl\"}],\"heatmap\":[{\"colorbar\":{\"outlinewidth\":1,\"tickcolor\":\"rgb(36,36,36)\",\"ticks\":\"outside\"},\"colorscale\":[[0.0,\"#440154\"],[0.1111111111111111,\"#482878\"],[0.2222222222222222,\"#3e4989\"],[0.3333333333333333,\"#31688e\"],[0.4444444444444444,\"#26828e\"],[0.5555555555555556,\"#1f9e89\"],[0.6666666666666666,\"#35b779\"],[0.7777777777777778,\"#6ece58\"],[0.8888888888888888,\"#b5de2b\"],[1.0,\"#fde725\"]],\"type\":\"heatmap\"}],\"histogram2dcontour\":[{\"colorbar\":{\"outlinewidth\":1,\"tickcolor\":\"rgb(36,36,36)\",\"ticks\":\"outside\"},\"colorscale\":[[0.0,\"#440154\"],[0.1111111111111111,\"#482878\"],[0.2222222222222222,\"#3e4989\"],[0.3333333333333333,\"#31688e\"],[0.4444444444444444,\"#26828e\"],[0.5555555555555556,\"#1f9e89\"],[0.6666666666666666,\"#35b779\"],[0.7777777777777778,\"#6ece58\"],[0.8888888888888888,\"#b5de2b\"],[1.0,\"#fde725\"]],\"type\":\"histogram2dcontour\"}],\"histogram2d\":[{\"colorbar\":{\"outlinewidth\":1,\"tickcolor\":\"rgb(36,36,36)\",\"ticks\":\"outside\"},\"colorscale\":[[0.0,\"#440154\"],[0.1111111111111111,\"#482878\"],[0.2222222222222222,\"#3e4989\"],[0.3333333333333333,\"#31688e\"],[0.4444444444444444,\"#26828e\"],[0.5555555555555556,\"#1f9e89\"],[0.6666666666666666,\"#35b779\"],[0.7777777777777778,\"#6ece58\"],[0.8888888888888888,\"#b5de2b\"],[1.0,\"#fde725\"]],\"type\":\"histogram2d\"}],\"histogram\":[{\"marker\":{\"line\":{\"color\":\"white\",\"width\":0.6}},\"type\":\"histogram\"}],\"mesh3d\":[{\"colorbar\":{\"outlinewidth\":1,\"tickcolor\":\"rgb(36,36,36)\",\"ticks\":\"outside\"},\"type\":\"mesh3d\"}],\"parcoords\":[{\"line\":{\"colorbar\":{\"outlinewidth\":1,\"tickcolor\":\"rgb(36,36,36)\",\"ticks\":\"outside\"}},\"type\":\"parcoords\"}],\"pie\":[{\"automargin\":true,\"type\":\"pie\"}],\"scatter3d\":[{\"line\":{\"colorbar\":{\"outlinewidth\":1,\"tickcolor\":\"rgb(36,36,36)\",\"ticks\":\"outside\"}},\"marker\":{\"colorbar\":{\"outlinewidth\":1,\"tickcolor\":\"rgb(36,36,36)\",\"ticks\":\"outside\"}},\"type\":\"scatter3d\"}],\"scattercarpet\":[{\"marker\":{\"colorbar\":{\"outlinewidth\":1,\"tickcolor\":\"rgb(36,36,36)\",\"ticks\":\"outside\"}},\"type\":\"scattercarpet\"}],\"scattergeo\":[{\"marker\":{\"colorbar\":{\"outlinewidth\":1,\"tickcolor\":\"rgb(36,36,36)\",\"ticks\":\"outside\"}},\"type\":\"scattergeo\"}],\"scattergl\":[{\"marker\":{\"colorbar\":{\"outlinewidth\":1,\"tickcolor\":\"rgb(36,36,36)\",\"ticks\":\"outside\"}},\"type\":\"scattergl\"}],\"scattermapbox\":[{\"marker\":{\"colorbar\":{\"outlinewidth\":1,\"tickcolor\":\"rgb(36,36,36)\",\"ticks\":\"outside\"}},\"type\":\"scattermapbox\"}],\"scatterpolargl\":[{\"marker\":{\"colorbar\":{\"outlinewidth\":1,\"tickcolor\":\"rgb(36,36,36)\",\"ticks\":\"outside\"}},\"type\":\"scatterpolargl\"}],\"scatterpolar\":[{\"marker\":{\"colorbar\":{\"outlinewidth\":1,\"tickcolor\":\"rgb(36,36,36)\",\"ticks\":\"outside\"}},\"type\":\"scatterpolar\"}],\"scatter\":[{\"fillpattern\":{\"fillmode\":\"overlay\",\"size\":10,\"solidity\":0.2},\"type\":\"scatter\"}],\"scatterternary\":[{\"marker\":{\"colorbar\":{\"outlinewidth\":1,\"tickcolor\":\"rgb(36,36,36)\",\"ticks\":\"outside\"}},\"type\":\"scatterternary\"}],\"surface\":[{\"colorbar\":{\"outlinewidth\":1,\"tickcolor\":\"rgb(36,36,36)\",\"ticks\":\"outside\"},\"colorscale\":[[0.0,\"#440154\"],[0.1111111111111111,\"#482878\"],[0.2222222222222222,\"#3e4989\"],[0.3333333333333333,\"#31688e\"],[0.4444444444444444,\"#26828e\"],[0.5555555555555556,\"#1f9e89\"],[0.6666666666666666,\"#35b779\"],[0.7777777777777778,\"#6ece58\"],[0.8888888888888888,\"#b5de2b\"],[1.0,\"#fde725\"]],\"type\":\"surface\"}],\"table\":[{\"cells\":{\"fill\":{\"color\":\"rgb(237,237,237)\"},\"line\":{\"color\":\"white\"}},\"header\":{\"fill\":{\"color\":\"rgb(217,217,217)\"},\"line\":{\"color\":\"white\"}},\"type\":\"table\"}]},\"layout\":{\"annotationdefaults\":{\"arrowhead\":0,\"arrowwidth\":1},\"autotypenumbers\":\"strict\",\"coloraxis\":{\"colorbar\":{\"outlinewidth\":1,\"tickcolor\":\"rgb(36,36,36)\",\"ticks\":\"outside\"}},\"colorscale\":{\"diverging\":[[0.0,\"rgb(103,0,31)\"],[0.1,\"rgb(178,24,43)\"],[0.2,\"rgb(214,96,77)\"],[0.3,\"rgb(244,165,130)\"],[0.4,\"rgb(253,219,199)\"],[0.5,\"rgb(247,247,247)\"],[0.6,\"rgb(209,229,240)\"],[0.7,\"rgb(146,197,222)\"],[0.8,\"rgb(67,147,195)\"],[0.9,\"rgb(33,102,172)\"],[1.0,\"rgb(5,48,97)\"]],\"sequential\":[[0.0,\"#440154\"],[0.1111111111111111,\"#482878\"],[0.2222222222222222,\"#3e4989\"],[0.3333333333333333,\"#31688e\"],[0.4444444444444444,\"#26828e\"],[0.5555555555555556,\"#1f9e89\"],[0.6666666666666666,\"#35b779\"],[0.7777777777777778,\"#6ece58\"],[0.8888888888888888,\"#b5de2b\"],[1.0,\"#fde725\"]],\"sequentialminus\":[[0.0,\"#440154\"],[0.1111111111111111,\"#482878\"],[0.2222222222222222,\"#3e4989\"],[0.3333333333333333,\"#31688e\"],[0.4444444444444444,\"#26828e\"],[0.5555555555555556,\"#1f9e89\"],[0.6666666666666666,\"#35b779\"],[0.7777777777777778,\"#6ece58\"],[0.8888888888888888,\"#b5de2b\"],[1.0,\"#fde725\"]]},\"colorway\":[\"#91268F\",\"#00A7A0\",\"#8CC63E\",\"#F05A28\",\"#4C4C4C\",\"#630460\",\"#9f3913\",\"#588527\",\"#00716c\",\"#3e4040\"],\"font\":{\"color\":\"rgb(36,36,36)\",\"size\":11},\"geo\":{\"bgcolor\":\"white\",\"lakecolor\":\"white\",\"landcolor\":\"white\",\"showlakes\":true,\"showland\":true,\"subunitcolor\":\"white\"},\"hoverlabel\":{\"align\":\"left\"},\"hovermode\":\"closest\",\"mapbox\":{\"style\":\"light\"},\"paper_bgcolor\":\"white\",\"plot_bgcolor\":\"white\",\"polar\":{\"angularaxis\":{\"gridcolor\":\"rgb(232,232,232)\",\"linecolor\":\"rgb(36,36,36)\",\"showgrid\":false,\"showline\":true,\"ticks\":\"outside\"},\"bgcolor\":\"white\",\"radialaxis\":{\"gridcolor\":\"rgb(232,232,232)\",\"linecolor\":\"rgb(36,36,36)\",\"showgrid\":false,\"showline\":true,\"ticks\":\"outside\"}},\"scene\":{\"xaxis\":{\"backgroundcolor\":\"white\",\"gridcolor\":\"rgb(232,232,232)\",\"gridwidth\":2,\"linecolor\":\"rgb(36,36,36)\",\"showbackground\":true,\"showgrid\":false,\"showline\":true,\"ticks\":\"outside\",\"zeroline\":false,\"zerolinecolor\":\"rgb(36,36,36)\"},\"yaxis\":{\"backgroundcolor\":\"white\",\"gridcolor\":\"rgb(232,232,232)\",\"gridwidth\":2,\"linecolor\":\"rgb(36,36,36)\",\"showbackground\":true,\"showgrid\":false,\"showline\":true,\"ticks\":\"outside\",\"zeroline\":false,\"zerolinecolor\":\"rgb(36,36,36)\"},\"zaxis\":{\"backgroundcolor\":\"white\",\"gridcolor\":\"rgb(232,232,232)\",\"gridwidth\":2,\"linecolor\":\"rgb(36,36,36)\",\"showbackground\":true,\"showgrid\":false,\"showline\":true,\"ticks\":\"outside\",\"zeroline\":false,\"zerolinecolor\":\"rgb(36,36,36)\"}},\"shapedefaults\":{\"fillcolor\":\"black\",\"line\":{\"width\":0},\"opacity\":0.3},\"ternary\":{\"aaxis\":{\"gridcolor\":\"rgb(232,232,232)\",\"linecolor\":\"rgb(36,36,36)\",\"showgrid\":false,\"showline\":true,\"ticks\":\"outside\"},\"baxis\":{\"gridcolor\":\"rgb(232,232,232)\",\"linecolor\":\"rgb(36,36,36)\",\"showgrid\":false,\"showline\":true,\"ticks\":\"outside\"},\"bgcolor\":\"white\",\"caxis\":{\"gridcolor\":\"rgb(232,232,232)\",\"linecolor\":\"rgb(36,36,36)\",\"showgrid\":false,\"showline\":true,\"ticks\":\"outside\"}},\"title\":{\"x\":0.05},\"xaxis\":{\"automargin\":true,\"gridcolor\":\"rgb(232,232,232)\",\"linecolor\":\"rgb(36,36,36)\",\"showgrid\":false,\"showline\":true,\"ticks\":\"outside\",\"title\":{\"standoff\":15},\"zeroline\":false,\"zerolinecolor\":\"rgb(36,36,36)\"},\"yaxis\":{\"automargin\":true,\"gridcolor\":\"rgb(232,232,232)\",\"linecolor\":\"rgb(36,36,36)\",\"showgrid\":false,\"showline\":true,\"ticks\":\"outside\",\"title\":{\"standoff\":15},\"zeroline\":false,\"zerolinecolor\":\"rgb(36,36,36)\"}}},\"xaxis\":{\"anchor\":\"y\",\"domain\":[0.0,0.49],\"title\":{\"text\":\"percentage\"},\"tickformat\":\".0%\"},\"yaxis\":{\"anchor\":\"x\",\"domain\":[0.0,0.1975],\"title\":{\"text\":\"tour_mode_transit_agg\"},\"categoryorder\":\"array\",\"categoryarray\":[\"Other\",\"TNC\",\"SCH_BUS\",\"ALL_TRANSIT\",\"WALK\",\"BIKE\",\"SHARED3FREE\",\"SHARED2FREE\",\"DRIVEALONEFREE\"]},\"xaxis2\":{\"anchor\":\"y2\",\"domain\":[0.51,1.0],\"matches\":\"x\",\"title\":{\"text\":\"percentage\"},\"tickformat\":\".0%\"},\"yaxis2\":{\"anchor\":\"x2\",\"domain\":[0.0,0.1975],\"matches\":\"y\",\"showticklabels\":false},\"xaxis3\":{\"anchor\":\"y3\",\"domain\":[0.0,0.49],\"matches\":\"x\",\"showticklabels\":false},\"yaxis3\":{\"anchor\":\"x3\",\"domain\":[0.2675,0.465],\"matches\":\"y\",\"title\":{\"text\":\"tour_mode_transit_agg\"},\"categoryorder\":\"array\",\"categoryarray\":[\"Other\",\"TNC\",\"SCH_BUS\",\"ALL_TRANSIT\",\"WALK\",\"BIKE\",\"SHARED3FREE\",\"SHARED2FREE\",\"DRIVEALONEFREE\"]},\"xaxis4\":{\"anchor\":\"y4\",\"domain\":[0.51,1.0],\"matches\":\"x\",\"showticklabels\":false},\"yaxis4\":{\"anchor\":\"x4\",\"domain\":[0.2675,0.465],\"matches\":\"y\",\"showticklabels\":false},\"xaxis5\":{\"anchor\":\"y5\",\"domain\":[0.0,0.49],\"matches\":\"x\",\"showticklabels\":false},\"yaxis5\":{\"anchor\":\"x5\",\"domain\":[0.535,0.7325],\"matches\":\"y\",\"title\":{\"text\":\"tour_mode_transit_agg\"},\"categoryorder\":\"array\",\"categoryarray\":[\"Other\",\"TNC\",\"SCH_BUS\",\"ALL_TRANSIT\",\"WALK\",\"BIKE\",\"SHARED3FREE\",\"SHARED2FREE\",\"DRIVEALONEFREE\"]},\"xaxis6\":{\"anchor\":\"y6\",\"domain\":[0.51,1.0],\"matches\":\"x\",\"showticklabels\":false},\"yaxis6\":{\"anchor\":\"x6\",\"domain\":[0.535,0.7325],\"matches\":\"y\",\"showticklabels\":false},\"xaxis7\":{\"anchor\":\"y7\",\"domain\":[0.0,0.49],\"matches\":\"x\",\"showticklabels\":false},\"yaxis7\":{\"anchor\":\"x7\",\"domain\":[0.8025,1.0],\"matches\":\"y\",\"title\":{\"text\":\"tour_mode_transit_agg\"},\"categoryorder\":\"array\",\"categoryarray\":[\"Other\",\"TNC\",\"SCH_BUS\",\"ALL_TRANSIT\",\"WALK\",\"BIKE\",\"SHARED3FREE\",\"SHARED2FREE\",\"DRIVEALONEFREE\"]},\"xaxis8\":{\"anchor\":\"y8\",\"domain\":[0.51,1.0],\"matches\":\"x\",\"showticklabels\":false},\"yaxis8\":{\"anchor\":\"x8\",\"domain\":[0.8025,1.0],\"matches\":\"y\",\"showticklabels\":false},\"annotations\":[{\"font\":{},\"showarrow\":false,\"text\":\"7: Child Age 5-15\",\"x\":0.245,\"xanchor\":\"center\",\"xref\":\"paper\",\"y\":0.1975,\"yanchor\":\"bottom\",\"yref\":\"paper\"},{\"font\":{},\"showarrow\":false,\"text\":\"8: Child Age 0-4\",\"x\":0.755,\"xanchor\":\"center\",\"xref\":\"paper\",\"y\":0.1975,\"yanchor\":\"bottom\",\"yref\":\"paper\"},{\"font\":{},\"showarrow\":false,\"text\":\"5: Non-Working Adult Age 65+\",\"x\":0.245,\"xanchor\":\"center\",\"xref\":\"paper\",\"y\":0.465,\"yanchor\":\"bottom\",\"yref\":\"paper\"},{\"font\":{},\"showarrow\":false,\"text\":\"6: High School Student Age 16+\",\"x\":0.755,\"xanchor\":\"center\",\"xref\":\"paper\",\"y\":0.465,\"yanchor\":\"bottom\",\"yref\":\"paper\"},{\"font\":{},\"showarrow\":false,\"text\":\"3: University Student\",\"x\":0.245,\"xanchor\":\"center\",\"xref\":\"paper\",\"y\":0.7325,\"yanchor\":\"bottom\",\"yref\":\"paper\"},{\"font\":{},\"showarrow\":false,\"text\":\"4: Non-Working Adult Age <65\",\"x\":0.755,\"xanchor\":\"center\",\"xref\":\"paper\",\"y\":0.7325,\"yanchor\":\"bottom\",\"yref\":\"paper\"},{\"font\":{},\"showarrow\":false,\"text\":\"1: Full-Time Worker\",\"x\":0.245,\"xanchor\":\"center\",\"xref\":\"paper\",\"y\":1.0,\"yanchor\":\"bottom\",\"yref\":\"paper\"},{\"font\":{},\"showarrow\":false,\"text\":\"2: Part-Time Worker\",\"x\":0.755,\"xanchor\":\"center\",\"xref\":\"paper\",\"y\":1.0,\"yanchor\":\"bottom\",\"yref\":\"paper\"}],\"legend\":{\"title\":{\"text\":\"source\"},\"tracegroupgap\":0},\"title\":{\"text\":\"Tour mode choice by ptype_label\"},\"barmode\":\"group\",\"height\":1200,\"width\":700},                        {\"responsive\": true}                    ).then(function(){\n",
       "                            \n",
       "var gd = document.getElementById('d5bfc55b-e7e1-40f0-ac62-755e9f875ee9');\n",
       "var x = new MutationObserver(function (mutations, observer) {{\n",
       "        var display = window.getComputedStyle(gd).display;\n",
       "        if (!display || display === 'none') {{\n",
       "            console.log([gd, 'removed!']);\n",
       "            Plotly.purge(gd);\n",
       "            observer.disconnect();\n",
       "        }}\n",
       "}});\n",
       "\n",
       "// Listen for the removal of the full notebook cells\n",
       "var notebookContainer = gd.closest('#notebook-container');\n",
       "if (notebookContainer) {{\n",
       "    x.observe(notebookContainer, {childList: true});\n",
       "}}\n",
       "\n",
       "// Listen for the clearing of the current output cell\n",
       "var outputEl = gd.closest('.output');\n",
       "if (outputEl) {{\n",
       "    x.observe(outputEl, {childList: true});\n",
       "}}\n",
       "\n",
       "                        })                };                });            </script>        </div>"
      ]
     },
     "metadata": {},
     "output_type": "display_data"
    },
    {
     "data": {
      "application/vnd.plotly.v1+json": {
       "config": {
        "plotlyServerURL": "https://plot.ly"
       },
       "data": [
        {
         "alignmentgroup": "True",
         "hovertemplate": "source=model results<br>ptype_label=1: Full-Time Worker<br>percentage=%{x}<br>tour_mode=%{y}<extra></extra>",
         "legendgroup": "model results",
         "marker": {
          "color": "#91268F",
          "pattern": {
           "shape": ""
          }
         },
         "name": "model results",
         "offsetgroup": "model results",
         "orientation": "h",
         "showlegend": true,
         "textposition": "auto",
         "type": "bar",
         "x": [
          0.01029025201742615,
          0.009200658076138306,
          0.020190345765702836,
          0.07101799599272073,
          0.01404339993750115
         ],
         "xaxis": "x7",
         "y": [
          "DRIVE_TRN",
          "WALK_COM",
          "WALK_FRY",
          "WALK_LOC",
          "WALK_LR"
         ],
         "yaxis": "y7"
        },
        {
         "alignmentgroup": "True",
         "hovertemplate": "source=model results<br>ptype_label=2: Part-Time Worker<br>percentage=%{x}<br>tour_mode=%{y}<extra></extra>",
         "legendgroup": "model results",
         "marker": {
          "color": "#91268F",
          "pattern": {
           "shape": ""
          }
         },
         "name": "model results",
         "offsetgroup": "model results",
         "orientation": "h",
         "showlegend": false,
         "textposition": "auto",
         "type": "bar",
         "x": [
          0.007410163193288646,
          0.0051518691842946315,
          0.016023444485781232,
          0.057756195623086815,
          0.010460383039733356
         ],
         "xaxis": "x8",
         "y": [
          "DRIVE_TRN",
          "WALK_COM",
          "WALK_FRY",
          "WALK_LOC",
          "WALK_LR"
         ],
         "yaxis": "y8"
        },
        {
         "alignmentgroup": "True",
         "hovertemplate": "source=model results<br>ptype_label=3: University Student<br>percentage=%{x}<br>tour_mode=%{y}<extra></extra>",
         "legendgroup": "model results",
         "marker": {
          "color": "#91268F",
          "pattern": {
           "shape": ""
          }
         },
         "name": "model results",
         "offsetgroup": "model results",
         "orientation": "h",
         "showlegend": false,
         "textposition": "auto",
         "type": "bar",
         "x": [
          0.006944107691860071,
          0.005799687709123355,
          0.01179819414406114,
          0.14433269646684577,
          0.025259676652862505
         ],
         "xaxis": "x9",
         "y": [
          "DRIVE_TRN",
          "WALK_COM",
          "WALK_FRY",
          "WALK_LOC",
          "WALK_LR"
         ],
         "yaxis": "y9"
        },
        {
         "alignmentgroup": "True",
         "hovertemplate": "source=model results<br>ptype_label=4: Non-Working Adult Age <65<br>percentage=%{x}<br>tour_mode=%{y}<extra></extra>",
         "legendgroup": "model results",
         "marker": {
          "color": "#91268F",
          "pattern": {
           "shape": ""
          }
         },
         "name": "model results",
         "offsetgroup": "model results",
         "orientation": "h",
         "showlegend": false,
         "textposition": "auto",
         "type": "bar",
         "x": [
          0.004458775968730595,
          0.0005887490949754065,
          0.008399658860480635,
          0.03523605360322176,
          0.005207273177003486
         ],
         "xaxis": "x4",
         "y": [
          "DRIVE_TRN",
          "WALK_COM",
          "WALK_FRY",
          "WALK_LOC",
          "WALK_LR"
         ],
         "yaxis": "y4"
        },
        {
         "alignmentgroup": "True",
         "hovertemplate": "source=model results<br>ptype_label=5: Non-Working Adult Age 65+<br>percentage=%{x}<br>tour_mode=%{y}<extra></extra>",
         "legendgroup": "model results",
         "marker": {
          "color": "#91268F",
          "pattern": {
           "shape": ""
          }
         },
         "name": "model results",
         "offsetgroup": "model results",
         "orientation": "h",
         "showlegend": false,
         "textposition": "auto",
         "type": "bar",
         "x": [
          0.006567014118798993,
          0.0006846501437765302,
          0.012051718284285497,
          0.04077701226180271,
          0.005670403793524523
         ],
         "xaxis": "x5",
         "y": [
          "DRIVE_TRN",
          "WALK_COM",
          "WALK_FRY",
          "WALK_LOC",
          "WALK_LR"
         ],
         "yaxis": "y5"
        },
        {
         "alignmentgroup": "True",
         "hovertemplate": "source=model results<br>ptype_label=6: High School Student Age 16+<br>percentage=%{x}<br>tour_mode=%{y}<extra></extra>",
         "legendgroup": "model results",
         "marker": {
          "color": "#91268F",
          "pattern": {
           "shape": ""
          }
         },
         "name": "model results",
         "offsetgroup": "model results",
         "orientation": "h",
         "showlegend": false,
         "textposition": "auto",
         "type": "bar",
         "x": [
          0.008748637101107534,
          0.008738203425375743,
          0.0049299117832716875,
          0.07947330804905914,
          0.01674604954952605
         ],
         "xaxis": "x6",
         "y": [
          "DRIVE_TRN",
          "WALK_COM",
          "WALK_FRY",
          "WALK_LOC",
          "WALK_LR"
         ],
         "yaxis": "y6"
        },
        {
         "alignmentgroup": "True",
         "hovertemplate": "source=model results<br>ptype_label=7: Child Age 5-15<br>percentage=%{x}<br>tour_mode=%{y}<extra></extra>",
         "legendgroup": "model results",
         "marker": {
          "color": "#91268F",
          "pattern": {
           "shape": ""
          }
         },
         "name": "model results",
         "offsetgroup": "model results",
         "orientation": "h",
         "showlegend": false,
         "textposition": "auto",
         "type": "bar",
         "x": [
          0.003087473155261044,
          0.0026289028793662628,
          0.04036643615634096,
          0.007065832838882559
         ],
         "xaxis": "x",
         "y": [
          "WALK_COM",
          "WALK_FRY",
          "WALK_LOC",
          "WALK_LR"
         ],
         "yaxis": "y"
        },
        {
         "alignmentgroup": "True",
         "hovertemplate": "source=model results<br>ptype_label=8: Child Age 0-4<br>percentage=%{x}<br>tour_mode=%{y}<extra></extra>",
         "legendgroup": "model results",
         "marker": {
          "color": "#91268F",
          "pattern": {
           "shape": ""
          }
         },
         "name": "model results",
         "offsetgroup": "model results",
         "orientation": "h",
         "showlegend": false,
         "textposition": "auto",
         "type": "bar",
         "x": [
          0.0013081676238423459,
          0.002903735710498541,
          0.02185234553463919,
          0.0043853346481078645
         ],
         "xaxis": "x2",
         "y": [
          "WALK_COM",
          "WALK_FRY",
          "WALK_LOC",
          "WALK_LR"
         ],
         "yaxis": "y2"
        },
        {
         "alignmentgroup": "True",
         "hovertemplate": "source=survey data<br>ptype_label=1: Full-Time Worker<br>percentage=%{x}<br>tour_mode=%{y}<extra></extra>",
         "legendgroup": "survey data",
         "marker": {
          "color": "#00A7A0",
          "pattern": {
           "shape": ""
          }
         },
         "name": "survey data",
         "offsetgroup": "survey data",
         "orientation": "h",
         "showlegend": true,
         "textposition": "auto",
         "type": "bar",
         "x": [
          0.007721018870412353,
          0.0010491943325943442,
          0.0046372936130477695,
          0.05531329386023892,
          0.004589954085273395
         ],
         "xaxis": "x7",
         "y": [
          "DRIVE_TRN",
          "WALK_COM",
          "WALK_FRY",
          "WALK_LOC",
          "WALK_LR"
         ],
         "yaxis": "y7"
        },
        {
         "alignmentgroup": "True",
         "hovertemplate": "source=survey data<br>ptype_label=2: Part-Time Worker<br>percentage=%{x}<br>tour_mode=%{y}<extra></extra>",
         "legendgroup": "survey data",
         "marker": {
          "color": "#00A7A0",
          "pattern": {
           "shape": ""
          }
         },
         "name": "survey data",
         "offsetgroup": "survey data",
         "orientation": "h",
         "showlegend": false,
         "textposition": "auto",
         "type": "bar",
         "x": [
          0.01733261010475478,
          0.0003602436983122266,
          0.05071938992975941,
          0.002289198264346559
         ],
         "xaxis": "x8",
         "y": [
          "DRIVE_TRN",
          "WALK_FRY",
          "WALK_LOC",
          "WALK_LR"
         ],
         "yaxis": "y8"
        },
        {
         "alignmentgroup": "True",
         "hovertemplate": "source=survey data<br>ptype_label=3: University Student<br>percentage=%{x}<br>tour_mode=%{y}<extra></extra>",
         "legendgroup": "survey data",
         "marker": {
          "color": "#00A7A0",
          "pattern": {
           "shape": ""
          }
         },
         "name": "survey data",
         "offsetgroup": "survey data",
         "orientation": "h",
         "showlegend": false,
         "textposition": "auto",
         "type": "bar",
         "x": [
          0.002078298251676612,
          0.00038950889477953394,
          0.18708262863198497,
          0.009406024961793135
         ],
         "xaxis": "x9",
         "y": [
          "DRIVE_TRN",
          "WALK_FRY",
          "WALK_LOC",
          "WALK_LR"
         ],
         "yaxis": "y9"
        },
        {
         "alignmentgroup": "True",
         "hovertemplate": "source=survey data<br>ptype_label=4: Non-Working Adult Age <65<br>percentage=%{x}<br>tour_mode=%{y}<extra></extra>",
         "legendgroup": "survey data",
         "marker": {
          "color": "#00A7A0",
          "pattern": {
           "shape": ""
          }
         },
         "name": "survey data",
         "offsetgroup": "survey data",
         "orientation": "h",
         "showlegend": false,
         "textposition": "auto",
         "type": "bar",
         "x": [
          4.10225406686477e-05,
          0.00054279439246347,
          0.04428618749231798,
          0.002162531897902684
         ],
         "xaxis": "x4",
         "y": [
          "DRIVE_TRN",
          "WALK_FRY",
          "WALK_LOC",
          "WALK_LR"
         ],
         "yaxis": "y4"
        },
        {
         "alignmentgroup": "True",
         "hovertemplate": "source=survey data<br>ptype_label=5: Non-Working Adult Age 65+<br>percentage=%{x}<br>tour_mode=%{y}<extra></extra>",
         "legendgroup": "survey data",
         "marker": {
          "color": "#00A7A0",
          "pattern": {
           "shape": ""
          }
         },
         "name": "survey data",
         "offsetgroup": "survey data",
         "orientation": "h",
         "showlegend": false,
         "textposition": "auto",
         "type": "bar",
         "x": [
          0.0008480954285113632,
          0.05015669387453447,
          0.009863396638439157
         ],
         "xaxis": "x5",
         "y": [
          "DRIVE_TRN",
          "WALK_LOC",
          "WALK_LR"
         ],
         "yaxis": "y5"
        },
        {
         "alignmentgroup": "True",
         "hovertemplate": "source=survey data<br>ptype_label=6: High School Student Age 16+<br>percentage=%{x}<br>tour_mode=%{y}<extra></extra>",
         "legendgroup": "survey data",
         "marker": {
          "color": "#00A7A0",
          "pattern": {
           "shape": ""
          }
         },
         "name": "survey data",
         "offsetgroup": "survey data",
         "orientation": "h",
         "showlegend": false,
         "textposition": "auto",
         "type": "bar",
         "x": [
          0.05646143430120324
         ],
         "xaxis": "x6",
         "y": [
          "WALK_LOC"
         ],
         "yaxis": "y6"
        },
        {
         "alignmentgroup": "True",
         "hovertemplate": "source=survey data<br>ptype_label=7: Child Age 5-15<br>percentage=%{x}<br>tour_mode=%{y}<extra></extra>",
         "legendgroup": "survey data",
         "marker": {
          "color": "#00A7A0",
          "pattern": {
           "shape": ""
          }
         },
         "name": "survey data",
         "offsetgroup": "survey data",
         "orientation": "h",
         "showlegend": false,
         "textposition": "auto",
         "type": "bar",
         "x": [
          0.013795234081027117,
          0.00021274127874303634
         ],
         "xaxis": "x",
         "y": [
          "WALK_LOC",
          "WALK_LR"
         ],
         "yaxis": "y"
        },
        {
         "alignmentgroup": "True",
         "hovertemplate": "source=survey data<br>ptype_label=8: Child Age 0-4<br>percentage=%{x}<br>tour_mode=%{y}<extra></extra>",
         "legendgroup": "survey data",
         "marker": {
          "color": "#00A7A0",
          "pattern": {
           "shape": ""
          }
         },
         "name": "survey data",
         "offsetgroup": "survey data",
         "orientation": "h",
         "showlegend": false,
         "textposition": "auto",
         "type": "bar",
         "x": [
          0.014789362322548094,
          0.0019111773343058656
         ],
         "xaxis": "x2",
         "y": [
          "WALK_LOC",
          "WALK_LR"
         ],
         "yaxis": "y2"
        },
        {
         "alignmentgroup": "True",
         "hovertemplate": "source=unweighted survey<br>ptype_label=1: Full-Time Worker<br>percentage=%{x}<br>tour_mode=%{y}<extra></extra>",
         "legendgroup": "unweighted survey",
         "marker": {
          "color": "#8CC63E",
          "pattern": {
           "shape": ""
          }
         },
         "name": "unweighted survey",
         "offsetgroup": "unweighted survey",
         "orientation": "h",
         "showlegend": true,
         "textposition": "auto",
         "type": "bar",
         "x": [
          0.010828267477203647,
          0.001899696048632219,
          0.00303951367781155,
          0.16071428571428573,
          0.0338145896656535
         ],
         "xaxis": "x7",
         "y": [
          "DRIVE_TRN",
          "WALK_COM",
          "WALK_FRY",
          "WALK_LOC",
          "WALK_LR"
         ],
         "yaxis": "y7"
        },
        {
         "alignmentgroup": "True",
         "hovertemplate": "source=unweighted survey<br>ptype_label=2: Part-Time Worker<br>percentage=%{x}<br>tour_mode=%{y}<extra></extra>",
         "legendgroup": "unweighted survey",
         "marker": {
          "color": "#8CC63E",
          "pattern": {
           "shape": ""
          }
         },
         "name": "unweighted survey",
         "offsetgroup": "unweighted survey",
         "orientation": "h",
         "showlegend": false,
         "textposition": "auto",
         "type": "bar",
         "x": [
          0.00522466039707419,
          0.003134796238244514,
          0.10240334378265413,
          0.030303030303030304
         ],
         "xaxis": "x8",
         "y": [
          "DRIVE_TRN",
          "WALK_FRY",
          "WALK_LOC",
          "WALK_LR"
         ],
         "yaxis": "y8"
        },
        {
         "alignmentgroup": "True",
         "hovertemplate": "source=unweighted survey<br>ptype_label=3: University Student<br>percentage=%{x}<br>tour_mode=%{y}<extra></extra>",
         "legendgroup": "unweighted survey",
         "marker": {
          "color": "#8CC63E",
          "pattern": {
           "shape": ""
          }
         },
         "name": "unweighted survey",
         "offsetgroup": "unweighted survey",
         "orientation": "h",
         "showlegend": false,
         "textposition": "auto",
         "type": "bar",
         "x": [
          0.004149377593360996,
          0.002074688796680498,
          0.2572614107883817,
          0.06016597510373444
         ],
         "xaxis": "x9",
         "y": [
          "DRIVE_TRN",
          "WALK_FRY",
          "WALK_LOC",
          "WALK_LR"
         ],
         "yaxis": "y9"
        },
        {
         "alignmentgroup": "True",
         "hovertemplate": "source=unweighted survey<br>ptype_label=4: Non-Working Adult Age <65<br>percentage=%{x}<br>tour_mode=%{y}<extra></extra>",
         "legendgroup": "unweighted survey",
         "marker": {
          "color": "#8CC63E",
          "pattern": {
           "shape": ""
          }
         },
         "name": "unweighted survey",
         "offsetgroup": "unweighted survey",
         "orientation": "h",
         "showlegend": false,
         "textposition": "auto",
         "type": "bar",
         "x": [
          0.001218769043266301,
          0.0018281535648994515,
          0.07312614259597806,
          0.017062766605728214
         ],
         "xaxis": "x4",
         "y": [
          "DRIVE_TRN",
          "WALK_FRY",
          "WALK_LOC",
          "WALK_LR"
         ],
         "yaxis": "y4"
        },
        {
         "alignmentgroup": "True",
         "hovertemplate": "source=unweighted survey<br>ptype_label=5: Non-Working Adult Age 65+<br>percentage=%{x}<br>tour_mode=%{y}<extra></extra>",
         "legendgroup": "unweighted survey",
         "marker": {
          "color": "#8CC63E",
          "pattern": {
           "shape": ""
          }
         },
         "name": "unweighted survey",
         "offsetgroup": "unweighted survey",
         "orientation": "h",
         "showlegend": false,
         "textposition": "auto",
         "type": "bar",
         "x": [
          0.003590664272890485,
          0.07271095152603231,
          0.010771992818671455
         ],
         "xaxis": "x5",
         "y": [
          "DRIVE_TRN",
          "WALK_LOC",
          "WALK_LR"
         ],
         "yaxis": "y5"
        },
        {
         "alignmentgroup": "True",
         "hovertemplate": "source=unweighted survey<br>ptype_label=6: High School Student Age 16+<br>percentage=%{x}<br>tour_mode=%{y}<extra></extra>",
         "legendgroup": "unweighted survey",
         "marker": {
          "color": "#8CC63E",
          "pattern": {
           "shape": ""
          }
         },
         "name": "unweighted survey",
         "offsetgroup": "unweighted survey",
         "orientation": "h",
         "showlegend": false,
         "textposition": "auto",
         "type": "bar",
         "x": [
          0.11702127659574468
         ],
         "xaxis": "x6",
         "y": [
          "WALK_LOC"
         ],
         "yaxis": "y6"
        },
        {
         "alignmentgroup": "True",
         "hovertemplate": "source=unweighted survey<br>ptype_label=7: Child Age 5-15<br>percentage=%{x}<br>tour_mode=%{y}<extra></extra>",
         "legendgroup": "unweighted survey",
         "marker": {
          "color": "#8CC63E",
          "pattern": {
           "shape": ""
          }
         },
         "name": "unweighted survey",
         "offsetgroup": "unweighted survey",
         "orientation": "h",
         "showlegend": false,
         "textposition": "auto",
         "type": "bar",
         "x": [
          0.05198019801980198,
          0.007425742574257425
         ],
         "xaxis": "x",
         "y": [
          "WALK_LOC",
          "WALK_LR"
         ],
         "yaxis": "y"
        },
        {
         "alignmentgroup": "True",
         "hovertemplate": "source=unweighted survey<br>ptype_label=8: Child Age 0-4<br>percentage=%{x}<br>tour_mode=%{y}<extra></extra>",
         "legendgroup": "unweighted survey",
         "marker": {
          "color": "#8CC63E",
          "pattern": {
           "shape": ""
          }
         },
         "name": "unweighted survey",
         "offsetgroup": "unweighted survey",
         "orientation": "h",
         "showlegend": false,
         "textposition": "auto",
         "type": "bar",
         "x": [
          0.016666666666666666,
          0.03333333333333333
         ],
         "xaxis": "x2",
         "y": [
          "WALK_LOC",
          "WALK_LR"
         ],
         "yaxis": "y2"
        }
       ],
       "layout": {
        "annotations": [
         {
          "font": {},
          "showarrow": false,
          "text": "7: Child Age 5-15",
          "x": 0.15999999999999998,
          "xanchor": "center",
          "xref": "paper",
          "y": 0.2866666666666666,
          "yanchor": "bottom",
          "yref": "paper"
         },
         {
          "font": {},
          "showarrow": false,
          "text": "8: Child Age 0-4",
          "x": 0.49999999999999994,
          "xanchor": "center",
          "xref": "paper",
          "y": 0.2866666666666666,
          "yanchor": "bottom",
          "yref": "paper"
         },
         {
          "font": {},
          "showarrow": false,
          "text": "4: Non-Working Adult Age <65",
          "x": 0.15999999999999998,
          "xanchor": "center",
          "xref": "paper",
          "y": 0.6433333333333333,
          "yanchor": "bottom",
          "yref": "paper"
         },
         {
          "font": {},
          "showarrow": false,
          "text": "5: Non-Working Adult Age 65+",
          "x": 0.49999999999999994,
          "xanchor": "center",
          "xref": "paper",
          "y": 0.6433333333333333,
          "yanchor": "bottom",
          "yref": "paper"
         },
         {
          "font": {},
          "showarrow": false,
          "text": "6: High School Student Age 16+",
          "x": 0.8399999999999999,
          "xanchor": "center",
          "xref": "paper",
          "y": 0.6433333333333333,
          "yanchor": "bottom",
          "yref": "paper"
         },
         {
          "font": {},
          "showarrow": false,
          "text": "1: Full-Time Worker",
          "x": 0.15999999999999998,
          "xanchor": "center",
          "xref": "paper",
          "y": 0.9999999999999999,
          "yanchor": "bottom",
          "yref": "paper"
         },
         {
          "font": {},
          "showarrow": false,
          "text": "2: Part-Time Worker",
          "x": 0.49999999999999994,
          "xanchor": "center",
          "xref": "paper",
          "y": 0.9999999999999999,
          "yanchor": "bottom",
          "yref": "paper"
         },
         {
          "font": {},
          "showarrow": false,
          "text": "3: University Student",
          "x": 0.8399999999999999,
          "xanchor": "center",
          "xref": "paper",
          "y": 0.9999999999999999,
          "yanchor": "bottom",
          "yref": "paper"
         }
        ],
        "barmode": "group",
        "height": 800,
        "legend": {
         "title": {
          "text": "source"
         },
         "tracegroupgap": 0
        },
        "template": {
         "data": {
          "bar": [
           {
            "error_x": {
             "color": "rgb(36,36,36)"
            },
            "error_y": {
             "color": "rgb(36,36,36)"
            },
            "marker": {
             "line": {
              "color": "white",
              "width": 0.5
             },
             "pattern": {
              "fillmode": "overlay",
              "size": 10,
              "solidity": 0.2
             }
            },
            "type": "bar"
           }
          ],
          "barpolar": [
           {
            "marker": {
             "line": {
              "color": "white",
              "width": 0.5
             },
             "pattern": {
              "fillmode": "overlay",
              "size": 10,
              "solidity": 0.2
             }
            },
            "type": "barpolar"
           }
          ],
          "carpet": [
           {
            "aaxis": {
             "endlinecolor": "rgb(36,36,36)",
             "gridcolor": "white",
             "linecolor": "white",
             "minorgridcolor": "white",
             "startlinecolor": "rgb(36,36,36)"
            },
            "baxis": {
             "endlinecolor": "rgb(36,36,36)",
             "gridcolor": "white",
             "linecolor": "white",
             "minorgridcolor": "white",
             "startlinecolor": "rgb(36,36,36)"
            },
            "type": "carpet"
           }
          ],
          "choropleth": [
           {
            "colorbar": {
             "outlinewidth": 1,
             "tickcolor": "rgb(36,36,36)",
             "ticks": "outside"
            },
            "type": "choropleth"
           }
          ],
          "contour": [
           {
            "colorbar": {
             "outlinewidth": 1,
             "tickcolor": "rgb(36,36,36)",
             "ticks": "outside"
            },
            "colorscale": [
             [
              0.0,
              "#440154"
             ],
             [
              0.1111111111111111,
              "#482878"
             ],
             [
              0.2222222222222222,
              "#3e4989"
             ],
             [
              0.3333333333333333,
              "#31688e"
             ],
             [
              0.4444444444444444,
              "#26828e"
             ],
             [
              0.5555555555555556,
              "#1f9e89"
             ],
             [
              0.6666666666666666,
              "#35b779"
             ],
             [
              0.7777777777777778,
              "#6ece58"
             ],
             [
              0.8888888888888888,
              "#b5de2b"
             ],
             [
              1.0,
              "#fde725"
             ]
            ],
            "type": "contour"
           }
          ],
          "contourcarpet": [
           {
            "colorbar": {
             "outlinewidth": 1,
             "tickcolor": "rgb(36,36,36)",
             "ticks": "outside"
            },
            "type": "contourcarpet"
           }
          ],
          "heatmap": [
           {
            "colorbar": {
             "outlinewidth": 1,
             "tickcolor": "rgb(36,36,36)",
             "ticks": "outside"
            },
            "colorscale": [
             [
              0.0,
              "#440154"
             ],
             [
              0.1111111111111111,
              "#482878"
             ],
             [
              0.2222222222222222,
              "#3e4989"
             ],
             [
              0.3333333333333333,
              "#31688e"
             ],
             [
              0.4444444444444444,
              "#26828e"
             ],
             [
              0.5555555555555556,
              "#1f9e89"
             ],
             [
              0.6666666666666666,
              "#35b779"
             ],
             [
              0.7777777777777778,
              "#6ece58"
             ],
             [
              0.8888888888888888,
              "#b5de2b"
             ],
             [
              1.0,
              "#fde725"
             ]
            ],
            "type": "heatmap"
           }
          ],
          "heatmapgl": [
           {
            "colorbar": {
             "outlinewidth": 1,
             "tickcolor": "rgb(36,36,36)",
             "ticks": "outside"
            },
            "colorscale": [
             [
              0.0,
              "#440154"
             ],
             [
              0.1111111111111111,
              "#482878"
             ],
             [
              0.2222222222222222,
              "#3e4989"
             ],
             [
              0.3333333333333333,
              "#31688e"
             ],
             [
              0.4444444444444444,
              "#26828e"
             ],
             [
              0.5555555555555556,
              "#1f9e89"
             ],
             [
              0.6666666666666666,
              "#35b779"
             ],
             [
              0.7777777777777778,
              "#6ece58"
             ],
             [
              0.8888888888888888,
              "#b5de2b"
             ],
             [
              1.0,
              "#fde725"
             ]
            ],
            "type": "heatmapgl"
           }
          ],
          "histogram": [
           {
            "marker": {
             "line": {
              "color": "white",
              "width": 0.6
             }
            },
            "type": "histogram"
           }
          ],
          "histogram2d": [
           {
            "colorbar": {
             "outlinewidth": 1,
             "tickcolor": "rgb(36,36,36)",
             "ticks": "outside"
            },
            "colorscale": [
             [
              0.0,
              "#440154"
             ],
             [
              0.1111111111111111,
              "#482878"
             ],
             [
              0.2222222222222222,
              "#3e4989"
             ],
             [
              0.3333333333333333,
              "#31688e"
             ],
             [
              0.4444444444444444,
              "#26828e"
             ],
             [
              0.5555555555555556,
              "#1f9e89"
             ],
             [
              0.6666666666666666,
              "#35b779"
             ],
             [
              0.7777777777777778,
              "#6ece58"
             ],
             [
              0.8888888888888888,
              "#b5de2b"
             ],
             [
              1.0,
              "#fde725"
             ]
            ],
            "type": "histogram2d"
           }
          ],
          "histogram2dcontour": [
           {
            "colorbar": {
             "outlinewidth": 1,
             "tickcolor": "rgb(36,36,36)",
             "ticks": "outside"
            },
            "colorscale": [
             [
              0.0,
              "#440154"
             ],
             [
              0.1111111111111111,
              "#482878"
             ],
             [
              0.2222222222222222,
              "#3e4989"
             ],
             [
              0.3333333333333333,
              "#31688e"
             ],
             [
              0.4444444444444444,
              "#26828e"
             ],
             [
              0.5555555555555556,
              "#1f9e89"
             ],
             [
              0.6666666666666666,
              "#35b779"
             ],
             [
              0.7777777777777778,
              "#6ece58"
             ],
             [
              0.8888888888888888,
              "#b5de2b"
             ],
             [
              1.0,
              "#fde725"
             ]
            ],
            "type": "histogram2dcontour"
           }
          ],
          "mesh3d": [
           {
            "colorbar": {
             "outlinewidth": 1,
             "tickcolor": "rgb(36,36,36)",
             "ticks": "outside"
            },
            "type": "mesh3d"
           }
          ],
          "parcoords": [
           {
            "line": {
             "colorbar": {
              "outlinewidth": 1,
              "tickcolor": "rgb(36,36,36)",
              "ticks": "outside"
             }
            },
            "type": "parcoords"
           }
          ],
          "pie": [
           {
            "automargin": true,
            "type": "pie"
           }
          ],
          "scatter": [
           {
            "fillpattern": {
             "fillmode": "overlay",
             "size": 10,
             "solidity": 0.2
            },
            "type": "scatter"
           }
          ],
          "scatter3d": [
           {
            "line": {
             "colorbar": {
              "outlinewidth": 1,
              "tickcolor": "rgb(36,36,36)",
              "ticks": "outside"
             }
            },
            "marker": {
             "colorbar": {
              "outlinewidth": 1,
              "tickcolor": "rgb(36,36,36)",
              "ticks": "outside"
             }
            },
            "type": "scatter3d"
           }
          ],
          "scattercarpet": [
           {
            "marker": {
             "colorbar": {
              "outlinewidth": 1,
              "tickcolor": "rgb(36,36,36)",
              "ticks": "outside"
             }
            },
            "type": "scattercarpet"
           }
          ],
          "scattergeo": [
           {
            "marker": {
             "colorbar": {
              "outlinewidth": 1,
              "tickcolor": "rgb(36,36,36)",
              "ticks": "outside"
             }
            },
            "type": "scattergeo"
           }
          ],
          "scattergl": [
           {
            "marker": {
             "colorbar": {
              "outlinewidth": 1,
              "tickcolor": "rgb(36,36,36)",
              "ticks": "outside"
             }
            },
            "type": "scattergl"
           }
          ],
          "scattermapbox": [
           {
            "marker": {
             "colorbar": {
              "outlinewidth": 1,
              "tickcolor": "rgb(36,36,36)",
              "ticks": "outside"
             }
            },
            "type": "scattermapbox"
           }
          ],
          "scatterpolar": [
           {
            "marker": {
             "colorbar": {
              "outlinewidth": 1,
              "tickcolor": "rgb(36,36,36)",
              "ticks": "outside"
             }
            },
            "type": "scatterpolar"
           }
          ],
          "scatterpolargl": [
           {
            "marker": {
             "colorbar": {
              "outlinewidth": 1,
              "tickcolor": "rgb(36,36,36)",
              "ticks": "outside"
             }
            },
            "type": "scatterpolargl"
           }
          ],
          "scatterternary": [
           {
            "marker": {
             "colorbar": {
              "outlinewidth": 1,
              "tickcolor": "rgb(36,36,36)",
              "ticks": "outside"
             }
            },
            "type": "scatterternary"
           }
          ],
          "surface": [
           {
            "colorbar": {
             "outlinewidth": 1,
             "tickcolor": "rgb(36,36,36)",
             "ticks": "outside"
            },
            "colorscale": [
             [
              0.0,
              "#440154"
             ],
             [
              0.1111111111111111,
              "#482878"
             ],
             [
              0.2222222222222222,
              "#3e4989"
             ],
             [
              0.3333333333333333,
              "#31688e"
             ],
             [
              0.4444444444444444,
              "#26828e"
             ],
             [
              0.5555555555555556,
              "#1f9e89"
             ],
             [
              0.6666666666666666,
              "#35b779"
             ],
             [
              0.7777777777777778,
              "#6ece58"
             ],
             [
              0.8888888888888888,
              "#b5de2b"
             ],
             [
              1.0,
              "#fde725"
             ]
            ],
            "type": "surface"
           }
          ],
          "table": [
           {
            "cells": {
             "fill": {
              "color": "rgb(237,237,237)"
             },
             "line": {
              "color": "white"
             }
            },
            "header": {
             "fill": {
              "color": "rgb(217,217,217)"
             },
             "line": {
              "color": "white"
             }
            },
            "type": "table"
           }
          ]
         },
         "layout": {
          "annotationdefaults": {
           "arrowhead": 0,
           "arrowwidth": 1
          },
          "autotypenumbers": "strict",
          "coloraxis": {
           "colorbar": {
            "outlinewidth": 1,
            "tickcolor": "rgb(36,36,36)",
            "ticks": "outside"
           }
          },
          "colorscale": {
           "diverging": [
            [
             0.0,
             "rgb(103,0,31)"
            ],
            [
             0.1,
             "rgb(178,24,43)"
            ],
            [
             0.2,
             "rgb(214,96,77)"
            ],
            [
             0.3,
             "rgb(244,165,130)"
            ],
            [
             0.4,
             "rgb(253,219,199)"
            ],
            [
             0.5,
             "rgb(247,247,247)"
            ],
            [
             0.6,
             "rgb(209,229,240)"
            ],
            [
             0.7,
             "rgb(146,197,222)"
            ],
            [
             0.8,
             "rgb(67,147,195)"
            ],
            [
             0.9,
             "rgb(33,102,172)"
            ],
            [
             1.0,
             "rgb(5,48,97)"
            ]
           ],
           "sequential": [
            [
             0.0,
             "#440154"
            ],
            [
             0.1111111111111111,
             "#482878"
            ],
            [
             0.2222222222222222,
             "#3e4989"
            ],
            [
             0.3333333333333333,
             "#31688e"
            ],
            [
             0.4444444444444444,
             "#26828e"
            ],
            [
             0.5555555555555556,
             "#1f9e89"
            ],
            [
             0.6666666666666666,
             "#35b779"
            ],
            [
             0.7777777777777778,
             "#6ece58"
            ],
            [
             0.8888888888888888,
             "#b5de2b"
            ],
            [
             1.0,
             "#fde725"
            ]
           ],
           "sequentialminus": [
            [
             0.0,
             "#440154"
            ],
            [
             0.1111111111111111,
             "#482878"
            ],
            [
             0.2222222222222222,
             "#3e4989"
            ],
            [
             0.3333333333333333,
             "#31688e"
            ],
            [
             0.4444444444444444,
             "#26828e"
            ],
            [
             0.5555555555555556,
             "#1f9e89"
            ],
            [
             0.6666666666666666,
             "#35b779"
            ],
            [
             0.7777777777777778,
             "#6ece58"
            ],
            [
             0.8888888888888888,
             "#b5de2b"
            ],
            [
             1.0,
             "#fde725"
            ]
           ]
          },
          "colorway": [
           "#91268F",
           "#00A7A0",
           "#8CC63E",
           "#F05A28",
           "#4C4C4C",
           "#630460",
           "#9f3913",
           "#588527",
           "#00716c",
           "#3e4040"
          ],
          "font": {
           "color": "rgb(36,36,36)",
           "size": 11
          },
          "geo": {
           "bgcolor": "white",
           "lakecolor": "white",
           "landcolor": "white",
           "showlakes": true,
           "showland": true,
           "subunitcolor": "white"
          },
          "hoverlabel": {
           "align": "left"
          },
          "hovermode": "closest",
          "mapbox": {
           "style": "light"
          },
          "paper_bgcolor": "white",
          "plot_bgcolor": "white",
          "polar": {
           "angularaxis": {
            "gridcolor": "rgb(232,232,232)",
            "linecolor": "rgb(36,36,36)",
            "showgrid": false,
            "showline": true,
            "ticks": "outside"
           },
           "bgcolor": "white",
           "radialaxis": {
            "gridcolor": "rgb(232,232,232)",
            "linecolor": "rgb(36,36,36)",
            "showgrid": false,
            "showline": true,
            "ticks": "outside"
           }
          },
          "scene": {
           "xaxis": {
            "backgroundcolor": "white",
            "gridcolor": "rgb(232,232,232)",
            "gridwidth": 2,
            "linecolor": "rgb(36,36,36)",
            "showbackground": true,
            "showgrid": false,
            "showline": true,
            "ticks": "outside",
            "zeroline": false,
            "zerolinecolor": "rgb(36,36,36)"
           },
           "yaxis": {
            "backgroundcolor": "white",
            "gridcolor": "rgb(232,232,232)",
            "gridwidth": 2,
            "linecolor": "rgb(36,36,36)",
            "showbackground": true,
            "showgrid": false,
            "showline": true,
            "ticks": "outside",
            "zeroline": false,
            "zerolinecolor": "rgb(36,36,36)"
           },
           "zaxis": {
            "backgroundcolor": "white",
            "gridcolor": "rgb(232,232,232)",
            "gridwidth": 2,
            "linecolor": "rgb(36,36,36)",
            "showbackground": true,
            "showgrid": false,
            "showline": true,
            "ticks": "outside",
            "zeroline": false,
            "zerolinecolor": "rgb(36,36,36)"
           }
          },
          "shapedefaults": {
           "fillcolor": "black",
           "line": {
            "width": 0
           },
           "opacity": 0.3
          },
          "ternary": {
           "aaxis": {
            "gridcolor": "rgb(232,232,232)",
            "linecolor": "rgb(36,36,36)",
            "showgrid": false,
            "showline": true,
            "ticks": "outside"
           },
           "baxis": {
            "gridcolor": "rgb(232,232,232)",
            "linecolor": "rgb(36,36,36)",
            "showgrid": false,
            "showline": true,
            "ticks": "outside"
           },
           "bgcolor": "white",
           "caxis": {
            "gridcolor": "rgb(232,232,232)",
            "linecolor": "rgb(36,36,36)",
            "showgrid": false,
            "showline": true,
            "ticks": "outside"
           }
          },
          "title": {
           "x": 0.05
          },
          "xaxis": {
           "automargin": true,
           "gridcolor": "rgb(232,232,232)",
           "linecolor": "rgb(36,36,36)",
           "showgrid": false,
           "showline": true,
           "ticks": "outside",
           "title": {
            "standoff": 15
           },
           "zeroline": false,
           "zerolinecolor": "rgb(36,36,36)"
          },
          "yaxis": {
           "automargin": true,
           "gridcolor": "rgb(232,232,232)",
           "linecolor": "rgb(36,36,36)",
           "showgrid": false,
           "showline": true,
           "ticks": "outside",
           "title": {
            "standoff": 15
           },
           "zeroline": false,
           "zerolinecolor": "rgb(36,36,36)"
          }
         }
        },
        "title": {
         "text": "Tour mode choice by ptype_label: disaggregated transit modes"
        },
        "width": 700,
        "xaxis": {
         "anchor": "y",
         "domain": [
          0.0,
          0.31999999999999995
         ],
         "tickformat": ".1%",
         "title": {
          "text": "percentage"
         }
        },
        "xaxis2": {
         "anchor": "y2",
         "domain": [
          0.33999999999999997,
          0.6599999999999999
         ],
         "matches": "x",
         "tickformat": ".1%",
         "title": {
          "text": "percentage"
         }
        },
        "xaxis3": {
         "anchor": "y3",
         "domain": [
          0.6799999999999999,
          0.9999999999999999
         ],
         "matches": "x",
         "title": {
          "text": "percentage"
         }
        },
        "xaxis4": {
         "anchor": "y4",
         "domain": [
          0.0,
          0.31999999999999995
         ],
         "matches": "x",
         "showticklabels": false
        },
        "xaxis5": {
         "anchor": "y5",
         "domain": [
          0.33999999999999997,
          0.6599999999999999
         ],
         "matches": "x",
         "showticklabels": false
        },
        "xaxis6": {
         "anchor": "y6",
         "domain": [
          0.6799999999999999,
          0.9999999999999999
         ],
         "matches": "x",
         "showticklabels": false
        },
        "xaxis7": {
         "anchor": "y7",
         "domain": [
          0.0,
          0.31999999999999995
         ],
         "matches": "x",
         "showticklabels": false
        },
        "xaxis8": {
         "anchor": "y8",
         "domain": [
          0.33999999999999997,
          0.6599999999999999
         ],
         "matches": "x",
         "showticklabels": false
        },
        "xaxis9": {
         "anchor": "y9",
         "domain": [
          0.6799999999999999,
          0.9999999999999999
         ],
         "matches": "x",
         "showticklabels": false
        },
        "yaxis": {
         "anchor": "x",
         "domain": [
          0.0,
          0.2866666666666666
         ],
         "title": {
          "text": "tour_mode"
         }
        },
        "yaxis2": {
         "anchor": "x2",
         "domain": [
          0.0,
          0.2866666666666666
         ],
         "matches": "y",
         "showticklabels": false
        },
        "yaxis3": {
         "anchor": "x3",
         "domain": [
          0.0,
          0.2866666666666666
         ],
         "matches": "y",
         "showticklabels": false
        },
        "yaxis4": {
         "anchor": "x4",
         "domain": [
          0.35666666666666663,
          0.6433333333333333
         ],
         "matches": "y",
         "title": {
          "text": "tour_mode"
         }
        },
        "yaxis5": {
         "anchor": "x5",
         "domain": [
          0.35666666666666663,
          0.6433333333333333
         ],
         "matches": "y",
         "showticklabels": false
        },
        "yaxis6": {
         "anchor": "x6",
         "domain": [
          0.35666666666666663,
          0.6433333333333333
         ],
         "matches": "y",
         "showticklabels": false
        },
        "yaxis7": {
         "anchor": "x7",
         "domain": [
          0.7133333333333333,
          0.9999999999999999
         ],
         "matches": "y",
         "title": {
          "text": "tour_mode"
         }
        },
        "yaxis8": {
         "anchor": "x8",
         "domain": [
          0.7133333333333333,
          0.9999999999999999
         ],
         "matches": "y",
         "showticklabels": false
        },
        "yaxis9": {
         "anchor": "x9",
         "domain": [
          0.7133333333333333,
          0.9999999999999999
         ],
         "matches": "y",
         "showticklabels": false
        }
       }
      },
      "text/html": [
       "<div>                            <div id=\"bda8156a-08a9-421e-94f2-3cde7d20e8cd\" class=\"plotly-graph-div\" style=\"height:800px; width:700px;\"></div>            <script type=\"text/javascript\">                require([\"plotly\"], function(Plotly) {                    window.PLOTLYENV=window.PLOTLYENV || {};                                    if (document.getElementById(\"bda8156a-08a9-421e-94f2-3cde7d20e8cd\")) {                    Plotly.newPlot(                        \"bda8156a-08a9-421e-94f2-3cde7d20e8cd\",                        [{\"alignmentgroup\":\"True\",\"hovertemplate\":\"source=model results<br>ptype_label=1: Full-Time Worker<br>percentage=%{x}<br>tour_mode=%{y}<extra></extra>\",\"legendgroup\":\"model results\",\"marker\":{\"color\":\"#91268F\",\"pattern\":{\"shape\":\"\"}},\"name\":\"model results\",\"offsetgroup\":\"model results\",\"orientation\":\"h\",\"showlegend\":true,\"textposition\":\"auto\",\"x\":[0.01029025201742615,0.009200658076138306,0.020190345765702836,0.07101799599272073,0.01404339993750115],\"xaxis\":\"x7\",\"y\":[\"DRIVE_TRN\",\"WALK_COM\",\"WALK_FRY\",\"WALK_LOC\",\"WALK_LR\"],\"yaxis\":\"y7\",\"type\":\"bar\"},{\"alignmentgroup\":\"True\",\"hovertemplate\":\"source=model results<br>ptype_label=2: Part-Time Worker<br>percentage=%{x}<br>tour_mode=%{y}<extra></extra>\",\"legendgroup\":\"model results\",\"marker\":{\"color\":\"#91268F\",\"pattern\":{\"shape\":\"\"}},\"name\":\"model results\",\"offsetgroup\":\"model results\",\"orientation\":\"h\",\"showlegend\":false,\"textposition\":\"auto\",\"x\":[0.007410163193288646,0.0051518691842946315,0.016023444485781232,0.057756195623086815,0.010460383039733356],\"xaxis\":\"x8\",\"y\":[\"DRIVE_TRN\",\"WALK_COM\",\"WALK_FRY\",\"WALK_LOC\",\"WALK_LR\"],\"yaxis\":\"y8\",\"type\":\"bar\"},{\"alignmentgroup\":\"True\",\"hovertemplate\":\"source=model results<br>ptype_label=3: University Student<br>percentage=%{x}<br>tour_mode=%{y}<extra></extra>\",\"legendgroup\":\"model results\",\"marker\":{\"color\":\"#91268F\",\"pattern\":{\"shape\":\"\"}},\"name\":\"model results\",\"offsetgroup\":\"model results\",\"orientation\":\"h\",\"showlegend\":false,\"textposition\":\"auto\",\"x\":[0.006944107691860071,0.005799687709123355,0.01179819414406114,0.14433269646684577,0.025259676652862505],\"xaxis\":\"x9\",\"y\":[\"DRIVE_TRN\",\"WALK_COM\",\"WALK_FRY\",\"WALK_LOC\",\"WALK_LR\"],\"yaxis\":\"y9\",\"type\":\"bar\"},{\"alignmentgroup\":\"True\",\"hovertemplate\":\"source=model results<br>ptype_label=4: Non-Working Adult Age <65<br>percentage=%{x}<br>tour_mode=%{y}<extra></extra>\",\"legendgroup\":\"model results\",\"marker\":{\"color\":\"#91268F\",\"pattern\":{\"shape\":\"\"}},\"name\":\"model results\",\"offsetgroup\":\"model results\",\"orientation\":\"h\",\"showlegend\":false,\"textposition\":\"auto\",\"x\":[0.004458775968730595,0.0005887490949754065,0.008399658860480635,0.03523605360322176,0.005207273177003486],\"xaxis\":\"x4\",\"y\":[\"DRIVE_TRN\",\"WALK_COM\",\"WALK_FRY\",\"WALK_LOC\",\"WALK_LR\"],\"yaxis\":\"y4\",\"type\":\"bar\"},{\"alignmentgroup\":\"True\",\"hovertemplate\":\"source=model results<br>ptype_label=5: Non-Working Adult Age 65+<br>percentage=%{x}<br>tour_mode=%{y}<extra></extra>\",\"legendgroup\":\"model results\",\"marker\":{\"color\":\"#91268F\",\"pattern\":{\"shape\":\"\"}},\"name\":\"model results\",\"offsetgroup\":\"model results\",\"orientation\":\"h\",\"showlegend\":false,\"textposition\":\"auto\",\"x\":[0.006567014118798993,0.0006846501437765302,0.012051718284285497,0.04077701226180271,0.005670403793524523],\"xaxis\":\"x5\",\"y\":[\"DRIVE_TRN\",\"WALK_COM\",\"WALK_FRY\",\"WALK_LOC\",\"WALK_LR\"],\"yaxis\":\"y5\",\"type\":\"bar\"},{\"alignmentgroup\":\"True\",\"hovertemplate\":\"source=model results<br>ptype_label=6: High School Student Age 16+<br>percentage=%{x}<br>tour_mode=%{y}<extra></extra>\",\"legendgroup\":\"model results\",\"marker\":{\"color\":\"#91268F\",\"pattern\":{\"shape\":\"\"}},\"name\":\"model results\",\"offsetgroup\":\"model results\",\"orientation\":\"h\",\"showlegend\":false,\"textposition\":\"auto\",\"x\":[0.008748637101107534,0.008738203425375743,0.0049299117832716875,0.07947330804905914,0.01674604954952605],\"xaxis\":\"x6\",\"y\":[\"DRIVE_TRN\",\"WALK_COM\",\"WALK_FRY\",\"WALK_LOC\",\"WALK_LR\"],\"yaxis\":\"y6\",\"type\":\"bar\"},{\"alignmentgroup\":\"True\",\"hovertemplate\":\"source=model results<br>ptype_label=7: Child Age 5-15<br>percentage=%{x}<br>tour_mode=%{y}<extra></extra>\",\"legendgroup\":\"model results\",\"marker\":{\"color\":\"#91268F\",\"pattern\":{\"shape\":\"\"}},\"name\":\"model results\",\"offsetgroup\":\"model results\",\"orientation\":\"h\",\"showlegend\":false,\"textposition\":\"auto\",\"x\":[0.003087473155261044,0.0026289028793662628,0.04036643615634096,0.007065832838882559],\"xaxis\":\"x\",\"y\":[\"WALK_COM\",\"WALK_FRY\",\"WALK_LOC\",\"WALK_LR\"],\"yaxis\":\"y\",\"type\":\"bar\"},{\"alignmentgroup\":\"True\",\"hovertemplate\":\"source=model results<br>ptype_label=8: Child Age 0-4<br>percentage=%{x}<br>tour_mode=%{y}<extra></extra>\",\"legendgroup\":\"model results\",\"marker\":{\"color\":\"#91268F\",\"pattern\":{\"shape\":\"\"}},\"name\":\"model results\",\"offsetgroup\":\"model results\",\"orientation\":\"h\",\"showlegend\":false,\"textposition\":\"auto\",\"x\":[0.0013081676238423459,0.002903735710498541,0.02185234553463919,0.0043853346481078645],\"xaxis\":\"x2\",\"y\":[\"WALK_COM\",\"WALK_FRY\",\"WALK_LOC\",\"WALK_LR\"],\"yaxis\":\"y2\",\"type\":\"bar\"},{\"alignmentgroup\":\"True\",\"hovertemplate\":\"source=survey data<br>ptype_label=1: Full-Time Worker<br>percentage=%{x}<br>tour_mode=%{y}<extra></extra>\",\"legendgroup\":\"survey data\",\"marker\":{\"color\":\"#00A7A0\",\"pattern\":{\"shape\":\"\"}},\"name\":\"survey data\",\"offsetgroup\":\"survey data\",\"orientation\":\"h\",\"showlegend\":true,\"textposition\":\"auto\",\"x\":[0.007721018870412353,0.0010491943325943442,0.0046372936130477695,0.05531329386023892,0.004589954085273395],\"xaxis\":\"x7\",\"y\":[\"DRIVE_TRN\",\"WALK_COM\",\"WALK_FRY\",\"WALK_LOC\",\"WALK_LR\"],\"yaxis\":\"y7\",\"type\":\"bar\"},{\"alignmentgroup\":\"True\",\"hovertemplate\":\"source=survey data<br>ptype_label=2: Part-Time Worker<br>percentage=%{x}<br>tour_mode=%{y}<extra></extra>\",\"legendgroup\":\"survey data\",\"marker\":{\"color\":\"#00A7A0\",\"pattern\":{\"shape\":\"\"}},\"name\":\"survey data\",\"offsetgroup\":\"survey data\",\"orientation\":\"h\",\"showlegend\":false,\"textposition\":\"auto\",\"x\":[0.01733261010475478,0.0003602436983122266,0.05071938992975941,0.002289198264346559],\"xaxis\":\"x8\",\"y\":[\"DRIVE_TRN\",\"WALK_FRY\",\"WALK_LOC\",\"WALK_LR\"],\"yaxis\":\"y8\",\"type\":\"bar\"},{\"alignmentgroup\":\"True\",\"hovertemplate\":\"source=survey data<br>ptype_label=3: University Student<br>percentage=%{x}<br>tour_mode=%{y}<extra></extra>\",\"legendgroup\":\"survey data\",\"marker\":{\"color\":\"#00A7A0\",\"pattern\":{\"shape\":\"\"}},\"name\":\"survey data\",\"offsetgroup\":\"survey data\",\"orientation\":\"h\",\"showlegend\":false,\"textposition\":\"auto\",\"x\":[0.002078298251676612,0.00038950889477953394,0.18708262863198497,0.009406024961793135],\"xaxis\":\"x9\",\"y\":[\"DRIVE_TRN\",\"WALK_FRY\",\"WALK_LOC\",\"WALK_LR\"],\"yaxis\":\"y9\",\"type\":\"bar\"},{\"alignmentgroup\":\"True\",\"hovertemplate\":\"source=survey data<br>ptype_label=4: Non-Working Adult Age <65<br>percentage=%{x}<br>tour_mode=%{y}<extra></extra>\",\"legendgroup\":\"survey data\",\"marker\":{\"color\":\"#00A7A0\",\"pattern\":{\"shape\":\"\"}},\"name\":\"survey data\",\"offsetgroup\":\"survey data\",\"orientation\":\"h\",\"showlegend\":false,\"textposition\":\"auto\",\"x\":[4.10225406686477e-05,0.00054279439246347,0.04428618749231798,0.002162531897902684],\"xaxis\":\"x4\",\"y\":[\"DRIVE_TRN\",\"WALK_FRY\",\"WALK_LOC\",\"WALK_LR\"],\"yaxis\":\"y4\",\"type\":\"bar\"},{\"alignmentgroup\":\"True\",\"hovertemplate\":\"source=survey data<br>ptype_label=5: Non-Working Adult Age 65+<br>percentage=%{x}<br>tour_mode=%{y}<extra></extra>\",\"legendgroup\":\"survey data\",\"marker\":{\"color\":\"#00A7A0\",\"pattern\":{\"shape\":\"\"}},\"name\":\"survey data\",\"offsetgroup\":\"survey data\",\"orientation\":\"h\",\"showlegend\":false,\"textposition\":\"auto\",\"x\":[0.0008480954285113632,0.05015669387453447,0.009863396638439157],\"xaxis\":\"x5\",\"y\":[\"DRIVE_TRN\",\"WALK_LOC\",\"WALK_LR\"],\"yaxis\":\"y5\",\"type\":\"bar\"},{\"alignmentgroup\":\"True\",\"hovertemplate\":\"source=survey data<br>ptype_label=6: High School Student Age 16+<br>percentage=%{x}<br>tour_mode=%{y}<extra></extra>\",\"legendgroup\":\"survey data\",\"marker\":{\"color\":\"#00A7A0\",\"pattern\":{\"shape\":\"\"}},\"name\":\"survey data\",\"offsetgroup\":\"survey data\",\"orientation\":\"h\",\"showlegend\":false,\"textposition\":\"auto\",\"x\":[0.05646143430120324],\"xaxis\":\"x6\",\"y\":[\"WALK_LOC\"],\"yaxis\":\"y6\",\"type\":\"bar\"},{\"alignmentgroup\":\"True\",\"hovertemplate\":\"source=survey data<br>ptype_label=7: Child Age 5-15<br>percentage=%{x}<br>tour_mode=%{y}<extra></extra>\",\"legendgroup\":\"survey data\",\"marker\":{\"color\":\"#00A7A0\",\"pattern\":{\"shape\":\"\"}},\"name\":\"survey data\",\"offsetgroup\":\"survey data\",\"orientation\":\"h\",\"showlegend\":false,\"textposition\":\"auto\",\"x\":[0.013795234081027117,0.00021274127874303634],\"xaxis\":\"x\",\"y\":[\"WALK_LOC\",\"WALK_LR\"],\"yaxis\":\"y\",\"type\":\"bar\"},{\"alignmentgroup\":\"True\",\"hovertemplate\":\"source=survey data<br>ptype_label=8: Child Age 0-4<br>percentage=%{x}<br>tour_mode=%{y}<extra></extra>\",\"legendgroup\":\"survey data\",\"marker\":{\"color\":\"#00A7A0\",\"pattern\":{\"shape\":\"\"}},\"name\":\"survey data\",\"offsetgroup\":\"survey data\",\"orientation\":\"h\",\"showlegend\":false,\"textposition\":\"auto\",\"x\":[0.014789362322548094,0.0019111773343058656],\"xaxis\":\"x2\",\"y\":[\"WALK_LOC\",\"WALK_LR\"],\"yaxis\":\"y2\",\"type\":\"bar\"},{\"alignmentgroup\":\"True\",\"hovertemplate\":\"source=unweighted survey<br>ptype_label=1: Full-Time Worker<br>percentage=%{x}<br>tour_mode=%{y}<extra></extra>\",\"legendgroup\":\"unweighted survey\",\"marker\":{\"color\":\"#8CC63E\",\"pattern\":{\"shape\":\"\"}},\"name\":\"unweighted survey\",\"offsetgroup\":\"unweighted survey\",\"orientation\":\"h\",\"showlegend\":true,\"textposition\":\"auto\",\"x\":[0.010828267477203647,0.001899696048632219,0.00303951367781155,0.16071428571428573,0.0338145896656535],\"xaxis\":\"x7\",\"y\":[\"DRIVE_TRN\",\"WALK_COM\",\"WALK_FRY\",\"WALK_LOC\",\"WALK_LR\"],\"yaxis\":\"y7\",\"type\":\"bar\"},{\"alignmentgroup\":\"True\",\"hovertemplate\":\"source=unweighted survey<br>ptype_label=2: Part-Time Worker<br>percentage=%{x}<br>tour_mode=%{y}<extra></extra>\",\"legendgroup\":\"unweighted survey\",\"marker\":{\"color\":\"#8CC63E\",\"pattern\":{\"shape\":\"\"}},\"name\":\"unweighted survey\",\"offsetgroup\":\"unweighted survey\",\"orientation\":\"h\",\"showlegend\":false,\"textposition\":\"auto\",\"x\":[0.00522466039707419,0.003134796238244514,0.10240334378265413,0.030303030303030304],\"xaxis\":\"x8\",\"y\":[\"DRIVE_TRN\",\"WALK_FRY\",\"WALK_LOC\",\"WALK_LR\"],\"yaxis\":\"y8\",\"type\":\"bar\"},{\"alignmentgroup\":\"True\",\"hovertemplate\":\"source=unweighted survey<br>ptype_label=3: University Student<br>percentage=%{x}<br>tour_mode=%{y}<extra></extra>\",\"legendgroup\":\"unweighted survey\",\"marker\":{\"color\":\"#8CC63E\",\"pattern\":{\"shape\":\"\"}},\"name\":\"unweighted survey\",\"offsetgroup\":\"unweighted survey\",\"orientation\":\"h\",\"showlegend\":false,\"textposition\":\"auto\",\"x\":[0.004149377593360996,0.002074688796680498,0.2572614107883817,0.06016597510373444],\"xaxis\":\"x9\",\"y\":[\"DRIVE_TRN\",\"WALK_FRY\",\"WALK_LOC\",\"WALK_LR\"],\"yaxis\":\"y9\",\"type\":\"bar\"},{\"alignmentgroup\":\"True\",\"hovertemplate\":\"source=unweighted survey<br>ptype_label=4: Non-Working Adult Age <65<br>percentage=%{x}<br>tour_mode=%{y}<extra></extra>\",\"legendgroup\":\"unweighted survey\",\"marker\":{\"color\":\"#8CC63E\",\"pattern\":{\"shape\":\"\"}},\"name\":\"unweighted survey\",\"offsetgroup\":\"unweighted survey\",\"orientation\":\"h\",\"showlegend\":false,\"textposition\":\"auto\",\"x\":[0.001218769043266301,0.0018281535648994515,0.07312614259597806,0.017062766605728214],\"xaxis\":\"x4\",\"y\":[\"DRIVE_TRN\",\"WALK_FRY\",\"WALK_LOC\",\"WALK_LR\"],\"yaxis\":\"y4\",\"type\":\"bar\"},{\"alignmentgroup\":\"True\",\"hovertemplate\":\"source=unweighted survey<br>ptype_label=5: Non-Working Adult Age 65+<br>percentage=%{x}<br>tour_mode=%{y}<extra></extra>\",\"legendgroup\":\"unweighted survey\",\"marker\":{\"color\":\"#8CC63E\",\"pattern\":{\"shape\":\"\"}},\"name\":\"unweighted survey\",\"offsetgroup\":\"unweighted survey\",\"orientation\":\"h\",\"showlegend\":false,\"textposition\":\"auto\",\"x\":[0.003590664272890485,0.07271095152603231,0.010771992818671455],\"xaxis\":\"x5\",\"y\":[\"DRIVE_TRN\",\"WALK_LOC\",\"WALK_LR\"],\"yaxis\":\"y5\",\"type\":\"bar\"},{\"alignmentgroup\":\"True\",\"hovertemplate\":\"source=unweighted survey<br>ptype_label=6: High School Student Age 16+<br>percentage=%{x}<br>tour_mode=%{y}<extra></extra>\",\"legendgroup\":\"unweighted survey\",\"marker\":{\"color\":\"#8CC63E\",\"pattern\":{\"shape\":\"\"}},\"name\":\"unweighted survey\",\"offsetgroup\":\"unweighted survey\",\"orientation\":\"h\",\"showlegend\":false,\"textposition\":\"auto\",\"x\":[0.11702127659574468],\"xaxis\":\"x6\",\"y\":[\"WALK_LOC\"],\"yaxis\":\"y6\",\"type\":\"bar\"},{\"alignmentgroup\":\"True\",\"hovertemplate\":\"source=unweighted survey<br>ptype_label=7: Child Age 5-15<br>percentage=%{x}<br>tour_mode=%{y}<extra></extra>\",\"legendgroup\":\"unweighted survey\",\"marker\":{\"color\":\"#8CC63E\",\"pattern\":{\"shape\":\"\"}},\"name\":\"unweighted survey\",\"offsetgroup\":\"unweighted survey\",\"orientation\":\"h\",\"showlegend\":false,\"textposition\":\"auto\",\"x\":[0.05198019801980198,0.007425742574257425],\"xaxis\":\"x\",\"y\":[\"WALK_LOC\",\"WALK_LR\"],\"yaxis\":\"y\",\"type\":\"bar\"},{\"alignmentgroup\":\"True\",\"hovertemplate\":\"source=unweighted survey<br>ptype_label=8: Child Age 0-4<br>percentage=%{x}<br>tour_mode=%{y}<extra></extra>\",\"legendgroup\":\"unweighted survey\",\"marker\":{\"color\":\"#8CC63E\",\"pattern\":{\"shape\":\"\"}},\"name\":\"unweighted survey\",\"offsetgroup\":\"unweighted survey\",\"orientation\":\"h\",\"showlegend\":false,\"textposition\":\"auto\",\"x\":[0.016666666666666666,0.03333333333333333],\"xaxis\":\"x2\",\"y\":[\"WALK_LOC\",\"WALK_LR\"],\"yaxis\":\"y2\",\"type\":\"bar\"}],                        {\"template\":{\"data\":{\"barpolar\":[{\"marker\":{\"line\":{\"color\":\"white\",\"width\":0.5},\"pattern\":{\"fillmode\":\"overlay\",\"size\":10,\"solidity\":0.2}},\"type\":\"barpolar\"}],\"bar\":[{\"error_x\":{\"color\":\"rgb(36,36,36)\"},\"error_y\":{\"color\":\"rgb(36,36,36)\"},\"marker\":{\"line\":{\"color\":\"white\",\"width\":0.5},\"pattern\":{\"fillmode\":\"overlay\",\"size\":10,\"solidity\":0.2}},\"type\":\"bar\"}],\"carpet\":[{\"aaxis\":{\"endlinecolor\":\"rgb(36,36,36)\",\"gridcolor\":\"white\",\"linecolor\":\"white\",\"minorgridcolor\":\"white\",\"startlinecolor\":\"rgb(36,36,36)\"},\"baxis\":{\"endlinecolor\":\"rgb(36,36,36)\",\"gridcolor\":\"white\",\"linecolor\":\"white\",\"minorgridcolor\":\"white\",\"startlinecolor\":\"rgb(36,36,36)\"},\"type\":\"carpet\"}],\"choropleth\":[{\"colorbar\":{\"outlinewidth\":1,\"tickcolor\":\"rgb(36,36,36)\",\"ticks\":\"outside\"},\"type\":\"choropleth\"}],\"contourcarpet\":[{\"colorbar\":{\"outlinewidth\":1,\"tickcolor\":\"rgb(36,36,36)\",\"ticks\":\"outside\"},\"type\":\"contourcarpet\"}],\"contour\":[{\"colorbar\":{\"outlinewidth\":1,\"tickcolor\":\"rgb(36,36,36)\",\"ticks\":\"outside\"},\"colorscale\":[[0.0,\"#440154\"],[0.1111111111111111,\"#482878\"],[0.2222222222222222,\"#3e4989\"],[0.3333333333333333,\"#31688e\"],[0.4444444444444444,\"#26828e\"],[0.5555555555555556,\"#1f9e89\"],[0.6666666666666666,\"#35b779\"],[0.7777777777777778,\"#6ece58\"],[0.8888888888888888,\"#b5de2b\"],[1.0,\"#fde725\"]],\"type\":\"contour\"}],\"heatmapgl\":[{\"colorbar\":{\"outlinewidth\":1,\"tickcolor\":\"rgb(36,36,36)\",\"ticks\":\"outside\"},\"colorscale\":[[0.0,\"#440154\"],[0.1111111111111111,\"#482878\"],[0.2222222222222222,\"#3e4989\"],[0.3333333333333333,\"#31688e\"],[0.4444444444444444,\"#26828e\"],[0.5555555555555556,\"#1f9e89\"],[0.6666666666666666,\"#35b779\"],[0.7777777777777778,\"#6ece58\"],[0.8888888888888888,\"#b5de2b\"],[1.0,\"#fde725\"]],\"type\":\"heatmapgl\"}],\"heatmap\":[{\"colorbar\":{\"outlinewidth\":1,\"tickcolor\":\"rgb(36,36,36)\",\"ticks\":\"outside\"},\"colorscale\":[[0.0,\"#440154\"],[0.1111111111111111,\"#482878\"],[0.2222222222222222,\"#3e4989\"],[0.3333333333333333,\"#31688e\"],[0.4444444444444444,\"#26828e\"],[0.5555555555555556,\"#1f9e89\"],[0.6666666666666666,\"#35b779\"],[0.7777777777777778,\"#6ece58\"],[0.8888888888888888,\"#b5de2b\"],[1.0,\"#fde725\"]],\"type\":\"heatmap\"}],\"histogram2dcontour\":[{\"colorbar\":{\"outlinewidth\":1,\"tickcolor\":\"rgb(36,36,36)\",\"ticks\":\"outside\"},\"colorscale\":[[0.0,\"#440154\"],[0.1111111111111111,\"#482878\"],[0.2222222222222222,\"#3e4989\"],[0.3333333333333333,\"#31688e\"],[0.4444444444444444,\"#26828e\"],[0.5555555555555556,\"#1f9e89\"],[0.6666666666666666,\"#35b779\"],[0.7777777777777778,\"#6ece58\"],[0.8888888888888888,\"#b5de2b\"],[1.0,\"#fde725\"]],\"type\":\"histogram2dcontour\"}],\"histogram2d\":[{\"colorbar\":{\"outlinewidth\":1,\"tickcolor\":\"rgb(36,36,36)\",\"ticks\":\"outside\"},\"colorscale\":[[0.0,\"#440154\"],[0.1111111111111111,\"#482878\"],[0.2222222222222222,\"#3e4989\"],[0.3333333333333333,\"#31688e\"],[0.4444444444444444,\"#26828e\"],[0.5555555555555556,\"#1f9e89\"],[0.6666666666666666,\"#35b779\"],[0.7777777777777778,\"#6ece58\"],[0.8888888888888888,\"#b5de2b\"],[1.0,\"#fde725\"]],\"type\":\"histogram2d\"}],\"histogram\":[{\"marker\":{\"line\":{\"color\":\"white\",\"width\":0.6}},\"type\":\"histogram\"}],\"mesh3d\":[{\"colorbar\":{\"outlinewidth\":1,\"tickcolor\":\"rgb(36,36,36)\",\"ticks\":\"outside\"},\"type\":\"mesh3d\"}],\"parcoords\":[{\"line\":{\"colorbar\":{\"outlinewidth\":1,\"tickcolor\":\"rgb(36,36,36)\",\"ticks\":\"outside\"}},\"type\":\"parcoords\"}],\"pie\":[{\"automargin\":true,\"type\":\"pie\"}],\"scatter3d\":[{\"line\":{\"colorbar\":{\"outlinewidth\":1,\"tickcolor\":\"rgb(36,36,36)\",\"ticks\":\"outside\"}},\"marker\":{\"colorbar\":{\"outlinewidth\":1,\"tickcolor\":\"rgb(36,36,36)\",\"ticks\":\"outside\"}},\"type\":\"scatter3d\"}],\"scattercarpet\":[{\"marker\":{\"colorbar\":{\"outlinewidth\":1,\"tickcolor\":\"rgb(36,36,36)\",\"ticks\":\"outside\"}},\"type\":\"scattercarpet\"}],\"scattergeo\":[{\"marker\":{\"colorbar\":{\"outlinewidth\":1,\"tickcolor\":\"rgb(36,36,36)\",\"ticks\":\"outside\"}},\"type\":\"scattergeo\"}],\"scattergl\":[{\"marker\":{\"colorbar\":{\"outlinewidth\":1,\"tickcolor\":\"rgb(36,36,36)\",\"ticks\":\"outside\"}},\"type\":\"scattergl\"}],\"scattermapbox\":[{\"marker\":{\"colorbar\":{\"outlinewidth\":1,\"tickcolor\":\"rgb(36,36,36)\",\"ticks\":\"outside\"}},\"type\":\"scattermapbox\"}],\"scatterpolargl\":[{\"marker\":{\"colorbar\":{\"outlinewidth\":1,\"tickcolor\":\"rgb(36,36,36)\",\"ticks\":\"outside\"}},\"type\":\"scatterpolargl\"}],\"scatterpolar\":[{\"marker\":{\"colorbar\":{\"outlinewidth\":1,\"tickcolor\":\"rgb(36,36,36)\",\"ticks\":\"outside\"}},\"type\":\"scatterpolar\"}],\"scatter\":[{\"fillpattern\":{\"fillmode\":\"overlay\",\"size\":10,\"solidity\":0.2},\"type\":\"scatter\"}],\"scatterternary\":[{\"marker\":{\"colorbar\":{\"outlinewidth\":1,\"tickcolor\":\"rgb(36,36,36)\",\"ticks\":\"outside\"}},\"type\":\"scatterternary\"}],\"surface\":[{\"colorbar\":{\"outlinewidth\":1,\"tickcolor\":\"rgb(36,36,36)\",\"ticks\":\"outside\"},\"colorscale\":[[0.0,\"#440154\"],[0.1111111111111111,\"#482878\"],[0.2222222222222222,\"#3e4989\"],[0.3333333333333333,\"#31688e\"],[0.4444444444444444,\"#26828e\"],[0.5555555555555556,\"#1f9e89\"],[0.6666666666666666,\"#35b779\"],[0.7777777777777778,\"#6ece58\"],[0.8888888888888888,\"#b5de2b\"],[1.0,\"#fde725\"]],\"type\":\"surface\"}],\"table\":[{\"cells\":{\"fill\":{\"color\":\"rgb(237,237,237)\"},\"line\":{\"color\":\"white\"}},\"header\":{\"fill\":{\"color\":\"rgb(217,217,217)\"},\"line\":{\"color\":\"white\"}},\"type\":\"table\"}]},\"layout\":{\"annotationdefaults\":{\"arrowhead\":0,\"arrowwidth\":1},\"autotypenumbers\":\"strict\",\"coloraxis\":{\"colorbar\":{\"outlinewidth\":1,\"tickcolor\":\"rgb(36,36,36)\",\"ticks\":\"outside\"}},\"colorscale\":{\"diverging\":[[0.0,\"rgb(103,0,31)\"],[0.1,\"rgb(178,24,43)\"],[0.2,\"rgb(214,96,77)\"],[0.3,\"rgb(244,165,130)\"],[0.4,\"rgb(253,219,199)\"],[0.5,\"rgb(247,247,247)\"],[0.6,\"rgb(209,229,240)\"],[0.7,\"rgb(146,197,222)\"],[0.8,\"rgb(67,147,195)\"],[0.9,\"rgb(33,102,172)\"],[1.0,\"rgb(5,48,97)\"]],\"sequential\":[[0.0,\"#440154\"],[0.1111111111111111,\"#482878\"],[0.2222222222222222,\"#3e4989\"],[0.3333333333333333,\"#31688e\"],[0.4444444444444444,\"#26828e\"],[0.5555555555555556,\"#1f9e89\"],[0.6666666666666666,\"#35b779\"],[0.7777777777777778,\"#6ece58\"],[0.8888888888888888,\"#b5de2b\"],[1.0,\"#fde725\"]],\"sequentialminus\":[[0.0,\"#440154\"],[0.1111111111111111,\"#482878\"],[0.2222222222222222,\"#3e4989\"],[0.3333333333333333,\"#31688e\"],[0.4444444444444444,\"#26828e\"],[0.5555555555555556,\"#1f9e89\"],[0.6666666666666666,\"#35b779\"],[0.7777777777777778,\"#6ece58\"],[0.8888888888888888,\"#b5de2b\"],[1.0,\"#fde725\"]]},\"colorway\":[\"#91268F\",\"#00A7A0\",\"#8CC63E\",\"#F05A28\",\"#4C4C4C\",\"#630460\",\"#9f3913\",\"#588527\",\"#00716c\",\"#3e4040\"],\"font\":{\"color\":\"rgb(36,36,36)\",\"size\":11},\"geo\":{\"bgcolor\":\"white\",\"lakecolor\":\"white\",\"landcolor\":\"white\",\"showlakes\":true,\"showland\":true,\"subunitcolor\":\"white\"},\"hoverlabel\":{\"align\":\"left\"},\"hovermode\":\"closest\",\"mapbox\":{\"style\":\"light\"},\"paper_bgcolor\":\"white\",\"plot_bgcolor\":\"white\",\"polar\":{\"angularaxis\":{\"gridcolor\":\"rgb(232,232,232)\",\"linecolor\":\"rgb(36,36,36)\",\"showgrid\":false,\"showline\":true,\"ticks\":\"outside\"},\"bgcolor\":\"white\",\"radialaxis\":{\"gridcolor\":\"rgb(232,232,232)\",\"linecolor\":\"rgb(36,36,36)\",\"showgrid\":false,\"showline\":true,\"ticks\":\"outside\"}},\"scene\":{\"xaxis\":{\"backgroundcolor\":\"white\",\"gridcolor\":\"rgb(232,232,232)\",\"gridwidth\":2,\"linecolor\":\"rgb(36,36,36)\",\"showbackground\":true,\"showgrid\":false,\"showline\":true,\"ticks\":\"outside\",\"zeroline\":false,\"zerolinecolor\":\"rgb(36,36,36)\"},\"yaxis\":{\"backgroundcolor\":\"white\",\"gridcolor\":\"rgb(232,232,232)\",\"gridwidth\":2,\"linecolor\":\"rgb(36,36,36)\",\"showbackground\":true,\"showgrid\":false,\"showline\":true,\"ticks\":\"outside\",\"zeroline\":false,\"zerolinecolor\":\"rgb(36,36,36)\"},\"zaxis\":{\"backgroundcolor\":\"white\",\"gridcolor\":\"rgb(232,232,232)\",\"gridwidth\":2,\"linecolor\":\"rgb(36,36,36)\",\"showbackground\":true,\"showgrid\":false,\"showline\":true,\"ticks\":\"outside\",\"zeroline\":false,\"zerolinecolor\":\"rgb(36,36,36)\"}},\"shapedefaults\":{\"fillcolor\":\"black\",\"line\":{\"width\":0},\"opacity\":0.3},\"ternary\":{\"aaxis\":{\"gridcolor\":\"rgb(232,232,232)\",\"linecolor\":\"rgb(36,36,36)\",\"showgrid\":false,\"showline\":true,\"ticks\":\"outside\"},\"baxis\":{\"gridcolor\":\"rgb(232,232,232)\",\"linecolor\":\"rgb(36,36,36)\",\"showgrid\":false,\"showline\":true,\"ticks\":\"outside\"},\"bgcolor\":\"white\",\"caxis\":{\"gridcolor\":\"rgb(232,232,232)\",\"linecolor\":\"rgb(36,36,36)\",\"showgrid\":false,\"showline\":true,\"ticks\":\"outside\"}},\"title\":{\"x\":0.05},\"xaxis\":{\"automargin\":true,\"gridcolor\":\"rgb(232,232,232)\",\"linecolor\":\"rgb(36,36,36)\",\"showgrid\":false,\"showline\":true,\"ticks\":\"outside\",\"title\":{\"standoff\":15},\"zeroline\":false,\"zerolinecolor\":\"rgb(36,36,36)\"},\"yaxis\":{\"automargin\":true,\"gridcolor\":\"rgb(232,232,232)\",\"linecolor\":\"rgb(36,36,36)\",\"showgrid\":false,\"showline\":true,\"ticks\":\"outside\",\"title\":{\"standoff\":15},\"zeroline\":false,\"zerolinecolor\":\"rgb(36,36,36)\"}}},\"xaxis\":{\"anchor\":\"y\",\"domain\":[0.0,0.31999999999999995],\"title\":{\"text\":\"percentage\"},\"tickformat\":\".1%\"},\"yaxis\":{\"anchor\":\"x\",\"domain\":[0.0,0.2866666666666666],\"title\":{\"text\":\"tour_mode\"}},\"xaxis2\":{\"anchor\":\"y2\",\"domain\":[0.33999999999999997,0.6599999999999999],\"matches\":\"x\",\"title\":{\"text\":\"percentage\"},\"tickformat\":\".1%\"},\"yaxis2\":{\"anchor\":\"x2\",\"domain\":[0.0,0.2866666666666666],\"matches\":\"y\",\"showticklabels\":false},\"xaxis3\":{\"anchor\":\"y3\",\"domain\":[0.6799999999999999,0.9999999999999999],\"matches\":\"x\",\"title\":{\"text\":\"percentage\"}},\"yaxis3\":{\"anchor\":\"x3\",\"domain\":[0.0,0.2866666666666666],\"matches\":\"y\",\"showticklabels\":false},\"xaxis4\":{\"anchor\":\"y4\",\"domain\":[0.0,0.31999999999999995],\"matches\":\"x\",\"showticklabels\":false},\"yaxis4\":{\"anchor\":\"x4\",\"domain\":[0.35666666666666663,0.6433333333333333],\"matches\":\"y\",\"title\":{\"text\":\"tour_mode\"}},\"xaxis5\":{\"anchor\":\"y5\",\"domain\":[0.33999999999999997,0.6599999999999999],\"matches\":\"x\",\"showticklabels\":false},\"yaxis5\":{\"anchor\":\"x5\",\"domain\":[0.35666666666666663,0.6433333333333333],\"matches\":\"y\",\"showticklabels\":false},\"xaxis6\":{\"anchor\":\"y6\",\"domain\":[0.6799999999999999,0.9999999999999999],\"matches\":\"x\",\"showticklabels\":false},\"yaxis6\":{\"anchor\":\"x6\",\"domain\":[0.35666666666666663,0.6433333333333333],\"matches\":\"y\",\"showticklabels\":false},\"xaxis7\":{\"anchor\":\"y7\",\"domain\":[0.0,0.31999999999999995],\"matches\":\"x\",\"showticklabels\":false},\"yaxis7\":{\"anchor\":\"x7\",\"domain\":[0.7133333333333333,0.9999999999999999],\"matches\":\"y\",\"title\":{\"text\":\"tour_mode\"}},\"xaxis8\":{\"anchor\":\"y8\",\"domain\":[0.33999999999999997,0.6599999999999999],\"matches\":\"x\",\"showticklabels\":false},\"yaxis8\":{\"anchor\":\"x8\",\"domain\":[0.7133333333333333,0.9999999999999999],\"matches\":\"y\",\"showticklabels\":false},\"xaxis9\":{\"anchor\":\"y9\",\"domain\":[0.6799999999999999,0.9999999999999999],\"matches\":\"x\",\"showticklabels\":false},\"yaxis9\":{\"anchor\":\"x9\",\"domain\":[0.7133333333333333,0.9999999999999999],\"matches\":\"y\",\"showticklabels\":false},\"annotations\":[{\"font\":{},\"showarrow\":false,\"text\":\"7: Child Age 5-15\",\"x\":0.15999999999999998,\"xanchor\":\"center\",\"xref\":\"paper\",\"y\":0.2866666666666666,\"yanchor\":\"bottom\",\"yref\":\"paper\"},{\"font\":{},\"showarrow\":false,\"text\":\"8: Child Age 0-4\",\"x\":0.49999999999999994,\"xanchor\":\"center\",\"xref\":\"paper\",\"y\":0.2866666666666666,\"yanchor\":\"bottom\",\"yref\":\"paper\"},{\"font\":{},\"showarrow\":false,\"text\":\"4: Non-Working Adult Age <65\",\"x\":0.15999999999999998,\"xanchor\":\"center\",\"xref\":\"paper\",\"y\":0.6433333333333333,\"yanchor\":\"bottom\",\"yref\":\"paper\"},{\"font\":{},\"showarrow\":false,\"text\":\"5: Non-Working Adult Age 65+\",\"x\":0.49999999999999994,\"xanchor\":\"center\",\"xref\":\"paper\",\"y\":0.6433333333333333,\"yanchor\":\"bottom\",\"yref\":\"paper\"},{\"font\":{},\"showarrow\":false,\"text\":\"6: High School Student Age 16+\",\"x\":0.8399999999999999,\"xanchor\":\"center\",\"xref\":\"paper\",\"y\":0.6433333333333333,\"yanchor\":\"bottom\",\"yref\":\"paper\"},{\"font\":{},\"showarrow\":false,\"text\":\"1: Full-Time Worker\",\"x\":0.15999999999999998,\"xanchor\":\"center\",\"xref\":\"paper\",\"y\":0.9999999999999999,\"yanchor\":\"bottom\",\"yref\":\"paper\"},{\"font\":{},\"showarrow\":false,\"text\":\"2: Part-Time Worker\",\"x\":0.49999999999999994,\"xanchor\":\"center\",\"xref\":\"paper\",\"y\":0.9999999999999999,\"yanchor\":\"bottom\",\"yref\":\"paper\"},{\"font\":{},\"showarrow\":false,\"text\":\"3: University Student\",\"x\":0.8399999999999999,\"xanchor\":\"center\",\"xref\":\"paper\",\"y\":0.9999999999999999,\"yanchor\":\"bottom\",\"yref\":\"paper\"}],\"legend\":{\"title\":{\"text\":\"source\"},\"tracegroupgap\":0},\"title\":{\"text\":\"Tour mode choice by ptype_label: disaggregated transit modes\"},\"barmode\":\"group\",\"height\":800,\"width\":700},                        {\"responsive\": true}                    ).then(function(){\n",
       "                            \n",
       "var gd = document.getElementById('bda8156a-08a9-421e-94f2-3cde7d20e8cd');\n",
       "var x = new MutationObserver(function (mutations, observer) {{\n",
       "        var display = window.getComputedStyle(gd).display;\n",
       "        if (!display || display === 'none') {{\n",
       "            console.log([gd, 'removed!']);\n",
       "            Plotly.purge(gd);\n",
       "            observer.disconnect();\n",
       "        }}\n",
       "}});\n",
       "\n",
       "// Listen for the removal of the full notebook cells\n",
       "var notebookContainer = gd.closest('#notebook-container');\n",
       "if (notebookContainer) {{\n",
       "    x.observe(notebookContainer, {childList: true});\n",
       "}}\n",
       "\n",
       "// Listen for the clearing of the current output cell\n",
       "var outputEl = gd.closest('.output');\n",
       "if (outputEl) {{\n",
       "    x.observe(outputEl, {childList: true});\n",
       "}}\n",
       "\n",
       "                        })                };                });            </script>        </div>"
      ]
     },
     "metadata": {},
     "output_type": "display_data"
    }
   ],
   "source": [
    "plot_mode_choice(tour_data,'ptype_label',2,1200)\n",
    "plot_mode_choice_transit(tour_data,'ptype_label',3,800)"
   ]
  },
  {
   "cell_type": "raw",
   "metadata": {
    "collapsed": false
   },
   "source": [
    "### household density"
   ]
  },
  {
   "cell_type": "code",
   "execution_count": 8,
   "metadata": {
    "collapsed": false,
    "execution": {
     "iopub.execute_input": "2024-02-09T22:44:20.496133Z",
     "iopub.status.busy": "2024-02-09T22:44:20.496133Z",
     "iopub.status.idle": "2024-02-09T22:44:22.771825Z",
     "shell.execute_reply": "2024-02-09T22:44:22.770827Z"
    }
   },
   "outputs": [
    {
     "data": {
      "application/vnd.plotly.v1+json": {
       "config": {
        "plotlyServerURL": "https://plot.ly"
       },
       "data": [
        {
         "alignmentgroup": "True",
         "hovertemplate": "source=model results<br>household_density_bin=very low<br>percentage=%{x}<br>tour_mode_transit_agg=%{y}<extra></extra>",
         "legendgroup": "model results",
         "marker": {
          "color": "#91268F",
          "pattern": {
           "shape": ""
          }
         },
         "name": "model results",
         "offsetgroup": "model results",
         "orientation": "h",
         "showlegend": true,
         "textposition": "auto",
         "type": "bar",
         "x": [
          0.021049066098906416,
          0.003887222168457047,
          0.4511650913470327,
          0.0,
          0.037587233996795595,
          0.29952041463703133,
          0.1559996559028786,
          0.0007849715582223082,
          0.030006344290676043
         ],
         "xaxis": "x4",
         "y": [
          "ALL_TRANSIT",
          "BIKE",
          "DRIVEALONEFREE",
          "Other",
          "SCH_BUS",
          "SHARED2FREE",
          "SHARED3FREE",
          "TNC",
          "WALK"
         ],
         "yaxis": "y4"
        },
        {
         "alignmentgroup": "True",
         "hovertemplate": "source=model results<br>household_density_bin=low<br>percentage=%{x}<br>tour_mode_transit_agg=%{y}<extra></extra>",
         "legendgroup": "model results",
         "marker": {
          "color": "#91268F",
          "pattern": {
           "shape": ""
          }
         },
         "name": "model results",
         "offsetgroup": "model results",
         "orientation": "h",
         "showlegend": false,
         "textposition": "auto",
         "type": "bar",
         "x": [
          0.03494099866959632,
          0.006623752039889497,
          0.4271651095039064,
          0.0,
          0.035885095333034335,
          0.29534961727338854,
          0.15481112413457807,
          0.0012342980330377299,
          0.04399000501256911
         ],
         "xaxis": "x5",
         "y": [
          "ALL_TRANSIT",
          "BIKE",
          "DRIVEALONEFREE",
          "Other",
          "SCH_BUS",
          "SHARED2FREE",
          "SHARED3FREE",
          "TNC",
          "WALK"
         ],
         "yaxis": "y5"
        },
        {
         "alignmentgroup": "True",
         "hovertemplate": "source=model results<br>household_density_bin=medium<br>percentage=%{x}<br>tour_mode_transit_agg=%{y}<extra></extra>",
         "legendgroup": "model results",
         "marker": {
          "color": "#91268F",
          "pattern": {
           "shape": ""
          }
         },
         "name": "model results",
         "offsetgroup": "model results",
         "orientation": "h",
         "showlegend": false,
         "textposition": "auto",
         "type": "bar",
         "x": [
          0.056702896651742635,
          0.011134754703043405,
          0.40195551894258674,
          0.0,
          0.032309780246138634,
          0.28145500376440785,
          0.1469962738219808,
          0.0022956413644606597,
          0.06715013050563921
         ],
         "xaxis": "x6",
         "y": [
          "ALL_TRANSIT",
          "BIKE",
          "DRIVEALONEFREE",
          "Other",
          "SCH_BUS",
          "SHARED2FREE",
          "SHARED3FREE",
          "TNC",
          "WALK"
         ],
         "yaxis": "y6"
        },
        {
         "alignmentgroup": "True",
         "hovertemplate": "source=model results<br>household_density_bin=medium-high<br>percentage=%{x}<br>tour_mode_transit_agg=%{y}<extra></extra>",
         "legendgroup": "model results",
         "marker": {
          "color": "#91268F",
          "pattern": {
           "shape": ""
          }
         },
         "name": "model results",
         "offsetgroup": "model results",
         "orientation": "h",
         "showlegend": false,
         "textposition": "auto",
         "type": "bar",
         "x": [
          0.0887076941073174,
          0.015687418566287484,
          0.38356309179275017,
          0.0,
          0.027408940461518188,
          0.2597704599890494,
          0.1341203115497932,
          0.004158272255846844,
          0.0865838112774373
         ],
         "xaxis": "x",
         "y": [
          "ALL_TRANSIT",
          "BIKE",
          "DRIVEALONEFREE",
          "Other",
          "SCH_BUS",
          "SHARED2FREE",
          "SHARED3FREE",
          "TNC",
          "WALK"
         ],
         "yaxis": "y"
        },
        {
         "alignmentgroup": "True",
         "hovertemplate": "source=model results<br>household_density_bin=high<br>percentage=%{x}<br>tour_mode_transit_agg=%{y}<extra></extra>",
         "legendgroup": "model results",
         "marker": {
          "color": "#91268F",
          "pattern": {
           "shape": ""
          }
         },
         "name": "model results",
         "offsetgroup": "model results",
         "orientation": "h",
         "showlegend": false,
         "textposition": "auto",
         "type": "bar",
         "x": [
          0.18535096687858424,
          0.030353016862868933,
          0.2951130877327027,
          0.0,
          0.016869493657562087,
          0.18863756645887114,
          0.09474313365676712,
          0.014930657533379412,
          0.17400207721926442
         ],
         "xaxis": "x2",
         "y": [
          "ALL_TRANSIT",
          "BIKE",
          "DRIVEALONEFREE",
          "Other",
          "SCH_BUS",
          "SHARED2FREE",
          "SHARED3FREE",
          "TNC",
          "WALK"
         ],
         "yaxis": "y2"
        },
        {
         "alignmentgroup": "True",
         "hovertemplate": "source=survey data<br>household_density_bin=very low<br>percentage=%{x}<br>tour_mode_transit_agg=%{y}<extra></extra>",
         "legendgroup": "survey data",
         "marker": {
          "color": "#00A7A0",
          "pattern": {
           "shape": ""
          }
         },
         "name": "survey data",
         "offsetgroup": "survey data",
         "orientation": "h",
         "showlegend": true,
         "textposition": "auto",
         "type": "bar",
         "x": [
          0.008253268907502966,
          0.0,
          0.6894387913883924,
          0.0,
          0.08324058105034902,
          0.1943873469318726,
          0.019572458955253155,
          0.0,
          0.005107552766629838
         ],
         "xaxis": "x4",
         "y": [
          "ALL_TRANSIT",
          "BIKE",
          "DRIVEALONEFREE",
          "Other",
          "SCH_BUS",
          "SHARED2FREE",
          "SHARED3FREE",
          "TNC",
          "WALK"
         ],
         "yaxis": "y4"
        },
        {
         "alignmentgroup": "True",
         "hovertemplate": "source=survey data<br>household_density_bin=low<br>percentage=%{x}<br>tour_mode_transit_agg=%{y}<extra></extra>",
         "legendgroup": "survey data",
         "marker": {
          "color": "#00A7A0",
          "pattern": {
           "shape": ""
          }
         },
         "name": "survey data",
         "offsetgroup": "survey data",
         "orientation": "h",
         "showlegend": false,
         "textposition": "auto",
         "type": "bar",
         "x": [
          0.0029502085132692177,
          0.0008958091643227505,
          0.49322576634311455,
          0.003022526476626739,
          0.02586181720890616,
          0.25726347116354414,
          0.16461051389806472,
          0.0,
          0.05216988723215166
         ],
         "xaxis": "x5",
         "y": [
          "ALL_TRANSIT",
          "BIKE",
          "DRIVEALONEFREE",
          "Other",
          "SCH_BUS",
          "SHARED2FREE",
          "SHARED3FREE",
          "TNC",
          "WALK"
         ],
         "yaxis": "y5"
        },
        {
         "alignmentgroup": "True",
         "hovertemplate": "source=survey data<br>household_density_bin=medium<br>percentage=%{x}<br>tour_mode_transit_agg=%{y}<extra></extra>",
         "legendgroup": "survey data",
         "marker": {
          "color": "#00A7A0",
          "pattern": {
           "shape": ""
          }
         },
         "name": "survey data",
         "offsetgroup": "survey data",
         "orientation": "h",
         "showlegend": false,
         "textposition": "auto",
         "type": "bar",
         "x": [
          0.03473910966681024,
          0.007656694418764444,
          0.4410997521235422,
          0.00147011391881531,
          0.029279110556058488,
          0.22847192720580525,
          0.18089802731309793,
          0.000955574783126045,
          0.07542969001398013
         ],
         "xaxis": "x6",
         "y": [
          "ALL_TRANSIT",
          "BIKE",
          "DRIVEALONEFREE",
          "Other",
          "SCH_BUS",
          "SHARED2FREE",
          "SHARED3FREE",
          "TNC",
          "WALK"
         ],
         "yaxis": "y6"
        },
        {
         "alignmentgroup": "True",
         "hovertemplate": "source=survey data<br>household_density_bin=medium-high<br>percentage=%{x}<br>tour_mode_transit_agg=%{y}<extra></extra>",
         "legendgroup": "survey data",
         "marker": {
          "color": "#00A7A0",
          "pattern": {
           "shape": ""
          }
         },
         "name": "survey data",
         "offsetgroup": "survey data",
         "orientation": "h",
         "showlegend": false,
         "textposition": "auto",
         "type": "bar",
         "x": [
          0.06561177236307925,
          0.009066645047308816,
          0.459401586973594,
          0.00047553375294605104,
          0.022135906005690265,
          0.2624924633098001,
          0.13052952876348012,
          0.004089684476843853,
          0.04619687930725746
         ],
         "xaxis": "x",
         "y": [
          "ALL_TRANSIT",
          "BIKE",
          "DRIVEALONEFREE",
          "Other",
          "SCH_BUS",
          "SHARED2FREE",
          "SHARED3FREE",
          "TNC",
          "WALK"
         ],
         "yaxis": "y"
        },
        {
         "alignmentgroup": "True",
         "hovertemplate": "source=survey data<br>household_density_bin=high<br>percentage=%{x}<br>tour_mode_transit_agg=%{y}<extra></extra>",
         "legendgroup": "survey data",
         "marker": {
          "color": "#00A7A0",
          "pattern": {
           "shape": ""
          }
         },
         "name": "survey data",
         "offsetgroup": "survey data",
         "orientation": "h",
         "showlegend": false,
         "textposition": "auto",
         "type": "bar",
         "x": [
          0.11763827986028352,
          0.01831793974501113,
          0.3844874012237422,
          0.009116379024273952,
          0.00610872901187993,
          0.17009161274177154,
          0.08636005234925949,
          0.007098931103347204,
          0.20078067494043111
         ],
         "xaxis": "x2",
         "y": [
          "ALL_TRANSIT",
          "BIKE",
          "DRIVEALONEFREE",
          "Other",
          "SCH_BUS",
          "SHARED2FREE",
          "SHARED3FREE",
          "TNC",
          "WALK"
         ],
         "yaxis": "y2"
        },
        {
         "alignmentgroup": "True",
         "hovertemplate": "source=unweighted survey<br>household_density_bin=very low<br>percentage=%{x}<br>tour_mode_transit_agg=%{y}<extra></extra>",
         "legendgroup": "unweighted survey",
         "marker": {
          "color": "#8CC63E",
          "pattern": {
           "shape": ""
          }
         },
         "name": "unweighted survey",
         "offsetgroup": "unweighted survey",
         "orientation": "h",
         "showlegend": true,
         "textposition": "auto",
         "type": "bar",
         "x": [
          0.03508771929824561,
          0.0,
          0.6140350877192983,
          0.0,
          0.05263157894736842,
          0.17543859649122806,
          0.10526315789473684,
          0.0,
          0.017543859649122806
         ],
         "xaxis": "x4",
         "y": [
          "ALL_TRANSIT",
          "BIKE",
          "DRIVEALONEFREE",
          "Other",
          "SCH_BUS",
          "SHARED2FREE",
          "SHARED3FREE",
          "TNC",
          "WALK"
         ],
         "yaxis": "y4"
        },
        {
         "alignmentgroup": "True",
         "hovertemplate": "source=unweighted survey<br>household_density_bin=low<br>percentage=%{x}<br>tour_mode_transit_agg=%{y}<extra></extra>",
         "legendgroup": "unweighted survey",
         "marker": {
          "color": "#8CC63E",
          "pattern": {
           "shape": ""
          }
         },
         "name": "unweighted survey",
         "offsetgroup": "unweighted survey",
         "orientation": "h",
         "showlegend": false,
         "textposition": "auto",
         "type": "bar",
         "x": [
          0.02406417112299465,
          0.0106951871657754,
          0.5320855614973262,
          0.00267379679144385,
          0.029411764705882353,
          0.22727272727272727,
          0.13903743315508021,
          0.0,
          0.034759358288770054
         ],
         "xaxis": "x5",
         "y": [
          "ALL_TRANSIT",
          "BIKE",
          "DRIVEALONEFREE",
          "Other",
          "SCH_BUS",
          "SHARED2FREE",
          "SHARED3FREE",
          "TNC",
          "WALK"
         ],
         "yaxis": "y5"
        },
        {
         "alignmentgroup": "True",
         "hovertemplate": "source=unweighted survey<br>household_density_bin=medium<br>percentage=%{x}<br>tour_mode_transit_agg=%{y}<extra></extra>",
         "legendgroup": "unweighted survey",
         "marker": {
          "color": "#8CC63E",
          "pattern": {
           "shape": ""
          }
         },
         "name": "unweighted survey",
         "offsetgroup": "unweighted survey",
         "orientation": "h",
         "showlegend": false,
         "textposition": "auto",
         "type": "bar",
         "x": [
          0.05321683876092136,
          0.007942811755361398,
          0.49166004765687055,
          0.003971405877680699,
          0.03177124702144559,
          0.20651310563939634,
          0.11914217633042097,
          0.0007942811755361397,
          0.08498808578236695
         ],
         "xaxis": "x6",
         "y": [
          "ALL_TRANSIT",
          "BIKE",
          "DRIVEALONEFREE",
          "Other",
          "SCH_BUS",
          "SHARED2FREE",
          "SHARED3FREE",
          "TNC",
          "WALK"
         ],
         "yaxis": "y6"
        },
        {
         "alignmentgroup": "True",
         "hovertemplate": "source=unweighted survey<br>household_density_bin=medium-high<br>percentage=%{x}<br>tour_mode_transit_agg=%{y}<extra></extra>",
         "legendgroup": "unweighted survey",
         "marker": {
          "color": "#8CC63E",
          "pattern": {
           "shape": ""
          }
         },
         "name": "unweighted survey",
         "offsetgroup": "unweighted survey",
         "orientation": "h",
         "showlegend": false,
         "textposition": "auto",
         "type": "bar",
         "x": [
          0.09239940387481371,
          0.01713859910581222,
          0.4843517138599106,
          0.0022354694485842027,
          0.019374068554396422,
          0.20417287630402384,
          0.10432190760059612,
          0.005961251862891207,
          0.07004470938897168
         ],
         "xaxis": "x",
         "y": [
          "ALL_TRANSIT",
          "BIKE",
          "DRIVEALONEFREE",
          "Other",
          "SCH_BUS",
          "SHARED2FREE",
          "SHARED3FREE",
          "TNC",
          "WALK"
         ],
         "yaxis": "y"
        },
        {
         "alignmentgroup": "True",
         "hovertemplate": "source=unweighted survey<br>household_density_bin=high<br>percentage=%{x}<br>tour_mode_transit_agg=%{y}<extra></extra>",
         "legendgroup": "unweighted survey",
         "marker": {
          "color": "#8CC63E",
          "pattern": {
           "shape": ""
          }
         },
         "name": "unweighted survey",
         "offsetgroup": "unweighted survey",
         "orientation": "h",
         "showlegend": false,
         "textposition": "auto",
         "type": "bar",
         "x": [
          0.21280276816608998,
          0.043396770472895044,
          0.2771049596309112,
          0.005478662053056517,
          0.0057670126874279125,
          0.131199538638985,
          0.0530565167243368,
          0.013552479815455595,
          0.257641291810842
         ],
         "xaxis": "x2",
         "y": [
          "ALL_TRANSIT",
          "BIKE",
          "DRIVEALONEFREE",
          "Other",
          "SCH_BUS",
          "SHARED2FREE",
          "SHARED3FREE",
          "TNC",
          "WALK"
         ],
         "yaxis": "y2"
        }
       ],
       "layout": {
        "annotations": [
         {
          "font": {},
          "showarrow": false,
          "text": "medium-high",
          "x": 0.15999999999999998,
          "xanchor": "center",
          "xref": "paper",
          "y": 0.46499999999999997,
          "yanchor": "bottom",
          "yref": "paper"
         },
         {
          "font": {},
          "showarrow": false,
          "text": "high",
          "x": 0.49999999999999994,
          "xanchor": "center",
          "xref": "paper",
          "y": 0.46499999999999997,
          "yanchor": "bottom",
          "yref": "paper"
         },
         {
          "font": {},
          "showarrow": false,
          "text": "very low",
          "x": 0.15999999999999998,
          "xanchor": "center",
          "xref": "paper",
          "y": 0.9999999999999999,
          "yanchor": "bottom",
          "yref": "paper"
         },
         {
          "font": {},
          "showarrow": false,
          "text": "low",
          "x": 0.49999999999999994,
          "xanchor": "center",
          "xref": "paper",
          "y": 0.9999999999999999,
          "yanchor": "bottom",
          "yref": "paper"
         },
         {
          "font": {},
          "showarrow": false,
          "text": "medium",
          "x": 0.8399999999999999,
          "xanchor": "center",
          "xref": "paper",
          "y": 0.9999999999999999,
          "yanchor": "bottom",
          "yref": "paper"
         }
        ],
        "barmode": "group",
        "height": 600,
        "legend": {
         "title": {
          "text": "source"
         },
         "tracegroupgap": 0
        },
        "template": {
         "data": {
          "bar": [
           {
            "error_x": {
             "color": "rgb(36,36,36)"
            },
            "error_y": {
             "color": "rgb(36,36,36)"
            },
            "marker": {
             "line": {
              "color": "white",
              "width": 0.5
             },
             "pattern": {
              "fillmode": "overlay",
              "size": 10,
              "solidity": 0.2
             }
            },
            "type": "bar"
           }
          ],
          "barpolar": [
           {
            "marker": {
             "line": {
              "color": "white",
              "width": 0.5
             },
             "pattern": {
              "fillmode": "overlay",
              "size": 10,
              "solidity": 0.2
             }
            },
            "type": "barpolar"
           }
          ],
          "carpet": [
           {
            "aaxis": {
             "endlinecolor": "rgb(36,36,36)",
             "gridcolor": "white",
             "linecolor": "white",
             "minorgridcolor": "white",
             "startlinecolor": "rgb(36,36,36)"
            },
            "baxis": {
             "endlinecolor": "rgb(36,36,36)",
             "gridcolor": "white",
             "linecolor": "white",
             "minorgridcolor": "white",
             "startlinecolor": "rgb(36,36,36)"
            },
            "type": "carpet"
           }
          ],
          "choropleth": [
           {
            "colorbar": {
             "outlinewidth": 1,
             "tickcolor": "rgb(36,36,36)",
             "ticks": "outside"
            },
            "type": "choropleth"
           }
          ],
          "contour": [
           {
            "colorbar": {
             "outlinewidth": 1,
             "tickcolor": "rgb(36,36,36)",
             "ticks": "outside"
            },
            "colorscale": [
             [
              0.0,
              "#440154"
             ],
             [
              0.1111111111111111,
              "#482878"
             ],
             [
              0.2222222222222222,
              "#3e4989"
             ],
             [
              0.3333333333333333,
              "#31688e"
             ],
             [
              0.4444444444444444,
              "#26828e"
             ],
             [
              0.5555555555555556,
              "#1f9e89"
             ],
             [
              0.6666666666666666,
              "#35b779"
             ],
             [
              0.7777777777777778,
              "#6ece58"
             ],
             [
              0.8888888888888888,
              "#b5de2b"
             ],
             [
              1.0,
              "#fde725"
             ]
            ],
            "type": "contour"
           }
          ],
          "contourcarpet": [
           {
            "colorbar": {
             "outlinewidth": 1,
             "tickcolor": "rgb(36,36,36)",
             "ticks": "outside"
            },
            "type": "contourcarpet"
           }
          ],
          "heatmap": [
           {
            "colorbar": {
             "outlinewidth": 1,
             "tickcolor": "rgb(36,36,36)",
             "ticks": "outside"
            },
            "colorscale": [
             [
              0.0,
              "#440154"
             ],
             [
              0.1111111111111111,
              "#482878"
             ],
             [
              0.2222222222222222,
              "#3e4989"
             ],
             [
              0.3333333333333333,
              "#31688e"
             ],
             [
              0.4444444444444444,
              "#26828e"
             ],
             [
              0.5555555555555556,
              "#1f9e89"
             ],
             [
              0.6666666666666666,
              "#35b779"
             ],
             [
              0.7777777777777778,
              "#6ece58"
             ],
             [
              0.8888888888888888,
              "#b5de2b"
             ],
             [
              1.0,
              "#fde725"
             ]
            ],
            "type": "heatmap"
           }
          ],
          "heatmapgl": [
           {
            "colorbar": {
             "outlinewidth": 1,
             "tickcolor": "rgb(36,36,36)",
             "ticks": "outside"
            },
            "colorscale": [
             [
              0.0,
              "#440154"
             ],
             [
              0.1111111111111111,
              "#482878"
             ],
             [
              0.2222222222222222,
              "#3e4989"
             ],
             [
              0.3333333333333333,
              "#31688e"
             ],
             [
              0.4444444444444444,
              "#26828e"
             ],
             [
              0.5555555555555556,
              "#1f9e89"
             ],
             [
              0.6666666666666666,
              "#35b779"
             ],
             [
              0.7777777777777778,
              "#6ece58"
             ],
             [
              0.8888888888888888,
              "#b5de2b"
             ],
             [
              1.0,
              "#fde725"
             ]
            ],
            "type": "heatmapgl"
           }
          ],
          "histogram": [
           {
            "marker": {
             "line": {
              "color": "white",
              "width": 0.6
             }
            },
            "type": "histogram"
           }
          ],
          "histogram2d": [
           {
            "colorbar": {
             "outlinewidth": 1,
             "tickcolor": "rgb(36,36,36)",
             "ticks": "outside"
            },
            "colorscale": [
             [
              0.0,
              "#440154"
             ],
             [
              0.1111111111111111,
              "#482878"
             ],
             [
              0.2222222222222222,
              "#3e4989"
             ],
             [
              0.3333333333333333,
              "#31688e"
             ],
             [
              0.4444444444444444,
              "#26828e"
             ],
             [
              0.5555555555555556,
              "#1f9e89"
             ],
             [
              0.6666666666666666,
              "#35b779"
             ],
             [
              0.7777777777777778,
              "#6ece58"
             ],
             [
              0.8888888888888888,
              "#b5de2b"
             ],
             [
              1.0,
              "#fde725"
             ]
            ],
            "type": "histogram2d"
           }
          ],
          "histogram2dcontour": [
           {
            "colorbar": {
             "outlinewidth": 1,
             "tickcolor": "rgb(36,36,36)",
             "ticks": "outside"
            },
            "colorscale": [
             [
              0.0,
              "#440154"
             ],
             [
              0.1111111111111111,
              "#482878"
             ],
             [
              0.2222222222222222,
              "#3e4989"
             ],
             [
              0.3333333333333333,
              "#31688e"
             ],
             [
              0.4444444444444444,
              "#26828e"
             ],
             [
              0.5555555555555556,
              "#1f9e89"
             ],
             [
              0.6666666666666666,
              "#35b779"
             ],
             [
              0.7777777777777778,
              "#6ece58"
             ],
             [
              0.8888888888888888,
              "#b5de2b"
             ],
             [
              1.0,
              "#fde725"
             ]
            ],
            "type": "histogram2dcontour"
           }
          ],
          "mesh3d": [
           {
            "colorbar": {
             "outlinewidth": 1,
             "tickcolor": "rgb(36,36,36)",
             "ticks": "outside"
            },
            "type": "mesh3d"
           }
          ],
          "parcoords": [
           {
            "line": {
             "colorbar": {
              "outlinewidth": 1,
              "tickcolor": "rgb(36,36,36)",
              "ticks": "outside"
             }
            },
            "type": "parcoords"
           }
          ],
          "pie": [
           {
            "automargin": true,
            "type": "pie"
           }
          ],
          "scatter": [
           {
            "fillpattern": {
             "fillmode": "overlay",
             "size": 10,
             "solidity": 0.2
            },
            "type": "scatter"
           }
          ],
          "scatter3d": [
           {
            "line": {
             "colorbar": {
              "outlinewidth": 1,
              "tickcolor": "rgb(36,36,36)",
              "ticks": "outside"
             }
            },
            "marker": {
             "colorbar": {
              "outlinewidth": 1,
              "tickcolor": "rgb(36,36,36)",
              "ticks": "outside"
             }
            },
            "type": "scatter3d"
           }
          ],
          "scattercarpet": [
           {
            "marker": {
             "colorbar": {
              "outlinewidth": 1,
              "tickcolor": "rgb(36,36,36)",
              "ticks": "outside"
             }
            },
            "type": "scattercarpet"
           }
          ],
          "scattergeo": [
           {
            "marker": {
             "colorbar": {
              "outlinewidth": 1,
              "tickcolor": "rgb(36,36,36)",
              "ticks": "outside"
             }
            },
            "type": "scattergeo"
           }
          ],
          "scattergl": [
           {
            "marker": {
             "colorbar": {
              "outlinewidth": 1,
              "tickcolor": "rgb(36,36,36)",
              "ticks": "outside"
             }
            },
            "type": "scattergl"
           }
          ],
          "scattermapbox": [
           {
            "marker": {
             "colorbar": {
              "outlinewidth": 1,
              "tickcolor": "rgb(36,36,36)",
              "ticks": "outside"
             }
            },
            "type": "scattermapbox"
           }
          ],
          "scatterpolar": [
           {
            "marker": {
             "colorbar": {
              "outlinewidth": 1,
              "tickcolor": "rgb(36,36,36)",
              "ticks": "outside"
             }
            },
            "type": "scatterpolar"
           }
          ],
          "scatterpolargl": [
           {
            "marker": {
             "colorbar": {
              "outlinewidth": 1,
              "tickcolor": "rgb(36,36,36)",
              "ticks": "outside"
             }
            },
            "type": "scatterpolargl"
           }
          ],
          "scatterternary": [
           {
            "marker": {
             "colorbar": {
              "outlinewidth": 1,
              "tickcolor": "rgb(36,36,36)",
              "ticks": "outside"
             }
            },
            "type": "scatterternary"
           }
          ],
          "surface": [
           {
            "colorbar": {
             "outlinewidth": 1,
             "tickcolor": "rgb(36,36,36)",
             "ticks": "outside"
            },
            "colorscale": [
             [
              0.0,
              "#440154"
             ],
             [
              0.1111111111111111,
              "#482878"
             ],
             [
              0.2222222222222222,
              "#3e4989"
             ],
             [
              0.3333333333333333,
              "#31688e"
             ],
             [
              0.4444444444444444,
              "#26828e"
             ],
             [
              0.5555555555555556,
              "#1f9e89"
             ],
             [
              0.6666666666666666,
              "#35b779"
             ],
             [
              0.7777777777777778,
              "#6ece58"
             ],
             [
              0.8888888888888888,
              "#b5de2b"
             ],
             [
              1.0,
              "#fde725"
             ]
            ],
            "type": "surface"
           }
          ],
          "table": [
           {
            "cells": {
             "fill": {
              "color": "rgb(237,237,237)"
             },
             "line": {
              "color": "white"
             }
            },
            "header": {
             "fill": {
              "color": "rgb(217,217,217)"
             },
             "line": {
              "color": "white"
             }
            },
            "type": "table"
           }
          ]
         },
         "layout": {
          "annotationdefaults": {
           "arrowhead": 0,
           "arrowwidth": 1
          },
          "autotypenumbers": "strict",
          "coloraxis": {
           "colorbar": {
            "outlinewidth": 1,
            "tickcolor": "rgb(36,36,36)",
            "ticks": "outside"
           }
          },
          "colorscale": {
           "diverging": [
            [
             0.0,
             "rgb(103,0,31)"
            ],
            [
             0.1,
             "rgb(178,24,43)"
            ],
            [
             0.2,
             "rgb(214,96,77)"
            ],
            [
             0.3,
             "rgb(244,165,130)"
            ],
            [
             0.4,
             "rgb(253,219,199)"
            ],
            [
             0.5,
             "rgb(247,247,247)"
            ],
            [
             0.6,
             "rgb(209,229,240)"
            ],
            [
             0.7,
             "rgb(146,197,222)"
            ],
            [
             0.8,
             "rgb(67,147,195)"
            ],
            [
             0.9,
             "rgb(33,102,172)"
            ],
            [
             1.0,
             "rgb(5,48,97)"
            ]
           ],
           "sequential": [
            [
             0.0,
             "#440154"
            ],
            [
             0.1111111111111111,
             "#482878"
            ],
            [
             0.2222222222222222,
             "#3e4989"
            ],
            [
             0.3333333333333333,
             "#31688e"
            ],
            [
             0.4444444444444444,
             "#26828e"
            ],
            [
             0.5555555555555556,
             "#1f9e89"
            ],
            [
             0.6666666666666666,
             "#35b779"
            ],
            [
             0.7777777777777778,
             "#6ece58"
            ],
            [
             0.8888888888888888,
             "#b5de2b"
            ],
            [
             1.0,
             "#fde725"
            ]
           ],
           "sequentialminus": [
            [
             0.0,
             "#440154"
            ],
            [
             0.1111111111111111,
             "#482878"
            ],
            [
             0.2222222222222222,
             "#3e4989"
            ],
            [
             0.3333333333333333,
             "#31688e"
            ],
            [
             0.4444444444444444,
             "#26828e"
            ],
            [
             0.5555555555555556,
             "#1f9e89"
            ],
            [
             0.6666666666666666,
             "#35b779"
            ],
            [
             0.7777777777777778,
             "#6ece58"
            ],
            [
             0.8888888888888888,
             "#b5de2b"
            ],
            [
             1.0,
             "#fde725"
            ]
           ]
          },
          "colorway": [
           "#91268F",
           "#00A7A0",
           "#8CC63E",
           "#F05A28",
           "#4C4C4C",
           "#630460",
           "#9f3913",
           "#588527",
           "#00716c",
           "#3e4040"
          ],
          "font": {
           "color": "rgb(36,36,36)",
           "size": 11
          },
          "geo": {
           "bgcolor": "white",
           "lakecolor": "white",
           "landcolor": "white",
           "showlakes": true,
           "showland": true,
           "subunitcolor": "white"
          },
          "hoverlabel": {
           "align": "left"
          },
          "hovermode": "closest",
          "mapbox": {
           "style": "light"
          },
          "paper_bgcolor": "white",
          "plot_bgcolor": "white",
          "polar": {
           "angularaxis": {
            "gridcolor": "rgb(232,232,232)",
            "linecolor": "rgb(36,36,36)",
            "showgrid": false,
            "showline": true,
            "ticks": "outside"
           },
           "bgcolor": "white",
           "radialaxis": {
            "gridcolor": "rgb(232,232,232)",
            "linecolor": "rgb(36,36,36)",
            "showgrid": false,
            "showline": true,
            "ticks": "outside"
           }
          },
          "scene": {
           "xaxis": {
            "backgroundcolor": "white",
            "gridcolor": "rgb(232,232,232)",
            "gridwidth": 2,
            "linecolor": "rgb(36,36,36)",
            "showbackground": true,
            "showgrid": false,
            "showline": true,
            "ticks": "outside",
            "zeroline": false,
            "zerolinecolor": "rgb(36,36,36)"
           },
           "yaxis": {
            "backgroundcolor": "white",
            "gridcolor": "rgb(232,232,232)",
            "gridwidth": 2,
            "linecolor": "rgb(36,36,36)",
            "showbackground": true,
            "showgrid": false,
            "showline": true,
            "ticks": "outside",
            "zeroline": false,
            "zerolinecolor": "rgb(36,36,36)"
           },
           "zaxis": {
            "backgroundcolor": "white",
            "gridcolor": "rgb(232,232,232)",
            "gridwidth": 2,
            "linecolor": "rgb(36,36,36)",
            "showbackground": true,
            "showgrid": false,
            "showline": true,
            "ticks": "outside",
            "zeroline": false,
            "zerolinecolor": "rgb(36,36,36)"
           }
          },
          "shapedefaults": {
           "fillcolor": "black",
           "line": {
            "width": 0
           },
           "opacity": 0.3
          },
          "ternary": {
           "aaxis": {
            "gridcolor": "rgb(232,232,232)",
            "linecolor": "rgb(36,36,36)",
            "showgrid": false,
            "showline": true,
            "ticks": "outside"
           },
           "baxis": {
            "gridcolor": "rgb(232,232,232)",
            "linecolor": "rgb(36,36,36)",
            "showgrid": false,
            "showline": true,
            "ticks": "outside"
           },
           "bgcolor": "white",
           "caxis": {
            "gridcolor": "rgb(232,232,232)",
            "linecolor": "rgb(36,36,36)",
            "showgrid": false,
            "showline": true,
            "ticks": "outside"
           }
          },
          "title": {
           "x": 0.05
          },
          "xaxis": {
           "automargin": true,
           "gridcolor": "rgb(232,232,232)",
           "linecolor": "rgb(36,36,36)",
           "showgrid": false,
           "showline": true,
           "ticks": "outside",
           "title": {
            "standoff": 15
           },
           "zeroline": false,
           "zerolinecolor": "rgb(36,36,36)"
          },
          "yaxis": {
           "automargin": true,
           "gridcolor": "rgb(232,232,232)",
           "linecolor": "rgb(36,36,36)",
           "showgrid": false,
           "showline": true,
           "ticks": "outside",
           "title": {
            "standoff": 15
           },
           "zeroline": false,
           "zerolinecolor": "rgb(36,36,36)"
          }
         }
        },
        "title": {
         "text": "Tour mode choice by household_density_bin"
        },
        "width": 700,
        "xaxis": {
         "anchor": "y",
         "domain": [
          0.0,
          0.31999999999999995
         ],
         "tickformat": ".0%",
         "title": {
          "text": "percentage"
         }
        },
        "xaxis2": {
         "anchor": "y2",
         "domain": [
          0.33999999999999997,
          0.6599999999999999
         ],
         "matches": "x",
         "tickformat": ".0%",
         "title": {
          "text": "percentage"
         }
        },
        "xaxis3": {
         "anchor": "y3",
         "domain": [
          0.6799999999999999,
          0.9999999999999999
         ],
         "matches": "x",
         "title": {
          "text": "percentage"
         }
        },
        "xaxis4": {
         "anchor": "y4",
         "domain": [
          0.0,
          0.31999999999999995
         ],
         "matches": "x",
         "showticklabels": false
        },
        "xaxis5": {
         "anchor": "y5",
         "domain": [
          0.33999999999999997,
          0.6599999999999999
         ],
         "matches": "x",
         "showticklabels": false
        },
        "xaxis6": {
         "anchor": "y6",
         "domain": [
          0.6799999999999999,
          0.9999999999999999
         ],
         "matches": "x",
         "showticklabels": false
        },
        "yaxis": {
         "anchor": "x",
         "categoryarray": [
          "Other",
          "TNC",
          "SCH_BUS",
          "ALL_TRANSIT",
          "WALK",
          "BIKE",
          "SHARED3FREE",
          "SHARED2FREE",
          "DRIVEALONEFREE"
         ],
         "categoryorder": "array",
         "domain": [
          0.0,
          0.46499999999999997
         ],
         "title": {
          "text": "tour_mode_transit_agg"
         }
        },
        "yaxis2": {
         "anchor": "x2",
         "domain": [
          0.0,
          0.46499999999999997
         ],
         "matches": "y",
         "showticklabels": false
        },
        "yaxis3": {
         "anchor": "x3",
         "domain": [
          0.0,
          0.46499999999999997
         ],
         "matches": "y",
         "showticklabels": false
        },
        "yaxis4": {
         "anchor": "x4",
         "categoryarray": [
          "Other",
          "TNC",
          "SCH_BUS",
          "ALL_TRANSIT",
          "WALK",
          "BIKE",
          "SHARED3FREE",
          "SHARED2FREE",
          "DRIVEALONEFREE"
         ],
         "categoryorder": "array",
         "domain": [
          0.5349999999999999,
          0.9999999999999999
         ],
         "matches": "y",
         "title": {
          "text": "tour_mode_transit_agg"
         }
        },
        "yaxis5": {
         "anchor": "x5",
         "domain": [
          0.5349999999999999,
          0.9999999999999999
         ],
         "matches": "y",
         "showticklabels": false
        },
        "yaxis6": {
         "anchor": "x6",
         "domain": [
          0.5349999999999999,
          0.9999999999999999
         ],
         "matches": "y",
         "showticklabels": false
        }
       }
      },
      "text/html": [
       "<div>                            <div id=\"133de63f-c0bf-4d2c-b6f9-fb2df83af03b\" class=\"plotly-graph-div\" style=\"height:600px; width:700px;\"></div>            <script type=\"text/javascript\">                require([\"plotly\"], function(Plotly) {                    window.PLOTLYENV=window.PLOTLYENV || {};                                    if (document.getElementById(\"133de63f-c0bf-4d2c-b6f9-fb2df83af03b\")) {                    Plotly.newPlot(                        \"133de63f-c0bf-4d2c-b6f9-fb2df83af03b\",                        [{\"alignmentgroup\":\"True\",\"hovertemplate\":\"source=model results<br>household_density_bin=very low<br>percentage=%{x}<br>tour_mode_transit_agg=%{y}<extra></extra>\",\"legendgroup\":\"model results\",\"marker\":{\"color\":\"#91268F\",\"pattern\":{\"shape\":\"\"}},\"name\":\"model results\",\"offsetgroup\":\"model results\",\"orientation\":\"h\",\"showlegend\":true,\"textposition\":\"auto\",\"x\":[0.021049066098906416,0.003887222168457047,0.4511650913470327,0.0,0.037587233996795595,0.29952041463703133,0.1559996559028786,0.0007849715582223082,0.030006344290676043],\"xaxis\":\"x4\",\"y\":[\"ALL_TRANSIT\",\"BIKE\",\"DRIVEALONEFREE\",\"Other\",\"SCH_BUS\",\"SHARED2FREE\",\"SHARED3FREE\",\"TNC\",\"WALK\"],\"yaxis\":\"y4\",\"type\":\"bar\"},{\"alignmentgroup\":\"True\",\"hovertemplate\":\"source=model results<br>household_density_bin=low<br>percentage=%{x}<br>tour_mode_transit_agg=%{y}<extra></extra>\",\"legendgroup\":\"model results\",\"marker\":{\"color\":\"#91268F\",\"pattern\":{\"shape\":\"\"}},\"name\":\"model results\",\"offsetgroup\":\"model results\",\"orientation\":\"h\",\"showlegend\":false,\"textposition\":\"auto\",\"x\":[0.03494099866959632,0.006623752039889497,0.4271651095039064,0.0,0.035885095333034335,0.29534961727338854,0.15481112413457807,0.0012342980330377299,0.04399000501256911],\"xaxis\":\"x5\",\"y\":[\"ALL_TRANSIT\",\"BIKE\",\"DRIVEALONEFREE\",\"Other\",\"SCH_BUS\",\"SHARED2FREE\",\"SHARED3FREE\",\"TNC\",\"WALK\"],\"yaxis\":\"y5\",\"type\":\"bar\"},{\"alignmentgroup\":\"True\",\"hovertemplate\":\"source=model results<br>household_density_bin=medium<br>percentage=%{x}<br>tour_mode_transit_agg=%{y}<extra></extra>\",\"legendgroup\":\"model results\",\"marker\":{\"color\":\"#91268F\",\"pattern\":{\"shape\":\"\"}},\"name\":\"model results\",\"offsetgroup\":\"model results\",\"orientation\":\"h\",\"showlegend\":false,\"textposition\":\"auto\",\"x\":[0.056702896651742635,0.011134754703043405,0.40195551894258674,0.0,0.032309780246138634,0.28145500376440785,0.1469962738219808,0.0022956413644606597,0.06715013050563921],\"xaxis\":\"x6\",\"y\":[\"ALL_TRANSIT\",\"BIKE\",\"DRIVEALONEFREE\",\"Other\",\"SCH_BUS\",\"SHARED2FREE\",\"SHARED3FREE\",\"TNC\",\"WALK\"],\"yaxis\":\"y6\",\"type\":\"bar\"},{\"alignmentgroup\":\"True\",\"hovertemplate\":\"source=model results<br>household_density_bin=medium-high<br>percentage=%{x}<br>tour_mode_transit_agg=%{y}<extra></extra>\",\"legendgroup\":\"model results\",\"marker\":{\"color\":\"#91268F\",\"pattern\":{\"shape\":\"\"}},\"name\":\"model results\",\"offsetgroup\":\"model results\",\"orientation\":\"h\",\"showlegend\":false,\"textposition\":\"auto\",\"x\":[0.0887076941073174,0.015687418566287484,0.38356309179275017,0.0,0.027408940461518188,0.2597704599890494,0.1341203115497932,0.004158272255846844,0.0865838112774373],\"xaxis\":\"x\",\"y\":[\"ALL_TRANSIT\",\"BIKE\",\"DRIVEALONEFREE\",\"Other\",\"SCH_BUS\",\"SHARED2FREE\",\"SHARED3FREE\",\"TNC\",\"WALK\"],\"yaxis\":\"y\",\"type\":\"bar\"},{\"alignmentgroup\":\"True\",\"hovertemplate\":\"source=model results<br>household_density_bin=high<br>percentage=%{x}<br>tour_mode_transit_agg=%{y}<extra></extra>\",\"legendgroup\":\"model results\",\"marker\":{\"color\":\"#91268F\",\"pattern\":{\"shape\":\"\"}},\"name\":\"model results\",\"offsetgroup\":\"model results\",\"orientation\":\"h\",\"showlegend\":false,\"textposition\":\"auto\",\"x\":[0.18535096687858424,0.030353016862868933,0.2951130877327027,0.0,0.016869493657562087,0.18863756645887114,0.09474313365676712,0.014930657533379412,0.17400207721926442],\"xaxis\":\"x2\",\"y\":[\"ALL_TRANSIT\",\"BIKE\",\"DRIVEALONEFREE\",\"Other\",\"SCH_BUS\",\"SHARED2FREE\",\"SHARED3FREE\",\"TNC\",\"WALK\"],\"yaxis\":\"y2\",\"type\":\"bar\"},{\"alignmentgroup\":\"True\",\"hovertemplate\":\"source=survey data<br>household_density_bin=very low<br>percentage=%{x}<br>tour_mode_transit_agg=%{y}<extra></extra>\",\"legendgroup\":\"survey data\",\"marker\":{\"color\":\"#00A7A0\",\"pattern\":{\"shape\":\"\"}},\"name\":\"survey data\",\"offsetgroup\":\"survey data\",\"orientation\":\"h\",\"showlegend\":true,\"textposition\":\"auto\",\"x\":[0.008253268907502966,0.0,0.6894387913883924,0.0,0.08324058105034902,0.1943873469318726,0.019572458955253155,0.0,0.005107552766629838],\"xaxis\":\"x4\",\"y\":[\"ALL_TRANSIT\",\"BIKE\",\"DRIVEALONEFREE\",\"Other\",\"SCH_BUS\",\"SHARED2FREE\",\"SHARED3FREE\",\"TNC\",\"WALK\"],\"yaxis\":\"y4\",\"type\":\"bar\"},{\"alignmentgroup\":\"True\",\"hovertemplate\":\"source=survey data<br>household_density_bin=low<br>percentage=%{x}<br>tour_mode_transit_agg=%{y}<extra></extra>\",\"legendgroup\":\"survey data\",\"marker\":{\"color\":\"#00A7A0\",\"pattern\":{\"shape\":\"\"}},\"name\":\"survey data\",\"offsetgroup\":\"survey data\",\"orientation\":\"h\",\"showlegend\":false,\"textposition\":\"auto\",\"x\":[0.0029502085132692177,0.0008958091643227505,0.49322576634311455,0.003022526476626739,0.02586181720890616,0.25726347116354414,0.16461051389806472,0.0,0.05216988723215166],\"xaxis\":\"x5\",\"y\":[\"ALL_TRANSIT\",\"BIKE\",\"DRIVEALONEFREE\",\"Other\",\"SCH_BUS\",\"SHARED2FREE\",\"SHARED3FREE\",\"TNC\",\"WALK\"],\"yaxis\":\"y5\",\"type\":\"bar\"},{\"alignmentgroup\":\"True\",\"hovertemplate\":\"source=survey data<br>household_density_bin=medium<br>percentage=%{x}<br>tour_mode_transit_agg=%{y}<extra></extra>\",\"legendgroup\":\"survey data\",\"marker\":{\"color\":\"#00A7A0\",\"pattern\":{\"shape\":\"\"}},\"name\":\"survey data\",\"offsetgroup\":\"survey data\",\"orientation\":\"h\",\"showlegend\":false,\"textposition\":\"auto\",\"x\":[0.03473910966681024,0.007656694418764444,0.4410997521235422,0.00147011391881531,0.029279110556058488,0.22847192720580525,0.18089802731309793,0.000955574783126045,0.07542969001398013],\"xaxis\":\"x6\",\"y\":[\"ALL_TRANSIT\",\"BIKE\",\"DRIVEALONEFREE\",\"Other\",\"SCH_BUS\",\"SHARED2FREE\",\"SHARED3FREE\",\"TNC\",\"WALK\"],\"yaxis\":\"y6\",\"type\":\"bar\"},{\"alignmentgroup\":\"True\",\"hovertemplate\":\"source=survey data<br>household_density_bin=medium-high<br>percentage=%{x}<br>tour_mode_transit_agg=%{y}<extra></extra>\",\"legendgroup\":\"survey data\",\"marker\":{\"color\":\"#00A7A0\",\"pattern\":{\"shape\":\"\"}},\"name\":\"survey data\",\"offsetgroup\":\"survey data\",\"orientation\":\"h\",\"showlegend\":false,\"textposition\":\"auto\",\"x\":[0.06561177236307925,0.009066645047308816,0.459401586973594,0.00047553375294605104,0.022135906005690265,0.2624924633098001,0.13052952876348012,0.004089684476843853,0.04619687930725746],\"xaxis\":\"x\",\"y\":[\"ALL_TRANSIT\",\"BIKE\",\"DRIVEALONEFREE\",\"Other\",\"SCH_BUS\",\"SHARED2FREE\",\"SHARED3FREE\",\"TNC\",\"WALK\"],\"yaxis\":\"y\",\"type\":\"bar\"},{\"alignmentgroup\":\"True\",\"hovertemplate\":\"source=survey data<br>household_density_bin=high<br>percentage=%{x}<br>tour_mode_transit_agg=%{y}<extra></extra>\",\"legendgroup\":\"survey data\",\"marker\":{\"color\":\"#00A7A0\",\"pattern\":{\"shape\":\"\"}},\"name\":\"survey data\",\"offsetgroup\":\"survey data\",\"orientation\":\"h\",\"showlegend\":false,\"textposition\":\"auto\",\"x\":[0.11763827986028352,0.01831793974501113,0.3844874012237422,0.009116379024273952,0.00610872901187993,0.17009161274177154,0.08636005234925949,0.007098931103347204,0.20078067494043111],\"xaxis\":\"x2\",\"y\":[\"ALL_TRANSIT\",\"BIKE\",\"DRIVEALONEFREE\",\"Other\",\"SCH_BUS\",\"SHARED2FREE\",\"SHARED3FREE\",\"TNC\",\"WALK\"],\"yaxis\":\"y2\",\"type\":\"bar\"},{\"alignmentgroup\":\"True\",\"hovertemplate\":\"source=unweighted survey<br>household_density_bin=very low<br>percentage=%{x}<br>tour_mode_transit_agg=%{y}<extra></extra>\",\"legendgroup\":\"unweighted survey\",\"marker\":{\"color\":\"#8CC63E\",\"pattern\":{\"shape\":\"\"}},\"name\":\"unweighted survey\",\"offsetgroup\":\"unweighted survey\",\"orientation\":\"h\",\"showlegend\":true,\"textposition\":\"auto\",\"x\":[0.03508771929824561,0.0,0.6140350877192983,0.0,0.05263157894736842,0.17543859649122806,0.10526315789473684,0.0,0.017543859649122806],\"xaxis\":\"x4\",\"y\":[\"ALL_TRANSIT\",\"BIKE\",\"DRIVEALONEFREE\",\"Other\",\"SCH_BUS\",\"SHARED2FREE\",\"SHARED3FREE\",\"TNC\",\"WALK\"],\"yaxis\":\"y4\",\"type\":\"bar\"},{\"alignmentgroup\":\"True\",\"hovertemplate\":\"source=unweighted survey<br>household_density_bin=low<br>percentage=%{x}<br>tour_mode_transit_agg=%{y}<extra></extra>\",\"legendgroup\":\"unweighted survey\",\"marker\":{\"color\":\"#8CC63E\",\"pattern\":{\"shape\":\"\"}},\"name\":\"unweighted survey\",\"offsetgroup\":\"unweighted survey\",\"orientation\":\"h\",\"showlegend\":false,\"textposition\":\"auto\",\"x\":[0.02406417112299465,0.0106951871657754,0.5320855614973262,0.00267379679144385,0.029411764705882353,0.22727272727272727,0.13903743315508021,0.0,0.034759358288770054],\"xaxis\":\"x5\",\"y\":[\"ALL_TRANSIT\",\"BIKE\",\"DRIVEALONEFREE\",\"Other\",\"SCH_BUS\",\"SHARED2FREE\",\"SHARED3FREE\",\"TNC\",\"WALK\"],\"yaxis\":\"y5\",\"type\":\"bar\"},{\"alignmentgroup\":\"True\",\"hovertemplate\":\"source=unweighted survey<br>household_density_bin=medium<br>percentage=%{x}<br>tour_mode_transit_agg=%{y}<extra></extra>\",\"legendgroup\":\"unweighted survey\",\"marker\":{\"color\":\"#8CC63E\",\"pattern\":{\"shape\":\"\"}},\"name\":\"unweighted survey\",\"offsetgroup\":\"unweighted survey\",\"orientation\":\"h\",\"showlegend\":false,\"textposition\":\"auto\",\"x\":[0.05321683876092136,0.007942811755361398,0.49166004765687055,0.003971405877680699,0.03177124702144559,0.20651310563939634,0.11914217633042097,0.0007942811755361397,0.08498808578236695],\"xaxis\":\"x6\",\"y\":[\"ALL_TRANSIT\",\"BIKE\",\"DRIVEALONEFREE\",\"Other\",\"SCH_BUS\",\"SHARED2FREE\",\"SHARED3FREE\",\"TNC\",\"WALK\"],\"yaxis\":\"y6\",\"type\":\"bar\"},{\"alignmentgroup\":\"True\",\"hovertemplate\":\"source=unweighted survey<br>household_density_bin=medium-high<br>percentage=%{x}<br>tour_mode_transit_agg=%{y}<extra></extra>\",\"legendgroup\":\"unweighted survey\",\"marker\":{\"color\":\"#8CC63E\",\"pattern\":{\"shape\":\"\"}},\"name\":\"unweighted survey\",\"offsetgroup\":\"unweighted survey\",\"orientation\":\"h\",\"showlegend\":false,\"textposition\":\"auto\",\"x\":[0.09239940387481371,0.01713859910581222,0.4843517138599106,0.0022354694485842027,0.019374068554396422,0.20417287630402384,0.10432190760059612,0.005961251862891207,0.07004470938897168],\"xaxis\":\"x\",\"y\":[\"ALL_TRANSIT\",\"BIKE\",\"DRIVEALONEFREE\",\"Other\",\"SCH_BUS\",\"SHARED2FREE\",\"SHARED3FREE\",\"TNC\",\"WALK\"],\"yaxis\":\"y\",\"type\":\"bar\"},{\"alignmentgroup\":\"True\",\"hovertemplate\":\"source=unweighted survey<br>household_density_bin=high<br>percentage=%{x}<br>tour_mode_transit_agg=%{y}<extra></extra>\",\"legendgroup\":\"unweighted survey\",\"marker\":{\"color\":\"#8CC63E\",\"pattern\":{\"shape\":\"\"}},\"name\":\"unweighted survey\",\"offsetgroup\":\"unweighted survey\",\"orientation\":\"h\",\"showlegend\":false,\"textposition\":\"auto\",\"x\":[0.21280276816608998,0.043396770472895044,0.2771049596309112,0.005478662053056517,0.0057670126874279125,0.131199538638985,0.0530565167243368,0.013552479815455595,0.257641291810842],\"xaxis\":\"x2\",\"y\":[\"ALL_TRANSIT\",\"BIKE\",\"DRIVEALONEFREE\",\"Other\",\"SCH_BUS\",\"SHARED2FREE\",\"SHARED3FREE\",\"TNC\",\"WALK\"],\"yaxis\":\"y2\",\"type\":\"bar\"}],                        {\"template\":{\"data\":{\"barpolar\":[{\"marker\":{\"line\":{\"color\":\"white\",\"width\":0.5},\"pattern\":{\"fillmode\":\"overlay\",\"size\":10,\"solidity\":0.2}},\"type\":\"barpolar\"}],\"bar\":[{\"error_x\":{\"color\":\"rgb(36,36,36)\"},\"error_y\":{\"color\":\"rgb(36,36,36)\"},\"marker\":{\"line\":{\"color\":\"white\",\"width\":0.5},\"pattern\":{\"fillmode\":\"overlay\",\"size\":10,\"solidity\":0.2}},\"type\":\"bar\"}],\"carpet\":[{\"aaxis\":{\"endlinecolor\":\"rgb(36,36,36)\",\"gridcolor\":\"white\",\"linecolor\":\"white\",\"minorgridcolor\":\"white\",\"startlinecolor\":\"rgb(36,36,36)\"},\"baxis\":{\"endlinecolor\":\"rgb(36,36,36)\",\"gridcolor\":\"white\",\"linecolor\":\"white\",\"minorgridcolor\":\"white\",\"startlinecolor\":\"rgb(36,36,36)\"},\"type\":\"carpet\"}],\"choropleth\":[{\"colorbar\":{\"outlinewidth\":1,\"tickcolor\":\"rgb(36,36,36)\",\"ticks\":\"outside\"},\"type\":\"choropleth\"}],\"contourcarpet\":[{\"colorbar\":{\"outlinewidth\":1,\"tickcolor\":\"rgb(36,36,36)\",\"ticks\":\"outside\"},\"type\":\"contourcarpet\"}],\"contour\":[{\"colorbar\":{\"outlinewidth\":1,\"tickcolor\":\"rgb(36,36,36)\",\"ticks\":\"outside\"},\"colorscale\":[[0.0,\"#440154\"],[0.1111111111111111,\"#482878\"],[0.2222222222222222,\"#3e4989\"],[0.3333333333333333,\"#31688e\"],[0.4444444444444444,\"#26828e\"],[0.5555555555555556,\"#1f9e89\"],[0.6666666666666666,\"#35b779\"],[0.7777777777777778,\"#6ece58\"],[0.8888888888888888,\"#b5de2b\"],[1.0,\"#fde725\"]],\"type\":\"contour\"}],\"heatmapgl\":[{\"colorbar\":{\"outlinewidth\":1,\"tickcolor\":\"rgb(36,36,36)\",\"ticks\":\"outside\"},\"colorscale\":[[0.0,\"#440154\"],[0.1111111111111111,\"#482878\"],[0.2222222222222222,\"#3e4989\"],[0.3333333333333333,\"#31688e\"],[0.4444444444444444,\"#26828e\"],[0.5555555555555556,\"#1f9e89\"],[0.6666666666666666,\"#35b779\"],[0.7777777777777778,\"#6ece58\"],[0.8888888888888888,\"#b5de2b\"],[1.0,\"#fde725\"]],\"type\":\"heatmapgl\"}],\"heatmap\":[{\"colorbar\":{\"outlinewidth\":1,\"tickcolor\":\"rgb(36,36,36)\",\"ticks\":\"outside\"},\"colorscale\":[[0.0,\"#440154\"],[0.1111111111111111,\"#482878\"],[0.2222222222222222,\"#3e4989\"],[0.3333333333333333,\"#31688e\"],[0.4444444444444444,\"#26828e\"],[0.5555555555555556,\"#1f9e89\"],[0.6666666666666666,\"#35b779\"],[0.7777777777777778,\"#6ece58\"],[0.8888888888888888,\"#b5de2b\"],[1.0,\"#fde725\"]],\"type\":\"heatmap\"}],\"histogram2dcontour\":[{\"colorbar\":{\"outlinewidth\":1,\"tickcolor\":\"rgb(36,36,36)\",\"ticks\":\"outside\"},\"colorscale\":[[0.0,\"#440154\"],[0.1111111111111111,\"#482878\"],[0.2222222222222222,\"#3e4989\"],[0.3333333333333333,\"#31688e\"],[0.4444444444444444,\"#26828e\"],[0.5555555555555556,\"#1f9e89\"],[0.6666666666666666,\"#35b779\"],[0.7777777777777778,\"#6ece58\"],[0.8888888888888888,\"#b5de2b\"],[1.0,\"#fde725\"]],\"type\":\"histogram2dcontour\"}],\"histogram2d\":[{\"colorbar\":{\"outlinewidth\":1,\"tickcolor\":\"rgb(36,36,36)\",\"ticks\":\"outside\"},\"colorscale\":[[0.0,\"#440154\"],[0.1111111111111111,\"#482878\"],[0.2222222222222222,\"#3e4989\"],[0.3333333333333333,\"#31688e\"],[0.4444444444444444,\"#26828e\"],[0.5555555555555556,\"#1f9e89\"],[0.6666666666666666,\"#35b779\"],[0.7777777777777778,\"#6ece58\"],[0.8888888888888888,\"#b5de2b\"],[1.0,\"#fde725\"]],\"type\":\"histogram2d\"}],\"histogram\":[{\"marker\":{\"line\":{\"color\":\"white\",\"width\":0.6}},\"type\":\"histogram\"}],\"mesh3d\":[{\"colorbar\":{\"outlinewidth\":1,\"tickcolor\":\"rgb(36,36,36)\",\"ticks\":\"outside\"},\"type\":\"mesh3d\"}],\"parcoords\":[{\"line\":{\"colorbar\":{\"outlinewidth\":1,\"tickcolor\":\"rgb(36,36,36)\",\"ticks\":\"outside\"}},\"type\":\"parcoords\"}],\"pie\":[{\"automargin\":true,\"type\":\"pie\"}],\"scatter3d\":[{\"line\":{\"colorbar\":{\"outlinewidth\":1,\"tickcolor\":\"rgb(36,36,36)\",\"ticks\":\"outside\"}},\"marker\":{\"colorbar\":{\"outlinewidth\":1,\"tickcolor\":\"rgb(36,36,36)\",\"ticks\":\"outside\"}},\"type\":\"scatter3d\"}],\"scattercarpet\":[{\"marker\":{\"colorbar\":{\"outlinewidth\":1,\"tickcolor\":\"rgb(36,36,36)\",\"ticks\":\"outside\"}},\"type\":\"scattercarpet\"}],\"scattergeo\":[{\"marker\":{\"colorbar\":{\"outlinewidth\":1,\"tickcolor\":\"rgb(36,36,36)\",\"ticks\":\"outside\"}},\"type\":\"scattergeo\"}],\"scattergl\":[{\"marker\":{\"colorbar\":{\"outlinewidth\":1,\"tickcolor\":\"rgb(36,36,36)\",\"ticks\":\"outside\"}},\"type\":\"scattergl\"}],\"scattermapbox\":[{\"marker\":{\"colorbar\":{\"outlinewidth\":1,\"tickcolor\":\"rgb(36,36,36)\",\"ticks\":\"outside\"}},\"type\":\"scattermapbox\"}],\"scatterpolargl\":[{\"marker\":{\"colorbar\":{\"outlinewidth\":1,\"tickcolor\":\"rgb(36,36,36)\",\"ticks\":\"outside\"}},\"type\":\"scatterpolargl\"}],\"scatterpolar\":[{\"marker\":{\"colorbar\":{\"outlinewidth\":1,\"tickcolor\":\"rgb(36,36,36)\",\"ticks\":\"outside\"}},\"type\":\"scatterpolar\"}],\"scatter\":[{\"fillpattern\":{\"fillmode\":\"overlay\",\"size\":10,\"solidity\":0.2},\"type\":\"scatter\"}],\"scatterternary\":[{\"marker\":{\"colorbar\":{\"outlinewidth\":1,\"tickcolor\":\"rgb(36,36,36)\",\"ticks\":\"outside\"}},\"type\":\"scatterternary\"}],\"surface\":[{\"colorbar\":{\"outlinewidth\":1,\"tickcolor\":\"rgb(36,36,36)\",\"ticks\":\"outside\"},\"colorscale\":[[0.0,\"#440154\"],[0.1111111111111111,\"#482878\"],[0.2222222222222222,\"#3e4989\"],[0.3333333333333333,\"#31688e\"],[0.4444444444444444,\"#26828e\"],[0.5555555555555556,\"#1f9e89\"],[0.6666666666666666,\"#35b779\"],[0.7777777777777778,\"#6ece58\"],[0.8888888888888888,\"#b5de2b\"],[1.0,\"#fde725\"]],\"type\":\"surface\"}],\"table\":[{\"cells\":{\"fill\":{\"color\":\"rgb(237,237,237)\"},\"line\":{\"color\":\"white\"}},\"header\":{\"fill\":{\"color\":\"rgb(217,217,217)\"},\"line\":{\"color\":\"white\"}},\"type\":\"table\"}]},\"layout\":{\"annotationdefaults\":{\"arrowhead\":0,\"arrowwidth\":1},\"autotypenumbers\":\"strict\",\"coloraxis\":{\"colorbar\":{\"outlinewidth\":1,\"tickcolor\":\"rgb(36,36,36)\",\"ticks\":\"outside\"}},\"colorscale\":{\"diverging\":[[0.0,\"rgb(103,0,31)\"],[0.1,\"rgb(178,24,43)\"],[0.2,\"rgb(214,96,77)\"],[0.3,\"rgb(244,165,130)\"],[0.4,\"rgb(253,219,199)\"],[0.5,\"rgb(247,247,247)\"],[0.6,\"rgb(209,229,240)\"],[0.7,\"rgb(146,197,222)\"],[0.8,\"rgb(67,147,195)\"],[0.9,\"rgb(33,102,172)\"],[1.0,\"rgb(5,48,97)\"]],\"sequential\":[[0.0,\"#440154\"],[0.1111111111111111,\"#482878\"],[0.2222222222222222,\"#3e4989\"],[0.3333333333333333,\"#31688e\"],[0.4444444444444444,\"#26828e\"],[0.5555555555555556,\"#1f9e89\"],[0.6666666666666666,\"#35b779\"],[0.7777777777777778,\"#6ece58\"],[0.8888888888888888,\"#b5de2b\"],[1.0,\"#fde725\"]],\"sequentialminus\":[[0.0,\"#440154\"],[0.1111111111111111,\"#482878\"],[0.2222222222222222,\"#3e4989\"],[0.3333333333333333,\"#31688e\"],[0.4444444444444444,\"#26828e\"],[0.5555555555555556,\"#1f9e89\"],[0.6666666666666666,\"#35b779\"],[0.7777777777777778,\"#6ece58\"],[0.8888888888888888,\"#b5de2b\"],[1.0,\"#fde725\"]]},\"colorway\":[\"#91268F\",\"#00A7A0\",\"#8CC63E\",\"#F05A28\",\"#4C4C4C\",\"#630460\",\"#9f3913\",\"#588527\",\"#00716c\",\"#3e4040\"],\"font\":{\"color\":\"rgb(36,36,36)\",\"size\":11},\"geo\":{\"bgcolor\":\"white\",\"lakecolor\":\"white\",\"landcolor\":\"white\",\"showlakes\":true,\"showland\":true,\"subunitcolor\":\"white\"},\"hoverlabel\":{\"align\":\"left\"},\"hovermode\":\"closest\",\"mapbox\":{\"style\":\"light\"},\"paper_bgcolor\":\"white\",\"plot_bgcolor\":\"white\",\"polar\":{\"angularaxis\":{\"gridcolor\":\"rgb(232,232,232)\",\"linecolor\":\"rgb(36,36,36)\",\"showgrid\":false,\"showline\":true,\"ticks\":\"outside\"},\"bgcolor\":\"white\",\"radialaxis\":{\"gridcolor\":\"rgb(232,232,232)\",\"linecolor\":\"rgb(36,36,36)\",\"showgrid\":false,\"showline\":true,\"ticks\":\"outside\"}},\"scene\":{\"xaxis\":{\"backgroundcolor\":\"white\",\"gridcolor\":\"rgb(232,232,232)\",\"gridwidth\":2,\"linecolor\":\"rgb(36,36,36)\",\"showbackground\":true,\"showgrid\":false,\"showline\":true,\"ticks\":\"outside\",\"zeroline\":false,\"zerolinecolor\":\"rgb(36,36,36)\"},\"yaxis\":{\"backgroundcolor\":\"white\",\"gridcolor\":\"rgb(232,232,232)\",\"gridwidth\":2,\"linecolor\":\"rgb(36,36,36)\",\"showbackground\":true,\"showgrid\":false,\"showline\":true,\"ticks\":\"outside\",\"zeroline\":false,\"zerolinecolor\":\"rgb(36,36,36)\"},\"zaxis\":{\"backgroundcolor\":\"white\",\"gridcolor\":\"rgb(232,232,232)\",\"gridwidth\":2,\"linecolor\":\"rgb(36,36,36)\",\"showbackground\":true,\"showgrid\":false,\"showline\":true,\"ticks\":\"outside\",\"zeroline\":false,\"zerolinecolor\":\"rgb(36,36,36)\"}},\"shapedefaults\":{\"fillcolor\":\"black\",\"line\":{\"width\":0},\"opacity\":0.3},\"ternary\":{\"aaxis\":{\"gridcolor\":\"rgb(232,232,232)\",\"linecolor\":\"rgb(36,36,36)\",\"showgrid\":false,\"showline\":true,\"ticks\":\"outside\"},\"baxis\":{\"gridcolor\":\"rgb(232,232,232)\",\"linecolor\":\"rgb(36,36,36)\",\"showgrid\":false,\"showline\":true,\"ticks\":\"outside\"},\"bgcolor\":\"white\",\"caxis\":{\"gridcolor\":\"rgb(232,232,232)\",\"linecolor\":\"rgb(36,36,36)\",\"showgrid\":false,\"showline\":true,\"ticks\":\"outside\"}},\"title\":{\"x\":0.05},\"xaxis\":{\"automargin\":true,\"gridcolor\":\"rgb(232,232,232)\",\"linecolor\":\"rgb(36,36,36)\",\"showgrid\":false,\"showline\":true,\"ticks\":\"outside\",\"title\":{\"standoff\":15},\"zeroline\":false,\"zerolinecolor\":\"rgb(36,36,36)\"},\"yaxis\":{\"automargin\":true,\"gridcolor\":\"rgb(232,232,232)\",\"linecolor\":\"rgb(36,36,36)\",\"showgrid\":false,\"showline\":true,\"ticks\":\"outside\",\"title\":{\"standoff\":15},\"zeroline\":false,\"zerolinecolor\":\"rgb(36,36,36)\"}}},\"xaxis\":{\"anchor\":\"y\",\"domain\":[0.0,0.31999999999999995],\"title\":{\"text\":\"percentage\"},\"tickformat\":\".0%\"},\"yaxis\":{\"anchor\":\"x\",\"domain\":[0.0,0.46499999999999997],\"title\":{\"text\":\"tour_mode_transit_agg\"},\"categoryorder\":\"array\",\"categoryarray\":[\"Other\",\"TNC\",\"SCH_BUS\",\"ALL_TRANSIT\",\"WALK\",\"BIKE\",\"SHARED3FREE\",\"SHARED2FREE\",\"DRIVEALONEFREE\"]},\"xaxis2\":{\"anchor\":\"y2\",\"domain\":[0.33999999999999997,0.6599999999999999],\"matches\":\"x\",\"title\":{\"text\":\"percentage\"},\"tickformat\":\".0%\"},\"yaxis2\":{\"anchor\":\"x2\",\"domain\":[0.0,0.46499999999999997],\"matches\":\"y\",\"showticklabels\":false},\"xaxis3\":{\"anchor\":\"y3\",\"domain\":[0.6799999999999999,0.9999999999999999],\"matches\":\"x\",\"title\":{\"text\":\"percentage\"}},\"yaxis3\":{\"anchor\":\"x3\",\"domain\":[0.0,0.46499999999999997],\"matches\":\"y\",\"showticklabels\":false},\"xaxis4\":{\"anchor\":\"y4\",\"domain\":[0.0,0.31999999999999995],\"matches\":\"x\",\"showticklabels\":false},\"yaxis4\":{\"anchor\":\"x4\",\"domain\":[0.5349999999999999,0.9999999999999999],\"matches\":\"y\",\"title\":{\"text\":\"tour_mode_transit_agg\"},\"categoryorder\":\"array\",\"categoryarray\":[\"Other\",\"TNC\",\"SCH_BUS\",\"ALL_TRANSIT\",\"WALK\",\"BIKE\",\"SHARED3FREE\",\"SHARED2FREE\",\"DRIVEALONEFREE\"]},\"xaxis5\":{\"anchor\":\"y5\",\"domain\":[0.33999999999999997,0.6599999999999999],\"matches\":\"x\",\"showticklabels\":false},\"yaxis5\":{\"anchor\":\"x5\",\"domain\":[0.5349999999999999,0.9999999999999999],\"matches\":\"y\",\"showticklabels\":false},\"xaxis6\":{\"anchor\":\"y6\",\"domain\":[0.6799999999999999,0.9999999999999999],\"matches\":\"x\",\"showticklabels\":false},\"yaxis6\":{\"anchor\":\"x6\",\"domain\":[0.5349999999999999,0.9999999999999999],\"matches\":\"y\",\"showticklabels\":false},\"annotations\":[{\"font\":{},\"showarrow\":false,\"text\":\"medium-high\",\"x\":0.15999999999999998,\"xanchor\":\"center\",\"xref\":\"paper\",\"y\":0.46499999999999997,\"yanchor\":\"bottom\",\"yref\":\"paper\"},{\"font\":{},\"showarrow\":false,\"text\":\"high\",\"x\":0.49999999999999994,\"xanchor\":\"center\",\"xref\":\"paper\",\"y\":0.46499999999999997,\"yanchor\":\"bottom\",\"yref\":\"paper\"},{\"font\":{},\"showarrow\":false,\"text\":\"very low\",\"x\":0.15999999999999998,\"xanchor\":\"center\",\"xref\":\"paper\",\"y\":0.9999999999999999,\"yanchor\":\"bottom\",\"yref\":\"paper\"},{\"font\":{},\"showarrow\":false,\"text\":\"low\",\"x\":0.49999999999999994,\"xanchor\":\"center\",\"xref\":\"paper\",\"y\":0.9999999999999999,\"yanchor\":\"bottom\",\"yref\":\"paper\"},{\"font\":{},\"showarrow\":false,\"text\":\"medium\",\"x\":0.8399999999999999,\"xanchor\":\"center\",\"xref\":\"paper\",\"y\":0.9999999999999999,\"yanchor\":\"bottom\",\"yref\":\"paper\"}],\"legend\":{\"title\":{\"text\":\"source\"},\"tracegroupgap\":0},\"title\":{\"text\":\"Tour mode choice by household_density_bin\"},\"barmode\":\"group\",\"height\":600,\"width\":700},                        {\"responsive\": true}                    ).then(function(){\n",
       "                            \n",
       "var gd = document.getElementById('133de63f-c0bf-4d2c-b6f9-fb2df83af03b');\n",
       "var x = new MutationObserver(function (mutations, observer) {{\n",
       "        var display = window.getComputedStyle(gd).display;\n",
       "        if (!display || display === 'none') {{\n",
       "            console.log([gd, 'removed!']);\n",
       "            Plotly.purge(gd);\n",
       "            observer.disconnect();\n",
       "        }}\n",
       "}});\n",
       "\n",
       "// Listen for the removal of the full notebook cells\n",
       "var notebookContainer = gd.closest('#notebook-container');\n",
       "if (notebookContainer) {{\n",
       "    x.observe(notebookContainer, {childList: true});\n",
       "}}\n",
       "\n",
       "// Listen for the clearing of the current output cell\n",
       "var outputEl = gd.closest('.output');\n",
       "if (outputEl) {{\n",
       "    x.observe(outputEl, {childList: true});\n",
       "}}\n",
       "\n",
       "                        })                };                });            </script>        </div>"
      ]
     },
     "metadata": {},
     "output_type": "display_data"
    },
    {
     "data": {
      "application/vnd.plotly.v1+json": {
       "config": {
        "plotlyServerURL": "https://plot.ly"
       },
       "data": [
        {
         "alignmentgroup": "True",
         "hovertemplate": "source=model results<br>household_density_bin=very low<br>percentage=%{x}<br>tour_mode=%{y}<extra></extra>",
         "legendgroup": "model results",
         "marker": {
          "color": "#91268F",
          "pattern": {
           "shape": ""
          }
         },
         "name": "model results",
         "offsetgroup": "model results",
         "orientation": "h",
         "showlegend": true,
         "textposition": "auto",
         "type": "bar",
         "x": [
          0.012742346527307333,
          0.0005000161295525662,
          0.004817359699775261,
          0.0026828822435132314,
          0.00030646149875802447
         ],
         "xaxis": "x4",
         "y": [
          "DRIVE_TRN",
          "WALK_COM",
          "WALK_FRY",
          "WALK_LOC",
          "WALK_LR"
         ],
         "yaxis": "y4"
        },
        {
         "alignmentgroup": "True",
         "hovertemplate": "source=model results<br>household_density_bin=low<br>percentage=%{x}<br>tour_mode=%{y}<extra></extra>",
         "legendgroup": "model results",
         "marker": {
          "color": "#91268F",
          "pattern": {
           "shape": ""
          }
         },
         "name": "model results",
         "offsetgroup": "model results",
         "orientation": "h",
         "showlegend": false,
         "textposition": "auto",
         "type": "bar",
         "x": [
          0.011067224958825325,
          0.0014020118115726276,
          0.012465467921442113,
          0.008771995944718523,
          0.0012342980330377299
         ],
         "xaxis": "x5",
         "y": [
          "DRIVE_TRN",
          "WALK_COM",
          "WALK_FRY",
          "WALK_LOC",
          "WALK_LR"
         ],
         "yaxis": "y5"
        },
        {
         "alignmentgroup": "True",
         "hovertemplate": "source=model results<br>household_density_bin=medium<br>percentage=%{x}<br>tour_mode=%{y}<extra></extra>",
         "legendgroup": "model results",
         "marker": {
          "color": "#91268F",
          "pattern": {
           "shape": ""
          }
         },
         "name": "model results",
         "offsetgroup": "model results",
         "orientation": "h",
         "showlegend": false,
         "textposition": "auto",
         "type": "bar",
         "x": [
          0.007776076617570073,
          0.004639378357830246,
          0.010410237216274328,
          0.02951776732691277,
          0.004359437133155215
         ],
         "xaxis": "x6",
         "y": [
          "DRIVE_TRN",
          "WALK_COM",
          "WALK_FRY",
          "WALK_LOC",
          "WALK_LR"
         ],
         "yaxis": "y6"
        },
        {
         "alignmentgroup": "True",
         "hovertemplate": "source=model results<br>household_density_bin=medium-high<br>percentage=%{x}<br>tour_mode=%{y}<extra></extra>",
         "legendgroup": "model results",
         "marker": {
          "color": "#91268F",
          "pattern": {
           "shape": ""
          }
         },
         "name": "model results",
         "offsetgroup": "model results",
         "orientation": "h",
         "showlegend": false,
         "textposition": "auto",
         "type": "bar",
         "x": [
          0.00668311372215751,
          0.006997397644561796,
          0.012605181174815851,
          0.053853184309199005,
          0.008568817256583226
         ],
         "xaxis": "x",
         "y": [
          "DRIVE_TRN",
          "WALK_COM",
          "WALK_FRY",
          "WALK_LOC",
          "WALK_LR"
         ],
         "yaxis": "y"
        },
        {
         "alignmentgroup": "True",
         "hovertemplate": "source=model results<br>household_density_bin=high<br>percentage=%{x}<br>tour_mode=%{y}<extra></extra>",
         "legendgroup": "model results",
         "marker": {
          "color": "#91268F",
          "pattern": {
           "shape": ""
          }
         },
         "name": "model results",
         "offsetgroup": "model results",
         "orientation": "h",
         "showlegend": false,
         "textposition": "auto",
         "type": "bar",
         "x": [
          0.004071261428570377,
          0.00722757475449874,
          0.020189952942371518,
          0.12748767617167459,
          0.026374501581469024
         ],
         "xaxis": "x2",
         "y": [
          "DRIVE_TRN",
          "WALK_COM",
          "WALK_FRY",
          "WALK_LOC",
          "WALK_LR"
         ],
         "yaxis": "y2"
        },
        {
         "alignmentgroup": "True",
         "hovertemplate": "source=survey data<br>household_density_bin=very low<br>percentage=%{x}<br>tour_mode=%{y}<extra></extra>",
         "legendgroup": "survey data",
         "marker": {
          "color": "#00A7A0",
          "pattern": {
           "shape": ""
          }
         },
         "name": "survey data",
         "offsetgroup": "survey data",
         "orientation": "h",
         "showlegend": true,
         "textposition": "auto",
         "type": "bar",
         "x": [
          0.0,
          0.0,
          0.0036462874680977405,
          0.004606981439405227,
          0.0
         ],
         "xaxis": "x4",
         "y": [
          "DRIVE_TRN",
          "WALK_COM",
          "WALK_FRY",
          "WALK_LOC",
          "WALK_LR"
         ],
         "yaxis": "y4"
        },
        {
         "alignmentgroup": "True",
         "hovertemplate": "source=survey data<br>household_density_bin=low<br>percentage=%{x}<br>tour_mode=%{y}<extra></extra>",
         "legendgroup": "survey data",
         "marker": {
          "color": "#00A7A0",
          "pattern": {
           "shape": ""
          }
         },
         "name": "survey data",
         "offsetgroup": "survey data",
         "orientation": "h",
         "showlegend": false,
         "textposition": "auto",
         "type": "bar",
         "x": [
          0.0009824265987729965,
          0.00027948601382287016,
          0.00023775535852197044,
          0.0011104549996210971,
          0.00034008554253028335
         ],
         "xaxis": "x5",
         "y": [
          "DRIVE_TRN",
          "WALK_COM",
          "WALK_FRY",
          "WALK_LOC",
          "WALK_LR"
         ],
         "yaxis": "y5"
        },
        {
         "alignmentgroup": "True",
         "hovertemplate": "source=survey data<br>household_density_bin=medium<br>percentage=%{x}<br>tour_mode=%{y}<extra></extra>",
         "legendgroup": "survey data",
         "marker": {
          "color": "#00A7A0",
          "pattern": {
           "shape": ""
          }
         },
         "name": "survey data",
         "offsetgroup": "survey data",
         "orientation": "h",
         "showlegend": false,
         "textposition": "auto",
         "type": "bar",
         "x": [
          0.003546193836352183,
          5.379189135740405e-05,
          0.001446251341102893,
          0.02920426595604394,
          0.000488606641953819
         ],
         "xaxis": "x6",
         "y": [
          "DRIVE_TRN",
          "WALK_COM",
          "WALK_FRY",
          "WALK_LOC",
          "WALK_LR"
         ],
         "yaxis": "y6"
        },
        {
         "alignmentgroup": "True",
         "hovertemplate": "source=survey data<br>household_density_bin=medium-high<br>percentage=%{x}<br>tour_mode=%{y}<extra></extra>",
         "legendgroup": "survey data",
         "marker": {
          "color": "#00A7A0",
          "pattern": {
           "shape": ""
          }
         },
         "name": "survey data",
         "offsetgroup": "survey data",
         "orientation": "h",
         "showlegend": false,
         "textposition": "auto",
         "type": "bar",
         "x": [
          0.009588103765543298,
          0.0014206091987077295,
          0.004884844412558098,
          0.048829407449675975,
          0.0008888075365941374
         ],
         "xaxis": "x",
         "y": [
          "DRIVE_TRN",
          "WALK_COM",
          "WALK_FRY",
          "WALK_LOC",
          "WALK_LR"
         ],
         "yaxis": "y"
        },
        {
         "alignmentgroup": "True",
         "hovertemplate": "source=survey data<br>household_density_bin=high<br>percentage=%{x}<br>tour_mode=%{y}<extra></extra>",
         "legendgroup": "survey data",
         "marker": {
          "color": "#00A7A0",
          "pattern": {
           "shape": ""
          }
         },
         "name": "survey data",
         "offsetgroup": "survey data",
         "orientation": "h",
         "showlegend": false,
         "textposition": "auto",
         "type": "bar",
         "x": [
          0.004057838481943566,
          0.00011274972725871529,
          0.00048505149767528587,
          0.10058560808652617,
          0.012397032066879797
         ],
         "xaxis": "x2",
         "y": [
          "DRIVE_TRN",
          "WALK_COM",
          "WALK_FRY",
          "WALK_LOC",
          "WALK_LR"
         ],
         "yaxis": "y2"
        },
        {
         "alignmentgroup": "True",
         "hovertemplate": "source=unweighted survey<br>household_density_bin=very low<br>percentage=%{x}<br>tour_mode=%{y}<extra></extra>",
         "legendgroup": "unweighted survey",
         "marker": {
          "color": "#8CC63E",
          "pattern": {
           "shape": ""
          }
         },
         "name": "unweighted survey",
         "offsetgroup": "unweighted survey",
         "orientation": "h",
         "showlegend": true,
         "textposition": "auto",
         "type": "bar",
         "x": [
          0.0,
          0.0,
          0.017543859649122806,
          0.017543859649122806,
          0.0
         ],
         "xaxis": "x4",
         "y": [
          "DRIVE_TRN",
          "WALK_COM",
          "WALK_FRY",
          "WALK_LOC",
          "WALK_LR"
         ],
         "yaxis": "y4"
        },
        {
         "alignmentgroup": "True",
         "hovertemplate": "source=unweighted survey<br>household_density_bin=low<br>percentage=%{x}<br>tour_mode=%{y}<extra></extra>",
         "legendgroup": "unweighted survey",
         "marker": {
          "color": "#8CC63E",
          "pattern": {
           "shape": ""
          }
         },
         "name": "unweighted survey",
         "offsetgroup": "unweighted survey",
         "orientation": "h",
         "showlegend": false,
         "textposition": "auto",
         "type": "bar",
         "x": [
          0.0106951871657754,
          0.00267379679144385,
          0.00267379679144385,
          0.0053475935828877,
          0.00267379679144385
         ],
         "xaxis": "x5",
         "y": [
          "DRIVE_TRN",
          "WALK_COM",
          "WALK_FRY",
          "WALK_LOC",
          "WALK_LR"
         ],
         "yaxis": "y5"
        },
        {
         "alignmentgroup": "True",
         "hovertemplate": "source=unweighted survey<br>household_density_bin=medium<br>percentage=%{x}<br>tour_mode=%{y}<extra></extra>",
         "legendgroup": "unweighted survey",
         "marker": {
          "color": "#8CC63E",
          "pattern": {
           "shape": ""
          }
         },
         "name": "unweighted survey",
         "offsetgroup": "unweighted survey",
         "orientation": "h",
         "showlegend": false,
         "textposition": "auto",
         "type": "bar",
         "x": [
          0.013502779984114376,
          0.0007942811755361397,
          0.005559968228752979,
          0.030976965845909452,
          0.0023828435266084196
         ],
         "xaxis": "x6",
         "y": [
          "DRIVE_TRN",
          "WALK_COM",
          "WALK_FRY",
          "WALK_LOC",
          "WALK_LR"
         ],
         "yaxis": "y6"
        },
        {
         "alignmentgroup": "True",
         "hovertemplate": "source=unweighted survey<br>household_density_bin=medium-high<br>percentage=%{x}<br>tour_mode=%{y}<extra></extra>",
         "legendgroup": "unweighted survey",
         "marker": {
          "color": "#8CC63E",
          "pattern": {
           "shape": ""
          }
         },
         "name": "unweighted survey",
         "offsetgroup": "unweighted survey",
         "orientation": "h",
         "showlegend": false,
         "textposition": "auto",
         "type": "bar",
         "x": [
          0.012667660208643815,
          0.0037257824143070045,
          0.0029806259314456036,
          0.06557377049180328,
          0.007451564828614009
         ],
         "xaxis": "x",
         "y": [
          "DRIVE_TRN",
          "WALK_COM",
          "WALK_FRY",
          "WALK_LOC",
          "WALK_LR"
         ],
         "yaxis": "y"
        },
        {
         "alignmentgroup": "True",
         "hovertemplate": "source=unweighted survey<br>household_density_bin=high<br>percentage=%{x}<br>tour_mode=%{y}<extra></extra>",
         "legendgroup": "unweighted survey",
         "marker": {
          "color": "#8CC63E",
          "pattern": {
           "shape": ""
          }
         },
         "name": "unweighted survey",
         "offsetgroup": "unweighted survey",
         "orientation": "h",
         "showlegend": false,
         "textposition": "auto",
         "type": "bar",
         "x": [
          0.00461361014994233,
          0.00043252595155709344,
          0.0012975778546712802,
          0.16782006920415224,
          0.03863898500576701
         ],
         "xaxis": "x2",
         "y": [
          "DRIVE_TRN",
          "WALK_COM",
          "WALK_FRY",
          "WALK_LOC",
          "WALK_LR"
         ],
         "yaxis": "y2"
        }
       ],
       "layout": {
        "annotations": [
         {
          "font": {},
          "showarrow": false,
          "text": "medium-high",
          "x": 0.15999999999999998,
          "xanchor": "center",
          "xref": "paper",
          "y": 0.46499999999999997,
          "yanchor": "bottom",
          "yref": "paper"
         },
         {
          "font": {},
          "showarrow": false,
          "text": "high",
          "x": 0.49999999999999994,
          "xanchor": "center",
          "xref": "paper",
          "y": 0.46499999999999997,
          "yanchor": "bottom",
          "yref": "paper"
         },
         {
          "font": {},
          "showarrow": false,
          "text": "very low",
          "x": 0.15999999999999998,
          "xanchor": "center",
          "xref": "paper",
          "y": 0.9999999999999999,
          "yanchor": "bottom",
          "yref": "paper"
         },
         {
          "font": {},
          "showarrow": false,
          "text": "low",
          "x": 0.49999999999999994,
          "xanchor": "center",
          "xref": "paper",
          "y": 0.9999999999999999,
          "yanchor": "bottom",
          "yref": "paper"
         },
         {
          "font": {},
          "showarrow": false,
          "text": "medium",
          "x": 0.8399999999999999,
          "xanchor": "center",
          "xref": "paper",
          "y": 0.9999999999999999,
          "yanchor": "bottom",
          "yref": "paper"
         }
        ],
        "barmode": "group",
        "height": 500,
        "legend": {
         "title": {
          "text": "source"
         },
         "tracegroupgap": 0
        },
        "template": {
         "data": {
          "bar": [
           {
            "error_x": {
             "color": "rgb(36,36,36)"
            },
            "error_y": {
             "color": "rgb(36,36,36)"
            },
            "marker": {
             "line": {
              "color": "white",
              "width": 0.5
             },
             "pattern": {
              "fillmode": "overlay",
              "size": 10,
              "solidity": 0.2
             }
            },
            "type": "bar"
           }
          ],
          "barpolar": [
           {
            "marker": {
             "line": {
              "color": "white",
              "width": 0.5
             },
             "pattern": {
              "fillmode": "overlay",
              "size": 10,
              "solidity": 0.2
             }
            },
            "type": "barpolar"
           }
          ],
          "carpet": [
           {
            "aaxis": {
             "endlinecolor": "rgb(36,36,36)",
             "gridcolor": "white",
             "linecolor": "white",
             "minorgridcolor": "white",
             "startlinecolor": "rgb(36,36,36)"
            },
            "baxis": {
             "endlinecolor": "rgb(36,36,36)",
             "gridcolor": "white",
             "linecolor": "white",
             "minorgridcolor": "white",
             "startlinecolor": "rgb(36,36,36)"
            },
            "type": "carpet"
           }
          ],
          "choropleth": [
           {
            "colorbar": {
             "outlinewidth": 1,
             "tickcolor": "rgb(36,36,36)",
             "ticks": "outside"
            },
            "type": "choropleth"
           }
          ],
          "contour": [
           {
            "colorbar": {
             "outlinewidth": 1,
             "tickcolor": "rgb(36,36,36)",
             "ticks": "outside"
            },
            "colorscale": [
             [
              0.0,
              "#440154"
             ],
             [
              0.1111111111111111,
              "#482878"
             ],
             [
              0.2222222222222222,
              "#3e4989"
             ],
             [
              0.3333333333333333,
              "#31688e"
             ],
             [
              0.4444444444444444,
              "#26828e"
             ],
             [
              0.5555555555555556,
              "#1f9e89"
             ],
             [
              0.6666666666666666,
              "#35b779"
             ],
             [
              0.7777777777777778,
              "#6ece58"
             ],
             [
              0.8888888888888888,
              "#b5de2b"
             ],
             [
              1.0,
              "#fde725"
             ]
            ],
            "type": "contour"
           }
          ],
          "contourcarpet": [
           {
            "colorbar": {
             "outlinewidth": 1,
             "tickcolor": "rgb(36,36,36)",
             "ticks": "outside"
            },
            "type": "contourcarpet"
           }
          ],
          "heatmap": [
           {
            "colorbar": {
             "outlinewidth": 1,
             "tickcolor": "rgb(36,36,36)",
             "ticks": "outside"
            },
            "colorscale": [
             [
              0.0,
              "#440154"
             ],
             [
              0.1111111111111111,
              "#482878"
             ],
             [
              0.2222222222222222,
              "#3e4989"
             ],
             [
              0.3333333333333333,
              "#31688e"
             ],
             [
              0.4444444444444444,
              "#26828e"
             ],
             [
              0.5555555555555556,
              "#1f9e89"
             ],
             [
              0.6666666666666666,
              "#35b779"
             ],
             [
              0.7777777777777778,
              "#6ece58"
             ],
             [
              0.8888888888888888,
              "#b5de2b"
             ],
             [
              1.0,
              "#fde725"
             ]
            ],
            "type": "heatmap"
           }
          ],
          "heatmapgl": [
           {
            "colorbar": {
             "outlinewidth": 1,
             "tickcolor": "rgb(36,36,36)",
             "ticks": "outside"
            },
            "colorscale": [
             [
              0.0,
              "#440154"
             ],
             [
              0.1111111111111111,
              "#482878"
             ],
             [
              0.2222222222222222,
              "#3e4989"
             ],
             [
              0.3333333333333333,
              "#31688e"
             ],
             [
              0.4444444444444444,
              "#26828e"
             ],
             [
              0.5555555555555556,
              "#1f9e89"
             ],
             [
              0.6666666666666666,
              "#35b779"
             ],
             [
              0.7777777777777778,
              "#6ece58"
             ],
             [
              0.8888888888888888,
              "#b5de2b"
             ],
             [
              1.0,
              "#fde725"
             ]
            ],
            "type": "heatmapgl"
           }
          ],
          "histogram": [
           {
            "marker": {
             "line": {
              "color": "white",
              "width": 0.6
             }
            },
            "type": "histogram"
           }
          ],
          "histogram2d": [
           {
            "colorbar": {
             "outlinewidth": 1,
             "tickcolor": "rgb(36,36,36)",
             "ticks": "outside"
            },
            "colorscale": [
             [
              0.0,
              "#440154"
             ],
             [
              0.1111111111111111,
              "#482878"
             ],
             [
              0.2222222222222222,
              "#3e4989"
             ],
             [
              0.3333333333333333,
              "#31688e"
             ],
             [
              0.4444444444444444,
              "#26828e"
             ],
             [
              0.5555555555555556,
              "#1f9e89"
             ],
             [
              0.6666666666666666,
              "#35b779"
             ],
             [
              0.7777777777777778,
              "#6ece58"
             ],
             [
              0.8888888888888888,
              "#b5de2b"
             ],
             [
              1.0,
              "#fde725"
             ]
            ],
            "type": "histogram2d"
           }
          ],
          "histogram2dcontour": [
           {
            "colorbar": {
             "outlinewidth": 1,
             "tickcolor": "rgb(36,36,36)",
             "ticks": "outside"
            },
            "colorscale": [
             [
              0.0,
              "#440154"
             ],
             [
              0.1111111111111111,
              "#482878"
             ],
             [
              0.2222222222222222,
              "#3e4989"
             ],
             [
              0.3333333333333333,
              "#31688e"
             ],
             [
              0.4444444444444444,
              "#26828e"
             ],
             [
              0.5555555555555556,
              "#1f9e89"
             ],
             [
              0.6666666666666666,
              "#35b779"
             ],
             [
              0.7777777777777778,
              "#6ece58"
             ],
             [
              0.8888888888888888,
              "#b5de2b"
             ],
             [
              1.0,
              "#fde725"
             ]
            ],
            "type": "histogram2dcontour"
           }
          ],
          "mesh3d": [
           {
            "colorbar": {
             "outlinewidth": 1,
             "tickcolor": "rgb(36,36,36)",
             "ticks": "outside"
            },
            "type": "mesh3d"
           }
          ],
          "parcoords": [
           {
            "line": {
             "colorbar": {
              "outlinewidth": 1,
              "tickcolor": "rgb(36,36,36)",
              "ticks": "outside"
             }
            },
            "type": "parcoords"
           }
          ],
          "pie": [
           {
            "automargin": true,
            "type": "pie"
           }
          ],
          "scatter": [
           {
            "fillpattern": {
             "fillmode": "overlay",
             "size": 10,
             "solidity": 0.2
            },
            "type": "scatter"
           }
          ],
          "scatter3d": [
           {
            "line": {
             "colorbar": {
              "outlinewidth": 1,
              "tickcolor": "rgb(36,36,36)",
              "ticks": "outside"
             }
            },
            "marker": {
             "colorbar": {
              "outlinewidth": 1,
              "tickcolor": "rgb(36,36,36)",
              "ticks": "outside"
             }
            },
            "type": "scatter3d"
           }
          ],
          "scattercarpet": [
           {
            "marker": {
             "colorbar": {
              "outlinewidth": 1,
              "tickcolor": "rgb(36,36,36)",
              "ticks": "outside"
             }
            },
            "type": "scattercarpet"
           }
          ],
          "scattergeo": [
           {
            "marker": {
             "colorbar": {
              "outlinewidth": 1,
              "tickcolor": "rgb(36,36,36)",
              "ticks": "outside"
             }
            },
            "type": "scattergeo"
           }
          ],
          "scattergl": [
           {
            "marker": {
             "colorbar": {
              "outlinewidth": 1,
              "tickcolor": "rgb(36,36,36)",
              "ticks": "outside"
             }
            },
            "type": "scattergl"
           }
          ],
          "scattermapbox": [
           {
            "marker": {
             "colorbar": {
              "outlinewidth": 1,
              "tickcolor": "rgb(36,36,36)",
              "ticks": "outside"
             }
            },
            "type": "scattermapbox"
           }
          ],
          "scatterpolar": [
           {
            "marker": {
             "colorbar": {
              "outlinewidth": 1,
              "tickcolor": "rgb(36,36,36)",
              "ticks": "outside"
             }
            },
            "type": "scatterpolar"
           }
          ],
          "scatterpolargl": [
           {
            "marker": {
             "colorbar": {
              "outlinewidth": 1,
              "tickcolor": "rgb(36,36,36)",
              "ticks": "outside"
             }
            },
            "type": "scatterpolargl"
           }
          ],
          "scatterternary": [
           {
            "marker": {
             "colorbar": {
              "outlinewidth": 1,
              "tickcolor": "rgb(36,36,36)",
              "ticks": "outside"
             }
            },
            "type": "scatterternary"
           }
          ],
          "surface": [
           {
            "colorbar": {
             "outlinewidth": 1,
             "tickcolor": "rgb(36,36,36)",
             "ticks": "outside"
            },
            "colorscale": [
             [
              0.0,
              "#440154"
             ],
             [
              0.1111111111111111,
              "#482878"
             ],
             [
              0.2222222222222222,
              "#3e4989"
             ],
             [
              0.3333333333333333,
              "#31688e"
             ],
             [
              0.4444444444444444,
              "#26828e"
             ],
             [
              0.5555555555555556,
              "#1f9e89"
             ],
             [
              0.6666666666666666,
              "#35b779"
             ],
             [
              0.7777777777777778,
              "#6ece58"
             ],
             [
              0.8888888888888888,
              "#b5de2b"
             ],
             [
              1.0,
              "#fde725"
             ]
            ],
            "type": "surface"
           }
          ],
          "table": [
           {
            "cells": {
             "fill": {
              "color": "rgb(237,237,237)"
             },
             "line": {
              "color": "white"
             }
            },
            "header": {
             "fill": {
              "color": "rgb(217,217,217)"
             },
             "line": {
              "color": "white"
             }
            },
            "type": "table"
           }
          ]
         },
         "layout": {
          "annotationdefaults": {
           "arrowhead": 0,
           "arrowwidth": 1
          },
          "autotypenumbers": "strict",
          "coloraxis": {
           "colorbar": {
            "outlinewidth": 1,
            "tickcolor": "rgb(36,36,36)",
            "ticks": "outside"
           }
          },
          "colorscale": {
           "diverging": [
            [
             0.0,
             "rgb(103,0,31)"
            ],
            [
             0.1,
             "rgb(178,24,43)"
            ],
            [
             0.2,
             "rgb(214,96,77)"
            ],
            [
             0.3,
             "rgb(244,165,130)"
            ],
            [
             0.4,
             "rgb(253,219,199)"
            ],
            [
             0.5,
             "rgb(247,247,247)"
            ],
            [
             0.6,
             "rgb(209,229,240)"
            ],
            [
             0.7,
             "rgb(146,197,222)"
            ],
            [
             0.8,
             "rgb(67,147,195)"
            ],
            [
             0.9,
             "rgb(33,102,172)"
            ],
            [
             1.0,
             "rgb(5,48,97)"
            ]
           ],
           "sequential": [
            [
             0.0,
             "#440154"
            ],
            [
             0.1111111111111111,
             "#482878"
            ],
            [
             0.2222222222222222,
             "#3e4989"
            ],
            [
             0.3333333333333333,
             "#31688e"
            ],
            [
             0.4444444444444444,
             "#26828e"
            ],
            [
             0.5555555555555556,
             "#1f9e89"
            ],
            [
             0.6666666666666666,
             "#35b779"
            ],
            [
             0.7777777777777778,
             "#6ece58"
            ],
            [
             0.8888888888888888,
             "#b5de2b"
            ],
            [
             1.0,
             "#fde725"
            ]
           ],
           "sequentialminus": [
            [
             0.0,
             "#440154"
            ],
            [
             0.1111111111111111,
             "#482878"
            ],
            [
             0.2222222222222222,
             "#3e4989"
            ],
            [
             0.3333333333333333,
             "#31688e"
            ],
            [
             0.4444444444444444,
             "#26828e"
            ],
            [
             0.5555555555555556,
             "#1f9e89"
            ],
            [
             0.6666666666666666,
             "#35b779"
            ],
            [
             0.7777777777777778,
             "#6ece58"
            ],
            [
             0.8888888888888888,
             "#b5de2b"
            ],
            [
             1.0,
             "#fde725"
            ]
           ]
          },
          "colorway": [
           "#91268F",
           "#00A7A0",
           "#8CC63E",
           "#F05A28",
           "#4C4C4C",
           "#630460",
           "#9f3913",
           "#588527",
           "#00716c",
           "#3e4040"
          ],
          "font": {
           "color": "rgb(36,36,36)",
           "size": 11
          },
          "geo": {
           "bgcolor": "white",
           "lakecolor": "white",
           "landcolor": "white",
           "showlakes": true,
           "showland": true,
           "subunitcolor": "white"
          },
          "hoverlabel": {
           "align": "left"
          },
          "hovermode": "closest",
          "mapbox": {
           "style": "light"
          },
          "paper_bgcolor": "white",
          "plot_bgcolor": "white",
          "polar": {
           "angularaxis": {
            "gridcolor": "rgb(232,232,232)",
            "linecolor": "rgb(36,36,36)",
            "showgrid": false,
            "showline": true,
            "ticks": "outside"
           },
           "bgcolor": "white",
           "radialaxis": {
            "gridcolor": "rgb(232,232,232)",
            "linecolor": "rgb(36,36,36)",
            "showgrid": false,
            "showline": true,
            "ticks": "outside"
           }
          },
          "scene": {
           "xaxis": {
            "backgroundcolor": "white",
            "gridcolor": "rgb(232,232,232)",
            "gridwidth": 2,
            "linecolor": "rgb(36,36,36)",
            "showbackground": true,
            "showgrid": false,
            "showline": true,
            "ticks": "outside",
            "zeroline": false,
            "zerolinecolor": "rgb(36,36,36)"
           },
           "yaxis": {
            "backgroundcolor": "white",
            "gridcolor": "rgb(232,232,232)",
            "gridwidth": 2,
            "linecolor": "rgb(36,36,36)",
            "showbackground": true,
            "showgrid": false,
            "showline": true,
            "ticks": "outside",
            "zeroline": false,
            "zerolinecolor": "rgb(36,36,36)"
           },
           "zaxis": {
            "backgroundcolor": "white",
            "gridcolor": "rgb(232,232,232)",
            "gridwidth": 2,
            "linecolor": "rgb(36,36,36)",
            "showbackground": true,
            "showgrid": false,
            "showline": true,
            "ticks": "outside",
            "zeroline": false,
            "zerolinecolor": "rgb(36,36,36)"
           }
          },
          "shapedefaults": {
           "fillcolor": "black",
           "line": {
            "width": 0
           },
           "opacity": 0.3
          },
          "ternary": {
           "aaxis": {
            "gridcolor": "rgb(232,232,232)",
            "linecolor": "rgb(36,36,36)",
            "showgrid": false,
            "showline": true,
            "ticks": "outside"
           },
           "baxis": {
            "gridcolor": "rgb(232,232,232)",
            "linecolor": "rgb(36,36,36)",
            "showgrid": false,
            "showline": true,
            "ticks": "outside"
           },
           "bgcolor": "white",
           "caxis": {
            "gridcolor": "rgb(232,232,232)",
            "linecolor": "rgb(36,36,36)",
            "showgrid": false,
            "showline": true,
            "ticks": "outside"
           }
          },
          "title": {
           "x": 0.05
          },
          "xaxis": {
           "automargin": true,
           "gridcolor": "rgb(232,232,232)",
           "linecolor": "rgb(36,36,36)",
           "showgrid": false,
           "showline": true,
           "ticks": "outside",
           "title": {
            "standoff": 15
           },
           "zeroline": false,
           "zerolinecolor": "rgb(36,36,36)"
          },
          "yaxis": {
           "automargin": true,
           "gridcolor": "rgb(232,232,232)",
           "linecolor": "rgb(36,36,36)",
           "showgrid": false,
           "showline": true,
           "ticks": "outside",
           "title": {
            "standoff": 15
           },
           "zeroline": false,
           "zerolinecolor": "rgb(36,36,36)"
          }
         }
        },
        "title": {
         "text": "Tour mode choice by household_density_bin: disaggregated transit modes"
        },
        "width": 700,
        "xaxis": {
         "anchor": "y",
         "domain": [
          0.0,
          0.31999999999999995
         ],
         "tickformat": ".1%",
         "title": {
          "text": "percentage"
         }
        },
        "xaxis2": {
         "anchor": "y2",
         "domain": [
          0.33999999999999997,
          0.6599999999999999
         ],
         "matches": "x",
         "tickformat": ".1%",
         "title": {
          "text": "percentage"
         }
        },
        "xaxis3": {
         "anchor": "y3",
         "domain": [
          0.6799999999999999,
          0.9999999999999999
         ],
         "matches": "x",
         "title": {
          "text": "percentage"
         }
        },
        "xaxis4": {
         "anchor": "y4",
         "domain": [
          0.0,
          0.31999999999999995
         ],
         "matches": "x",
         "showticklabels": false
        },
        "xaxis5": {
         "anchor": "y5",
         "domain": [
          0.33999999999999997,
          0.6599999999999999
         ],
         "matches": "x",
         "showticklabels": false
        },
        "xaxis6": {
         "anchor": "y6",
         "domain": [
          0.6799999999999999,
          0.9999999999999999
         ],
         "matches": "x",
         "showticklabels": false
        },
        "yaxis": {
         "anchor": "x",
         "domain": [
          0.0,
          0.46499999999999997
         ],
         "title": {
          "text": "tour_mode"
         }
        },
        "yaxis2": {
         "anchor": "x2",
         "domain": [
          0.0,
          0.46499999999999997
         ],
         "matches": "y",
         "showticklabels": false
        },
        "yaxis3": {
         "anchor": "x3",
         "domain": [
          0.0,
          0.46499999999999997
         ],
         "matches": "y",
         "showticklabels": false
        },
        "yaxis4": {
         "anchor": "x4",
         "domain": [
          0.5349999999999999,
          0.9999999999999999
         ],
         "matches": "y",
         "title": {
          "text": "tour_mode"
         }
        },
        "yaxis5": {
         "anchor": "x5",
         "domain": [
          0.5349999999999999,
          0.9999999999999999
         ],
         "matches": "y",
         "showticklabels": false
        },
        "yaxis6": {
         "anchor": "x6",
         "domain": [
          0.5349999999999999,
          0.9999999999999999
         ],
         "matches": "y",
         "showticklabels": false
        }
       }
      },
      "text/html": [
       "<div>                            <div id=\"6b83bcf4-ce78-4a82-84a4-3240f1ddd8a9\" class=\"plotly-graph-div\" style=\"height:500px; width:700px;\"></div>            <script type=\"text/javascript\">                require([\"plotly\"], function(Plotly) {                    window.PLOTLYENV=window.PLOTLYENV || {};                                    if (document.getElementById(\"6b83bcf4-ce78-4a82-84a4-3240f1ddd8a9\")) {                    Plotly.newPlot(                        \"6b83bcf4-ce78-4a82-84a4-3240f1ddd8a9\",                        [{\"alignmentgroup\":\"True\",\"hovertemplate\":\"source=model results<br>household_density_bin=very low<br>percentage=%{x}<br>tour_mode=%{y}<extra></extra>\",\"legendgroup\":\"model results\",\"marker\":{\"color\":\"#91268F\",\"pattern\":{\"shape\":\"\"}},\"name\":\"model results\",\"offsetgroup\":\"model results\",\"orientation\":\"h\",\"showlegend\":true,\"textposition\":\"auto\",\"x\":[0.012742346527307333,0.0005000161295525662,0.004817359699775261,0.0026828822435132314,0.00030646149875802447],\"xaxis\":\"x4\",\"y\":[\"DRIVE_TRN\",\"WALK_COM\",\"WALK_FRY\",\"WALK_LOC\",\"WALK_LR\"],\"yaxis\":\"y4\",\"type\":\"bar\"},{\"alignmentgroup\":\"True\",\"hovertemplate\":\"source=model results<br>household_density_bin=low<br>percentage=%{x}<br>tour_mode=%{y}<extra></extra>\",\"legendgroup\":\"model results\",\"marker\":{\"color\":\"#91268F\",\"pattern\":{\"shape\":\"\"}},\"name\":\"model results\",\"offsetgroup\":\"model results\",\"orientation\":\"h\",\"showlegend\":false,\"textposition\":\"auto\",\"x\":[0.011067224958825325,0.0014020118115726276,0.012465467921442113,0.008771995944718523,0.0012342980330377299],\"xaxis\":\"x5\",\"y\":[\"DRIVE_TRN\",\"WALK_COM\",\"WALK_FRY\",\"WALK_LOC\",\"WALK_LR\"],\"yaxis\":\"y5\",\"type\":\"bar\"},{\"alignmentgroup\":\"True\",\"hovertemplate\":\"source=model results<br>household_density_bin=medium<br>percentage=%{x}<br>tour_mode=%{y}<extra></extra>\",\"legendgroup\":\"model results\",\"marker\":{\"color\":\"#91268F\",\"pattern\":{\"shape\":\"\"}},\"name\":\"model results\",\"offsetgroup\":\"model results\",\"orientation\":\"h\",\"showlegend\":false,\"textposition\":\"auto\",\"x\":[0.007776076617570073,0.004639378357830246,0.010410237216274328,0.02951776732691277,0.004359437133155215],\"xaxis\":\"x6\",\"y\":[\"DRIVE_TRN\",\"WALK_COM\",\"WALK_FRY\",\"WALK_LOC\",\"WALK_LR\"],\"yaxis\":\"y6\",\"type\":\"bar\"},{\"alignmentgroup\":\"True\",\"hovertemplate\":\"source=model results<br>household_density_bin=medium-high<br>percentage=%{x}<br>tour_mode=%{y}<extra></extra>\",\"legendgroup\":\"model results\",\"marker\":{\"color\":\"#91268F\",\"pattern\":{\"shape\":\"\"}},\"name\":\"model results\",\"offsetgroup\":\"model results\",\"orientation\":\"h\",\"showlegend\":false,\"textposition\":\"auto\",\"x\":[0.00668311372215751,0.006997397644561796,0.012605181174815851,0.053853184309199005,0.008568817256583226],\"xaxis\":\"x\",\"y\":[\"DRIVE_TRN\",\"WALK_COM\",\"WALK_FRY\",\"WALK_LOC\",\"WALK_LR\"],\"yaxis\":\"y\",\"type\":\"bar\"},{\"alignmentgroup\":\"True\",\"hovertemplate\":\"source=model results<br>household_density_bin=high<br>percentage=%{x}<br>tour_mode=%{y}<extra></extra>\",\"legendgroup\":\"model results\",\"marker\":{\"color\":\"#91268F\",\"pattern\":{\"shape\":\"\"}},\"name\":\"model results\",\"offsetgroup\":\"model results\",\"orientation\":\"h\",\"showlegend\":false,\"textposition\":\"auto\",\"x\":[0.004071261428570377,0.00722757475449874,0.020189952942371518,0.12748767617167459,0.026374501581469024],\"xaxis\":\"x2\",\"y\":[\"DRIVE_TRN\",\"WALK_COM\",\"WALK_FRY\",\"WALK_LOC\",\"WALK_LR\"],\"yaxis\":\"y2\",\"type\":\"bar\"},{\"alignmentgroup\":\"True\",\"hovertemplate\":\"source=survey data<br>household_density_bin=very low<br>percentage=%{x}<br>tour_mode=%{y}<extra></extra>\",\"legendgroup\":\"survey data\",\"marker\":{\"color\":\"#00A7A0\",\"pattern\":{\"shape\":\"\"}},\"name\":\"survey data\",\"offsetgroup\":\"survey data\",\"orientation\":\"h\",\"showlegend\":true,\"textposition\":\"auto\",\"x\":[0.0,0.0,0.0036462874680977405,0.004606981439405227,0.0],\"xaxis\":\"x4\",\"y\":[\"DRIVE_TRN\",\"WALK_COM\",\"WALK_FRY\",\"WALK_LOC\",\"WALK_LR\"],\"yaxis\":\"y4\",\"type\":\"bar\"},{\"alignmentgroup\":\"True\",\"hovertemplate\":\"source=survey data<br>household_density_bin=low<br>percentage=%{x}<br>tour_mode=%{y}<extra></extra>\",\"legendgroup\":\"survey data\",\"marker\":{\"color\":\"#00A7A0\",\"pattern\":{\"shape\":\"\"}},\"name\":\"survey data\",\"offsetgroup\":\"survey data\",\"orientation\":\"h\",\"showlegend\":false,\"textposition\":\"auto\",\"x\":[0.0009824265987729965,0.00027948601382287016,0.00023775535852197044,0.0011104549996210971,0.00034008554253028335],\"xaxis\":\"x5\",\"y\":[\"DRIVE_TRN\",\"WALK_COM\",\"WALK_FRY\",\"WALK_LOC\",\"WALK_LR\"],\"yaxis\":\"y5\",\"type\":\"bar\"},{\"alignmentgroup\":\"True\",\"hovertemplate\":\"source=survey data<br>household_density_bin=medium<br>percentage=%{x}<br>tour_mode=%{y}<extra></extra>\",\"legendgroup\":\"survey data\",\"marker\":{\"color\":\"#00A7A0\",\"pattern\":{\"shape\":\"\"}},\"name\":\"survey data\",\"offsetgroup\":\"survey data\",\"orientation\":\"h\",\"showlegend\":false,\"textposition\":\"auto\",\"x\":[0.003546193836352183,5.379189135740405e-05,0.001446251341102893,0.02920426595604394,0.000488606641953819],\"xaxis\":\"x6\",\"y\":[\"DRIVE_TRN\",\"WALK_COM\",\"WALK_FRY\",\"WALK_LOC\",\"WALK_LR\"],\"yaxis\":\"y6\",\"type\":\"bar\"},{\"alignmentgroup\":\"True\",\"hovertemplate\":\"source=survey data<br>household_density_bin=medium-high<br>percentage=%{x}<br>tour_mode=%{y}<extra></extra>\",\"legendgroup\":\"survey data\",\"marker\":{\"color\":\"#00A7A0\",\"pattern\":{\"shape\":\"\"}},\"name\":\"survey data\",\"offsetgroup\":\"survey data\",\"orientation\":\"h\",\"showlegend\":false,\"textposition\":\"auto\",\"x\":[0.009588103765543298,0.0014206091987077295,0.004884844412558098,0.048829407449675975,0.0008888075365941374],\"xaxis\":\"x\",\"y\":[\"DRIVE_TRN\",\"WALK_COM\",\"WALK_FRY\",\"WALK_LOC\",\"WALK_LR\"],\"yaxis\":\"y\",\"type\":\"bar\"},{\"alignmentgroup\":\"True\",\"hovertemplate\":\"source=survey data<br>household_density_bin=high<br>percentage=%{x}<br>tour_mode=%{y}<extra></extra>\",\"legendgroup\":\"survey data\",\"marker\":{\"color\":\"#00A7A0\",\"pattern\":{\"shape\":\"\"}},\"name\":\"survey data\",\"offsetgroup\":\"survey data\",\"orientation\":\"h\",\"showlegend\":false,\"textposition\":\"auto\",\"x\":[0.004057838481943566,0.00011274972725871529,0.00048505149767528587,0.10058560808652617,0.012397032066879797],\"xaxis\":\"x2\",\"y\":[\"DRIVE_TRN\",\"WALK_COM\",\"WALK_FRY\",\"WALK_LOC\",\"WALK_LR\"],\"yaxis\":\"y2\",\"type\":\"bar\"},{\"alignmentgroup\":\"True\",\"hovertemplate\":\"source=unweighted survey<br>household_density_bin=very low<br>percentage=%{x}<br>tour_mode=%{y}<extra></extra>\",\"legendgroup\":\"unweighted survey\",\"marker\":{\"color\":\"#8CC63E\",\"pattern\":{\"shape\":\"\"}},\"name\":\"unweighted survey\",\"offsetgroup\":\"unweighted survey\",\"orientation\":\"h\",\"showlegend\":true,\"textposition\":\"auto\",\"x\":[0.0,0.0,0.017543859649122806,0.017543859649122806,0.0],\"xaxis\":\"x4\",\"y\":[\"DRIVE_TRN\",\"WALK_COM\",\"WALK_FRY\",\"WALK_LOC\",\"WALK_LR\"],\"yaxis\":\"y4\",\"type\":\"bar\"},{\"alignmentgroup\":\"True\",\"hovertemplate\":\"source=unweighted survey<br>household_density_bin=low<br>percentage=%{x}<br>tour_mode=%{y}<extra></extra>\",\"legendgroup\":\"unweighted survey\",\"marker\":{\"color\":\"#8CC63E\",\"pattern\":{\"shape\":\"\"}},\"name\":\"unweighted survey\",\"offsetgroup\":\"unweighted survey\",\"orientation\":\"h\",\"showlegend\":false,\"textposition\":\"auto\",\"x\":[0.0106951871657754,0.00267379679144385,0.00267379679144385,0.0053475935828877,0.00267379679144385],\"xaxis\":\"x5\",\"y\":[\"DRIVE_TRN\",\"WALK_COM\",\"WALK_FRY\",\"WALK_LOC\",\"WALK_LR\"],\"yaxis\":\"y5\",\"type\":\"bar\"},{\"alignmentgroup\":\"True\",\"hovertemplate\":\"source=unweighted survey<br>household_density_bin=medium<br>percentage=%{x}<br>tour_mode=%{y}<extra></extra>\",\"legendgroup\":\"unweighted survey\",\"marker\":{\"color\":\"#8CC63E\",\"pattern\":{\"shape\":\"\"}},\"name\":\"unweighted survey\",\"offsetgroup\":\"unweighted survey\",\"orientation\":\"h\",\"showlegend\":false,\"textposition\":\"auto\",\"x\":[0.013502779984114376,0.0007942811755361397,0.005559968228752979,0.030976965845909452,0.0023828435266084196],\"xaxis\":\"x6\",\"y\":[\"DRIVE_TRN\",\"WALK_COM\",\"WALK_FRY\",\"WALK_LOC\",\"WALK_LR\"],\"yaxis\":\"y6\",\"type\":\"bar\"},{\"alignmentgroup\":\"True\",\"hovertemplate\":\"source=unweighted survey<br>household_density_bin=medium-high<br>percentage=%{x}<br>tour_mode=%{y}<extra></extra>\",\"legendgroup\":\"unweighted survey\",\"marker\":{\"color\":\"#8CC63E\",\"pattern\":{\"shape\":\"\"}},\"name\":\"unweighted survey\",\"offsetgroup\":\"unweighted survey\",\"orientation\":\"h\",\"showlegend\":false,\"textposition\":\"auto\",\"x\":[0.012667660208643815,0.0037257824143070045,0.0029806259314456036,0.06557377049180328,0.007451564828614009],\"xaxis\":\"x\",\"y\":[\"DRIVE_TRN\",\"WALK_COM\",\"WALK_FRY\",\"WALK_LOC\",\"WALK_LR\"],\"yaxis\":\"y\",\"type\":\"bar\"},{\"alignmentgroup\":\"True\",\"hovertemplate\":\"source=unweighted survey<br>household_density_bin=high<br>percentage=%{x}<br>tour_mode=%{y}<extra></extra>\",\"legendgroup\":\"unweighted survey\",\"marker\":{\"color\":\"#8CC63E\",\"pattern\":{\"shape\":\"\"}},\"name\":\"unweighted survey\",\"offsetgroup\":\"unweighted survey\",\"orientation\":\"h\",\"showlegend\":false,\"textposition\":\"auto\",\"x\":[0.00461361014994233,0.00043252595155709344,0.0012975778546712802,0.16782006920415224,0.03863898500576701],\"xaxis\":\"x2\",\"y\":[\"DRIVE_TRN\",\"WALK_COM\",\"WALK_FRY\",\"WALK_LOC\",\"WALK_LR\"],\"yaxis\":\"y2\",\"type\":\"bar\"}],                        {\"template\":{\"data\":{\"barpolar\":[{\"marker\":{\"line\":{\"color\":\"white\",\"width\":0.5},\"pattern\":{\"fillmode\":\"overlay\",\"size\":10,\"solidity\":0.2}},\"type\":\"barpolar\"}],\"bar\":[{\"error_x\":{\"color\":\"rgb(36,36,36)\"},\"error_y\":{\"color\":\"rgb(36,36,36)\"},\"marker\":{\"line\":{\"color\":\"white\",\"width\":0.5},\"pattern\":{\"fillmode\":\"overlay\",\"size\":10,\"solidity\":0.2}},\"type\":\"bar\"}],\"carpet\":[{\"aaxis\":{\"endlinecolor\":\"rgb(36,36,36)\",\"gridcolor\":\"white\",\"linecolor\":\"white\",\"minorgridcolor\":\"white\",\"startlinecolor\":\"rgb(36,36,36)\"},\"baxis\":{\"endlinecolor\":\"rgb(36,36,36)\",\"gridcolor\":\"white\",\"linecolor\":\"white\",\"minorgridcolor\":\"white\",\"startlinecolor\":\"rgb(36,36,36)\"},\"type\":\"carpet\"}],\"choropleth\":[{\"colorbar\":{\"outlinewidth\":1,\"tickcolor\":\"rgb(36,36,36)\",\"ticks\":\"outside\"},\"type\":\"choropleth\"}],\"contourcarpet\":[{\"colorbar\":{\"outlinewidth\":1,\"tickcolor\":\"rgb(36,36,36)\",\"ticks\":\"outside\"},\"type\":\"contourcarpet\"}],\"contour\":[{\"colorbar\":{\"outlinewidth\":1,\"tickcolor\":\"rgb(36,36,36)\",\"ticks\":\"outside\"},\"colorscale\":[[0.0,\"#440154\"],[0.1111111111111111,\"#482878\"],[0.2222222222222222,\"#3e4989\"],[0.3333333333333333,\"#31688e\"],[0.4444444444444444,\"#26828e\"],[0.5555555555555556,\"#1f9e89\"],[0.6666666666666666,\"#35b779\"],[0.7777777777777778,\"#6ece58\"],[0.8888888888888888,\"#b5de2b\"],[1.0,\"#fde725\"]],\"type\":\"contour\"}],\"heatmapgl\":[{\"colorbar\":{\"outlinewidth\":1,\"tickcolor\":\"rgb(36,36,36)\",\"ticks\":\"outside\"},\"colorscale\":[[0.0,\"#440154\"],[0.1111111111111111,\"#482878\"],[0.2222222222222222,\"#3e4989\"],[0.3333333333333333,\"#31688e\"],[0.4444444444444444,\"#26828e\"],[0.5555555555555556,\"#1f9e89\"],[0.6666666666666666,\"#35b779\"],[0.7777777777777778,\"#6ece58\"],[0.8888888888888888,\"#b5de2b\"],[1.0,\"#fde725\"]],\"type\":\"heatmapgl\"}],\"heatmap\":[{\"colorbar\":{\"outlinewidth\":1,\"tickcolor\":\"rgb(36,36,36)\",\"ticks\":\"outside\"},\"colorscale\":[[0.0,\"#440154\"],[0.1111111111111111,\"#482878\"],[0.2222222222222222,\"#3e4989\"],[0.3333333333333333,\"#31688e\"],[0.4444444444444444,\"#26828e\"],[0.5555555555555556,\"#1f9e89\"],[0.6666666666666666,\"#35b779\"],[0.7777777777777778,\"#6ece58\"],[0.8888888888888888,\"#b5de2b\"],[1.0,\"#fde725\"]],\"type\":\"heatmap\"}],\"histogram2dcontour\":[{\"colorbar\":{\"outlinewidth\":1,\"tickcolor\":\"rgb(36,36,36)\",\"ticks\":\"outside\"},\"colorscale\":[[0.0,\"#440154\"],[0.1111111111111111,\"#482878\"],[0.2222222222222222,\"#3e4989\"],[0.3333333333333333,\"#31688e\"],[0.4444444444444444,\"#26828e\"],[0.5555555555555556,\"#1f9e89\"],[0.6666666666666666,\"#35b779\"],[0.7777777777777778,\"#6ece58\"],[0.8888888888888888,\"#b5de2b\"],[1.0,\"#fde725\"]],\"type\":\"histogram2dcontour\"}],\"histogram2d\":[{\"colorbar\":{\"outlinewidth\":1,\"tickcolor\":\"rgb(36,36,36)\",\"ticks\":\"outside\"},\"colorscale\":[[0.0,\"#440154\"],[0.1111111111111111,\"#482878\"],[0.2222222222222222,\"#3e4989\"],[0.3333333333333333,\"#31688e\"],[0.4444444444444444,\"#26828e\"],[0.5555555555555556,\"#1f9e89\"],[0.6666666666666666,\"#35b779\"],[0.7777777777777778,\"#6ece58\"],[0.8888888888888888,\"#b5de2b\"],[1.0,\"#fde725\"]],\"type\":\"histogram2d\"}],\"histogram\":[{\"marker\":{\"line\":{\"color\":\"white\",\"width\":0.6}},\"type\":\"histogram\"}],\"mesh3d\":[{\"colorbar\":{\"outlinewidth\":1,\"tickcolor\":\"rgb(36,36,36)\",\"ticks\":\"outside\"},\"type\":\"mesh3d\"}],\"parcoords\":[{\"line\":{\"colorbar\":{\"outlinewidth\":1,\"tickcolor\":\"rgb(36,36,36)\",\"ticks\":\"outside\"}},\"type\":\"parcoords\"}],\"pie\":[{\"automargin\":true,\"type\":\"pie\"}],\"scatter3d\":[{\"line\":{\"colorbar\":{\"outlinewidth\":1,\"tickcolor\":\"rgb(36,36,36)\",\"ticks\":\"outside\"}},\"marker\":{\"colorbar\":{\"outlinewidth\":1,\"tickcolor\":\"rgb(36,36,36)\",\"ticks\":\"outside\"}},\"type\":\"scatter3d\"}],\"scattercarpet\":[{\"marker\":{\"colorbar\":{\"outlinewidth\":1,\"tickcolor\":\"rgb(36,36,36)\",\"ticks\":\"outside\"}},\"type\":\"scattercarpet\"}],\"scattergeo\":[{\"marker\":{\"colorbar\":{\"outlinewidth\":1,\"tickcolor\":\"rgb(36,36,36)\",\"ticks\":\"outside\"}},\"type\":\"scattergeo\"}],\"scattergl\":[{\"marker\":{\"colorbar\":{\"outlinewidth\":1,\"tickcolor\":\"rgb(36,36,36)\",\"ticks\":\"outside\"}},\"type\":\"scattergl\"}],\"scattermapbox\":[{\"marker\":{\"colorbar\":{\"outlinewidth\":1,\"tickcolor\":\"rgb(36,36,36)\",\"ticks\":\"outside\"}},\"type\":\"scattermapbox\"}],\"scatterpolargl\":[{\"marker\":{\"colorbar\":{\"outlinewidth\":1,\"tickcolor\":\"rgb(36,36,36)\",\"ticks\":\"outside\"}},\"type\":\"scatterpolargl\"}],\"scatterpolar\":[{\"marker\":{\"colorbar\":{\"outlinewidth\":1,\"tickcolor\":\"rgb(36,36,36)\",\"ticks\":\"outside\"}},\"type\":\"scatterpolar\"}],\"scatter\":[{\"fillpattern\":{\"fillmode\":\"overlay\",\"size\":10,\"solidity\":0.2},\"type\":\"scatter\"}],\"scatterternary\":[{\"marker\":{\"colorbar\":{\"outlinewidth\":1,\"tickcolor\":\"rgb(36,36,36)\",\"ticks\":\"outside\"}},\"type\":\"scatterternary\"}],\"surface\":[{\"colorbar\":{\"outlinewidth\":1,\"tickcolor\":\"rgb(36,36,36)\",\"ticks\":\"outside\"},\"colorscale\":[[0.0,\"#440154\"],[0.1111111111111111,\"#482878\"],[0.2222222222222222,\"#3e4989\"],[0.3333333333333333,\"#31688e\"],[0.4444444444444444,\"#26828e\"],[0.5555555555555556,\"#1f9e89\"],[0.6666666666666666,\"#35b779\"],[0.7777777777777778,\"#6ece58\"],[0.8888888888888888,\"#b5de2b\"],[1.0,\"#fde725\"]],\"type\":\"surface\"}],\"table\":[{\"cells\":{\"fill\":{\"color\":\"rgb(237,237,237)\"},\"line\":{\"color\":\"white\"}},\"header\":{\"fill\":{\"color\":\"rgb(217,217,217)\"},\"line\":{\"color\":\"white\"}},\"type\":\"table\"}]},\"layout\":{\"annotationdefaults\":{\"arrowhead\":0,\"arrowwidth\":1},\"autotypenumbers\":\"strict\",\"coloraxis\":{\"colorbar\":{\"outlinewidth\":1,\"tickcolor\":\"rgb(36,36,36)\",\"ticks\":\"outside\"}},\"colorscale\":{\"diverging\":[[0.0,\"rgb(103,0,31)\"],[0.1,\"rgb(178,24,43)\"],[0.2,\"rgb(214,96,77)\"],[0.3,\"rgb(244,165,130)\"],[0.4,\"rgb(253,219,199)\"],[0.5,\"rgb(247,247,247)\"],[0.6,\"rgb(209,229,240)\"],[0.7,\"rgb(146,197,222)\"],[0.8,\"rgb(67,147,195)\"],[0.9,\"rgb(33,102,172)\"],[1.0,\"rgb(5,48,97)\"]],\"sequential\":[[0.0,\"#440154\"],[0.1111111111111111,\"#482878\"],[0.2222222222222222,\"#3e4989\"],[0.3333333333333333,\"#31688e\"],[0.4444444444444444,\"#26828e\"],[0.5555555555555556,\"#1f9e89\"],[0.6666666666666666,\"#35b779\"],[0.7777777777777778,\"#6ece58\"],[0.8888888888888888,\"#b5de2b\"],[1.0,\"#fde725\"]],\"sequentialminus\":[[0.0,\"#440154\"],[0.1111111111111111,\"#482878\"],[0.2222222222222222,\"#3e4989\"],[0.3333333333333333,\"#31688e\"],[0.4444444444444444,\"#26828e\"],[0.5555555555555556,\"#1f9e89\"],[0.6666666666666666,\"#35b779\"],[0.7777777777777778,\"#6ece58\"],[0.8888888888888888,\"#b5de2b\"],[1.0,\"#fde725\"]]},\"colorway\":[\"#91268F\",\"#00A7A0\",\"#8CC63E\",\"#F05A28\",\"#4C4C4C\",\"#630460\",\"#9f3913\",\"#588527\",\"#00716c\",\"#3e4040\"],\"font\":{\"color\":\"rgb(36,36,36)\",\"size\":11},\"geo\":{\"bgcolor\":\"white\",\"lakecolor\":\"white\",\"landcolor\":\"white\",\"showlakes\":true,\"showland\":true,\"subunitcolor\":\"white\"},\"hoverlabel\":{\"align\":\"left\"},\"hovermode\":\"closest\",\"mapbox\":{\"style\":\"light\"},\"paper_bgcolor\":\"white\",\"plot_bgcolor\":\"white\",\"polar\":{\"angularaxis\":{\"gridcolor\":\"rgb(232,232,232)\",\"linecolor\":\"rgb(36,36,36)\",\"showgrid\":false,\"showline\":true,\"ticks\":\"outside\"},\"bgcolor\":\"white\",\"radialaxis\":{\"gridcolor\":\"rgb(232,232,232)\",\"linecolor\":\"rgb(36,36,36)\",\"showgrid\":false,\"showline\":true,\"ticks\":\"outside\"}},\"scene\":{\"xaxis\":{\"backgroundcolor\":\"white\",\"gridcolor\":\"rgb(232,232,232)\",\"gridwidth\":2,\"linecolor\":\"rgb(36,36,36)\",\"showbackground\":true,\"showgrid\":false,\"showline\":true,\"ticks\":\"outside\",\"zeroline\":false,\"zerolinecolor\":\"rgb(36,36,36)\"},\"yaxis\":{\"backgroundcolor\":\"white\",\"gridcolor\":\"rgb(232,232,232)\",\"gridwidth\":2,\"linecolor\":\"rgb(36,36,36)\",\"showbackground\":true,\"showgrid\":false,\"showline\":true,\"ticks\":\"outside\",\"zeroline\":false,\"zerolinecolor\":\"rgb(36,36,36)\"},\"zaxis\":{\"backgroundcolor\":\"white\",\"gridcolor\":\"rgb(232,232,232)\",\"gridwidth\":2,\"linecolor\":\"rgb(36,36,36)\",\"showbackground\":true,\"showgrid\":false,\"showline\":true,\"ticks\":\"outside\",\"zeroline\":false,\"zerolinecolor\":\"rgb(36,36,36)\"}},\"shapedefaults\":{\"fillcolor\":\"black\",\"line\":{\"width\":0},\"opacity\":0.3},\"ternary\":{\"aaxis\":{\"gridcolor\":\"rgb(232,232,232)\",\"linecolor\":\"rgb(36,36,36)\",\"showgrid\":false,\"showline\":true,\"ticks\":\"outside\"},\"baxis\":{\"gridcolor\":\"rgb(232,232,232)\",\"linecolor\":\"rgb(36,36,36)\",\"showgrid\":false,\"showline\":true,\"ticks\":\"outside\"},\"bgcolor\":\"white\",\"caxis\":{\"gridcolor\":\"rgb(232,232,232)\",\"linecolor\":\"rgb(36,36,36)\",\"showgrid\":false,\"showline\":true,\"ticks\":\"outside\"}},\"title\":{\"x\":0.05},\"xaxis\":{\"automargin\":true,\"gridcolor\":\"rgb(232,232,232)\",\"linecolor\":\"rgb(36,36,36)\",\"showgrid\":false,\"showline\":true,\"ticks\":\"outside\",\"title\":{\"standoff\":15},\"zeroline\":false,\"zerolinecolor\":\"rgb(36,36,36)\"},\"yaxis\":{\"automargin\":true,\"gridcolor\":\"rgb(232,232,232)\",\"linecolor\":\"rgb(36,36,36)\",\"showgrid\":false,\"showline\":true,\"ticks\":\"outside\",\"title\":{\"standoff\":15},\"zeroline\":false,\"zerolinecolor\":\"rgb(36,36,36)\"}}},\"xaxis\":{\"anchor\":\"y\",\"domain\":[0.0,0.31999999999999995],\"title\":{\"text\":\"percentage\"},\"tickformat\":\".1%\"},\"yaxis\":{\"anchor\":\"x\",\"domain\":[0.0,0.46499999999999997],\"title\":{\"text\":\"tour_mode\"}},\"xaxis2\":{\"anchor\":\"y2\",\"domain\":[0.33999999999999997,0.6599999999999999],\"matches\":\"x\",\"title\":{\"text\":\"percentage\"},\"tickformat\":\".1%\"},\"yaxis2\":{\"anchor\":\"x2\",\"domain\":[0.0,0.46499999999999997],\"matches\":\"y\",\"showticklabels\":false},\"xaxis3\":{\"anchor\":\"y3\",\"domain\":[0.6799999999999999,0.9999999999999999],\"matches\":\"x\",\"title\":{\"text\":\"percentage\"}},\"yaxis3\":{\"anchor\":\"x3\",\"domain\":[0.0,0.46499999999999997],\"matches\":\"y\",\"showticklabels\":false},\"xaxis4\":{\"anchor\":\"y4\",\"domain\":[0.0,0.31999999999999995],\"matches\":\"x\",\"showticklabels\":false},\"yaxis4\":{\"anchor\":\"x4\",\"domain\":[0.5349999999999999,0.9999999999999999],\"matches\":\"y\",\"title\":{\"text\":\"tour_mode\"}},\"xaxis5\":{\"anchor\":\"y5\",\"domain\":[0.33999999999999997,0.6599999999999999],\"matches\":\"x\",\"showticklabels\":false},\"yaxis5\":{\"anchor\":\"x5\",\"domain\":[0.5349999999999999,0.9999999999999999],\"matches\":\"y\",\"showticklabels\":false},\"xaxis6\":{\"anchor\":\"y6\",\"domain\":[0.6799999999999999,0.9999999999999999],\"matches\":\"x\",\"showticklabels\":false},\"yaxis6\":{\"anchor\":\"x6\",\"domain\":[0.5349999999999999,0.9999999999999999],\"matches\":\"y\",\"showticklabels\":false},\"annotations\":[{\"font\":{},\"showarrow\":false,\"text\":\"medium-high\",\"x\":0.15999999999999998,\"xanchor\":\"center\",\"xref\":\"paper\",\"y\":0.46499999999999997,\"yanchor\":\"bottom\",\"yref\":\"paper\"},{\"font\":{},\"showarrow\":false,\"text\":\"high\",\"x\":0.49999999999999994,\"xanchor\":\"center\",\"xref\":\"paper\",\"y\":0.46499999999999997,\"yanchor\":\"bottom\",\"yref\":\"paper\"},{\"font\":{},\"showarrow\":false,\"text\":\"very low\",\"x\":0.15999999999999998,\"xanchor\":\"center\",\"xref\":\"paper\",\"y\":0.9999999999999999,\"yanchor\":\"bottom\",\"yref\":\"paper\"},{\"font\":{},\"showarrow\":false,\"text\":\"low\",\"x\":0.49999999999999994,\"xanchor\":\"center\",\"xref\":\"paper\",\"y\":0.9999999999999999,\"yanchor\":\"bottom\",\"yref\":\"paper\"},{\"font\":{},\"showarrow\":false,\"text\":\"medium\",\"x\":0.8399999999999999,\"xanchor\":\"center\",\"xref\":\"paper\",\"y\":0.9999999999999999,\"yanchor\":\"bottom\",\"yref\":\"paper\"}],\"legend\":{\"title\":{\"text\":\"source\"},\"tracegroupgap\":0},\"title\":{\"text\":\"Tour mode choice by household_density_bin: disaggregated transit modes\"},\"barmode\":\"group\",\"height\":500,\"width\":700},                        {\"responsive\": true}                    ).then(function(){\n",
       "                            \n",
       "var gd = document.getElementById('6b83bcf4-ce78-4a82-84a4-3240f1ddd8a9');\n",
       "var x = new MutationObserver(function (mutations, observer) {{\n",
       "        var display = window.getComputedStyle(gd).display;\n",
       "        if (!display || display === 'none') {{\n",
       "            console.log([gd, 'removed!']);\n",
       "            Plotly.purge(gd);\n",
       "            observer.disconnect();\n",
       "        }}\n",
       "}});\n",
       "\n",
       "// Listen for the removal of the full notebook cells\n",
       "var notebookContainer = gd.closest('#notebook-container');\n",
       "if (notebookContainer) {{\n",
       "    x.observe(notebookContainer, {childList: true});\n",
       "}}\n",
       "\n",
       "// Listen for the clearing of the current output cell\n",
       "var outputEl = gd.closest('.output');\n",
       "if (outputEl) {{\n",
       "    x.observe(outputEl, {childList: true});\n",
       "}}\n",
       "\n",
       "                        })                };                });            </script>        </div>"
      ]
     },
     "metadata": {},
     "output_type": "display_data"
    }
   ],
   "source": [
    "plot_mode_choice(tour_data,'household_density_bin',3,600)\n",
    "plot_mode_choice_transit(tour_data,'household_density_bin',3,500)"
   ]
  },
  {
   "cell_type": "raw",
   "metadata": {
    "collapsed": false
   },
   "source": [
    "### auto ownership"
   ]
  },
  {
   "cell_type": "code",
   "execution_count": 9,
   "metadata": {
    "collapsed": false,
    "execution": {
     "iopub.execute_input": "2024-02-09T22:44:22.788779Z",
     "iopub.status.busy": "2024-02-09T22:44:22.788779Z",
     "iopub.status.idle": "2024-02-09T22:44:25.858534Z",
     "shell.execute_reply": "2024-02-09T22:44:25.857538Z"
    }
   },
   "outputs": [
    {
     "data": {
      "application/vnd.plotly.v1+json": {
       "config": {
        "plotlyServerURL": "https://plot.ly"
       },
       "data": [
        {
         "alignmentgroup": "True",
         "hovertemplate": "source=model results<br>auto_ownership_simple=0<br>percentage=%{x}<br>tour_mode_transit_agg=%{y}<extra></extra>",
         "legendgroup": "model results",
         "marker": {
          "color": "#91268F",
          "pattern": {
           "shape": ""
          }
         },
         "name": "model results",
         "offsetgroup": "model results",
         "orientation": "h",
         "showlegend": true,
         "textposition": "auto",
         "type": "bar",
         "x": [
          0.446169925103717,
          0.05450029095772862,
          0.027946417456305675,
          0.0060623431216724425,
          0.08261751941889517,
          0.03521891312089077,
          0.040337453063162436,
          0.30714713775762786
         ],
         "xaxis": "x4",
         "y": [
          "ALL_TRANSIT",
          "BIKE",
          "DRIVEALONEFREE",
          "SCH_BUS",
          "SHARED2FREE",
          "SHARED3FREE",
          "TNC",
          "WALK"
         ],
         "yaxis": "y4"
        },
        {
         "alignmentgroup": "True",
         "hovertemplate": "source=model results<br>auto_ownership_simple=1<br>percentage=%{x}<br>tour_mode_transit_agg=%{y}<extra></extra>",
         "legendgroup": "model results",
         "marker": {
          "color": "#91268F",
          "pattern": {
           "shape": ""
          }
         },
         "name": "model results",
         "offsetgroup": "model results",
         "orientation": "h",
         "showlegend": false,
         "textposition": "auto",
         "type": "bar",
         "x": [
          0.10133431327637138,
          0.020595431791558136,
          0.39651277736531115,
          0.020518943025014322,
          0.22738613774130334,
          0.11232874206740821,
          0.004674128755536082,
          0.11664952597749734
         ],
         "xaxis": "x5",
         "y": [
          "ALL_TRANSIT",
          "BIKE",
          "DRIVEALONEFREE",
          "SCH_BUS",
          "SHARED2FREE",
          "SHARED3FREE",
          "TNC",
          "WALK"
         ],
         "yaxis": "y5"
        },
        {
         "alignmentgroup": "True",
         "hovertemplate": "source=model results<br>auto_ownership_simple=2<br>percentage=%{x}<br>tour_mode_transit_agg=%{y}<extra></extra>",
         "legendgroup": "model results",
         "marker": {
          "color": "#91268F",
          "pattern": {
           "shape": ""
          }
         },
         "name": "model results",
         "offsetgroup": "model results",
         "orientation": "h",
         "showlegend": false,
         "textposition": "auto",
         "type": "bar",
         "x": [
          0.06666746125709504,
          0.013284669083987325,
          0.39102368850642605,
          0.03139912365504534,
          0.2738198345662728,
          0.1429313676931892,
          0.003533720210584121,
          0.07734013502740013
         ],
         "xaxis": "x6",
         "y": [
          "ALL_TRANSIT",
          "BIKE",
          "DRIVEALONEFREE",
          "SCH_BUS",
          "SHARED2FREE",
          "SHARED3FREE",
          "TNC",
          "WALK"
         ],
         "yaxis": "y6"
        },
        {
         "alignmentgroup": "True",
         "hovertemplate": "source=model results<br>auto_ownership_simple=3<br>percentage=%{x}<br>tour_mode_transit_agg=%{y}<extra></extra>",
         "legendgroup": "model results",
         "marker": {
          "color": "#91268F",
          "pattern": {
           "shape": ""
          }
         },
         "name": "model results",
         "offsetgroup": "model results",
         "orientation": "h",
         "showlegend": false,
         "textposition": "auto",
         "type": "bar",
         "x": [
          0.051244505006464096,
          0.009509765967955755,
          0.4122336192458522,
          0.03222599993222713,
          0.28236539640454655,
          0.1495921818859547,
          0.0025743422180828286,
          0.06025418933891672
         ],
         "xaxis": "x",
         "y": [
          "ALL_TRANSIT",
          "BIKE",
          "DRIVEALONEFREE",
          "SCH_BUS",
          "SHARED2FREE",
          "SHARED3FREE",
          "TNC",
          "WALK"
         ],
         "yaxis": "y"
        },
        {
         "alignmentgroup": "True",
         "hovertemplate": "source=model results<br>auto_ownership_simple=4+<br>percentage=%{x}<br>tour_mode_transit_agg=%{y}<extra></extra>",
         "legendgroup": "model results",
         "marker": {
          "color": "#91268F",
          "pattern": {
           "shape": ""
          }
         },
         "name": "model results",
         "offsetgroup": "model results",
         "orientation": "h",
         "showlegend": false,
         "textposition": "auto",
         "type": "bar",
         "x": [
          0.04619821486155138,
          0.008645813686061439,
          0.4073328181945399,
          0.03334509634515111,
          0.29358652202218344,
          0.15779066300796438,
          0.001953065582847095,
          0.05114780629970126
         ],
         "xaxis": "x2",
         "y": [
          "ALL_TRANSIT",
          "BIKE",
          "DRIVEALONEFREE",
          "SCH_BUS",
          "SHARED2FREE",
          "SHARED3FREE",
          "TNC",
          "WALK"
         ],
         "yaxis": "y2"
        },
        {
         "alignmentgroup": "True",
         "hovertemplate": "source=survey data<br>auto_ownership_simple=0<br>percentage=%{x}<br>tour_mode_transit_agg=%{y}<extra></extra>",
         "legendgroup": "survey data",
         "marker": {
          "color": "#00A7A0",
          "pattern": {
           "shape": ""
          }
         },
         "name": "survey data",
         "offsetgroup": "survey data",
         "orientation": "h",
         "showlegend": true,
         "textposition": "auto",
         "type": "bar",
         "x": [
          0.4719620635266841,
          0.05113459914940032,
          0.032256890160707256,
          0.02713202344229702,
          0.00012918149261418072,
          0.027289859847789148,
          0.027419081959492754,
          0.01596420386291662,
          0.34671209655809854
         ],
         "xaxis": "x4",
         "y": [
          "ALL_TRANSIT",
          "BIKE",
          "DRIVEALONEFREE",
          "Other",
          "SCH_BUS",
          "SHARED2FREE",
          "SHARED3FREE",
          "TNC",
          "WALK"
         ],
         "yaxis": "y4"
        },
        {
         "alignmentgroup": "True",
         "hovertemplate": "source=survey data<br>auto_ownership_simple=1<br>percentage=%{x}<br>tour_mode_transit_agg=%{y}<extra></extra>",
         "legendgroup": "survey data",
         "marker": {
          "color": "#00A7A0",
          "pattern": {
           "shape": ""
          }
         },
         "name": "survey data",
         "offsetgroup": "survey data",
         "orientation": "h",
         "showlegend": false,
         "textposition": "auto",
         "type": "bar",
         "x": [
          0.08431544075180263,
          0.008884275153810321,
          0.4369063377389329,
          0.0014531018833504293,
          0.005938072017945291,
          0.211731479902877,
          0.0593300800238794,
          0.011341409178138626,
          0.18009980334926337
         ],
         "xaxis": "x5",
         "y": [
          "ALL_TRANSIT",
          "BIKE",
          "DRIVEALONEFREE",
          "Other",
          "SCH_BUS",
          "SHARED2FREE",
          "SHARED3FREE",
          "TNC",
          "WALK"
         ],
         "yaxis": "y5"
        },
        {
         "alignmentgroup": "True",
         "hovertemplate": "source=survey data<br>auto_ownership_simple=2<br>percentage=%{x}<br>tour_mode_transit_agg=%{y}<extra></extra>",
         "legendgroup": "survey data",
         "marker": {
          "color": "#00A7A0",
          "pattern": {
           "shape": ""
          }
         },
         "name": "survey data",
         "offsetgroup": "survey data",
         "orientation": "h",
         "showlegend": false,
         "textposition": "auto",
         "type": "bar",
         "x": [
          0.035685483035186705,
          0.012910960642174316,
          0.40510739230313136,
          0.00423748975083797,
          0.029457766827164385,
          0.225657650959828,
          0.20031044529972594,
          0.00038381761119233985,
          0.08624899357075895
         ],
         "xaxis": "x6",
         "y": [
          "ALL_TRANSIT",
          "BIKE",
          "DRIVEALONEFREE",
          "Other",
          "SCH_BUS",
          "SHARED2FREE",
          "SHARED3FREE",
          "TNC",
          "WALK"
         ],
         "yaxis": "y6"
        },
        {
         "alignmentgroup": "True",
         "hovertemplate": "source=survey data<br>auto_ownership_simple=3<br>percentage=%{x}<br>tour_mode_transit_agg=%{y}<extra></extra>",
         "legendgroup": "survey data",
         "marker": {
          "color": "#00A7A0",
          "pattern": {
           "shape": ""
          }
         },
         "name": "survey data",
         "offsetgroup": "survey data",
         "orientation": "h",
         "showlegend": false,
         "textposition": "auto",
         "type": "bar",
         "x": [
          0.029362552436284727,
          0.003297054700611125,
          0.5197428664740528,
          0.000246177996014623,
          0.028357899803145653,
          0.23264759012808583,
          0.12851146937005375,
          0.0015904518830241988,
          0.05624393720872722
         ],
         "xaxis": "x",
         "y": [
          "ALL_TRANSIT",
          "BIKE",
          "DRIVEALONEFREE",
          "Other",
          "SCH_BUS",
          "SHARED2FREE",
          "SHARED3FREE",
          "TNC",
          "WALK"
         ],
         "yaxis": "y"
        },
        {
         "alignmentgroup": "True",
         "hovertemplate": "source=survey data<br>auto_ownership_simple=4+<br>percentage=%{x}<br>tour_mode_transit_agg=%{y}<extra></extra>",
         "legendgroup": "survey data",
         "marker": {
          "color": "#00A7A0",
          "pattern": {
           "shape": ""
          }
         },
         "name": "survey data",
         "offsetgroup": "survey data",
         "orientation": "h",
         "showlegend": false,
         "textposition": "auto",
         "type": "bar",
         "x": [
          0.03892042816753516,
          0.0004523480206503286,
          0.5946810690695893,
          0.0025862351245089198,
          0.011568971094279554,
          0.27698800963753734,
          0.061455098233332055,
          0.013347840652567416
         ],
         "xaxis": "x2",
         "y": [
          "ALL_TRANSIT",
          "BIKE",
          "DRIVEALONEFREE",
          "Other",
          "SCH_BUS",
          "SHARED2FREE",
          "SHARED3FREE",
          "WALK"
         ],
         "yaxis": "y2"
        },
        {
         "alignmentgroup": "True",
         "hovertemplate": "source=unweighted survey<br>auto_ownership_simple=0<br>percentage=%{x}<br>tour_mode_transit_agg=%{y}<extra></extra>",
         "legendgroup": "unweighted survey",
         "marker": {
          "color": "#8CC63E",
          "pattern": {
           "shape": ""
          }
         },
         "name": "unweighted survey",
         "offsetgroup": "unweighted survey",
         "orientation": "h",
         "showlegend": true,
         "textposition": "auto",
         "type": "bar",
         "x": [
          0.44782608695652176,
          0.06608695652173913,
          0.009565217391304347,
          0.014782608695652174,
          0.0017391304347826088,
          0.021739130434782608,
          0.010434782608695653,
          0.029565217391304348,
          0.3982608695652174
         ],
         "xaxis": "x4",
         "y": [
          "ALL_TRANSIT",
          "BIKE",
          "DRIVEALONEFREE",
          "Other",
          "SCH_BUS",
          "SHARED2FREE",
          "SHARED3FREE",
          "TNC",
          "WALK"
         ],
         "yaxis": "y4"
        },
        {
         "alignmentgroup": "True",
         "hovertemplate": "source=unweighted survey<br>auto_ownership_simple=1<br>percentage=%{x}<br>tour_mode_transit_agg=%{y}<extra></extra>",
         "legendgroup": "unweighted survey",
         "marker": {
          "color": "#8CC63E",
          "pattern": {
           "shape": ""
          }
         },
         "name": "unweighted survey",
         "offsetgroup": "unweighted survey",
         "orientation": "h",
         "showlegend": false,
         "textposition": "auto",
         "type": "bar",
         "x": [
          0.18060747663551402,
          0.036214953271028034,
          0.32149532710280376,
          0.0032710280373831778,
          0.005607476635514018,
          0.14929906542056076,
          0.04649532710280374,
          0.012149532710280374,
          0.24485981308411214
         ],
         "xaxis": "x5",
         "y": [
          "ALL_TRANSIT",
          "BIKE",
          "DRIVEALONEFREE",
          "Other",
          "SCH_BUS",
          "SHARED2FREE",
          "SHARED3FREE",
          "TNC",
          "WALK"
         ],
         "yaxis": "y5"
        },
        {
         "alignmentgroup": "True",
         "hovertemplate": "source=unweighted survey<br>auto_ownership_simple=2<br>percentage=%{x}<br>tour_mode_transit_agg=%{y}<extra></extra>",
         "legendgroup": "unweighted survey",
         "marker": {
          "color": "#8CC63E",
          "pattern": {
           "shape": ""
          }
         },
         "name": "unweighted survey",
         "offsetgroup": "unweighted survey",
         "orientation": "h",
         "showlegend": false,
         "textposition": "auto",
         "type": "bar",
         "x": [
          0.09925201380897583,
          0.02761795166858458,
          0.4188722669735328,
          0.0037399309551208286,
          0.020138089758342925,
          0.1878596087456847,
          0.11478711162255466,
          0.00431530494821634,
          0.12341772151898735
         ],
         "xaxis": "x6",
         "y": [
          "ALL_TRANSIT",
          "BIKE",
          "DRIVEALONEFREE",
          "Other",
          "SCH_BUS",
          "SHARED2FREE",
          "SHARED3FREE",
          "TNC",
          "WALK"
         ],
         "yaxis": "y6"
        },
        {
         "alignmentgroup": "True",
         "hovertemplate": "source=unweighted survey<br>auto_ownership_simple=3<br>percentage=%{x}<br>tour_mode_transit_agg=%{y}<extra></extra>",
         "legendgroup": "unweighted survey",
         "marker": {
          "color": "#8CC63E",
          "pattern": {
           "shape": ""
          }
         },
         "name": "unweighted survey",
         "offsetgroup": "unweighted survey",
         "orientation": "h",
         "showlegend": false,
         "textposition": "auto",
         "type": "bar",
         "x": [
          0.04461942257217848,
          0.010498687664041995,
          0.5341207349081365,
          0.0026246719160104987,
          0.023622047244094488,
          0.2047244094488189,
          0.10236220472440945,
          0.0026246719160104987,
          0.07480314960629922
         ],
         "xaxis": "x",
         "y": [
          "ALL_TRANSIT",
          "BIKE",
          "DRIVEALONEFREE",
          "Other",
          "SCH_BUS",
          "SHARED2FREE",
          "SHARED3FREE",
          "TNC",
          "WALK"
         ],
         "yaxis": "y"
        },
        {
         "alignmentgroup": "True",
         "hovertemplate": "source=unweighted survey<br>auto_ownership_simple=4+<br>percentage=%{x}<br>tour_mode_transit_agg=%{y}<extra></extra>",
         "legendgroup": "unweighted survey",
         "marker": {
          "color": "#8CC63E",
          "pattern": {
           "shape": ""
          }
         },
         "name": "unweighted survey",
         "offsetgroup": "unweighted survey",
         "orientation": "h",
         "showlegend": false,
         "textposition": "auto",
         "type": "bar",
         "x": [
          0.03666666666666667,
          0.01,
          0.5833333333333334,
          0.0033333333333333335,
          0.02,
          0.22,
          0.09333333333333334,
          0.03333333333333333
         ],
         "xaxis": "x2",
         "y": [
          "ALL_TRANSIT",
          "BIKE",
          "DRIVEALONEFREE",
          "Other",
          "SCH_BUS",
          "SHARED2FREE",
          "SHARED3FREE",
          "WALK"
         ],
         "yaxis": "y2"
        }
       ],
       "layout": {
        "annotations": [
         {
          "font": {},
          "showarrow": false,
          "text": "3",
          "x": 0.15999999999999998,
          "xanchor": "center",
          "xref": "paper",
          "y": 0.46499999999999997,
          "yanchor": "bottom",
          "yref": "paper"
         },
         {
          "font": {},
          "showarrow": false,
          "text": "4+",
          "x": 0.49999999999999994,
          "xanchor": "center",
          "xref": "paper",
          "y": 0.46499999999999997,
          "yanchor": "bottom",
          "yref": "paper"
         },
         {
          "font": {},
          "showarrow": false,
          "text": "0",
          "x": 0.15999999999999998,
          "xanchor": "center",
          "xref": "paper",
          "y": 0.9999999999999999,
          "yanchor": "bottom",
          "yref": "paper"
         },
         {
          "font": {},
          "showarrow": false,
          "text": "1",
          "x": 0.49999999999999994,
          "xanchor": "center",
          "xref": "paper",
          "y": 0.9999999999999999,
          "yanchor": "bottom",
          "yref": "paper"
         },
         {
          "font": {},
          "showarrow": false,
          "text": "2",
          "x": 0.8399999999999999,
          "xanchor": "center",
          "xref": "paper",
          "y": 0.9999999999999999,
          "yanchor": "bottom",
          "yref": "paper"
         }
        ],
        "barmode": "group",
        "height": 600,
        "legend": {
         "title": {
          "text": "source"
         },
         "tracegroupgap": 0
        },
        "template": {
         "data": {
          "bar": [
           {
            "error_x": {
             "color": "rgb(36,36,36)"
            },
            "error_y": {
             "color": "rgb(36,36,36)"
            },
            "marker": {
             "line": {
              "color": "white",
              "width": 0.5
             },
             "pattern": {
              "fillmode": "overlay",
              "size": 10,
              "solidity": 0.2
             }
            },
            "type": "bar"
           }
          ],
          "barpolar": [
           {
            "marker": {
             "line": {
              "color": "white",
              "width": 0.5
             },
             "pattern": {
              "fillmode": "overlay",
              "size": 10,
              "solidity": 0.2
             }
            },
            "type": "barpolar"
           }
          ],
          "carpet": [
           {
            "aaxis": {
             "endlinecolor": "rgb(36,36,36)",
             "gridcolor": "white",
             "linecolor": "white",
             "minorgridcolor": "white",
             "startlinecolor": "rgb(36,36,36)"
            },
            "baxis": {
             "endlinecolor": "rgb(36,36,36)",
             "gridcolor": "white",
             "linecolor": "white",
             "minorgridcolor": "white",
             "startlinecolor": "rgb(36,36,36)"
            },
            "type": "carpet"
           }
          ],
          "choropleth": [
           {
            "colorbar": {
             "outlinewidth": 1,
             "tickcolor": "rgb(36,36,36)",
             "ticks": "outside"
            },
            "type": "choropleth"
           }
          ],
          "contour": [
           {
            "colorbar": {
             "outlinewidth": 1,
             "tickcolor": "rgb(36,36,36)",
             "ticks": "outside"
            },
            "colorscale": [
             [
              0.0,
              "#440154"
             ],
             [
              0.1111111111111111,
              "#482878"
             ],
             [
              0.2222222222222222,
              "#3e4989"
             ],
             [
              0.3333333333333333,
              "#31688e"
             ],
             [
              0.4444444444444444,
              "#26828e"
             ],
             [
              0.5555555555555556,
              "#1f9e89"
             ],
             [
              0.6666666666666666,
              "#35b779"
             ],
             [
              0.7777777777777778,
              "#6ece58"
             ],
             [
              0.8888888888888888,
              "#b5de2b"
             ],
             [
              1.0,
              "#fde725"
             ]
            ],
            "type": "contour"
           }
          ],
          "contourcarpet": [
           {
            "colorbar": {
             "outlinewidth": 1,
             "tickcolor": "rgb(36,36,36)",
             "ticks": "outside"
            },
            "type": "contourcarpet"
           }
          ],
          "heatmap": [
           {
            "colorbar": {
             "outlinewidth": 1,
             "tickcolor": "rgb(36,36,36)",
             "ticks": "outside"
            },
            "colorscale": [
             [
              0.0,
              "#440154"
             ],
             [
              0.1111111111111111,
              "#482878"
             ],
             [
              0.2222222222222222,
              "#3e4989"
             ],
             [
              0.3333333333333333,
              "#31688e"
             ],
             [
              0.4444444444444444,
              "#26828e"
             ],
             [
              0.5555555555555556,
              "#1f9e89"
             ],
             [
              0.6666666666666666,
              "#35b779"
             ],
             [
              0.7777777777777778,
              "#6ece58"
             ],
             [
              0.8888888888888888,
              "#b5de2b"
             ],
             [
              1.0,
              "#fde725"
             ]
            ],
            "type": "heatmap"
           }
          ],
          "heatmapgl": [
           {
            "colorbar": {
             "outlinewidth": 1,
             "tickcolor": "rgb(36,36,36)",
             "ticks": "outside"
            },
            "colorscale": [
             [
              0.0,
              "#440154"
             ],
             [
              0.1111111111111111,
              "#482878"
             ],
             [
              0.2222222222222222,
              "#3e4989"
             ],
             [
              0.3333333333333333,
              "#31688e"
             ],
             [
              0.4444444444444444,
              "#26828e"
             ],
             [
              0.5555555555555556,
              "#1f9e89"
             ],
             [
              0.6666666666666666,
              "#35b779"
             ],
             [
              0.7777777777777778,
              "#6ece58"
             ],
             [
              0.8888888888888888,
              "#b5de2b"
             ],
             [
              1.0,
              "#fde725"
             ]
            ],
            "type": "heatmapgl"
           }
          ],
          "histogram": [
           {
            "marker": {
             "line": {
              "color": "white",
              "width": 0.6
             }
            },
            "type": "histogram"
           }
          ],
          "histogram2d": [
           {
            "colorbar": {
             "outlinewidth": 1,
             "tickcolor": "rgb(36,36,36)",
             "ticks": "outside"
            },
            "colorscale": [
             [
              0.0,
              "#440154"
             ],
             [
              0.1111111111111111,
              "#482878"
             ],
             [
              0.2222222222222222,
              "#3e4989"
             ],
             [
              0.3333333333333333,
              "#31688e"
             ],
             [
              0.4444444444444444,
              "#26828e"
             ],
             [
              0.5555555555555556,
              "#1f9e89"
             ],
             [
              0.6666666666666666,
              "#35b779"
             ],
             [
              0.7777777777777778,
              "#6ece58"
             ],
             [
              0.8888888888888888,
              "#b5de2b"
             ],
             [
              1.0,
              "#fde725"
             ]
            ],
            "type": "histogram2d"
           }
          ],
          "histogram2dcontour": [
           {
            "colorbar": {
             "outlinewidth": 1,
             "tickcolor": "rgb(36,36,36)",
             "ticks": "outside"
            },
            "colorscale": [
             [
              0.0,
              "#440154"
             ],
             [
              0.1111111111111111,
              "#482878"
             ],
             [
              0.2222222222222222,
              "#3e4989"
             ],
             [
              0.3333333333333333,
              "#31688e"
             ],
             [
              0.4444444444444444,
              "#26828e"
             ],
             [
              0.5555555555555556,
              "#1f9e89"
             ],
             [
              0.6666666666666666,
              "#35b779"
             ],
             [
              0.7777777777777778,
              "#6ece58"
             ],
             [
              0.8888888888888888,
              "#b5de2b"
             ],
             [
              1.0,
              "#fde725"
             ]
            ],
            "type": "histogram2dcontour"
           }
          ],
          "mesh3d": [
           {
            "colorbar": {
             "outlinewidth": 1,
             "tickcolor": "rgb(36,36,36)",
             "ticks": "outside"
            },
            "type": "mesh3d"
           }
          ],
          "parcoords": [
           {
            "line": {
             "colorbar": {
              "outlinewidth": 1,
              "tickcolor": "rgb(36,36,36)",
              "ticks": "outside"
             }
            },
            "type": "parcoords"
           }
          ],
          "pie": [
           {
            "automargin": true,
            "type": "pie"
           }
          ],
          "scatter": [
           {
            "fillpattern": {
             "fillmode": "overlay",
             "size": 10,
             "solidity": 0.2
            },
            "type": "scatter"
           }
          ],
          "scatter3d": [
           {
            "line": {
             "colorbar": {
              "outlinewidth": 1,
              "tickcolor": "rgb(36,36,36)",
              "ticks": "outside"
             }
            },
            "marker": {
             "colorbar": {
              "outlinewidth": 1,
              "tickcolor": "rgb(36,36,36)",
              "ticks": "outside"
             }
            },
            "type": "scatter3d"
           }
          ],
          "scattercarpet": [
           {
            "marker": {
             "colorbar": {
              "outlinewidth": 1,
              "tickcolor": "rgb(36,36,36)",
              "ticks": "outside"
             }
            },
            "type": "scattercarpet"
           }
          ],
          "scattergeo": [
           {
            "marker": {
             "colorbar": {
              "outlinewidth": 1,
              "tickcolor": "rgb(36,36,36)",
              "ticks": "outside"
             }
            },
            "type": "scattergeo"
           }
          ],
          "scattergl": [
           {
            "marker": {
             "colorbar": {
              "outlinewidth": 1,
              "tickcolor": "rgb(36,36,36)",
              "ticks": "outside"
             }
            },
            "type": "scattergl"
           }
          ],
          "scattermapbox": [
           {
            "marker": {
             "colorbar": {
              "outlinewidth": 1,
              "tickcolor": "rgb(36,36,36)",
              "ticks": "outside"
             }
            },
            "type": "scattermapbox"
           }
          ],
          "scatterpolar": [
           {
            "marker": {
             "colorbar": {
              "outlinewidth": 1,
              "tickcolor": "rgb(36,36,36)",
              "ticks": "outside"
             }
            },
            "type": "scatterpolar"
           }
          ],
          "scatterpolargl": [
           {
            "marker": {
             "colorbar": {
              "outlinewidth": 1,
              "tickcolor": "rgb(36,36,36)",
              "ticks": "outside"
             }
            },
            "type": "scatterpolargl"
           }
          ],
          "scatterternary": [
           {
            "marker": {
             "colorbar": {
              "outlinewidth": 1,
              "tickcolor": "rgb(36,36,36)",
              "ticks": "outside"
             }
            },
            "type": "scatterternary"
           }
          ],
          "surface": [
           {
            "colorbar": {
             "outlinewidth": 1,
             "tickcolor": "rgb(36,36,36)",
             "ticks": "outside"
            },
            "colorscale": [
             [
              0.0,
              "#440154"
             ],
             [
              0.1111111111111111,
              "#482878"
             ],
             [
              0.2222222222222222,
              "#3e4989"
             ],
             [
              0.3333333333333333,
              "#31688e"
             ],
             [
              0.4444444444444444,
              "#26828e"
             ],
             [
              0.5555555555555556,
              "#1f9e89"
             ],
             [
              0.6666666666666666,
              "#35b779"
             ],
             [
              0.7777777777777778,
              "#6ece58"
             ],
             [
              0.8888888888888888,
              "#b5de2b"
             ],
             [
              1.0,
              "#fde725"
             ]
            ],
            "type": "surface"
           }
          ],
          "table": [
           {
            "cells": {
             "fill": {
              "color": "rgb(237,237,237)"
             },
             "line": {
              "color": "white"
             }
            },
            "header": {
             "fill": {
              "color": "rgb(217,217,217)"
             },
             "line": {
              "color": "white"
             }
            },
            "type": "table"
           }
          ]
         },
         "layout": {
          "annotationdefaults": {
           "arrowhead": 0,
           "arrowwidth": 1
          },
          "autotypenumbers": "strict",
          "coloraxis": {
           "colorbar": {
            "outlinewidth": 1,
            "tickcolor": "rgb(36,36,36)",
            "ticks": "outside"
           }
          },
          "colorscale": {
           "diverging": [
            [
             0.0,
             "rgb(103,0,31)"
            ],
            [
             0.1,
             "rgb(178,24,43)"
            ],
            [
             0.2,
             "rgb(214,96,77)"
            ],
            [
             0.3,
             "rgb(244,165,130)"
            ],
            [
             0.4,
             "rgb(253,219,199)"
            ],
            [
             0.5,
             "rgb(247,247,247)"
            ],
            [
             0.6,
             "rgb(209,229,240)"
            ],
            [
             0.7,
             "rgb(146,197,222)"
            ],
            [
             0.8,
             "rgb(67,147,195)"
            ],
            [
             0.9,
             "rgb(33,102,172)"
            ],
            [
             1.0,
             "rgb(5,48,97)"
            ]
           ],
           "sequential": [
            [
             0.0,
             "#440154"
            ],
            [
             0.1111111111111111,
             "#482878"
            ],
            [
             0.2222222222222222,
             "#3e4989"
            ],
            [
             0.3333333333333333,
             "#31688e"
            ],
            [
             0.4444444444444444,
             "#26828e"
            ],
            [
             0.5555555555555556,
             "#1f9e89"
            ],
            [
             0.6666666666666666,
             "#35b779"
            ],
            [
             0.7777777777777778,
             "#6ece58"
            ],
            [
             0.8888888888888888,
             "#b5de2b"
            ],
            [
             1.0,
             "#fde725"
            ]
           ],
           "sequentialminus": [
            [
             0.0,
             "#440154"
            ],
            [
             0.1111111111111111,
             "#482878"
            ],
            [
             0.2222222222222222,
             "#3e4989"
            ],
            [
             0.3333333333333333,
             "#31688e"
            ],
            [
             0.4444444444444444,
             "#26828e"
            ],
            [
             0.5555555555555556,
             "#1f9e89"
            ],
            [
             0.6666666666666666,
             "#35b779"
            ],
            [
             0.7777777777777778,
             "#6ece58"
            ],
            [
             0.8888888888888888,
             "#b5de2b"
            ],
            [
             1.0,
             "#fde725"
            ]
           ]
          },
          "colorway": [
           "#91268F",
           "#00A7A0",
           "#8CC63E",
           "#F05A28",
           "#4C4C4C",
           "#630460",
           "#9f3913",
           "#588527",
           "#00716c",
           "#3e4040"
          ],
          "font": {
           "color": "rgb(36,36,36)",
           "size": 11
          },
          "geo": {
           "bgcolor": "white",
           "lakecolor": "white",
           "landcolor": "white",
           "showlakes": true,
           "showland": true,
           "subunitcolor": "white"
          },
          "hoverlabel": {
           "align": "left"
          },
          "hovermode": "closest",
          "mapbox": {
           "style": "light"
          },
          "paper_bgcolor": "white",
          "plot_bgcolor": "white",
          "polar": {
           "angularaxis": {
            "gridcolor": "rgb(232,232,232)",
            "linecolor": "rgb(36,36,36)",
            "showgrid": false,
            "showline": true,
            "ticks": "outside"
           },
           "bgcolor": "white",
           "radialaxis": {
            "gridcolor": "rgb(232,232,232)",
            "linecolor": "rgb(36,36,36)",
            "showgrid": false,
            "showline": true,
            "ticks": "outside"
           }
          },
          "scene": {
           "xaxis": {
            "backgroundcolor": "white",
            "gridcolor": "rgb(232,232,232)",
            "gridwidth": 2,
            "linecolor": "rgb(36,36,36)",
            "showbackground": true,
            "showgrid": false,
            "showline": true,
            "ticks": "outside",
            "zeroline": false,
            "zerolinecolor": "rgb(36,36,36)"
           },
           "yaxis": {
            "backgroundcolor": "white",
            "gridcolor": "rgb(232,232,232)",
            "gridwidth": 2,
            "linecolor": "rgb(36,36,36)",
            "showbackground": true,
            "showgrid": false,
            "showline": true,
            "ticks": "outside",
            "zeroline": false,
            "zerolinecolor": "rgb(36,36,36)"
           },
           "zaxis": {
            "backgroundcolor": "white",
            "gridcolor": "rgb(232,232,232)",
            "gridwidth": 2,
            "linecolor": "rgb(36,36,36)",
            "showbackground": true,
            "showgrid": false,
            "showline": true,
            "ticks": "outside",
            "zeroline": false,
            "zerolinecolor": "rgb(36,36,36)"
           }
          },
          "shapedefaults": {
           "fillcolor": "black",
           "line": {
            "width": 0
           },
           "opacity": 0.3
          },
          "ternary": {
           "aaxis": {
            "gridcolor": "rgb(232,232,232)",
            "linecolor": "rgb(36,36,36)",
            "showgrid": false,
            "showline": true,
            "ticks": "outside"
           },
           "baxis": {
            "gridcolor": "rgb(232,232,232)",
            "linecolor": "rgb(36,36,36)",
            "showgrid": false,
            "showline": true,
            "ticks": "outside"
           },
           "bgcolor": "white",
           "caxis": {
            "gridcolor": "rgb(232,232,232)",
            "linecolor": "rgb(36,36,36)",
            "showgrid": false,
            "showline": true,
            "ticks": "outside"
           }
          },
          "title": {
           "x": 0.05
          },
          "xaxis": {
           "automargin": true,
           "gridcolor": "rgb(232,232,232)",
           "linecolor": "rgb(36,36,36)",
           "showgrid": false,
           "showline": true,
           "ticks": "outside",
           "title": {
            "standoff": 15
           },
           "zeroline": false,
           "zerolinecolor": "rgb(36,36,36)"
          },
          "yaxis": {
           "automargin": true,
           "gridcolor": "rgb(232,232,232)",
           "linecolor": "rgb(36,36,36)",
           "showgrid": false,
           "showline": true,
           "ticks": "outside",
           "title": {
            "standoff": 15
           },
           "zeroline": false,
           "zerolinecolor": "rgb(36,36,36)"
          }
         }
        },
        "title": {
         "text": "Tour mode choice by auto_ownership_simple"
        },
        "width": 700,
        "xaxis": {
         "anchor": "y",
         "domain": [
          0.0,
          0.31999999999999995
         ],
         "tickformat": ".0%",
         "title": {
          "text": "percentage"
         }
        },
        "xaxis2": {
         "anchor": "y2",
         "domain": [
          0.33999999999999997,
          0.6599999999999999
         ],
         "matches": "x",
         "tickformat": ".0%",
         "title": {
          "text": "percentage"
         }
        },
        "xaxis3": {
         "anchor": "y3",
         "domain": [
          0.6799999999999999,
          0.9999999999999999
         ],
         "matches": "x",
         "title": {
          "text": "percentage"
         }
        },
        "xaxis4": {
         "anchor": "y4",
         "domain": [
          0.0,
          0.31999999999999995
         ],
         "matches": "x",
         "showticklabels": false
        },
        "xaxis5": {
         "anchor": "y5",
         "domain": [
          0.33999999999999997,
          0.6599999999999999
         ],
         "matches": "x",
         "showticklabels": false
        },
        "xaxis6": {
         "anchor": "y6",
         "domain": [
          0.6799999999999999,
          0.9999999999999999
         ],
         "matches": "x",
         "showticklabels": false
        },
        "yaxis": {
         "anchor": "x",
         "categoryarray": [
          "Other",
          "TNC",
          "SCH_BUS",
          "ALL_TRANSIT",
          "WALK",
          "BIKE",
          "SHARED3FREE",
          "SHARED2FREE",
          "DRIVEALONEFREE"
         ],
         "categoryorder": "array",
         "domain": [
          0.0,
          0.46499999999999997
         ],
         "title": {
          "text": "tour_mode_transit_agg"
         }
        },
        "yaxis2": {
         "anchor": "x2",
         "domain": [
          0.0,
          0.46499999999999997
         ],
         "matches": "y",
         "showticklabels": false
        },
        "yaxis3": {
         "anchor": "x3",
         "domain": [
          0.0,
          0.46499999999999997
         ],
         "matches": "y",
         "showticklabels": false
        },
        "yaxis4": {
         "anchor": "x4",
         "categoryarray": [
          "Other",
          "TNC",
          "SCH_BUS",
          "ALL_TRANSIT",
          "WALK",
          "BIKE",
          "SHARED3FREE",
          "SHARED2FREE",
          "DRIVEALONEFREE"
         ],
         "categoryorder": "array",
         "domain": [
          0.5349999999999999,
          0.9999999999999999
         ],
         "matches": "y",
         "title": {
          "text": "tour_mode_transit_agg"
         }
        },
        "yaxis5": {
         "anchor": "x5",
         "domain": [
          0.5349999999999999,
          0.9999999999999999
         ],
         "matches": "y",
         "showticklabels": false
        },
        "yaxis6": {
         "anchor": "x6",
         "domain": [
          0.5349999999999999,
          0.9999999999999999
         ],
         "matches": "y",
         "showticklabels": false
        }
       }
      },
      "text/html": [
       "<div>                            <div id=\"9427f158-9746-42b3-b4a6-dd920a817027\" class=\"plotly-graph-div\" style=\"height:600px; width:700px;\"></div>            <script type=\"text/javascript\">                require([\"plotly\"], function(Plotly) {                    window.PLOTLYENV=window.PLOTLYENV || {};                                    if (document.getElementById(\"9427f158-9746-42b3-b4a6-dd920a817027\")) {                    Plotly.newPlot(                        \"9427f158-9746-42b3-b4a6-dd920a817027\",                        [{\"alignmentgroup\":\"True\",\"hovertemplate\":\"source=model results<br>auto_ownership_simple=0<br>percentage=%{x}<br>tour_mode_transit_agg=%{y}<extra></extra>\",\"legendgroup\":\"model results\",\"marker\":{\"color\":\"#91268F\",\"pattern\":{\"shape\":\"\"}},\"name\":\"model results\",\"offsetgroup\":\"model results\",\"orientation\":\"h\",\"showlegend\":true,\"textposition\":\"auto\",\"x\":[0.446169925103717,0.05450029095772862,0.027946417456305675,0.0060623431216724425,0.08261751941889517,0.03521891312089077,0.040337453063162436,0.30714713775762786],\"xaxis\":\"x4\",\"y\":[\"ALL_TRANSIT\",\"BIKE\",\"DRIVEALONEFREE\",\"SCH_BUS\",\"SHARED2FREE\",\"SHARED3FREE\",\"TNC\",\"WALK\"],\"yaxis\":\"y4\",\"type\":\"bar\"},{\"alignmentgroup\":\"True\",\"hovertemplate\":\"source=model results<br>auto_ownership_simple=1<br>percentage=%{x}<br>tour_mode_transit_agg=%{y}<extra></extra>\",\"legendgroup\":\"model results\",\"marker\":{\"color\":\"#91268F\",\"pattern\":{\"shape\":\"\"}},\"name\":\"model results\",\"offsetgroup\":\"model results\",\"orientation\":\"h\",\"showlegend\":false,\"textposition\":\"auto\",\"x\":[0.10133431327637138,0.020595431791558136,0.39651277736531115,0.020518943025014322,0.22738613774130334,0.11232874206740821,0.004674128755536082,0.11664952597749734],\"xaxis\":\"x5\",\"y\":[\"ALL_TRANSIT\",\"BIKE\",\"DRIVEALONEFREE\",\"SCH_BUS\",\"SHARED2FREE\",\"SHARED3FREE\",\"TNC\",\"WALK\"],\"yaxis\":\"y5\",\"type\":\"bar\"},{\"alignmentgroup\":\"True\",\"hovertemplate\":\"source=model results<br>auto_ownership_simple=2<br>percentage=%{x}<br>tour_mode_transit_agg=%{y}<extra></extra>\",\"legendgroup\":\"model results\",\"marker\":{\"color\":\"#91268F\",\"pattern\":{\"shape\":\"\"}},\"name\":\"model results\",\"offsetgroup\":\"model results\",\"orientation\":\"h\",\"showlegend\":false,\"textposition\":\"auto\",\"x\":[0.06666746125709504,0.013284669083987325,0.39102368850642605,0.03139912365504534,0.2738198345662728,0.1429313676931892,0.003533720210584121,0.07734013502740013],\"xaxis\":\"x6\",\"y\":[\"ALL_TRANSIT\",\"BIKE\",\"DRIVEALONEFREE\",\"SCH_BUS\",\"SHARED2FREE\",\"SHARED3FREE\",\"TNC\",\"WALK\"],\"yaxis\":\"y6\",\"type\":\"bar\"},{\"alignmentgroup\":\"True\",\"hovertemplate\":\"source=model results<br>auto_ownership_simple=3<br>percentage=%{x}<br>tour_mode_transit_agg=%{y}<extra></extra>\",\"legendgroup\":\"model results\",\"marker\":{\"color\":\"#91268F\",\"pattern\":{\"shape\":\"\"}},\"name\":\"model results\",\"offsetgroup\":\"model results\",\"orientation\":\"h\",\"showlegend\":false,\"textposition\":\"auto\",\"x\":[0.051244505006464096,0.009509765967955755,0.4122336192458522,0.03222599993222713,0.28236539640454655,0.1495921818859547,0.0025743422180828286,0.06025418933891672],\"xaxis\":\"x\",\"y\":[\"ALL_TRANSIT\",\"BIKE\",\"DRIVEALONEFREE\",\"SCH_BUS\",\"SHARED2FREE\",\"SHARED3FREE\",\"TNC\",\"WALK\"],\"yaxis\":\"y\",\"type\":\"bar\"},{\"alignmentgroup\":\"True\",\"hovertemplate\":\"source=model results<br>auto_ownership_simple=4+<br>percentage=%{x}<br>tour_mode_transit_agg=%{y}<extra></extra>\",\"legendgroup\":\"model results\",\"marker\":{\"color\":\"#91268F\",\"pattern\":{\"shape\":\"\"}},\"name\":\"model results\",\"offsetgroup\":\"model results\",\"orientation\":\"h\",\"showlegend\":false,\"textposition\":\"auto\",\"x\":[0.04619821486155138,0.008645813686061439,0.4073328181945399,0.03334509634515111,0.29358652202218344,0.15779066300796438,0.001953065582847095,0.05114780629970126],\"xaxis\":\"x2\",\"y\":[\"ALL_TRANSIT\",\"BIKE\",\"DRIVEALONEFREE\",\"SCH_BUS\",\"SHARED2FREE\",\"SHARED3FREE\",\"TNC\",\"WALK\"],\"yaxis\":\"y2\",\"type\":\"bar\"},{\"alignmentgroup\":\"True\",\"hovertemplate\":\"source=survey data<br>auto_ownership_simple=0<br>percentage=%{x}<br>tour_mode_transit_agg=%{y}<extra></extra>\",\"legendgroup\":\"survey data\",\"marker\":{\"color\":\"#00A7A0\",\"pattern\":{\"shape\":\"\"}},\"name\":\"survey data\",\"offsetgroup\":\"survey data\",\"orientation\":\"h\",\"showlegend\":true,\"textposition\":\"auto\",\"x\":[0.4719620635266841,0.05113459914940032,0.032256890160707256,0.02713202344229702,0.00012918149261418072,0.027289859847789148,0.027419081959492754,0.01596420386291662,0.34671209655809854],\"xaxis\":\"x4\",\"y\":[\"ALL_TRANSIT\",\"BIKE\",\"DRIVEALONEFREE\",\"Other\",\"SCH_BUS\",\"SHARED2FREE\",\"SHARED3FREE\",\"TNC\",\"WALK\"],\"yaxis\":\"y4\",\"type\":\"bar\"},{\"alignmentgroup\":\"True\",\"hovertemplate\":\"source=survey data<br>auto_ownership_simple=1<br>percentage=%{x}<br>tour_mode_transit_agg=%{y}<extra></extra>\",\"legendgroup\":\"survey data\",\"marker\":{\"color\":\"#00A7A0\",\"pattern\":{\"shape\":\"\"}},\"name\":\"survey data\",\"offsetgroup\":\"survey data\",\"orientation\":\"h\",\"showlegend\":false,\"textposition\":\"auto\",\"x\":[0.08431544075180263,0.008884275153810321,0.4369063377389329,0.0014531018833504293,0.005938072017945291,0.211731479902877,0.0593300800238794,0.011341409178138626,0.18009980334926337],\"xaxis\":\"x5\",\"y\":[\"ALL_TRANSIT\",\"BIKE\",\"DRIVEALONEFREE\",\"Other\",\"SCH_BUS\",\"SHARED2FREE\",\"SHARED3FREE\",\"TNC\",\"WALK\"],\"yaxis\":\"y5\",\"type\":\"bar\"},{\"alignmentgroup\":\"True\",\"hovertemplate\":\"source=survey data<br>auto_ownership_simple=2<br>percentage=%{x}<br>tour_mode_transit_agg=%{y}<extra></extra>\",\"legendgroup\":\"survey data\",\"marker\":{\"color\":\"#00A7A0\",\"pattern\":{\"shape\":\"\"}},\"name\":\"survey data\",\"offsetgroup\":\"survey data\",\"orientation\":\"h\",\"showlegend\":false,\"textposition\":\"auto\",\"x\":[0.035685483035186705,0.012910960642174316,0.40510739230313136,0.00423748975083797,0.029457766827164385,0.225657650959828,0.20031044529972594,0.00038381761119233985,0.08624899357075895],\"xaxis\":\"x6\",\"y\":[\"ALL_TRANSIT\",\"BIKE\",\"DRIVEALONEFREE\",\"Other\",\"SCH_BUS\",\"SHARED2FREE\",\"SHARED3FREE\",\"TNC\",\"WALK\"],\"yaxis\":\"y6\",\"type\":\"bar\"},{\"alignmentgroup\":\"True\",\"hovertemplate\":\"source=survey data<br>auto_ownership_simple=3<br>percentage=%{x}<br>tour_mode_transit_agg=%{y}<extra></extra>\",\"legendgroup\":\"survey data\",\"marker\":{\"color\":\"#00A7A0\",\"pattern\":{\"shape\":\"\"}},\"name\":\"survey data\",\"offsetgroup\":\"survey data\",\"orientation\":\"h\",\"showlegend\":false,\"textposition\":\"auto\",\"x\":[0.029362552436284727,0.003297054700611125,0.5197428664740528,0.000246177996014623,0.028357899803145653,0.23264759012808583,0.12851146937005375,0.0015904518830241988,0.05624393720872722],\"xaxis\":\"x\",\"y\":[\"ALL_TRANSIT\",\"BIKE\",\"DRIVEALONEFREE\",\"Other\",\"SCH_BUS\",\"SHARED2FREE\",\"SHARED3FREE\",\"TNC\",\"WALK\"],\"yaxis\":\"y\",\"type\":\"bar\"},{\"alignmentgroup\":\"True\",\"hovertemplate\":\"source=survey data<br>auto_ownership_simple=4+<br>percentage=%{x}<br>tour_mode_transit_agg=%{y}<extra></extra>\",\"legendgroup\":\"survey data\",\"marker\":{\"color\":\"#00A7A0\",\"pattern\":{\"shape\":\"\"}},\"name\":\"survey data\",\"offsetgroup\":\"survey data\",\"orientation\":\"h\",\"showlegend\":false,\"textposition\":\"auto\",\"x\":[0.03892042816753516,0.0004523480206503286,0.5946810690695893,0.0025862351245089198,0.011568971094279554,0.27698800963753734,0.061455098233332055,0.013347840652567416],\"xaxis\":\"x2\",\"y\":[\"ALL_TRANSIT\",\"BIKE\",\"DRIVEALONEFREE\",\"Other\",\"SCH_BUS\",\"SHARED2FREE\",\"SHARED3FREE\",\"WALK\"],\"yaxis\":\"y2\",\"type\":\"bar\"},{\"alignmentgroup\":\"True\",\"hovertemplate\":\"source=unweighted survey<br>auto_ownership_simple=0<br>percentage=%{x}<br>tour_mode_transit_agg=%{y}<extra></extra>\",\"legendgroup\":\"unweighted survey\",\"marker\":{\"color\":\"#8CC63E\",\"pattern\":{\"shape\":\"\"}},\"name\":\"unweighted survey\",\"offsetgroup\":\"unweighted survey\",\"orientation\":\"h\",\"showlegend\":true,\"textposition\":\"auto\",\"x\":[0.44782608695652176,0.06608695652173913,0.009565217391304347,0.014782608695652174,0.0017391304347826088,0.021739130434782608,0.010434782608695653,0.029565217391304348,0.3982608695652174],\"xaxis\":\"x4\",\"y\":[\"ALL_TRANSIT\",\"BIKE\",\"DRIVEALONEFREE\",\"Other\",\"SCH_BUS\",\"SHARED2FREE\",\"SHARED3FREE\",\"TNC\",\"WALK\"],\"yaxis\":\"y4\",\"type\":\"bar\"},{\"alignmentgroup\":\"True\",\"hovertemplate\":\"source=unweighted survey<br>auto_ownership_simple=1<br>percentage=%{x}<br>tour_mode_transit_agg=%{y}<extra></extra>\",\"legendgroup\":\"unweighted survey\",\"marker\":{\"color\":\"#8CC63E\",\"pattern\":{\"shape\":\"\"}},\"name\":\"unweighted survey\",\"offsetgroup\":\"unweighted survey\",\"orientation\":\"h\",\"showlegend\":false,\"textposition\":\"auto\",\"x\":[0.18060747663551402,0.036214953271028034,0.32149532710280376,0.0032710280373831778,0.005607476635514018,0.14929906542056076,0.04649532710280374,0.012149532710280374,0.24485981308411214],\"xaxis\":\"x5\",\"y\":[\"ALL_TRANSIT\",\"BIKE\",\"DRIVEALONEFREE\",\"Other\",\"SCH_BUS\",\"SHARED2FREE\",\"SHARED3FREE\",\"TNC\",\"WALK\"],\"yaxis\":\"y5\",\"type\":\"bar\"},{\"alignmentgroup\":\"True\",\"hovertemplate\":\"source=unweighted survey<br>auto_ownership_simple=2<br>percentage=%{x}<br>tour_mode_transit_agg=%{y}<extra></extra>\",\"legendgroup\":\"unweighted survey\",\"marker\":{\"color\":\"#8CC63E\",\"pattern\":{\"shape\":\"\"}},\"name\":\"unweighted survey\",\"offsetgroup\":\"unweighted survey\",\"orientation\":\"h\",\"showlegend\":false,\"textposition\":\"auto\",\"x\":[0.09925201380897583,0.02761795166858458,0.4188722669735328,0.0037399309551208286,0.020138089758342925,0.1878596087456847,0.11478711162255466,0.00431530494821634,0.12341772151898735],\"xaxis\":\"x6\",\"y\":[\"ALL_TRANSIT\",\"BIKE\",\"DRIVEALONEFREE\",\"Other\",\"SCH_BUS\",\"SHARED2FREE\",\"SHARED3FREE\",\"TNC\",\"WALK\"],\"yaxis\":\"y6\",\"type\":\"bar\"},{\"alignmentgroup\":\"True\",\"hovertemplate\":\"source=unweighted survey<br>auto_ownership_simple=3<br>percentage=%{x}<br>tour_mode_transit_agg=%{y}<extra></extra>\",\"legendgroup\":\"unweighted survey\",\"marker\":{\"color\":\"#8CC63E\",\"pattern\":{\"shape\":\"\"}},\"name\":\"unweighted survey\",\"offsetgroup\":\"unweighted survey\",\"orientation\":\"h\",\"showlegend\":false,\"textposition\":\"auto\",\"x\":[0.04461942257217848,0.010498687664041995,0.5341207349081365,0.0026246719160104987,0.023622047244094488,0.2047244094488189,0.10236220472440945,0.0026246719160104987,0.07480314960629922],\"xaxis\":\"x\",\"y\":[\"ALL_TRANSIT\",\"BIKE\",\"DRIVEALONEFREE\",\"Other\",\"SCH_BUS\",\"SHARED2FREE\",\"SHARED3FREE\",\"TNC\",\"WALK\"],\"yaxis\":\"y\",\"type\":\"bar\"},{\"alignmentgroup\":\"True\",\"hovertemplate\":\"source=unweighted survey<br>auto_ownership_simple=4+<br>percentage=%{x}<br>tour_mode_transit_agg=%{y}<extra></extra>\",\"legendgroup\":\"unweighted survey\",\"marker\":{\"color\":\"#8CC63E\",\"pattern\":{\"shape\":\"\"}},\"name\":\"unweighted survey\",\"offsetgroup\":\"unweighted survey\",\"orientation\":\"h\",\"showlegend\":false,\"textposition\":\"auto\",\"x\":[0.03666666666666667,0.01,0.5833333333333334,0.0033333333333333335,0.02,0.22,0.09333333333333334,0.03333333333333333],\"xaxis\":\"x2\",\"y\":[\"ALL_TRANSIT\",\"BIKE\",\"DRIVEALONEFREE\",\"Other\",\"SCH_BUS\",\"SHARED2FREE\",\"SHARED3FREE\",\"WALK\"],\"yaxis\":\"y2\",\"type\":\"bar\"}],                        {\"template\":{\"data\":{\"barpolar\":[{\"marker\":{\"line\":{\"color\":\"white\",\"width\":0.5},\"pattern\":{\"fillmode\":\"overlay\",\"size\":10,\"solidity\":0.2}},\"type\":\"barpolar\"}],\"bar\":[{\"error_x\":{\"color\":\"rgb(36,36,36)\"},\"error_y\":{\"color\":\"rgb(36,36,36)\"},\"marker\":{\"line\":{\"color\":\"white\",\"width\":0.5},\"pattern\":{\"fillmode\":\"overlay\",\"size\":10,\"solidity\":0.2}},\"type\":\"bar\"}],\"carpet\":[{\"aaxis\":{\"endlinecolor\":\"rgb(36,36,36)\",\"gridcolor\":\"white\",\"linecolor\":\"white\",\"minorgridcolor\":\"white\",\"startlinecolor\":\"rgb(36,36,36)\"},\"baxis\":{\"endlinecolor\":\"rgb(36,36,36)\",\"gridcolor\":\"white\",\"linecolor\":\"white\",\"minorgridcolor\":\"white\",\"startlinecolor\":\"rgb(36,36,36)\"},\"type\":\"carpet\"}],\"choropleth\":[{\"colorbar\":{\"outlinewidth\":1,\"tickcolor\":\"rgb(36,36,36)\",\"ticks\":\"outside\"},\"type\":\"choropleth\"}],\"contourcarpet\":[{\"colorbar\":{\"outlinewidth\":1,\"tickcolor\":\"rgb(36,36,36)\",\"ticks\":\"outside\"},\"type\":\"contourcarpet\"}],\"contour\":[{\"colorbar\":{\"outlinewidth\":1,\"tickcolor\":\"rgb(36,36,36)\",\"ticks\":\"outside\"},\"colorscale\":[[0.0,\"#440154\"],[0.1111111111111111,\"#482878\"],[0.2222222222222222,\"#3e4989\"],[0.3333333333333333,\"#31688e\"],[0.4444444444444444,\"#26828e\"],[0.5555555555555556,\"#1f9e89\"],[0.6666666666666666,\"#35b779\"],[0.7777777777777778,\"#6ece58\"],[0.8888888888888888,\"#b5de2b\"],[1.0,\"#fde725\"]],\"type\":\"contour\"}],\"heatmapgl\":[{\"colorbar\":{\"outlinewidth\":1,\"tickcolor\":\"rgb(36,36,36)\",\"ticks\":\"outside\"},\"colorscale\":[[0.0,\"#440154\"],[0.1111111111111111,\"#482878\"],[0.2222222222222222,\"#3e4989\"],[0.3333333333333333,\"#31688e\"],[0.4444444444444444,\"#26828e\"],[0.5555555555555556,\"#1f9e89\"],[0.6666666666666666,\"#35b779\"],[0.7777777777777778,\"#6ece58\"],[0.8888888888888888,\"#b5de2b\"],[1.0,\"#fde725\"]],\"type\":\"heatmapgl\"}],\"heatmap\":[{\"colorbar\":{\"outlinewidth\":1,\"tickcolor\":\"rgb(36,36,36)\",\"ticks\":\"outside\"},\"colorscale\":[[0.0,\"#440154\"],[0.1111111111111111,\"#482878\"],[0.2222222222222222,\"#3e4989\"],[0.3333333333333333,\"#31688e\"],[0.4444444444444444,\"#26828e\"],[0.5555555555555556,\"#1f9e89\"],[0.6666666666666666,\"#35b779\"],[0.7777777777777778,\"#6ece58\"],[0.8888888888888888,\"#b5de2b\"],[1.0,\"#fde725\"]],\"type\":\"heatmap\"}],\"histogram2dcontour\":[{\"colorbar\":{\"outlinewidth\":1,\"tickcolor\":\"rgb(36,36,36)\",\"ticks\":\"outside\"},\"colorscale\":[[0.0,\"#440154\"],[0.1111111111111111,\"#482878\"],[0.2222222222222222,\"#3e4989\"],[0.3333333333333333,\"#31688e\"],[0.4444444444444444,\"#26828e\"],[0.5555555555555556,\"#1f9e89\"],[0.6666666666666666,\"#35b779\"],[0.7777777777777778,\"#6ece58\"],[0.8888888888888888,\"#b5de2b\"],[1.0,\"#fde725\"]],\"type\":\"histogram2dcontour\"}],\"histogram2d\":[{\"colorbar\":{\"outlinewidth\":1,\"tickcolor\":\"rgb(36,36,36)\",\"ticks\":\"outside\"},\"colorscale\":[[0.0,\"#440154\"],[0.1111111111111111,\"#482878\"],[0.2222222222222222,\"#3e4989\"],[0.3333333333333333,\"#31688e\"],[0.4444444444444444,\"#26828e\"],[0.5555555555555556,\"#1f9e89\"],[0.6666666666666666,\"#35b779\"],[0.7777777777777778,\"#6ece58\"],[0.8888888888888888,\"#b5de2b\"],[1.0,\"#fde725\"]],\"type\":\"histogram2d\"}],\"histogram\":[{\"marker\":{\"line\":{\"color\":\"white\",\"width\":0.6}},\"type\":\"histogram\"}],\"mesh3d\":[{\"colorbar\":{\"outlinewidth\":1,\"tickcolor\":\"rgb(36,36,36)\",\"ticks\":\"outside\"},\"type\":\"mesh3d\"}],\"parcoords\":[{\"line\":{\"colorbar\":{\"outlinewidth\":1,\"tickcolor\":\"rgb(36,36,36)\",\"ticks\":\"outside\"}},\"type\":\"parcoords\"}],\"pie\":[{\"automargin\":true,\"type\":\"pie\"}],\"scatter3d\":[{\"line\":{\"colorbar\":{\"outlinewidth\":1,\"tickcolor\":\"rgb(36,36,36)\",\"ticks\":\"outside\"}},\"marker\":{\"colorbar\":{\"outlinewidth\":1,\"tickcolor\":\"rgb(36,36,36)\",\"ticks\":\"outside\"}},\"type\":\"scatter3d\"}],\"scattercarpet\":[{\"marker\":{\"colorbar\":{\"outlinewidth\":1,\"tickcolor\":\"rgb(36,36,36)\",\"ticks\":\"outside\"}},\"type\":\"scattercarpet\"}],\"scattergeo\":[{\"marker\":{\"colorbar\":{\"outlinewidth\":1,\"tickcolor\":\"rgb(36,36,36)\",\"ticks\":\"outside\"}},\"type\":\"scattergeo\"}],\"scattergl\":[{\"marker\":{\"colorbar\":{\"outlinewidth\":1,\"tickcolor\":\"rgb(36,36,36)\",\"ticks\":\"outside\"}},\"type\":\"scattergl\"}],\"scattermapbox\":[{\"marker\":{\"colorbar\":{\"outlinewidth\":1,\"tickcolor\":\"rgb(36,36,36)\",\"ticks\":\"outside\"}},\"type\":\"scattermapbox\"}],\"scatterpolargl\":[{\"marker\":{\"colorbar\":{\"outlinewidth\":1,\"tickcolor\":\"rgb(36,36,36)\",\"ticks\":\"outside\"}},\"type\":\"scatterpolargl\"}],\"scatterpolar\":[{\"marker\":{\"colorbar\":{\"outlinewidth\":1,\"tickcolor\":\"rgb(36,36,36)\",\"ticks\":\"outside\"}},\"type\":\"scatterpolar\"}],\"scatter\":[{\"fillpattern\":{\"fillmode\":\"overlay\",\"size\":10,\"solidity\":0.2},\"type\":\"scatter\"}],\"scatterternary\":[{\"marker\":{\"colorbar\":{\"outlinewidth\":1,\"tickcolor\":\"rgb(36,36,36)\",\"ticks\":\"outside\"}},\"type\":\"scatterternary\"}],\"surface\":[{\"colorbar\":{\"outlinewidth\":1,\"tickcolor\":\"rgb(36,36,36)\",\"ticks\":\"outside\"},\"colorscale\":[[0.0,\"#440154\"],[0.1111111111111111,\"#482878\"],[0.2222222222222222,\"#3e4989\"],[0.3333333333333333,\"#31688e\"],[0.4444444444444444,\"#26828e\"],[0.5555555555555556,\"#1f9e89\"],[0.6666666666666666,\"#35b779\"],[0.7777777777777778,\"#6ece58\"],[0.8888888888888888,\"#b5de2b\"],[1.0,\"#fde725\"]],\"type\":\"surface\"}],\"table\":[{\"cells\":{\"fill\":{\"color\":\"rgb(237,237,237)\"},\"line\":{\"color\":\"white\"}},\"header\":{\"fill\":{\"color\":\"rgb(217,217,217)\"},\"line\":{\"color\":\"white\"}},\"type\":\"table\"}]},\"layout\":{\"annotationdefaults\":{\"arrowhead\":0,\"arrowwidth\":1},\"autotypenumbers\":\"strict\",\"coloraxis\":{\"colorbar\":{\"outlinewidth\":1,\"tickcolor\":\"rgb(36,36,36)\",\"ticks\":\"outside\"}},\"colorscale\":{\"diverging\":[[0.0,\"rgb(103,0,31)\"],[0.1,\"rgb(178,24,43)\"],[0.2,\"rgb(214,96,77)\"],[0.3,\"rgb(244,165,130)\"],[0.4,\"rgb(253,219,199)\"],[0.5,\"rgb(247,247,247)\"],[0.6,\"rgb(209,229,240)\"],[0.7,\"rgb(146,197,222)\"],[0.8,\"rgb(67,147,195)\"],[0.9,\"rgb(33,102,172)\"],[1.0,\"rgb(5,48,97)\"]],\"sequential\":[[0.0,\"#440154\"],[0.1111111111111111,\"#482878\"],[0.2222222222222222,\"#3e4989\"],[0.3333333333333333,\"#31688e\"],[0.4444444444444444,\"#26828e\"],[0.5555555555555556,\"#1f9e89\"],[0.6666666666666666,\"#35b779\"],[0.7777777777777778,\"#6ece58\"],[0.8888888888888888,\"#b5de2b\"],[1.0,\"#fde725\"]],\"sequentialminus\":[[0.0,\"#440154\"],[0.1111111111111111,\"#482878\"],[0.2222222222222222,\"#3e4989\"],[0.3333333333333333,\"#31688e\"],[0.4444444444444444,\"#26828e\"],[0.5555555555555556,\"#1f9e89\"],[0.6666666666666666,\"#35b779\"],[0.7777777777777778,\"#6ece58\"],[0.8888888888888888,\"#b5de2b\"],[1.0,\"#fde725\"]]},\"colorway\":[\"#91268F\",\"#00A7A0\",\"#8CC63E\",\"#F05A28\",\"#4C4C4C\",\"#630460\",\"#9f3913\",\"#588527\",\"#00716c\",\"#3e4040\"],\"font\":{\"color\":\"rgb(36,36,36)\",\"size\":11},\"geo\":{\"bgcolor\":\"white\",\"lakecolor\":\"white\",\"landcolor\":\"white\",\"showlakes\":true,\"showland\":true,\"subunitcolor\":\"white\"},\"hoverlabel\":{\"align\":\"left\"},\"hovermode\":\"closest\",\"mapbox\":{\"style\":\"light\"},\"paper_bgcolor\":\"white\",\"plot_bgcolor\":\"white\",\"polar\":{\"angularaxis\":{\"gridcolor\":\"rgb(232,232,232)\",\"linecolor\":\"rgb(36,36,36)\",\"showgrid\":false,\"showline\":true,\"ticks\":\"outside\"},\"bgcolor\":\"white\",\"radialaxis\":{\"gridcolor\":\"rgb(232,232,232)\",\"linecolor\":\"rgb(36,36,36)\",\"showgrid\":false,\"showline\":true,\"ticks\":\"outside\"}},\"scene\":{\"xaxis\":{\"backgroundcolor\":\"white\",\"gridcolor\":\"rgb(232,232,232)\",\"gridwidth\":2,\"linecolor\":\"rgb(36,36,36)\",\"showbackground\":true,\"showgrid\":false,\"showline\":true,\"ticks\":\"outside\",\"zeroline\":false,\"zerolinecolor\":\"rgb(36,36,36)\"},\"yaxis\":{\"backgroundcolor\":\"white\",\"gridcolor\":\"rgb(232,232,232)\",\"gridwidth\":2,\"linecolor\":\"rgb(36,36,36)\",\"showbackground\":true,\"showgrid\":false,\"showline\":true,\"ticks\":\"outside\",\"zeroline\":false,\"zerolinecolor\":\"rgb(36,36,36)\"},\"zaxis\":{\"backgroundcolor\":\"white\",\"gridcolor\":\"rgb(232,232,232)\",\"gridwidth\":2,\"linecolor\":\"rgb(36,36,36)\",\"showbackground\":true,\"showgrid\":false,\"showline\":true,\"ticks\":\"outside\",\"zeroline\":false,\"zerolinecolor\":\"rgb(36,36,36)\"}},\"shapedefaults\":{\"fillcolor\":\"black\",\"line\":{\"width\":0},\"opacity\":0.3},\"ternary\":{\"aaxis\":{\"gridcolor\":\"rgb(232,232,232)\",\"linecolor\":\"rgb(36,36,36)\",\"showgrid\":false,\"showline\":true,\"ticks\":\"outside\"},\"baxis\":{\"gridcolor\":\"rgb(232,232,232)\",\"linecolor\":\"rgb(36,36,36)\",\"showgrid\":false,\"showline\":true,\"ticks\":\"outside\"},\"bgcolor\":\"white\",\"caxis\":{\"gridcolor\":\"rgb(232,232,232)\",\"linecolor\":\"rgb(36,36,36)\",\"showgrid\":false,\"showline\":true,\"ticks\":\"outside\"}},\"title\":{\"x\":0.05},\"xaxis\":{\"automargin\":true,\"gridcolor\":\"rgb(232,232,232)\",\"linecolor\":\"rgb(36,36,36)\",\"showgrid\":false,\"showline\":true,\"ticks\":\"outside\",\"title\":{\"standoff\":15},\"zeroline\":false,\"zerolinecolor\":\"rgb(36,36,36)\"},\"yaxis\":{\"automargin\":true,\"gridcolor\":\"rgb(232,232,232)\",\"linecolor\":\"rgb(36,36,36)\",\"showgrid\":false,\"showline\":true,\"ticks\":\"outside\",\"title\":{\"standoff\":15},\"zeroline\":false,\"zerolinecolor\":\"rgb(36,36,36)\"}}},\"xaxis\":{\"anchor\":\"y\",\"domain\":[0.0,0.31999999999999995],\"title\":{\"text\":\"percentage\"},\"tickformat\":\".0%\"},\"yaxis\":{\"anchor\":\"x\",\"domain\":[0.0,0.46499999999999997],\"title\":{\"text\":\"tour_mode_transit_agg\"},\"categoryorder\":\"array\",\"categoryarray\":[\"Other\",\"TNC\",\"SCH_BUS\",\"ALL_TRANSIT\",\"WALK\",\"BIKE\",\"SHARED3FREE\",\"SHARED2FREE\",\"DRIVEALONEFREE\"]},\"xaxis2\":{\"anchor\":\"y2\",\"domain\":[0.33999999999999997,0.6599999999999999],\"matches\":\"x\",\"title\":{\"text\":\"percentage\"},\"tickformat\":\".0%\"},\"yaxis2\":{\"anchor\":\"x2\",\"domain\":[0.0,0.46499999999999997],\"matches\":\"y\",\"showticklabels\":false},\"xaxis3\":{\"anchor\":\"y3\",\"domain\":[0.6799999999999999,0.9999999999999999],\"matches\":\"x\",\"title\":{\"text\":\"percentage\"}},\"yaxis3\":{\"anchor\":\"x3\",\"domain\":[0.0,0.46499999999999997],\"matches\":\"y\",\"showticklabels\":false},\"xaxis4\":{\"anchor\":\"y4\",\"domain\":[0.0,0.31999999999999995],\"matches\":\"x\",\"showticklabels\":false},\"yaxis4\":{\"anchor\":\"x4\",\"domain\":[0.5349999999999999,0.9999999999999999],\"matches\":\"y\",\"title\":{\"text\":\"tour_mode_transit_agg\"},\"categoryorder\":\"array\",\"categoryarray\":[\"Other\",\"TNC\",\"SCH_BUS\",\"ALL_TRANSIT\",\"WALK\",\"BIKE\",\"SHARED3FREE\",\"SHARED2FREE\",\"DRIVEALONEFREE\"]},\"xaxis5\":{\"anchor\":\"y5\",\"domain\":[0.33999999999999997,0.6599999999999999],\"matches\":\"x\",\"showticklabels\":false},\"yaxis5\":{\"anchor\":\"x5\",\"domain\":[0.5349999999999999,0.9999999999999999],\"matches\":\"y\",\"showticklabels\":false},\"xaxis6\":{\"anchor\":\"y6\",\"domain\":[0.6799999999999999,0.9999999999999999],\"matches\":\"x\",\"showticklabels\":false},\"yaxis6\":{\"anchor\":\"x6\",\"domain\":[0.5349999999999999,0.9999999999999999],\"matches\":\"y\",\"showticklabels\":false},\"annotations\":[{\"font\":{},\"showarrow\":false,\"text\":\"3\",\"x\":0.15999999999999998,\"xanchor\":\"center\",\"xref\":\"paper\",\"y\":0.46499999999999997,\"yanchor\":\"bottom\",\"yref\":\"paper\"},{\"font\":{},\"showarrow\":false,\"text\":\"4+\",\"x\":0.49999999999999994,\"xanchor\":\"center\",\"xref\":\"paper\",\"y\":0.46499999999999997,\"yanchor\":\"bottom\",\"yref\":\"paper\"},{\"font\":{},\"showarrow\":false,\"text\":\"0\",\"x\":0.15999999999999998,\"xanchor\":\"center\",\"xref\":\"paper\",\"y\":0.9999999999999999,\"yanchor\":\"bottom\",\"yref\":\"paper\"},{\"font\":{},\"showarrow\":false,\"text\":\"1\",\"x\":0.49999999999999994,\"xanchor\":\"center\",\"xref\":\"paper\",\"y\":0.9999999999999999,\"yanchor\":\"bottom\",\"yref\":\"paper\"},{\"font\":{},\"showarrow\":false,\"text\":\"2\",\"x\":0.8399999999999999,\"xanchor\":\"center\",\"xref\":\"paper\",\"y\":0.9999999999999999,\"yanchor\":\"bottom\",\"yref\":\"paper\"}],\"legend\":{\"title\":{\"text\":\"source\"},\"tracegroupgap\":0},\"title\":{\"text\":\"Tour mode choice by auto_ownership_simple\"},\"barmode\":\"group\",\"height\":600,\"width\":700},                        {\"responsive\": true}                    ).then(function(){\n",
       "                            \n",
       "var gd = document.getElementById('9427f158-9746-42b3-b4a6-dd920a817027');\n",
       "var x = new MutationObserver(function (mutations, observer) {{\n",
       "        var display = window.getComputedStyle(gd).display;\n",
       "        if (!display || display === 'none') {{\n",
       "            console.log([gd, 'removed!']);\n",
       "            Plotly.purge(gd);\n",
       "            observer.disconnect();\n",
       "        }}\n",
       "}});\n",
       "\n",
       "// Listen for the removal of the full notebook cells\n",
       "var notebookContainer = gd.closest('#notebook-container');\n",
       "if (notebookContainer) {{\n",
       "    x.observe(notebookContainer, {childList: true});\n",
       "}}\n",
       "\n",
       "// Listen for the clearing of the current output cell\n",
       "var outputEl = gd.closest('.output');\n",
       "if (outputEl) {{\n",
       "    x.observe(outputEl, {childList: true});\n",
       "}}\n",
       "\n",
       "                        })                };                });            </script>        </div>"
      ]
     },
     "metadata": {},
     "output_type": "display_data"
    },
    {
     "data": {
      "application/vnd.plotly.v1+json": {
       "config": {
        "plotlyServerURL": "https://plot.ly"
       },
       "data": [
        {
         "alignmentgroup": "True",
         "hovertemplate": "source=model results<br>auto_ownership_simple=0<br>percentage=%{x}<br>tour_mode=%{y}<extra></extra>",
         "legendgroup": "model results",
         "marker": {
          "color": "#91268F",
          "pattern": {
           "shape": ""
          }
         },
         "name": "model results",
         "offsetgroup": "model results",
         "orientation": "h",
         "showlegend": true,
         "textposition": "auto",
         "type": "bar",
         "x": [
          0.01578119978807855,
          0.037925833282669054,
          0.3304845531844672,
          0.06197833884850222
         ],
         "xaxis": "x4",
         "y": [
          "WALK_COM",
          "WALK_FRY",
          "WALK_LOC",
          "WALK_LR"
         ],
         "yaxis": "y4"
        },
        {
         "alignmentgroup": "True",
         "hovertemplate": "source=model results<br>auto_ownership_simple=1<br>percentage=%{x}<br>tour_mode=%{y}<extra></extra>",
         "legendgroup": "model results",
         "marker": {
          "color": "#91268F",
          "pattern": {
           "shape": ""
          }
         },
         "name": "model results",
         "offsetgroup": "model results",
         "orientation": "h",
         "showlegend": false,
         "textposition": "auto",
         "type": "bar",
         "x": [
          0.006805837423126711,
          0.0060293101627797345,
          0.015281956715672132,
          0.06162084684704159,
          0.011596362127751206
         ],
         "xaxis": "x5",
         "y": [
          "DRIVE_TRN",
          "WALK_COM",
          "WALK_FRY",
          "WALK_LOC",
          "WALK_LR"
         ],
         "yaxis": "y5"
        },
        {
         "alignmentgroup": "True",
         "hovertemplate": "source=model results<br>auto_ownership_simple=2<br>percentage=%{x}<br>tour_mode=%{y}<extra></extra>",
         "legendgroup": "model results",
         "marker": {
          "color": "#91268F",
          "pattern": {
           "shape": ""
          }
         },
         "name": "model results",
         "offsetgroup": "model results",
         "orientation": "h",
         "showlegend": false,
         "textposition": "auto",
         "type": "bar",
         "x": [
          0.007334952532050688,
          0.004649678323308251,
          0.011364408882108384,
          0.03669551029921627,
          0.006622911220411439
         ],
         "xaxis": "x6",
         "y": [
          "DRIVE_TRN",
          "WALK_COM",
          "WALK_FRY",
          "WALK_LOC",
          "WALK_LR"
         ],
         "yaxis": "y6"
        },
        {
         "alignmentgroup": "True",
         "hovertemplate": "source=model results<br>auto_ownership_simple=3<br>percentage=%{x}<br>tour_mode=%{y}<extra></extra>",
         "legendgroup": "model results",
         "marker": {
          "color": "#91268F",
          "pattern": {
           "shape": ""
          }
         },
         "name": "model results",
         "offsetgroup": "model results",
         "orientation": "h",
         "showlegend": false,
         "textposition": "auto",
         "type": "bar",
         "x": [
          0.00844388354977866,
          0.003889752023174214,
          0.00997698802987346,
          0.024689862102745725,
          0.004244019300892035
         ],
         "xaxis": "x",
         "y": [
          "DRIVE_TRN",
          "WALK_COM",
          "WALK_FRY",
          "WALK_LOC",
          "WALK_LR"
         ],
         "yaxis": "y"
        },
        {
         "alignmentgroup": "True",
         "hovertemplate": "source=model results<br>auto_ownership_simple=4+<br>percentage=%{x}<br>tour_mode=%{y}<extra></extra>",
         "legendgroup": "model results",
         "marker": {
          "color": "#91268F",
          "pattern": {
           "shape": ""
          }
         },
         "name": "model results",
         "offsetgroup": "model results",
         "orientation": "h",
         "showlegend": false,
         "textposition": "auto",
         "type": "bar",
         "x": [
          0.008651898002518907,
          0.003303783836404899,
          0.008426778293592606,
          0.021918750038026978,
          0.0038970046910079886
         ],
         "xaxis": "x2",
         "y": [
          "DRIVE_TRN",
          "WALK_COM",
          "WALK_FRY",
          "WALK_LOC",
          "WALK_LR"
         ],
         "yaxis": "y2"
        },
        {
         "alignmentgroup": "True",
         "hovertemplate": "source=survey data<br>auto_ownership_simple=0<br>percentage=%{x}<br>tour_mode=%{y}<extra></extra>",
         "legendgroup": "survey data",
         "marker": {
          "color": "#00A7A0",
          "pattern": {
           "shape": ""
          }
         },
         "name": "survey data",
         "offsetgroup": "survey data",
         "orientation": "h",
         "showlegend": true,
         "textposition": "auto",
         "type": "bar",
         "x": [
          0.0024465538545953374,
          1.9786184144611858e-05,
          0.0015376594971279675,
          0.444070266754225,
          0.023887797236591197
         ],
         "xaxis": "x4",
         "y": [
          "DRIVE_TRN",
          "WALK_COM",
          "WALK_FRY",
          "WALK_LOC",
          "WALK_LR"
         ],
         "yaxis": "y4"
        },
        {
         "alignmentgroup": "True",
         "hovertemplate": "source=survey data<br>auto_ownership_simple=1<br>percentage=%{x}<br>tour_mode=%{y}<extra></extra>",
         "legendgroup": "survey data",
         "marker": {
          "color": "#00A7A0",
          "pattern": {
           "shape": ""
          }
         },
         "name": "survey data",
         "offsetgroup": "survey data",
         "orientation": "h",
         "showlegend": false,
         "textposition": "auto",
         "type": "bar",
         "x": [
          0.0068764399636044,
          0.001496565622602426,
          0.006002922218867262,
          0.061655111745105434,
          0.008284401201623113
         ],
         "xaxis": "x5",
         "y": [
          "DRIVE_TRN",
          "WALK_COM",
          "WALK_FRY",
          "WALK_LOC",
          "WALK_LR"
         ],
         "yaxis": "y5"
        },
        {
         "alignmentgroup": "True",
         "hovertemplate": "source=survey data<br>auto_ownership_simple=2<br>percentage=%{x}<br>tour_mode=%{y}<extra></extra>",
         "legendgroup": "survey data",
         "marker": {
          "color": "#00A7A0",
          "pattern": {
           "shape": ""
          }
         },
         "name": "survey data",
         "offsetgroup": "survey data",
         "orientation": "h",
         "showlegend": false,
         "textposition": "auto",
         "type": "bar",
         "x": [
          0.0040553078460905485,
          0.00024961128351148285,
          0.0013664549892456555,
          0.02913439479091098,
          0.0008797141254280362
         ],
         "xaxis": "x6",
         "y": [
          "DRIVE_TRN",
          "WALK_COM",
          "WALK_FRY",
          "WALK_LOC",
          "WALK_LR"
         ],
         "yaxis": "y6"
        },
        {
         "alignmentgroup": "True",
         "hovertemplate": "source=survey data<br>auto_ownership_simple=3<br>percentage=%{x}<br>tour_mode=%{y}<extra></extra>",
         "legendgroup": "survey data",
         "marker": {
          "color": "#00A7A0",
          "pattern": {
           "shape": ""
          }
         },
         "name": "survey data",
         "offsetgroup": "survey data",
         "orientation": "h",
         "showlegend": false,
         "textposition": "auto",
         "type": "bar",
         "x": [
          0.0002506914685965613,
          9.909543318851205e-05,
          7.494107888894912e-05,
          0.023647972232099936,
          0.005289852223510758
         ],
         "xaxis": "x",
         "y": [
          "DRIVE_TRN",
          "WALK_COM",
          "WALK_FRY",
          "WALK_LOC",
          "WALK_LR"
         ],
         "yaxis": "y"
        },
        {
         "alignmentgroup": "True",
         "hovertemplate": "source=survey data<br>auto_ownership_simple=4+<br>percentage=%{x}<br>tour_mode=%{y}<extra></extra>",
         "legendgroup": "survey data",
         "marker": {
          "color": "#00A7A0",
          "pattern": {
           "shape": ""
          }
         },
         "name": "survey data",
         "offsetgroup": "survey data",
         "orientation": "h",
         "showlegend": false,
         "textposition": "auto",
         "type": "bar",
         "x": [
          0.013338885229579479,
          0.024602353917997182,
          0.0009791890199584998
         ],
         "xaxis": "x2",
         "y": [
          "DRIVE_TRN",
          "WALK_LOC",
          "WALK_LR"
         ],
         "yaxis": "y2"
        },
        {
         "alignmentgroup": "True",
         "hovertemplate": "source=unweighted survey<br>auto_ownership_simple=0<br>percentage=%{x}<br>tour_mode=%{y}<extra></extra>",
         "legendgroup": "unweighted survey",
         "marker": {
          "color": "#8CC63E",
          "pattern": {
           "shape": ""
          }
         },
         "name": "unweighted survey",
         "offsetgroup": "unweighted survey",
         "orientation": "h",
         "showlegend": true,
         "textposition": "auto",
         "type": "bar",
         "x": [
          0.0034782608695652175,
          0.0008695652173913044,
          0.0017391304347826088,
          0.3591304347826087,
          0.08260869565217391
         ],
         "xaxis": "x4",
         "y": [
          "DRIVE_TRN",
          "WALK_COM",
          "WALK_FRY",
          "WALK_LOC",
          "WALK_LR"
         ],
         "yaxis": "y4"
        },
        {
         "alignmentgroup": "True",
         "hovertemplate": "source=unweighted survey<br>auto_ownership_simple=1<br>percentage=%{x}<br>tour_mode=%{y}<extra></extra>",
         "legendgroup": "unweighted survey",
         "marker": {
          "color": "#8CC63E",
          "pattern": {
           "shape": ""
          }
         },
         "name": "unweighted survey",
         "offsetgroup": "unweighted survey",
         "orientation": "h",
         "showlegend": false,
         "textposition": "auto",
         "type": "bar",
         "x": [
          0.007242990654205608,
          0.00046728971962616824,
          0.001869158878504673,
          0.13948598130841122,
          0.03154205607476635
         ],
         "xaxis": "x5",
         "y": [
          "DRIVE_TRN",
          "WALK_COM",
          "WALK_FRY",
          "WALK_LOC",
          "WALK_LR"
         ],
         "yaxis": "y5"
        },
        {
         "alignmentgroup": "True",
         "hovertemplate": "source=unweighted survey<br>auto_ownership_simple=2<br>percentage=%{x}<br>tour_mode=%{y}<extra></extra>",
         "legendgroup": "unweighted survey",
         "marker": {
          "color": "#8CC63E",
          "pattern": {
           "shape": ""
          }
         },
         "name": "unweighted survey",
         "offsetgroup": "unweighted survey",
         "orientation": "h",
         "showlegend": false,
         "textposition": "auto",
         "type": "bar",
         "x": [
          0.00863060989643268,
          0.0017261219792865361,
          0.0031645569620253164,
          0.07307249712313003,
          0.012658227848101266
         ],
         "xaxis": "x6",
         "y": [
          "DRIVE_TRN",
          "WALK_COM",
          "WALK_FRY",
          "WALK_LOC",
          "WALK_LR"
         ],
         "yaxis": "y6"
        },
        {
         "alignmentgroup": "True",
         "hovertemplate": "source=unweighted survey<br>auto_ownership_simple=3<br>percentage=%{x}<br>tour_mode=%{y}<extra></extra>",
         "legendgroup": "unweighted survey",
         "marker": {
          "color": "#8CC63E",
          "pattern": {
           "shape": ""
          }
         },
         "name": "unweighted survey",
         "offsetgroup": "unweighted survey",
         "orientation": "h",
         "showlegend": false,
         "textposition": "auto",
         "type": "bar",
         "x": [
          0.0026246719160104987,
          0.0013123359580052493,
          0.0013123359580052493,
          0.03280839895013123,
          0.006561679790026247
         ],
         "xaxis": "x",
         "y": [
          "DRIVE_TRN",
          "WALK_COM",
          "WALK_FRY",
          "WALK_LOC",
          "WALK_LR"
         ],
         "yaxis": "y"
        },
        {
         "alignmentgroup": "True",
         "hovertemplate": "source=unweighted survey<br>auto_ownership_simple=4+<br>percentage=%{x}<br>tour_mode=%{y}<extra></extra>",
         "legendgroup": "unweighted survey",
         "marker": {
          "color": "#8CC63E",
          "pattern": {
           "shape": ""
          }
         },
         "name": "unweighted survey",
         "offsetgroup": "unweighted survey",
         "orientation": "h",
         "showlegend": false,
         "textposition": "auto",
         "type": "bar",
         "x": [
          0.01,
          0.016666666666666666,
          0.01
         ],
         "xaxis": "x2",
         "y": [
          "DRIVE_TRN",
          "WALK_LOC",
          "WALK_LR"
         ],
         "yaxis": "y2"
        }
       ],
       "layout": {
        "annotations": [
         {
          "font": {},
          "showarrow": false,
          "text": "3",
          "x": 0.15999999999999998,
          "xanchor": "center",
          "xref": "paper",
          "y": 0.46499999999999997,
          "yanchor": "bottom",
          "yref": "paper"
         },
         {
          "font": {},
          "showarrow": false,
          "text": "4+",
          "x": 0.49999999999999994,
          "xanchor": "center",
          "xref": "paper",
          "y": 0.46499999999999997,
          "yanchor": "bottom",
          "yref": "paper"
         },
         {
          "font": {},
          "showarrow": false,
          "text": "0",
          "x": 0.15999999999999998,
          "xanchor": "center",
          "xref": "paper",
          "y": 0.9999999999999999,
          "yanchor": "bottom",
          "yref": "paper"
         },
         {
          "font": {},
          "showarrow": false,
          "text": "1",
          "x": 0.49999999999999994,
          "xanchor": "center",
          "xref": "paper",
          "y": 0.9999999999999999,
          "yanchor": "bottom",
          "yref": "paper"
         },
         {
          "font": {},
          "showarrow": false,
          "text": "2",
          "x": 0.8399999999999999,
          "xanchor": "center",
          "xref": "paper",
          "y": 0.9999999999999999,
          "yanchor": "bottom",
          "yref": "paper"
         }
        ],
        "barmode": "group",
        "height": 500,
        "legend": {
         "title": {
          "text": "source"
         },
         "tracegroupgap": 0
        },
        "template": {
         "data": {
          "bar": [
           {
            "error_x": {
             "color": "rgb(36,36,36)"
            },
            "error_y": {
             "color": "rgb(36,36,36)"
            },
            "marker": {
             "line": {
              "color": "white",
              "width": 0.5
             },
             "pattern": {
              "fillmode": "overlay",
              "size": 10,
              "solidity": 0.2
             }
            },
            "type": "bar"
           }
          ],
          "barpolar": [
           {
            "marker": {
             "line": {
              "color": "white",
              "width": 0.5
             },
             "pattern": {
              "fillmode": "overlay",
              "size": 10,
              "solidity": 0.2
             }
            },
            "type": "barpolar"
           }
          ],
          "carpet": [
           {
            "aaxis": {
             "endlinecolor": "rgb(36,36,36)",
             "gridcolor": "white",
             "linecolor": "white",
             "minorgridcolor": "white",
             "startlinecolor": "rgb(36,36,36)"
            },
            "baxis": {
             "endlinecolor": "rgb(36,36,36)",
             "gridcolor": "white",
             "linecolor": "white",
             "minorgridcolor": "white",
             "startlinecolor": "rgb(36,36,36)"
            },
            "type": "carpet"
           }
          ],
          "choropleth": [
           {
            "colorbar": {
             "outlinewidth": 1,
             "tickcolor": "rgb(36,36,36)",
             "ticks": "outside"
            },
            "type": "choropleth"
           }
          ],
          "contour": [
           {
            "colorbar": {
             "outlinewidth": 1,
             "tickcolor": "rgb(36,36,36)",
             "ticks": "outside"
            },
            "colorscale": [
             [
              0.0,
              "#440154"
             ],
             [
              0.1111111111111111,
              "#482878"
             ],
             [
              0.2222222222222222,
              "#3e4989"
             ],
             [
              0.3333333333333333,
              "#31688e"
             ],
             [
              0.4444444444444444,
              "#26828e"
             ],
             [
              0.5555555555555556,
              "#1f9e89"
             ],
             [
              0.6666666666666666,
              "#35b779"
             ],
             [
              0.7777777777777778,
              "#6ece58"
             ],
             [
              0.8888888888888888,
              "#b5de2b"
             ],
             [
              1.0,
              "#fde725"
             ]
            ],
            "type": "contour"
           }
          ],
          "contourcarpet": [
           {
            "colorbar": {
             "outlinewidth": 1,
             "tickcolor": "rgb(36,36,36)",
             "ticks": "outside"
            },
            "type": "contourcarpet"
           }
          ],
          "heatmap": [
           {
            "colorbar": {
             "outlinewidth": 1,
             "tickcolor": "rgb(36,36,36)",
             "ticks": "outside"
            },
            "colorscale": [
             [
              0.0,
              "#440154"
             ],
             [
              0.1111111111111111,
              "#482878"
             ],
             [
              0.2222222222222222,
              "#3e4989"
             ],
             [
              0.3333333333333333,
              "#31688e"
             ],
             [
              0.4444444444444444,
              "#26828e"
             ],
             [
              0.5555555555555556,
              "#1f9e89"
             ],
             [
              0.6666666666666666,
              "#35b779"
             ],
             [
              0.7777777777777778,
              "#6ece58"
             ],
             [
              0.8888888888888888,
              "#b5de2b"
             ],
             [
              1.0,
              "#fde725"
             ]
            ],
            "type": "heatmap"
           }
          ],
          "heatmapgl": [
           {
            "colorbar": {
             "outlinewidth": 1,
             "tickcolor": "rgb(36,36,36)",
             "ticks": "outside"
            },
            "colorscale": [
             [
              0.0,
              "#440154"
             ],
             [
              0.1111111111111111,
              "#482878"
             ],
             [
              0.2222222222222222,
              "#3e4989"
             ],
             [
              0.3333333333333333,
              "#31688e"
             ],
             [
              0.4444444444444444,
              "#26828e"
             ],
             [
              0.5555555555555556,
              "#1f9e89"
             ],
             [
              0.6666666666666666,
              "#35b779"
             ],
             [
              0.7777777777777778,
              "#6ece58"
             ],
             [
              0.8888888888888888,
              "#b5de2b"
             ],
             [
              1.0,
              "#fde725"
             ]
            ],
            "type": "heatmapgl"
           }
          ],
          "histogram": [
           {
            "marker": {
             "line": {
              "color": "white",
              "width": 0.6
             }
            },
            "type": "histogram"
           }
          ],
          "histogram2d": [
           {
            "colorbar": {
             "outlinewidth": 1,
             "tickcolor": "rgb(36,36,36)",
             "ticks": "outside"
            },
            "colorscale": [
             [
              0.0,
              "#440154"
             ],
             [
              0.1111111111111111,
              "#482878"
             ],
             [
              0.2222222222222222,
              "#3e4989"
             ],
             [
              0.3333333333333333,
              "#31688e"
             ],
             [
              0.4444444444444444,
              "#26828e"
             ],
             [
              0.5555555555555556,
              "#1f9e89"
             ],
             [
              0.6666666666666666,
              "#35b779"
             ],
             [
              0.7777777777777778,
              "#6ece58"
             ],
             [
              0.8888888888888888,
              "#b5de2b"
             ],
             [
              1.0,
              "#fde725"
             ]
            ],
            "type": "histogram2d"
           }
          ],
          "histogram2dcontour": [
           {
            "colorbar": {
             "outlinewidth": 1,
             "tickcolor": "rgb(36,36,36)",
             "ticks": "outside"
            },
            "colorscale": [
             [
              0.0,
              "#440154"
             ],
             [
              0.1111111111111111,
              "#482878"
             ],
             [
              0.2222222222222222,
              "#3e4989"
             ],
             [
              0.3333333333333333,
              "#31688e"
             ],
             [
              0.4444444444444444,
              "#26828e"
             ],
             [
              0.5555555555555556,
              "#1f9e89"
             ],
             [
              0.6666666666666666,
              "#35b779"
             ],
             [
              0.7777777777777778,
              "#6ece58"
             ],
             [
              0.8888888888888888,
              "#b5de2b"
             ],
             [
              1.0,
              "#fde725"
             ]
            ],
            "type": "histogram2dcontour"
           }
          ],
          "mesh3d": [
           {
            "colorbar": {
             "outlinewidth": 1,
             "tickcolor": "rgb(36,36,36)",
             "ticks": "outside"
            },
            "type": "mesh3d"
           }
          ],
          "parcoords": [
           {
            "line": {
             "colorbar": {
              "outlinewidth": 1,
              "tickcolor": "rgb(36,36,36)",
              "ticks": "outside"
             }
            },
            "type": "parcoords"
           }
          ],
          "pie": [
           {
            "automargin": true,
            "type": "pie"
           }
          ],
          "scatter": [
           {
            "fillpattern": {
             "fillmode": "overlay",
             "size": 10,
             "solidity": 0.2
            },
            "type": "scatter"
           }
          ],
          "scatter3d": [
           {
            "line": {
             "colorbar": {
              "outlinewidth": 1,
              "tickcolor": "rgb(36,36,36)",
              "ticks": "outside"
             }
            },
            "marker": {
             "colorbar": {
              "outlinewidth": 1,
              "tickcolor": "rgb(36,36,36)",
              "ticks": "outside"
             }
            },
            "type": "scatter3d"
           }
          ],
          "scattercarpet": [
           {
            "marker": {
             "colorbar": {
              "outlinewidth": 1,
              "tickcolor": "rgb(36,36,36)",
              "ticks": "outside"
             }
            },
            "type": "scattercarpet"
           }
          ],
          "scattergeo": [
           {
            "marker": {
             "colorbar": {
              "outlinewidth": 1,
              "tickcolor": "rgb(36,36,36)",
              "ticks": "outside"
             }
            },
            "type": "scattergeo"
           }
          ],
          "scattergl": [
           {
            "marker": {
             "colorbar": {
              "outlinewidth": 1,
              "tickcolor": "rgb(36,36,36)",
              "ticks": "outside"
             }
            },
            "type": "scattergl"
           }
          ],
          "scattermapbox": [
           {
            "marker": {
             "colorbar": {
              "outlinewidth": 1,
              "tickcolor": "rgb(36,36,36)",
              "ticks": "outside"
             }
            },
            "type": "scattermapbox"
           }
          ],
          "scatterpolar": [
           {
            "marker": {
             "colorbar": {
              "outlinewidth": 1,
              "tickcolor": "rgb(36,36,36)",
              "ticks": "outside"
             }
            },
            "type": "scatterpolar"
           }
          ],
          "scatterpolargl": [
           {
            "marker": {
             "colorbar": {
              "outlinewidth": 1,
              "tickcolor": "rgb(36,36,36)",
              "ticks": "outside"
             }
            },
            "type": "scatterpolargl"
           }
          ],
          "scatterternary": [
           {
            "marker": {
             "colorbar": {
              "outlinewidth": 1,
              "tickcolor": "rgb(36,36,36)",
              "ticks": "outside"
             }
            },
            "type": "scatterternary"
           }
          ],
          "surface": [
           {
            "colorbar": {
             "outlinewidth": 1,
             "tickcolor": "rgb(36,36,36)",
             "ticks": "outside"
            },
            "colorscale": [
             [
              0.0,
              "#440154"
             ],
             [
              0.1111111111111111,
              "#482878"
             ],
             [
              0.2222222222222222,
              "#3e4989"
             ],
             [
              0.3333333333333333,
              "#31688e"
             ],
             [
              0.4444444444444444,
              "#26828e"
             ],
             [
              0.5555555555555556,
              "#1f9e89"
             ],
             [
              0.6666666666666666,
              "#35b779"
             ],
             [
              0.7777777777777778,
              "#6ece58"
             ],
             [
              0.8888888888888888,
              "#b5de2b"
             ],
             [
              1.0,
              "#fde725"
             ]
            ],
            "type": "surface"
           }
          ],
          "table": [
           {
            "cells": {
             "fill": {
              "color": "rgb(237,237,237)"
             },
             "line": {
              "color": "white"
             }
            },
            "header": {
             "fill": {
              "color": "rgb(217,217,217)"
             },
             "line": {
              "color": "white"
             }
            },
            "type": "table"
           }
          ]
         },
         "layout": {
          "annotationdefaults": {
           "arrowhead": 0,
           "arrowwidth": 1
          },
          "autotypenumbers": "strict",
          "coloraxis": {
           "colorbar": {
            "outlinewidth": 1,
            "tickcolor": "rgb(36,36,36)",
            "ticks": "outside"
           }
          },
          "colorscale": {
           "diverging": [
            [
             0.0,
             "rgb(103,0,31)"
            ],
            [
             0.1,
             "rgb(178,24,43)"
            ],
            [
             0.2,
             "rgb(214,96,77)"
            ],
            [
             0.3,
             "rgb(244,165,130)"
            ],
            [
             0.4,
             "rgb(253,219,199)"
            ],
            [
             0.5,
             "rgb(247,247,247)"
            ],
            [
             0.6,
             "rgb(209,229,240)"
            ],
            [
             0.7,
             "rgb(146,197,222)"
            ],
            [
             0.8,
             "rgb(67,147,195)"
            ],
            [
             0.9,
             "rgb(33,102,172)"
            ],
            [
             1.0,
             "rgb(5,48,97)"
            ]
           ],
           "sequential": [
            [
             0.0,
             "#440154"
            ],
            [
             0.1111111111111111,
             "#482878"
            ],
            [
             0.2222222222222222,
             "#3e4989"
            ],
            [
             0.3333333333333333,
             "#31688e"
            ],
            [
             0.4444444444444444,
             "#26828e"
            ],
            [
             0.5555555555555556,
             "#1f9e89"
            ],
            [
             0.6666666666666666,
             "#35b779"
            ],
            [
             0.7777777777777778,
             "#6ece58"
            ],
            [
             0.8888888888888888,
             "#b5de2b"
            ],
            [
             1.0,
             "#fde725"
            ]
           ],
           "sequentialminus": [
            [
             0.0,
             "#440154"
            ],
            [
             0.1111111111111111,
             "#482878"
            ],
            [
             0.2222222222222222,
             "#3e4989"
            ],
            [
             0.3333333333333333,
             "#31688e"
            ],
            [
             0.4444444444444444,
             "#26828e"
            ],
            [
             0.5555555555555556,
             "#1f9e89"
            ],
            [
             0.6666666666666666,
             "#35b779"
            ],
            [
             0.7777777777777778,
             "#6ece58"
            ],
            [
             0.8888888888888888,
             "#b5de2b"
            ],
            [
             1.0,
             "#fde725"
            ]
           ]
          },
          "colorway": [
           "#91268F",
           "#00A7A0",
           "#8CC63E",
           "#F05A28",
           "#4C4C4C",
           "#630460",
           "#9f3913",
           "#588527",
           "#00716c",
           "#3e4040"
          ],
          "font": {
           "color": "rgb(36,36,36)",
           "size": 11
          },
          "geo": {
           "bgcolor": "white",
           "lakecolor": "white",
           "landcolor": "white",
           "showlakes": true,
           "showland": true,
           "subunitcolor": "white"
          },
          "hoverlabel": {
           "align": "left"
          },
          "hovermode": "closest",
          "mapbox": {
           "style": "light"
          },
          "paper_bgcolor": "white",
          "plot_bgcolor": "white",
          "polar": {
           "angularaxis": {
            "gridcolor": "rgb(232,232,232)",
            "linecolor": "rgb(36,36,36)",
            "showgrid": false,
            "showline": true,
            "ticks": "outside"
           },
           "bgcolor": "white",
           "radialaxis": {
            "gridcolor": "rgb(232,232,232)",
            "linecolor": "rgb(36,36,36)",
            "showgrid": false,
            "showline": true,
            "ticks": "outside"
           }
          },
          "scene": {
           "xaxis": {
            "backgroundcolor": "white",
            "gridcolor": "rgb(232,232,232)",
            "gridwidth": 2,
            "linecolor": "rgb(36,36,36)",
            "showbackground": true,
            "showgrid": false,
            "showline": true,
            "ticks": "outside",
            "zeroline": false,
            "zerolinecolor": "rgb(36,36,36)"
           },
           "yaxis": {
            "backgroundcolor": "white",
            "gridcolor": "rgb(232,232,232)",
            "gridwidth": 2,
            "linecolor": "rgb(36,36,36)",
            "showbackground": true,
            "showgrid": false,
            "showline": true,
            "ticks": "outside",
            "zeroline": false,
            "zerolinecolor": "rgb(36,36,36)"
           },
           "zaxis": {
            "backgroundcolor": "white",
            "gridcolor": "rgb(232,232,232)",
            "gridwidth": 2,
            "linecolor": "rgb(36,36,36)",
            "showbackground": true,
            "showgrid": false,
            "showline": true,
            "ticks": "outside",
            "zeroline": false,
            "zerolinecolor": "rgb(36,36,36)"
           }
          },
          "shapedefaults": {
           "fillcolor": "black",
           "line": {
            "width": 0
           },
           "opacity": 0.3
          },
          "ternary": {
           "aaxis": {
            "gridcolor": "rgb(232,232,232)",
            "linecolor": "rgb(36,36,36)",
            "showgrid": false,
            "showline": true,
            "ticks": "outside"
           },
           "baxis": {
            "gridcolor": "rgb(232,232,232)",
            "linecolor": "rgb(36,36,36)",
            "showgrid": false,
            "showline": true,
            "ticks": "outside"
           },
           "bgcolor": "white",
           "caxis": {
            "gridcolor": "rgb(232,232,232)",
            "linecolor": "rgb(36,36,36)",
            "showgrid": false,
            "showline": true,
            "ticks": "outside"
           }
          },
          "title": {
           "x": 0.05
          },
          "xaxis": {
           "automargin": true,
           "gridcolor": "rgb(232,232,232)",
           "linecolor": "rgb(36,36,36)",
           "showgrid": false,
           "showline": true,
           "ticks": "outside",
           "title": {
            "standoff": 15
           },
           "zeroline": false,
           "zerolinecolor": "rgb(36,36,36)"
          },
          "yaxis": {
           "automargin": true,
           "gridcolor": "rgb(232,232,232)",
           "linecolor": "rgb(36,36,36)",
           "showgrid": false,
           "showline": true,
           "ticks": "outside",
           "title": {
            "standoff": 15
           },
           "zeroline": false,
           "zerolinecolor": "rgb(36,36,36)"
          }
         }
        },
        "title": {
         "text": "Tour mode choice by auto_ownership_simple: disaggregated transit modes"
        },
        "width": 700,
        "xaxis": {
         "anchor": "y",
         "domain": [
          0.0,
          0.31999999999999995
         ],
         "tickformat": ".1%",
         "title": {
          "text": "percentage"
         }
        },
        "xaxis2": {
         "anchor": "y2",
         "domain": [
          0.33999999999999997,
          0.6599999999999999
         ],
         "matches": "x",
         "tickformat": ".1%",
         "title": {
          "text": "percentage"
         }
        },
        "xaxis3": {
         "anchor": "y3",
         "domain": [
          0.6799999999999999,
          0.9999999999999999
         ],
         "matches": "x",
         "title": {
          "text": "percentage"
         }
        },
        "xaxis4": {
         "anchor": "y4",
         "domain": [
          0.0,
          0.31999999999999995
         ],
         "matches": "x",
         "showticklabels": false
        },
        "xaxis5": {
         "anchor": "y5",
         "domain": [
          0.33999999999999997,
          0.6599999999999999
         ],
         "matches": "x",
         "showticklabels": false
        },
        "xaxis6": {
         "anchor": "y6",
         "domain": [
          0.6799999999999999,
          0.9999999999999999
         ],
         "matches": "x",
         "showticklabels": false
        },
        "yaxis": {
         "anchor": "x",
         "domain": [
          0.0,
          0.46499999999999997
         ],
         "title": {
          "text": "tour_mode"
         }
        },
        "yaxis2": {
         "anchor": "x2",
         "domain": [
          0.0,
          0.46499999999999997
         ],
         "matches": "y",
         "showticklabels": false
        },
        "yaxis3": {
         "anchor": "x3",
         "domain": [
          0.0,
          0.46499999999999997
         ],
         "matches": "y",
         "showticklabels": false
        },
        "yaxis4": {
         "anchor": "x4",
         "domain": [
          0.5349999999999999,
          0.9999999999999999
         ],
         "matches": "y",
         "title": {
          "text": "tour_mode"
         }
        },
        "yaxis5": {
         "anchor": "x5",
         "domain": [
          0.5349999999999999,
          0.9999999999999999
         ],
         "matches": "y",
         "showticklabels": false
        },
        "yaxis6": {
         "anchor": "x6",
         "domain": [
          0.5349999999999999,
          0.9999999999999999
         ],
         "matches": "y",
         "showticklabels": false
        }
       }
      },
      "text/html": [
       "<div>                            <div id=\"2bd18c10-f940-4dd5-8f6e-501a4c5bfac8\" class=\"plotly-graph-div\" style=\"height:500px; width:700px;\"></div>            <script type=\"text/javascript\">                require([\"plotly\"], function(Plotly) {                    window.PLOTLYENV=window.PLOTLYENV || {};                                    if (document.getElementById(\"2bd18c10-f940-4dd5-8f6e-501a4c5bfac8\")) {                    Plotly.newPlot(                        \"2bd18c10-f940-4dd5-8f6e-501a4c5bfac8\",                        [{\"alignmentgroup\":\"True\",\"hovertemplate\":\"source=model results<br>auto_ownership_simple=0<br>percentage=%{x}<br>tour_mode=%{y}<extra></extra>\",\"legendgroup\":\"model results\",\"marker\":{\"color\":\"#91268F\",\"pattern\":{\"shape\":\"\"}},\"name\":\"model results\",\"offsetgroup\":\"model results\",\"orientation\":\"h\",\"showlegend\":true,\"textposition\":\"auto\",\"x\":[0.01578119978807855,0.037925833282669054,0.3304845531844672,0.06197833884850222],\"xaxis\":\"x4\",\"y\":[\"WALK_COM\",\"WALK_FRY\",\"WALK_LOC\",\"WALK_LR\"],\"yaxis\":\"y4\",\"type\":\"bar\"},{\"alignmentgroup\":\"True\",\"hovertemplate\":\"source=model results<br>auto_ownership_simple=1<br>percentage=%{x}<br>tour_mode=%{y}<extra></extra>\",\"legendgroup\":\"model results\",\"marker\":{\"color\":\"#91268F\",\"pattern\":{\"shape\":\"\"}},\"name\":\"model results\",\"offsetgroup\":\"model results\",\"orientation\":\"h\",\"showlegend\":false,\"textposition\":\"auto\",\"x\":[0.006805837423126711,0.0060293101627797345,0.015281956715672132,0.06162084684704159,0.011596362127751206],\"xaxis\":\"x5\",\"y\":[\"DRIVE_TRN\",\"WALK_COM\",\"WALK_FRY\",\"WALK_LOC\",\"WALK_LR\"],\"yaxis\":\"y5\",\"type\":\"bar\"},{\"alignmentgroup\":\"True\",\"hovertemplate\":\"source=model results<br>auto_ownership_simple=2<br>percentage=%{x}<br>tour_mode=%{y}<extra></extra>\",\"legendgroup\":\"model results\",\"marker\":{\"color\":\"#91268F\",\"pattern\":{\"shape\":\"\"}},\"name\":\"model results\",\"offsetgroup\":\"model results\",\"orientation\":\"h\",\"showlegend\":false,\"textposition\":\"auto\",\"x\":[0.007334952532050688,0.004649678323308251,0.011364408882108384,0.03669551029921627,0.006622911220411439],\"xaxis\":\"x6\",\"y\":[\"DRIVE_TRN\",\"WALK_COM\",\"WALK_FRY\",\"WALK_LOC\",\"WALK_LR\"],\"yaxis\":\"y6\",\"type\":\"bar\"},{\"alignmentgroup\":\"True\",\"hovertemplate\":\"source=model results<br>auto_ownership_simple=3<br>percentage=%{x}<br>tour_mode=%{y}<extra></extra>\",\"legendgroup\":\"model results\",\"marker\":{\"color\":\"#91268F\",\"pattern\":{\"shape\":\"\"}},\"name\":\"model results\",\"offsetgroup\":\"model results\",\"orientation\":\"h\",\"showlegend\":false,\"textposition\":\"auto\",\"x\":[0.00844388354977866,0.003889752023174214,0.00997698802987346,0.024689862102745725,0.004244019300892035],\"xaxis\":\"x\",\"y\":[\"DRIVE_TRN\",\"WALK_COM\",\"WALK_FRY\",\"WALK_LOC\",\"WALK_LR\"],\"yaxis\":\"y\",\"type\":\"bar\"},{\"alignmentgroup\":\"True\",\"hovertemplate\":\"source=model results<br>auto_ownership_simple=4+<br>percentage=%{x}<br>tour_mode=%{y}<extra></extra>\",\"legendgroup\":\"model results\",\"marker\":{\"color\":\"#91268F\",\"pattern\":{\"shape\":\"\"}},\"name\":\"model results\",\"offsetgroup\":\"model results\",\"orientation\":\"h\",\"showlegend\":false,\"textposition\":\"auto\",\"x\":[0.008651898002518907,0.003303783836404899,0.008426778293592606,0.021918750038026978,0.0038970046910079886],\"xaxis\":\"x2\",\"y\":[\"DRIVE_TRN\",\"WALK_COM\",\"WALK_FRY\",\"WALK_LOC\",\"WALK_LR\"],\"yaxis\":\"y2\",\"type\":\"bar\"},{\"alignmentgroup\":\"True\",\"hovertemplate\":\"source=survey data<br>auto_ownership_simple=0<br>percentage=%{x}<br>tour_mode=%{y}<extra></extra>\",\"legendgroup\":\"survey data\",\"marker\":{\"color\":\"#00A7A0\",\"pattern\":{\"shape\":\"\"}},\"name\":\"survey data\",\"offsetgroup\":\"survey data\",\"orientation\":\"h\",\"showlegend\":true,\"textposition\":\"auto\",\"x\":[0.0024465538545953374,1.9786184144611858e-05,0.0015376594971279675,0.444070266754225,0.023887797236591197],\"xaxis\":\"x4\",\"y\":[\"DRIVE_TRN\",\"WALK_COM\",\"WALK_FRY\",\"WALK_LOC\",\"WALK_LR\"],\"yaxis\":\"y4\",\"type\":\"bar\"},{\"alignmentgroup\":\"True\",\"hovertemplate\":\"source=survey data<br>auto_ownership_simple=1<br>percentage=%{x}<br>tour_mode=%{y}<extra></extra>\",\"legendgroup\":\"survey data\",\"marker\":{\"color\":\"#00A7A0\",\"pattern\":{\"shape\":\"\"}},\"name\":\"survey data\",\"offsetgroup\":\"survey data\",\"orientation\":\"h\",\"showlegend\":false,\"textposition\":\"auto\",\"x\":[0.0068764399636044,0.001496565622602426,0.006002922218867262,0.061655111745105434,0.008284401201623113],\"xaxis\":\"x5\",\"y\":[\"DRIVE_TRN\",\"WALK_COM\",\"WALK_FRY\",\"WALK_LOC\",\"WALK_LR\"],\"yaxis\":\"y5\",\"type\":\"bar\"},{\"alignmentgroup\":\"True\",\"hovertemplate\":\"source=survey data<br>auto_ownership_simple=2<br>percentage=%{x}<br>tour_mode=%{y}<extra></extra>\",\"legendgroup\":\"survey data\",\"marker\":{\"color\":\"#00A7A0\",\"pattern\":{\"shape\":\"\"}},\"name\":\"survey data\",\"offsetgroup\":\"survey data\",\"orientation\":\"h\",\"showlegend\":false,\"textposition\":\"auto\",\"x\":[0.0040553078460905485,0.00024961128351148285,0.0013664549892456555,0.02913439479091098,0.0008797141254280362],\"xaxis\":\"x6\",\"y\":[\"DRIVE_TRN\",\"WALK_COM\",\"WALK_FRY\",\"WALK_LOC\",\"WALK_LR\"],\"yaxis\":\"y6\",\"type\":\"bar\"},{\"alignmentgroup\":\"True\",\"hovertemplate\":\"source=survey data<br>auto_ownership_simple=3<br>percentage=%{x}<br>tour_mode=%{y}<extra></extra>\",\"legendgroup\":\"survey data\",\"marker\":{\"color\":\"#00A7A0\",\"pattern\":{\"shape\":\"\"}},\"name\":\"survey data\",\"offsetgroup\":\"survey data\",\"orientation\":\"h\",\"showlegend\":false,\"textposition\":\"auto\",\"x\":[0.0002506914685965613,9.909543318851205e-05,7.494107888894912e-05,0.023647972232099936,0.005289852223510758],\"xaxis\":\"x\",\"y\":[\"DRIVE_TRN\",\"WALK_COM\",\"WALK_FRY\",\"WALK_LOC\",\"WALK_LR\"],\"yaxis\":\"y\",\"type\":\"bar\"},{\"alignmentgroup\":\"True\",\"hovertemplate\":\"source=survey data<br>auto_ownership_simple=4+<br>percentage=%{x}<br>tour_mode=%{y}<extra></extra>\",\"legendgroup\":\"survey data\",\"marker\":{\"color\":\"#00A7A0\",\"pattern\":{\"shape\":\"\"}},\"name\":\"survey data\",\"offsetgroup\":\"survey data\",\"orientation\":\"h\",\"showlegend\":false,\"textposition\":\"auto\",\"x\":[0.013338885229579479,0.024602353917997182,0.0009791890199584998],\"xaxis\":\"x2\",\"y\":[\"DRIVE_TRN\",\"WALK_LOC\",\"WALK_LR\"],\"yaxis\":\"y2\",\"type\":\"bar\"},{\"alignmentgroup\":\"True\",\"hovertemplate\":\"source=unweighted survey<br>auto_ownership_simple=0<br>percentage=%{x}<br>tour_mode=%{y}<extra></extra>\",\"legendgroup\":\"unweighted survey\",\"marker\":{\"color\":\"#8CC63E\",\"pattern\":{\"shape\":\"\"}},\"name\":\"unweighted survey\",\"offsetgroup\":\"unweighted survey\",\"orientation\":\"h\",\"showlegend\":true,\"textposition\":\"auto\",\"x\":[0.0034782608695652175,0.0008695652173913044,0.0017391304347826088,0.3591304347826087,0.08260869565217391],\"xaxis\":\"x4\",\"y\":[\"DRIVE_TRN\",\"WALK_COM\",\"WALK_FRY\",\"WALK_LOC\",\"WALK_LR\"],\"yaxis\":\"y4\",\"type\":\"bar\"},{\"alignmentgroup\":\"True\",\"hovertemplate\":\"source=unweighted survey<br>auto_ownership_simple=1<br>percentage=%{x}<br>tour_mode=%{y}<extra></extra>\",\"legendgroup\":\"unweighted survey\",\"marker\":{\"color\":\"#8CC63E\",\"pattern\":{\"shape\":\"\"}},\"name\":\"unweighted survey\",\"offsetgroup\":\"unweighted survey\",\"orientation\":\"h\",\"showlegend\":false,\"textposition\":\"auto\",\"x\":[0.007242990654205608,0.00046728971962616824,0.001869158878504673,0.13948598130841122,0.03154205607476635],\"xaxis\":\"x5\",\"y\":[\"DRIVE_TRN\",\"WALK_COM\",\"WALK_FRY\",\"WALK_LOC\",\"WALK_LR\"],\"yaxis\":\"y5\",\"type\":\"bar\"},{\"alignmentgroup\":\"True\",\"hovertemplate\":\"source=unweighted survey<br>auto_ownership_simple=2<br>percentage=%{x}<br>tour_mode=%{y}<extra></extra>\",\"legendgroup\":\"unweighted survey\",\"marker\":{\"color\":\"#8CC63E\",\"pattern\":{\"shape\":\"\"}},\"name\":\"unweighted survey\",\"offsetgroup\":\"unweighted survey\",\"orientation\":\"h\",\"showlegend\":false,\"textposition\":\"auto\",\"x\":[0.00863060989643268,0.0017261219792865361,0.0031645569620253164,0.07307249712313003,0.012658227848101266],\"xaxis\":\"x6\",\"y\":[\"DRIVE_TRN\",\"WALK_COM\",\"WALK_FRY\",\"WALK_LOC\",\"WALK_LR\"],\"yaxis\":\"y6\",\"type\":\"bar\"},{\"alignmentgroup\":\"True\",\"hovertemplate\":\"source=unweighted survey<br>auto_ownership_simple=3<br>percentage=%{x}<br>tour_mode=%{y}<extra></extra>\",\"legendgroup\":\"unweighted survey\",\"marker\":{\"color\":\"#8CC63E\",\"pattern\":{\"shape\":\"\"}},\"name\":\"unweighted survey\",\"offsetgroup\":\"unweighted survey\",\"orientation\":\"h\",\"showlegend\":false,\"textposition\":\"auto\",\"x\":[0.0026246719160104987,0.0013123359580052493,0.0013123359580052493,0.03280839895013123,0.006561679790026247],\"xaxis\":\"x\",\"y\":[\"DRIVE_TRN\",\"WALK_COM\",\"WALK_FRY\",\"WALK_LOC\",\"WALK_LR\"],\"yaxis\":\"y\",\"type\":\"bar\"},{\"alignmentgroup\":\"True\",\"hovertemplate\":\"source=unweighted survey<br>auto_ownership_simple=4+<br>percentage=%{x}<br>tour_mode=%{y}<extra></extra>\",\"legendgroup\":\"unweighted survey\",\"marker\":{\"color\":\"#8CC63E\",\"pattern\":{\"shape\":\"\"}},\"name\":\"unweighted survey\",\"offsetgroup\":\"unweighted survey\",\"orientation\":\"h\",\"showlegend\":false,\"textposition\":\"auto\",\"x\":[0.01,0.016666666666666666,0.01],\"xaxis\":\"x2\",\"y\":[\"DRIVE_TRN\",\"WALK_LOC\",\"WALK_LR\"],\"yaxis\":\"y2\",\"type\":\"bar\"}],                        {\"template\":{\"data\":{\"barpolar\":[{\"marker\":{\"line\":{\"color\":\"white\",\"width\":0.5},\"pattern\":{\"fillmode\":\"overlay\",\"size\":10,\"solidity\":0.2}},\"type\":\"barpolar\"}],\"bar\":[{\"error_x\":{\"color\":\"rgb(36,36,36)\"},\"error_y\":{\"color\":\"rgb(36,36,36)\"},\"marker\":{\"line\":{\"color\":\"white\",\"width\":0.5},\"pattern\":{\"fillmode\":\"overlay\",\"size\":10,\"solidity\":0.2}},\"type\":\"bar\"}],\"carpet\":[{\"aaxis\":{\"endlinecolor\":\"rgb(36,36,36)\",\"gridcolor\":\"white\",\"linecolor\":\"white\",\"minorgridcolor\":\"white\",\"startlinecolor\":\"rgb(36,36,36)\"},\"baxis\":{\"endlinecolor\":\"rgb(36,36,36)\",\"gridcolor\":\"white\",\"linecolor\":\"white\",\"minorgridcolor\":\"white\",\"startlinecolor\":\"rgb(36,36,36)\"},\"type\":\"carpet\"}],\"choropleth\":[{\"colorbar\":{\"outlinewidth\":1,\"tickcolor\":\"rgb(36,36,36)\",\"ticks\":\"outside\"},\"type\":\"choropleth\"}],\"contourcarpet\":[{\"colorbar\":{\"outlinewidth\":1,\"tickcolor\":\"rgb(36,36,36)\",\"ticks\":\"outside\"},\"type\":\"contourcarpet\"}],\"contour\":[{\"colorbar\":{\"outlinewidth\":1,\"tickcolor\":\"rgb(36,36,36)\",\"ticks\":\"outside\"},\"colorscale\":[[0.0,\"#440154\"],[0.1111111111111111,\"#482878\"],[0.2222222222222222,\"#3e4989\"],[0.3333333333333333,\"#31688e\"],[0.4444444444444444,\"#26828e\"],[0.5555555555555556,\"#1f9e89\"],[0.6666666666666666,\"#35b779\"],[0.7777777777777778,\"#6ece58\"],[0.8888888888888888,\"#b5de2b\"],[1.0,\"#fde725\"]],\"type\":\"contour\"}],\"heatmapgl\":[{\"colorbar\":{\"outlinewidth\":1,\"tickcolor\":\"rgb(36,36,36)\",\"ticks\":\"outside\"},\"colorscale\":[[0.0,\"#440154\"],[0.1111111111111111,\"#482878\"],[0.2222222222222222,\"#3e4989\"],[0.3333333333333333,\"#31688e\"],[0.4444444444444444,\"#26828e\"],[0.5555555555555556,\"#1f9e89\"],[0.6666666666666666,\"#35b779\"],[0.7777777777777778,\"#6ece58\"],[0.8888888888888888,\"#b5de2b\"],[1.0,\"#fde725\"]],\"type\":\"heatmapgl\"}],\"heatmap\":[{\"colorbar\":{\"outlinewidth\":1,\"tickcolor\":\"rgb(36,36,36)\",\"ticks\":\"outside\"},\"colorscale\":[[0.0,\"#440154\"],[0.1111111111111111,\"#482878\"],[0.2222222222222222,\"#3e4989\"],[0.3333333333333333,\"#31688e\"],[0.4444444444444444,\"#26828e\"],[0.5555555555555556,\"#1f9e89\"],[0.6666666666666666,\"#35b779\"],[0.7777777777777778,\"#6ece58\"],[0.8888888888888888,\"#b5de2b\"],[1.0,\"#fde725\"]],\"type\":\"heatmap\"}],\"histogram2dcontour\":[{\"colorbar\":{\"outlinewidth\":1,\"tickcolor\":\"rgb(36,36,36)\",\"ticks\":\"outside\"},\"colorscale\":[[0.0,\"#440154\"],[0.1111111111111111,\"#482878\"],[0.2222222222222222,\"#3e4989\"],[0.3333333333333333,\"#31688e\"],[0.4444444444444444,\"#26828e\"],[0.5555555555555556,\"#1f9e89\"],[0.6666666666666666,\"#35b779\"],[0.7777777777777778,\"#6ece58\"],[0.8888888888888888,\"#b5de2b\"],[1.0,\"#fde725\"]],\"type\":\"histogram2dcontour\"}],\"histogram2d\":[{\"colorbar\":{\"outlinewidth\":1,\"tickcolor\":\"rgb(36,36,36)\",\"ticks\":\"outside\"},\"colorscale\":[[0.0,\"#440154\"],[0.1111111111111111,\"#482878\"],[0.2222222222222222,\"#3e4989\"],[0.3333333333333333,\"#31688e\"],[0.4444444444444444,\"#26828e\"],[0.5555555555555556,\"#1f9e89\"],[0.6666666666666666,\"#35b779\"],[0.7777777777777778,\"#6ece58\"],[0.8888888888888888,\"#b5de2b\"],[1.0,\"#fde725\"]],\"type\":\"histogram2d\"}],\"histogram\":[{\"marker\":{\"line\":{\"color\":\"white\",\"width\":0.6}},\"type\":\"histogram\"}],\"mesh3d\":[{\"colorbar\":{\"outlinewidth\":1,\"tickcolor\":\"rgb(36,36,36)\",\"ticks\":\"outside\"},\"type\":\"mesh3d\"}],\"parcoords\":[{\"line\":{\"colorbar\":{\"outlinewidth\":1,\"tickcolor\":\"rgb(36,36,36)\",\"ticks\":\"outside\"}},\"type\":\"parcoords\"}],\"pie\":[{\"automargin\":true,\"type\":\"pie\"}],\"scatter3d\":[{\"line\":{\"colorbar\":{\"outlinewidth\":1,\"tickcolor\":\"rgb(36,36,36)\",\"ticks\":\"outside\"}},\"marker\":{\"colorbar\":{\"outlinewidth\":1,\"tickcolor\":\"rgb(36,36,36)\",\"ticks\":\"outside\"}},\"type\":\"scatter3d\"}],\"scattercarpet\":[{\"marker\":{\"colorbar\":{\"outlinewidth\":1,\"tickcolor\":\"rgb(36,36,36)\",\"ticks\":\"outside\"}},\"type\":\"scattercarpet\"}],\"scattergeo\":[{\"marker\":{\"colorbar\":{\"outlinewidth\":1,\"tickcolor\":\"rgb(36,36,36)\",\"ticks\":\"outside\"}},\"type\":\"scattergeo\"}],\"scattergl\":[{\"marker\":{\"colorbar\":{\"outlinewidth\":1,\"tickcolor\":\"rgb(36,36,36)\",\"ticks\":\"outside\"}},\"type\":\"scattergl\"}],\"scattermapbox\":[{\"marker\":{\"colorbar\":{\"outlinewidth\":1,\"tickcolor\":\"rgb(36,36,36)\",\"ticks\":\"outside\"}},\"type\":\"scattermapbox\"}],\"scatterpolargl\":[{\"marker\":{\"colorbar\":{\"outlinewidth\":1,\"tickcolor\":\"rgb(36,36,36)\",\"ticks\":\"outside\"}},\"type\":\"scatterpolargl\"}],\"scatterpolar\":[{\"marker\":{\"colorbar\":{\"outlinewidth\":1,\"tickcolor\":\"rgb(36,36,36)\",\"ticks\":\"outside\"}},\"type\":\"scatterpolar\"}],\"scatter\":[{\"fillpattern\":{\"fillmode\":\"overlay\",\"size\":10,\"solidity\":0.2},\"type\":\"scatter\"}],\"scatterternary\":[{\"marker\":{\"colorbar\":{\"outlinewidth\":1,\"tickcolor\":\"rgb(36,36,36)\",\"ticks\":\"outside\"}},\"type\":\"scatterternary\"}],\"surface\":[{\"colorbar\":{\"outlinewidth\":1,\"tickcolor\":\"rgb(36,36,36)\",\"ticks\":\"outside\"},\"colorscale\":[[0.0,\"#440154\"],[0.1111111111111111,\"#482878\"],[0.2222222222222222,\"#3e4989\"],[0.3333333333333333,\"#31688e\"],[0.4444444444444444,\"#26828e\"],[0.5555555555555556,\"#1f9e89\"],[0.6666666666666666,\"#35b779\"],[0.7777777777777778,\"#6ece58\"],[0.8888888888888888,\"#b5de2b\"],[1.0,\"#fde725\"]],\"type\":\"surface\"}],\"table\":[{\"cells\":{\"fill\":{\"color\":\"rgb(237,237,237)\"},\"line\":{\"color\":\"white\"}},\"header\":{\"fill\":{\"color\":\"rgb(217,217,217)\"},\"line\":{\"color\":\"white\"}},\"type\":\"table\"}]},\"layout\":{\"annotationdefaults\":{\"arrowhead\":0,\"arrowwidth\":1},\"autotypenumbers\":\"strict\",\"coloraxis\":{\"colorbar\":{\"outlinewidth\":1,\"tickcolor\":\"rgb(36,36,36)\",\"ticks\":\"outside\"}},\"colorscale\":{\"diverging\":[[0.0,\"rgb(103,0,31)\"],[0.1,\"rgb(178,24,43)\"],[0.2,\"rgb(214,96,77)\"],[0.3,\"rgb(244,165,130)\"],[0.4,\"rgb(253,219,199)\"],[0.5,\"rgb(247,247,247)\"],[0.6,\"rgb(209,229,240)\"],[0.7,\"rgb(146,197,222)\"],[0.8,\"rgb(67,147,195)\"],[0.9,\"rgb(33,102,172)\"],[1.0,\"rgb(5,48,97)\"]],\"sequential\":[[0.0,\"#440154\"],[0.1111111111111111,\"#482878\"],[0.2222222222222222,\"#3e4989\"],[0.3333333333333333,\"#31688e\"],[0.4444444444444444,\"#26828e\"],[0.5555555555555556,\"#1f9e89\"],[0.6666666666666666,\"#35b779\"],[0.7777777777777778,\"#6ece58\"],[0.8888888888888888,\"#b5de2b\"],[1.0,\"#fde725\"]],\"sequentialminus\":[[0.0,\"#440154\"],[0.1111111111111111,\"#482878\"],[0.2222222222222222,\"#3e4989\"],[0.3333333333333333,\"#31688e\"],[0.4444444444444444,\"#26828e\"],[0.5555555555555556,\"#1f9e89\"],[0.6666666666666666,\"#35b779\"],[0.7777777777777778,\"#6ece58\"],[0.8888888888888888,\"#b5de2b\"],[1.0,\"#fde725\"]]},\"colorway\":[\"#91268F\",\"#00A7A0\",\"#8CC63E\",\"#F05A28\",\"#4C4C4C\",\"#630460\",\"#9f3913\",\"#588527\",\"#00716c\",\"#3e4040\"],\"font\":{\"color\":\"rgb(36,36,36)\",\"size\":11},\"geo\":{\"bgcolor\":\"white\",\"lakecolor\":\"white\",\"landcolor\":\"white\",\"showlakes\":true,\"showland\":true,\"subunitcolor\":\"white\"},\"hoverlabel\":{\"align\":\"left\"},\"hovermode\":\"closest\",\"mapbox\":{\"style\":\"light\"},\"paper_bgcolor\":\"white\",\"plot_bgcolor\":\"white\",\"polar\":{\"angularaxis\":{\"gridcolor\":\"rgb(232,232,232)\",\"linecolor\":\"rgb(36,36,36)\",\"showgrid\":false,\"showline\":true,\"ticks\":\"outside\"},\"bgcolor\":\"white\",\"radialaxis\":{\"gridcolor\":\"rgb(232,232,232)\",\"linecolor\":\"rgb(36,36,36)\",\"showgrid\":false,\"showline\":true,\"ticks\":\"outside\"}},\"scene\":{\"xaxis\":{\"backgroundcolor\":\"white\",\"gridcolor\":\"rgb(232,232,232)\",\"gridwidth\":2,\"linecolor\":\"rgb(36,36,36)\",\"showbackground\":true,\"showgrid\":false,\"showline\":true,\"ticks\":\"outside\",\"zeroline\":false,\"zerolinecolor\":\"rgb(36,36,36)\"},\"yaxis\":{\"backgroundcolor\":\"white\",\"gridcolor\":\"rgb(232,232,232)\",\"gridwidth\":2,\"linecolor\":\"rgb(36,36,36)\",\"showbackground\":true,\"showgrid\":false,\"showline\":true,\"ticks\":\"outside\",\"zeroline\":false,\"zerolinecolor\":\"rgb(36,36,36)\"},\"zaxis\":{\"backgroundcolor\":\"white\",\"gridcolor\":\"rgb(232,232,232)\",\"gridwidth\":2,\"linecolor\":\"rgb(36,36,36)\",\"showbackground\":true,\"showgrid\":false,\"showline\":true,\"ticks\":\"outside\",\"zeroline\":false,\"zerolinecolor\":\"rgb(36,36,36)\"}},\"shapedefaults\":{\"fillcolor\":\"black\",\"line\":{\"width\":0},\"opacity\":0.3},\"ternary\":{\"aaxis\":{\"gridcolor\":\"rgb(232,232,232)\",\"linecolor\":\"rgb(36,36,36)\",\"showgrid\":false,\"showline\":true,\"ticks\":\"outside\"},\"baxis\":{\"gridcolor\":\"rgb(232,232,232)\",\"linecolor\":\"rgb(36,36,36)\",\"showgrid\":false,\"showline\":true,\"ticks\":\"outside\"},\"bgcolor\":\"white\",\"caxis\":{\"gridcolor\":\"rgb(232,232,232)\",\"linecolor\":\"rgb(36,36,36)\",\"showgrid\":false,\"showline\":true,\"ticks\":\"outside\"}},\"title\":{\"x\":0.05},\"xaxis\":{\"automargin\":true,\"gridcolor\":\"rgb(232,232,232)\",\"linecolor\":\"rgb(36,36,36)\",\"showgrid\":false,\"showline\":true,\"ticks\":\"outside\",\"title\":{\"standoff\":15},\"zeroline\":false,\"zerolinecolor\":\"rgb(36,36,36)\"},\"yaxis\":{\"automargin\":true,\"gridcolor\":\"rgb(232,232,232)\",\"linecolor\":\"rgb(36,36,36)\",\"showgrid\":false,\"showline\":true,\"ticks\":\"outside\",\"title\":{\"standoff\":15},\"zeroline\":false,\"zerolinecolor\":\"rgb(36,36,36)\"}}},\"xaxis\":{\"anchor\":\"y\",\"domain\":[0.0,0.31999999999999995],\"title\":{\"text\":\"percentage\"},\"tickformat\":\".1%\"},\"yaxis\":{\"anchor\":\"x\",\"domain\":[0.0,0.46499999999999997],\"title\":{\"text\":\"tour_mode\"}},\"xaxis2\":{\"anchor\":\"y2\",\"domain\":[0.33999999999999997,0.6599999999999999],\"matches\":\"x\",\"title\":{\"text\":\"percentage\"},\"tickformat\":\".1%\"},\"yaxis2\":{\"anchor\":\"x2\",\"domain\":[0.0,0.46499999999999997],\"matches\":\"y\",\"showticklabels\":false},\"xaxis3\":{\"anchor\":\"y3\",\"domain\":[0.6799999999999999,0.9999999999999999],\"matches\":\"x\",\"title\":{\"text\":\"percentage\"}},\"yaxis3\":{\"anchor\":\"x3\",\"domain\":[0.0,0.46499999999999997],\"matches\":\"y\",\"showticklabels\":false},\"xaxis4\":{\"anchor\":\"y4\",\"domain\":[0.0,0.31999999999999995],\"matches\":\"x\",\"showticklabels\":false},\"yaxis4\":{\"anchor\":\"x4\",\"domain\":[0.5349999999999999,0.9999999999999999],\"matches\":\"y\",\"title\":{\"text\":\"tour_mode\"}},\"xaxis5\":{\"anchor\":\"y5\",\"domain\":[0.33999999999999997,0.6599999999999999],\"matches\":\"x\",\"showticklabels\":false},\"yaxis5\":{\"anchor\":\"x5\",\"domain\":[0.5349999999999999,0.9999999999999999],\"matches\":\"y\",\"showticklabels\":false},\"xaxis6\":{\"anchor\":\"y6\",\"domain\":[0.6799999999999999,0.9999999999999999],\"matches\":\"x\",\"showticklabels\":false},\"yaxis6\":{\"anchor\":\"x6\",\"domain\":[0.5349999999999999,0.9999999999999999],\"matches\":\"y\",\"showticklabels\":false},\"annotations\":[{\"font\":{},\"showarrow\":false,\"text\":\"3\",\"x\":0.15999999999999998,\"xanchor\":\"center\",\"xref\":\"paper\",\"y\":0.46499999999999997,\"yanchor\":\"bottom\",\"yref\":\"paper\"},{\"font\":{},\"showarrow\":false,\"text\":\"4+\",\"x\":0.49999999999999994,\"xanchor\":\"center\",\"xref\":\"paper\",\"y\":0.46499999999999997,\"yanchor\":\"bottom\",\"yref\":\"paper\"},{\"font\":{},\"showarrow\":false,\"text\":\"0\",\"x\":0.15999999999999998,\"xanchor\":\"center\",\"xref\":\"paper\",\"y\":0.9999999999999999,\"yanchor\":\"bottom\",\"yref\":\"paper\"},{\"font\":{},\"showarrow\":false,\"text\":\"1\",\"x\":0.49999999999999994,\"xanchor\":\"center\",\"xref\":\"paper\",\"y\":0.9999999999999999,\"yanchor\":\"bottom\",\"yref\":\"paper\"},{\"font\":{},\"showarrow\":false,\"text\":\"2\",\"x\":0.8399999999999999,\"xanchor\":\"center\",\"xref\":\"paper\",\"y\":0.9999999999999999,\"yanchor\":\"bottom\",\"yref\":\"paper\"}],\"legend\":{\"title\":{\"text\":\"source\"},\"tracegroupgap\":0},\"title\":{\"text\":\"Tour mode choice by auto_ownership_simple: disaggregated transit modes\"},\"barmode\":\"group\",\"height\":500,\"width\":700},                        {\"responsive\": true}                    ).then(function(){\n",
       "                            \n",
       "var gd = document.getElementById('2bd18c10-f940-4dd5-8f6e-501a4c5bfac8');\n",
       "var x = new MutationObserver(function (mutations, observer) {{\n",
       "        var display = window.getComputedStyle(gd).display;\n",
       "        if (!display || display === 'none') {{\n",
       "            console.log([gd, 'removed!']);\n",
       "            Plotly.purge(gd);\n",
       "            observer.disconnect();\n",
       "        }}\n",
       "}});\n",
       "\n",
       "// Listen for the removal of the full notebook cells\n",
       "var notebookContainer = gd.closest('#notebook-container');\n",
       "if (notebookContainer) {{\n",
       "    x.observe(notebookContainer, {childList: true});\n",
       "}}\n",
       "\n",
       "// Listen for the clearing of the current output cell\n",
       "var outputEl = gd.closest('.output');\n",
       "if (outputEl) {{\n",
       "    x.observe(outputEl, {childList: true});\n",
       "}}\n",
       "\n",
       "                        })                };                });            </script>        </div>"
      ]
     },
     "metadata": {},
     "output_type": "display_data"
    }
   ],
   "source": [
    "plot_mode_choice(tour_data,'auto_ownership_simple',3,600)\n",
    "plot_mode_choice_transit(tour_data,'auto_ownership_simple',3,500)"
   ]
  },
  {
   "cell_type": "raw",
   "metadata": {
    "collapsed": false
   },
   "source": [
    ":::"
   ]
  }
 ],
 "metadata": {
  "kernelspec": {
   "display_name": "Python 3",
   "language": "python",
   "name": "python3"
  },
  "language_info": {
   "codemirror_mode": {
    "name": "ipython",
    "version": 3
   },
   "file_extension": ".py",
   "mimetype": "text/x-python",
   "name": "python",
   "nbconvert_exporter": "python",
   "pygments_lexer": "ipython3",
   "version": "3.9.15"
  }
 },
 "nbformat": 4,
 "nbformat_minor": 0
}

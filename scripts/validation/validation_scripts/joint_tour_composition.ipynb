{
 "cells": [
  {
   "cell_type": "raw",
   "metadata": {
    "collapsed": false
   },
   "source": [
    "---\n",
    "title: Joint Tour Composition\n",
    "date: today\n",
    "---"
   ]
  },
  {
   "cell_type": "markdown",
   "metadata": {
    "collapsed": false
   },
   "source": [
    "This model predicts the makeup of the travel party (adults, children, or mixed)."
   ]
  },
  {
   "cell_type": "code",
   "metadata": {
    "collapsed": false,
    "execution": {
     "iopub.execute_input": "2024-03-08T20:42:02.445553Z",
     "iopub.status.busy": "2024-03-08T20:42:02.444556Z",
     "iopub.status.idle": "2024-03-08T20:42:03.690226Z",
     "shell.execute_reply": "2024-03-08T20:42:03.688231Z"
    },
    "ExecuteTime": {
     "end_time": "2024-07-18T02:47:26.309185Z",
     "start_time": "2024-07-18T02:47:17.543354Z"
    }
   },
   "source": [
    "import os\n",
    "import toml\n",
    "import pandas as pd\n",
    "import validation_data_input\n",
    "import numpy as np\n",
    "import plotly.express as px\n",
    "from plotly.subplots import make_subplots\n",
    "\n",
    "# to show plotly figures in quarto HTML file\n",
    "import plotly.io as pio\n",
    "pio.renderers.default = \"plotly_mimetype+notebook_connected\"\n",
    "\n",
    "config = toml.load(os.path.join(os.getcwd(), 'validation_configuration.toml'))\n",
    "\n",
    "# run get_data.ipynb to load validation data\n",
    "%store -r validation_data"
   ],
   "outputs": [],
   "execution_count": 1
  },
  {
   "metadata": {
    "ExecuteTime": {
     "end_time": "2024-07-18T02:47:28.856031Z",
     "start_time": "2024-07-18T02:47:28.215177Z"
    }
   },
   "cell_type": "code",
   "source": [
    "tour_data = validation_data.tours.copy()\n",
    "# all joint tours\n",
    "joint_tour_data = tour_data.loc[tour_data['tour_category'] == \"joint\"]"
   ],
   "outputs": [],
   "execution_count": 2
  },
  {
   "cell_type": "markdown",
   "metadata": {
    "collapsed": false
   },
   "source": [
    "- joint tour count"
   ]
  },
  {
   "cell_type": "code",
   "metadata": {
    "collapsed": false,
    "execution": {
     "iopub.execute_input": "2024-03-08T20:42:16.960889Z",
     "iopub.status.busy": "2024-03-08T20:42:16.959890Z",
     "iopub.status.idle": "2024-03-08T20:42:17.290007Z",
     "shell.execute_reply": "2024-03-08T20:42:17.288014Z"
    },
    "ExecuteTime": {
     "end_time": "2024-07-18T02:48:07.576766Z",
     "start_time": "2024-07-18T02:48:07.137236Z"
    }
   },
   "source": [
    "# total number of joint tours by source\n",
    "df_1 = joint_tour_data.groupby('source')['tour_weight'].sum().reset_index()\n",
    "df_1 = df_1.rename(columns={\"tour_weight\": \"joint tour count\"})\n",
    "# total number of tours by source\n",
    "df_2 = tour_data.groupby('source')['tour_weight'].sum().reset_index()\n",
    "df_2 = df_2.rename(columns={\"tour_weight\": \"tour count\"})\n",
    "\n",
    "df_joint_tour_count = df_1.merge(df_2, how=\"left\", on='source')\n",
    "df_joint_tour_count['joint_percent'] = df_joint_tour_count['joint tour count']/df_joint_tour_count['tour count']\n",
    "df_joint_tour_count['tour count'] = df_joint_tour_count['tour count'].astype(float).map(lambda n: '{:.2f}'.format(n))\n",
    "df_joint_tour_count['joint tour count'] = df_joint_tour_count['joint tour count'].astype(float).map(lambda n: '{:.2f}'.format(n))\n",
    "df_joint_tour_count['joint_percent'] = df_joint_tour_count['joint_percent'].astype(float).map(lambda n: '{:.2%}'.format(n))\n",
    "df_joint_tour_count"
   ],
   "outputs": [
    {
     "data": {
      "text/plain": [
       "              source joint tour count  tour count joint_percent\n",
       "0      model results        115666.00  4980035.00         2.32%\n",
       "1        survey data        580289.46  4363436.11        13.30%\n",
       "2  unweighted survey           995.00    10907.00         9.12%"
      ],
      "text/html": [
       "<div>\n",
       "<style scoped>\n",
       "    .dataframe tbody tr th:only-of-type {\n",
       "        vertical-align: middle;\n",
       "    }\n",
       "\n",
       "    .dataframe tbody tr th {\n",
       "        vertical-align: top;\n",
       "    }\n",
       "\n",
       "    .dataframe thead th {\n",
       "        text-align: right;\n",
       "    }\n",
       "</style>\n",
       "<table border=\"1\" class=\"dataframe\">\n",
       "  <thead>\n",
       "    <tr style=\"text-align: right;\">\n",
       "      <th></th>\n",
       "      <th>source</th>\n",
       "      <th>joint tour count</th>\n",
       "      <th>tour count</th>\n",
       "      <th>joint_percent</th>\n",
       "    </tr>\n",
       "  </thead>\n",
       "  <tbody>\n",
       "    <tr>\n",
       "      <th>0</th>\n",
       "      <td>model results</td>\n",
       "      <td>115666.00</td>\n",
       "      <td>4980035.00</td>\n",
       "      <td>2.32%</td>\n",
       "    </tr>\n",
       "    <tr>\n",
       "      <th>1</th>\n",
       "      <td>survey data</td>\n",
       "      <td>580289.46</td>\n",
       "      <td>4363436.11</td>\n",
       "      <td>13.30%</td>\n",
       "    </tr>\n",
       "    <tr>\n",
       "      <th>2</th>\n",
       "      <td>unweighted survey</td>\n",
       "      <td>995.00</td>\n",
       "      <td>10907.00</td>\n",
       "      <td>9.12%</td>\n",
       "    </tr>\n",
       "  </tbody>\n",
       "</table>\n",
       "</div>"
      ]
     },
     "execution_count": 4,
     "metadata": {},
     "output_type": "execute_result"
    }
   ],
   "execution_count": 4
  },
  {
   "cell_type": "code",
   "metadata": {
    "collapsed": false,
    "execution": {
     "iopub.execute_input": "2024-03-08T20:42:17.303971Z",
     "iopub.status.busy": "2024-03-08T20:42:17.302974Z",
     "iopub.status.idle": "2024-03-08T20:42:18.327236Z",
     "shell.execute_reply": "2024-03-08T20:42:18.325241Z"
    },
    "ExecuteTime": {
     "end_time": "2024-07-18T02:48:27.074986Z",
     "start_time": "2024-07-18T02:48:25.903586Z"
    }
   },
   "source": [
    "df_plot = joint_tour_data.groupby(['source','composition'])[['tour_weight']].sum().reset_index()\n",
    "df_plot['percentage'] = df_plot.groupby(['source'], group_keys=False)['tour_weight']. \\\n",
    "    apply(lambda x: x / float(x.sum()))\n",
    "# df_plot\n",
    "fig = px.bar(df_plot, x=\"composition\", y=\"percentage\", color=\"source\",barmode=\"group\", template=\"simple_white\",\n",
    "             # color_discrete_sequence=config['psrc_color'],\n",
    "             title=\"joint tour composition\")\n",
    "fig.for_each_annotation(lambda a: a.update(text = a.text.split(\"=\")[-1]))\n",
    "fig.update_layout(height=400, width=700, font=dict(size=11), yaxis=dict(tickformat=\".2%\"), xaxis=dict(dtick=\"1\"))\n",
    "fig.show()"
   ],
   "outputs": [
    {
     "ename": "KeyError",
     "evalue": "'composition'",
     "output_type": "error",
     "traceback": [
      "\u001B[1;31m---------------------------------------------------------------------------\u001B[0m",
      "\u001B[1;31mKeyError\u001B[0m                                  Traceback (most recent call last)",
      "Input \u001B[1;32mIn [5]\u001B[0m, in \u001B[0;36m<cell line: 1>\u001B[1;34m()\u001B[0m\n\u001B[1;32m----> 1\u001B[0m df_plot \u001B[38;5;241m=\u001B[39m \u001B[43mjoint_tour_data\u001B[49m\u001B[38;5;241;43m.\u001B[39;49m\u001B[43mgroupby\u001B[49m\u001B[43m(\u001B[49m\u001B[43m[\u001B[49m\u001B[38;5;124;43m'\u001B[39;49m\u001B[38;5;124;43msource\u001B[39;49m\u001B[38;5;124;43m'\u001B[39;49m\u001B[43m,\u001B[49m\u001B[38;5;124;43m'\u001B[39;49m\u001B[38;5;124;43mcomposition\u001B[39;49m\u001B[38;5;124;43m'\u001B[39;49m\u001B[43m]\u001B[49m\u001B[43m)\u001B[49m[[\u001B[38;5;124m'\u001B[39m\u001B[38;5;124mtour_weight\u001B[39m\u001B[38;5;124m'\u001B[39m]]\u001B[38;5;241m.\u001B[39msum()\u001B[38;5;241m.\u001B[39mreset_index()\n\u001B[0;32m      2\u001B[0m df_plot[\u001B[38;5;124m'\u001B[39m\u001B[38;5;124mpercentage\u001B[39m\u001B[38;5;124m'\u001B[39m] \u001B[38;5;241m=\u001B[39m df_plot\u001B[38;5;241m.\u001B[39mgroupby([\u001B[38;5;124m'\u001B[39m\u001B[38;5;124msource\u001B[39m\u001B[38;5;124m'\u001B[39m], group_keys\u001B[38;5;241m=\u001B[39m\u001B[38;5;28;01mFalse\u001B[39;00m)[\u001B[38;5;124m'\u001B[39m\u001B[38;5;124mtour_weight\u001B[39m\u001B[38;5;124m'\u001B[39m]\u001B[38;5;241m.\u001B[39m \\\n\u001B[0;32m      3\u001B[0m     apply(\u001B[38;5;28;01mlambda\u001B[39;00m x: x \u001B[38;5;241m/\u001B[39m \u001B[38;5;28mfloat\u001B[39m(x\u001B[38;5;241m.\u001B[39msum()))\n\u001B[0;32m      4\u001B[0m \u001B[38;5;66;03m# df_plot\u001B[39;00m\n",
      "File \u001B[1;32mC:\\ProgramData\\Anaconda3\\envs\\joanne\\lib\\site-packages\\pandas\\core\\frame.py:6717\u001B[0m, in \u001B[0;36mDataFrame.groupby\u001B[1;34m(self, by, axis, level, as_index, sort, group_keys, squeeze, observed, dropna)\u001B[0m\n\u001B[0;32m   6714\u001B[0m     \u001B[38;5;28;01mraise\u001B[39;00m \u001B[38;5;167;01mTypeError\u001B[39;00m(\u001B[38;5;124m\"\u001B[39m\u001B[38;5;124mYou have to supply one of \u001B[39m\u001B[38;5;124m'\u001B[39m\u001B[38;5;124mby\u001B[39m\u001B[38;5;124m'\u001B[39m\u001B[38;5;124m and \u001B[39m\u001B[38;5;124m'\u001B[39m\u001B[38;5;124mlevel\u001B[39m\u001B[38;5;124m'\u001B[39m\u001B[38;5;124m\"\u001B[39m)\n\u001B[0;32m   6715\u001B[0m axis \u001B[38;5;241m=\u001B[39m \u001B[38;5;28mself\u001B[39m\u001B[38;5;241m.\u001B[39m_get_axis_number(axis)\n\u001B[1;32m-> 6717\u001B[0m \u001B[38;5;28;01mreturn\u001B[39;00m \u001B[43mDataFrameGroupBy\u001B[49m\u001B[43m(\u001B[49m\n\u001B[0;32m   6718\u001B[0m \u001B[43m    \u001B[49m\u001B[43mobj\u001B[49m\u001B[38;5;241;43m=\u001B[39;49m\u001B[38;5;28;43mself\u001B[39;49m\u001B[43m,\u001B[49m\n\u001B[0;32m   6719\u001B[0m \u001B[43m    \u001B[49m\u001B[43mkeys\u001B[49m\u001B[38;5;241;43m=\u001B[39;49m\u001B[43mby\u001B[49m\u001B[43m,\u001B[49m\n\u001B[0;32m   6720\u001B[0m \u001B[43m    \u001B[49m\u001B[43maxis\u001B[49m\u001B[38;5;241;43m=\u001B[39;49m\u001B[43maxis\u001B[49m\u001B[43m,\u001B[49m\n\u001B[0;32m   6721\u001B[0m \u001B[43m    \u001B[49m\u001B[43mlevel\u001B[49m\u001B[38;5;241;43m=\u001B[39;49m\u001B[43mlevel\u001B[49m\u001B[43m,\u001B[49m\n\u001B[0;32m   6722\u001B[0m \u001B[43m    \u001B[49m\u001B[43mas_index\u001B[49m\u001B[38;5;241;43m=\u001B[39;49m\u001B[43mas_index\u001B[49m\u001B[43m,\u001B[49m\n\u001B[0;32m   6723\u001B[0m \u001B[43m    \u001B[49m\u001B[43msort\u001B[49m\u001B[38;5;241;43m=\u001B[39;49m\u001B[43msort\u001B[49m\u001B[43m,\u001B[49m\n\u001B[0;32m   6724\u001B[0m \u001B[43m    \u001B[49m\u001B[43mgroup_keys\u001B[49m\u001B[38;5;241;43m=\u001B[39;49m\u001B[43mgroup_keys\u001B[49m\u001B[43m,\u001B[49m\n\u001B[0;32m   6725\u001B[0m \u001B[43m    \u001B[49m\u001B[43msqueeze\u001B[49m\u001B[38;5;241;43m=\u001B[39;49m\u001B[43msqueeze\u001B[49m\u001B[43m,\u001B[49m\n\u001B[0;32m   6726\u001B[0m \u001B[43m    \u001B[49m\u001B[43mobserved\u001B[49m\u001B[38;5;241;43m=\u001B[39;49m\u001B[43mobserved\u001B[49m\u001B[43m,\u001B[49m\n\u001B[0;32m   6727\u001B[0m \u001B[43m    \u001B[49m\u001B[43mdropna\u001B[49m\u001B[38;5;241;43m=\u001B[39;49m\u001B[43mdropna\u001B[49m\u001B[43m,\u001B[49m\n\u001B[0;32m   6728\u001B[0m \u001B[43m\u001B[49m\u001B[43m)\u001B[49m\n",
      "File \u001B[1;32mC:\\ProgramData\\Anaconda3\\envs\\joanne\\lib\\site-packages\\pandas\\core\\groupby\\groupby.py:560\u001B[0m, in \u001B[0;36mBaseGroupBy.__init__\u001B[1;34m(self, obj, keys, axis, level, grouper, exclusions, selection, as_index, sort, group_keys, squeeze, observed, mutated, dropna)\u001B[0m\n\u001B[0;32m    557\u001B[0m \u001B[38;5;28;01mif\u001B[39;00m grouper \u001B[38;5;129;01mis\u001B[39;00m \u001B[38;5;28;01mNone\u001B[39;00m:\n\u001B[0;32m    558\u001B[0m     \u001B[38;5;28;01mfrom\u001B[39;00m \u001B[38;5;21;01mpandas\u001B[39;00m\u001B[38;5;21;01m.\u001B[39;00m\u001B[38;5;21;01mcore\u001B[39;00m\u001B[38;5;21;01m.\u001B[39;00m\u001B[38;5;21;01mgroupby\u001B[39;00m\u001B[38;5;21;01m.\u001B[39;00m\u001B[38;5;21;01mgrouper\u001B[39;00m \u001B[38;5;28;01mimport\u001B[39;00m get_grouper\n\u001B[1;32m--> 560\u001B[0m     grouper, exclusions, obj \u001B[38;5;241m=\u001B[39m \u001B[43mget_grouper\u001B[49m\u001B[43m(\u001B[49m\n\u001B[0;32m    561\u001B[0m \u001B[43m        \u001B[49m\u001B[43mobj\u001B[49m\u001B[43m,\u001B[49m\n\u001B[0;32m    562\u001B[0m \u001B[43m        \u001B[49m\u001B[43mkeys\u001B[49m\u001B[43m,\u001B[49m\n\u001B[0;32m    563\u001B[0m \u001B[43m        \u001B[49m\u001B[43maxis\u001B[49m\u001B[38;5;241;43m=\u001B[39;49m\u001B[43maxis\u001B[49m\u001B[43m,\u001B[49m\n\u001B[0;32m    564\u001B[0m \u001B[43m        \u001B[49m\u001B[43mlevel\u001B[49m\u001B[38;5;241;43m=\u001B[39;49m\u001B[43mlevel\u001B[49m\u001B[43m,\u001B[49m\n\u001B[0;32m    565\u001B[0m \u001B[43m        \u001B[49m\u001B[43msort\u001B[49m\u001B[38;5;241;43m=\u001B[39;49m\u001B[43msort\u001B[49m\u001B[43m,\u001B[49m\n\u001B[0;32m    566\u001B[0m \u001B[43m        \u001B[49m\u001B[43mobserved\u001B[49m\u001B[38;5;241;43m=\u001B[39;49m\u001B[43mobserved\u001B[49m\u001B[43m,\u001B[49m\n\u001B[0;32m    567\u001B[0m \u001B[43m        \u001B[49m\u001B[43mmutated\u001B[49m\u001B[38;5;241;43m=\u001B[39;49m\u001B[38;5;28;43mself\u001B[39;49m\u001B[38;5;241;43m.\u001B[39;49m\u001B[43mmutated\u001B[49m\u001B[43m,\u001B[49m\n\u001B[0;32m    568\u001B[0m \u001B[43m        \u001B[49m\u001B[43mdropna\u001B[49m\u001B[38;5;241;43m=\u001B[39;49m\u001B[38;5;28;43mself\u001B[39;49m\u001B[38;5;241;43m.\u001B[39;49m\u001B[43mdropna\u001B[49m\u001B[43m,\u001B[49m\n\u001B[0;32m    569\u001B[0m \u001B[43m    \u001B[49m\u001B[43m)\u001B[49m\n\u001B[0;32m    571\u001B[0m \u001B[38;5;28mself\u001B[39m\u001B[38;5;241m.\u001B[39mobj \u001B[38;5;241m=\u001B[39m obj\n\u001B[0;32m    572\u001B[0m \u001B[38;5;28mself\u001B[39m\u001B[38;5;241m.\u001B[39maxis \u001B[38;5;241m=\u001B[39m obj\u001B[38;5;241m.\u001B[39m_get_axis_number(axis)\n",
      "File \u001B[1;32mC:\\ProgramData\\Anaconda3\\envs\\joanne\\lib\\site-packages\\pandas\\core\\groupby\\grouper.py:811\u001B[0m, in \u001B[0;36mget_grouper\u001B[1;34m(obj, key, axis, level, sort, observed, mutated, validate, dropna)\u001B[0m\n\u001B[0;32m    809\u001B[0m         in_axis, name, level, gpr \u001B[38;5;241m=\u001B[39m \u001B[38;5;28;01mFalse\u001B[39;00m, \u001B[38;5;28;01mNone\u001B[39;00m, gpr, \u001B[38;5;28;01mNone\u001B[39;00m\n\u001B[0;32m    810\u001B[0m     \u001B[38;5;28;01melse\u001B[39;00m:\n\u001B[1;32m--> 811\u001B[0m         \u001B[38;5;28;01mraise\u001B[39;00m \u001B[38;5;167;01mKeyError\u001B[39;00m(gpr)\n\u001B[0;32m    812\u001B[0m \u001B[38;5;28;01melif\u001B[39;00m \u001B[38;5;28misinstance\u001B[39m(gpr, Grouper) \u001B[38;5;129;01mand\u001B[39;00m gpr\u001B[38;5;241m.\u001B[39mkey \u001B[38;5;129;01mis\u001B[39;00m \u001B[38;5;129;01mnot\u001B[39;00m \u001B[38;5;28;01mNone\u001B[39;00m:\n\u001B[0;32m    813\u001B[0m     \u001B[38;5;66;03m# Add key to exclusions\u001B[39;00m\n\u001B[0;32m    814\u001B[0m     exclusions\u001B[38;5;241m.\u001B[39madd(gpr\u001B[38;5;241m.\u001B[39mkey)\n",
      "\u001B[1;31mKeyError\u001B[0m: 'composition'"
     ]
    }
   ],
   "execution_count": 5
  }
 ],
 "metadata": {
  "kernelspec": {
   "display_name": "Python 3",
   "language": "python",
   "name": "python3"
  },
  "language_info": {
   "codemirror_mode": {
    "name": "ipython",
    "version": 3
   },
   "file_extension": ".py",
   "mimetype": "text/x-python",
   "name": "python",
   "nbconvert_exporter": "python",
   "pygments_lexer": "ipython3",
   "version": "3.9.15"
  }
 },
 "nbformat": 4,
 "nbformat_minor": 0
}
